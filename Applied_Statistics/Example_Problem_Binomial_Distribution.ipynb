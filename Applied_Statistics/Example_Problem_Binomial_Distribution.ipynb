{
  "nbformat": 4,
  "nbformat_minor": 0,
  "metadata": {
    "colab": {
      "provenance": [],
      "authorship_tag": "ABX9TyOy7hrCHTXU6r2ByRinhEgW",
      "include_colab_link": true
    },
    "kernelspec": {
      "name": "python3",
      "display_name": "Python 3"
    },
    "language_info": {
      "name": "python"
    }
  },
  "cells": [
    {
      "cell_type": "markdown",
      "metadata": {
        "id": "view-in-github",
        "colab_type": "text"
      },
      "source": [
        "<a href=\"https://colab.research.google.com/github/luisfranc123/Tutorials_Statistics_Numerical_Analysis/blob/main/Applied_Statistics/Example_Problem_Binomial_Distribution.ipynb\" target=\"_parent\"><img src=\"https://colab.research.google.com/assets/colab-badge.svg\" alt=\"Open In Colab\"/></a>"
      ]
    },
    {
      "cell_type": "markdown",
      "source": [
        "#**Biostatistics - Binomial Distribution Applied Problem**\n",
        "---\n",
        "\n",
        "\n"
      ],
      "metadata": {
        "id": "3M3KpmMbHtoB"
      }
    },
    {
      "cell_type": "markdown",
      "source": [
        "<img src=\"https://thumbs.dreamstime.com/z/nerve-cells-concept-neurodegenerative-neurological-disease-tumors-brain-surgery-d-rendering-94056992.jpg?ct=jpeg\" width=\"400\" height=\"300\">\n",
        "\n"
      ],
      "metadata": {
        "id": "dRgfck2qfueP"
      }
    },
    {
      "cell_type": "markdown",
      "source": [
        "**Image taken from**: https://www.dreamstime.com/illustration/neurological-system.html"
      ],
      "metadata": {
        "id": "iei3ZGsQIGqa"
      }
    },
    {
      "cell_type": "markdown",
      "source": [
        "##**Problem Context:**\n",
        "---\n",
        "\n",
        "In a clinical setting, a genetic test is developed to detect the presence of a mutation associated with a rare neurological disease. The mutation is found in a given percentage of the general population. A screening test is conducted on *n* patients, and we aim to understand the distribution of mutation occurrences, visualize it, and make probabilistic inferences."
      ],
      "metadata": {
        "id": "WfAzwYwi-6X0"
      }
    },
    {
      "cell_type": "markdown",
      "source": [
        "###**Instructions:**\n",
        "\n",
        "Create a program that asks a researcher to establish the number of patients to work with and the probability of obtaining the mutation based on the nature of the disease.\n",
        "\n",
        "1. **Information Management**\n",
        "\n",
        "**Problem Context:** The mutation is present in *y* % of the population. In a screening of *n* patients, each patient has an independent probability of *p* of carrying the mutation. You will analyze the likelihood of detecting various numbers of patients with the mutation.\n",
        "\n",
        "**Tasks**:\n",
        "\n",
        "*i)* Clearly define the parameters of the binomial distribution: *n* (number of patients), *p* (probability of carrying the mutation).\n",
        "\n",
        "*ii)* Use Python to calculate and print the probabilities for different numbers of patients (e.g., 0 to 5) carrying the mutation.\n",
        "\n",
        "**Key Question:** What is the probability of detecting exactly *x* patients with the mutation? What is the cumulative probability of detecting fewer than *x* patients with the mutation?\n"
      ],
      "metadata": {
        "id": "C10L-LMs_aHA"
      }
    },
    {
      "cell_type": "code",
      "execution_count": null,
      "metadata": {
        "id": "UWfmexWk9H_C",
        "colab": {
          "base_uri": "https://localhost:8080/"
        },
        "outputId": "b1dc6abd-c90a-4b70-e995-3bb724327a3d"
      },
      "outputs": [
        {
          "output_type": "stream",
          "name": "stdout",
          "text": [
            "How many patients are you working with: 100\n",
            "What is the prevalence of the neurological genetic disorder: 0.5\n",
            "Possible number of patients with the mutation: 86\n",
            "Probabilities for 0 to 86 mutations:\n",
            "----\n",
            "    Number of Patients with the Mutation  \\\n",
            "0                                      0   \n",
            "1                                      1   \n",
            "2                                      2   \n",
            "3                                      3   \n",
            "4                                      4   \n",
            "..                                   ...   \n",
            "82                                    82   \n",
            "83                                    83   \n",
            "84                                    84   \n",
            "85                                    85   \n",
            "86                                    86   \n",
            "\n",
            "    Probability under the null hypothesis  \n",
            "0                            7.888609e-31  \n",
            "1                            7.888609e-29  \n",
            "2                            3.904861e-27  \n",
            "3                            1.275588e-25  \n",
            "4                            3.093301e-24  \n",
            "..                                    ...  \n",
            "82                           2.419003e-11  \n",
            "83                           5.246031e-12  \n",
            "84                           1.061697e-12  \n",
            "85                           1.998488e-13  \n",
            "86                           3.485735e-14  \n",
            "\n",
            "[87 rows x 2 columns]\n"
          ]
        }
      ],
      "source": [
        "#Use this cell to write your code\n",
        "import numpy as np\n",
        "import matplotlib.pyplot as plt\n",
        "import pandas as pd\n",
        "from scipy.stats import binom, binomtest\n",
        "\n",
        "# Parameters\n",
        "n = int(input(\"How many patients are you working with: \" )) # Number of patients\n",
        "p = float(input(\"What is the prevalence of the neurological genetic disorder: \")) # Probability of having the mutation\n",
        "x_0 = int(input(\"Possible number of patients with the mutation: \")) # Possible number of patients with the mutation\n",
        "\n",
        "#Calculate probabilities:\n",
        "#Possible Number of patientswith the mutation:\n",
        "x = np.arange(0, x_0 + 1)\n",
        "probabilities = binom.pmf(x, n, p)\n",
        "df = pd.DataFrame({\n",
        "    'Number of Patients with the Mutation': x,\n",
        "    'Probability under the null hypothesis': probabilities\n",
        "    })\n",
        "print(f\"Probabilities for 0 to {x[-1]} mutations:\")\n",
        "print(\"----\")\n",
        "print(f\"{df}\")"
      ]
    },
    {
      "cell_type": "markdown",
      "source": [
        "2. **Critical Appraisal**\n",
        "\n",
        "Argue the solution using theoretical elements and visualization tools.\n",
        "\n",
        "**Tasks**:\n",
        "\n",
        "*i)* Visualize the Binomial Distribution: Plot the binomial probability mass function (PMF) for the number of mutations in the sample.\n",
        "\n",
        "*ii)* **Critical Question**: What does the shape of the distribution suggest about the likelihood of detecting 0, 1, or 2 patients with the mutation?\n",
        "\n",
        "*iii)* Reference theoretical elements (such as independence of trials and the binomial model assumptions) in explaining why this distribution appropriately models the situation.\n"
      ],
      "metadata": {
        "id": "mi_fmOeDCVeR"
      }
    },
    {
      "cell_type": "code",
      "source": [
        "#Use this cell to write your code\n",
        "#n = 25\n",
        "#p = 0.061\n",
        "x = np.arange(0, n + 1)\n",
        "probabilities = binom.pmf(x, n, p)\n",
        "plt.bar(x,\n",
        "        probabilities,\n",
        "        color = 'lightpink',\n",
        "        edgecolor = 'black'\n",
        "        )\n",
        "\n",
        "plt.title(f'Binomial Distribution of Genome Distribution (n = {n}, p = {p})')\n",
        "plt.xlabel('Number of Patients with the genetical disorder')\n",
        "plt.ylabel('Probability')\n",
        "#plt.xticks(x)\n",
        "plt.show()"
      ],
      "metadata": {
        "id": "lJEVA1b4DY4w",
        "colab": {
          "base_uri": "https://localhost:8080/",
          "height": 472
        },
        "outputId": "30870011-ea06-4b76-ce41-82dc344f32cf"
      },
      "execution_count": null,
      "outputs": [
        {
          "output_type": "display_data",
          "data": {
            "text/plain": [
              "<Figure size 640x480 with 1 Axes>"
            ],
            "image/png": "[encoded data removed]"
          },
          "metadata": {}
        }
      ]
    },
    {
      "cell_type": "markdown",
      "source": [
        "3. **Creativity**\n",
        "\n",
        "Solve the problem by proposing specific step-by-step methodologies.\n",
        "\n",
        "**Tasks**:\n",
        "\n",
        "*i)* Based on the context, simulate a scenario where *x* out of the *n* patients tested positive for the mutation.\n",
        "\n",
        "*ii)* **Hypothesis Test**: Use a binomial test to determine whether the observed frequency (*x* out of *n*) significantly differs from the expected frequency under the assumption that the true mutation prevalence is *y* %.\n",
        "\n",
        "*iii)* **Step-by-step Methodology**:\n",
        "\n",
        "- Define the null hypothesis **H0**: The proportion of patients with the mutation is *p*.\n",
        "\n",
        "- Define the alternative hypothesis **Ha**: The proportion is different from *p*.\n",
        "\n",
        "- Perform the binomial test using Python and report the p-value.\n",
        "\n",
        "*iv)* **Key Question**: Is the observed number of positive patients statistically significantly different from the expected proportion? Interpret the results and provide biological relevance.\n"
      ],
      "metadata": {
        "id": "AazeXuHMDlgK"
      }
    },
    {
      "cell_type": "code",
      "source": [
        "#Use this cell to write your code\n",
        "\n",
        "# Perform a one-sided binomial test\n",
        "x = int(input(\"How many patients tested positive for the genetical disorder?: \"))\n",
        "p_value = binomtest(x, n, p, alternative='two-sided')\n",
        "\n",
        "# Output the result\n",
        "\n",
        "print(f\"Binomial test p-value: {p_value.pvalue:.3e}\")\n",
        "\n",
        "# Interpretation of results\n",
        "if p_value.pvalue < 0.05:\n",
        "    print(f\"Reject the null hypothesis: The relative frequency of patients with the mutational disease is different than {p}\")\n",
        "else:\n",
        "    print(\"Fail to reject the null hypothesis: The relative frequency of patients with the mutational disorder is {p}\")"
      ],
      "metadata": {
        "id": "lmFua_uZFCLg",
        "colab": {
          "base_uri": "https://localhost:8080/"
        },
        "outputId": "abaa921e-0631-4233-a5f6-080e7a364e62"
      },
      "execution_count": null,
      "outputs": [
        {
          "output_type": "stream",
          "name": "stdout",
          "text": [
            "How many patients tested positive for the genetical disorder?: 21\n",
            "Binomial test p-value: 9.577e-22\n",
            "Reject the null hypothesis: The relative frequency of patients with the mutational disease is different than 0.01\n"
          ]
        }
      ]
    },
    {
      "cell_type": "markdown",
      "source": [
        "4. **Metacognition**\n",
        "\n",
        "Reflect on the entire problem-solving process.\n",
        "\n",
        "**Tasks**:\n",
        "\n",
        "*i)* Document each step, highlighting personal contributions to the interpretation of results. Explain the reasoning behind decisions like choosing the binomial distribution and the hypothesis test.\n",
        "\n",
        "*ii)* **Self-reflection Question**: How does visualizing the binomial distribution support your understanding of the probabilities involved? How does the hypothesis test inform your interpretation of the observed data in the context of the mutation prevalence?\n",
        "\n",
        "*iii)* Discuss how you verified each part of the solution and what insights you gained regarding the use of binomial distribution in biomedical research.\n"
      ],
      "metadata": {
        "id": "6Xlg7D8lFXNZ"
      }
    },
    {
      "cell_type": "markdown",
      "source": [
        "###**Use this text chart to write down your metacognition process through the present assignment.**"
      ],
      "metadata": {
        "id": "kfEaXGi1JLXM"
      }
    }
  ]
}