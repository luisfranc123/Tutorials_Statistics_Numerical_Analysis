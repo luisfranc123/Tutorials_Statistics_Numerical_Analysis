{
  "nbformat": 4,
  "nbformat_minor": 0,
  "metadata": {
    "colab": {
      "provenance": [],
      "authorship_tag": "ABX9TyOuxEZyliaVQV5hgy2IIgdb",
      "include_colab_link": true
    },
    "kernelspec": {
      "name": "python3",
      "display_name": "Python 3"
    },
    "language_info": {
      "name": "python"
    }
  },
  "cells": [
    {
      "cell_type": "markdown",
      "metadata": {
        "id": "view-in-github",
        "colab_type": "text"
      },
      "source": [
        "<a href=\"https://colab.research.google.com/github/luisfranc123/Tutorials_Statistics_Numerical_Analysis/blob/main/Applied_Statistics/One_sample_t_test.ipynb\" target=\"_parent\"><img src=\"https://colab.research.google.com/assets/colab-badge.svg\" alt=\"Open In Colab\"/></a>"
      ]
    },
    {
      "cell_type": "markdown",
      "source": [
        "###**Body Temperature**\n",
        "---\n",
        "Normal human body temperature, as kids are taught in North America, is 98.6°F. But how well is this supported by data? Researchers obtained Body-Temperature measurements on randomly chosen healthy people - which in this case, we're going to simulate that data, using a random generator in Python."
      ],
      "metadata": {
        "id": "GeZx5F3D7iiV"
      }
    },
    {
      "cell_type": "markdown",
      "source": [
        "<img src=\"https://hips.hearstapps.com/hmg-prod/images/face-thermograpy-carotid-royalty-free-image-1578608252.jpg?resize=640:*\" width=\"400\" height=\"300\">\n"
      ],
      "metadata": {
        "id": "0DRwFzaqjWjk"
      }
    },
    {
      "cell_type": "markdown",
      "source": [
        "**Image taken from**: [Popular-Mechanics](https://www.popularmechanics.com/science/a30459459/body-temperature-decrease/)"
      ],
      "metadata": {
        "id": "Yk-4RO1ZEgqP"
      }
    },
    {
      "cell_type": "markdown",
      "source": [
        "**Establish the null and alternative hypothesis**\n",
        "\n",
        "**H0**: The mean human body temperature is 98.6°F\n",
        "\n",
        "**Ha**: The mean human body temperature is different from 98.6°F  "
      ],
      "metadata": {
        "id": "e8J_Mw56ANRz"
      }
    },
    {
      "cell_type": "markdown",
      "source": [
        "###**Libraries**\n",
        "---"
      ],
      "metadata": {
        "id": "uMB2Hi7aDVf-"
      }
    },
    {
      "cell_type": "code",
      "source": [
        "from scipy.stats import norm\n",
        "from scipy.stats import t\n",
        "import pandas as pd\n",
        "import numpy as np"
      ],
      "metadata": {
        "id": "MG3wA0cBDYpx"
      },
      "execution_count": null,
      "outputs": []
    },
    {
      "cell_type": "markdown",
      "source": [
        "###**1. Simulate Data**\n",
        "---"
      ],
      "metadata": {
        "id": "hFKGwYSV-qwn"
      }
    },
    {
      "cell_type": "code",
      "execution_count": null,
      "metadata": {
        "colab": {
          "base_uri": "https://localhost:8080/"
        },
        "id": "eqzPsK7a7dp4",
        "outputId": "2f9786aa-1d0f-4d8e-ce69-4a07869dfa08"
      },
      "outputs": [
        {
          "output_type": "stream",
          "name": "stdout",
          "text": [
            "   Body_Temperature\n",
            "0         98.860772\n",
            "1         98.430257\n",
            "2         98.963133\n",
            "3         99.556614\n",
            "4         98.365244\n"
          ]
        }
      ],
      "source": [
        "# Simulate data\n",
        "np.random.seed(42)  # For reproducibility\n",
        "n_sample = 25 # Number of records simulated\n",
        "mean_simulated = 98.524 # Simulated mean\n",
        "sd_simulated = 0.678 # Simulated standard deviation\n",
        "DoF = n_sample - 1 #Define the degrees of freedom\n",
        "Body_Temp = np.random.normal(mean_simulated, sd_simulated, n_sample) # Data Simulator using a normal distribution approach\n",
        "df = pd.DataFrame({\"Body_Temperature\": Body_Temp}) # Set all the records within a DataFrame\n",
        "print(df.head())"
      ]
    },
    {
      "cell_type": "markdown",
      "source": [
        "###**2.Calculate the Sample Mean and Standard Deviation**\n",
        "---"
      ],
      "metadata": {
        "id": "ldk_zVpK-TPQ"
      }
    },
    {
      "cell_type": "code",
      "source": [
        "sample_mean = df[\"Body_Temperature\"].mean() # Observed sample mean\n",
        "sample_sd = df[\"Body_Temperature\"].std() # Observed sample SD\n",
        "print(f\"Sample Mean: {sample_mean:.4f}\")\n",
        "print(f\"Sample Standard Deviation: {sample_sd:.4f}\")"
      ],
      "metadata": {
        "colab": {
          "base_uri": "https://localhost:8080/"
        },
        "id": "ES4xDcDo-dos",
        "outputId": "d75d91ce-333f-4771-c031-d228e1797db5"
      },
      "execution_count": null,
      "outputs": [
        {
          "output_type": "stream",
          "name": "stdout",
          "text": [
            "Sample Mean: 98.4131\n",
            "Sample Standard Deviation: 0.6485\n"
          ]
        }
      ]
    },
    {
      "cell_type": "markdown",
      "source": [
        "###**3. Define the Claimed Mean**\n",
        "---"
      ],
      "metadata": {
        "id": "KhZvnl3X_9gq"
      }
    },
    {
      "cell_type": "code",
      "source": [
        "mu_claimed = 98.6  # Hypothesized mean °F"
      ],
      "metadata": {
        "id": "ZT7Uf97JADeE"
      },
      "execution_count": null,
      "outputs": []
    },
    {
      "cell_type": "markdown",
      "source": [
        "###**4. Test Hypothesis employing the one-sample t-test**\n",
        "---"
      ],
      "metadata": {
        "id": "PZwA243fAr6g"
      }
    },
    {
      "cell_type": "markdown",
      "source": [
        "\\begin{align}\n",
        "        t_{stat} = \\frac{\\bar{Y} - \\mu}{SE_{\\bar{Y}}}\n",
        "    \\end{align}\n",
        "Where,\n",
        "\n",
        "$\\bar{Y}$ -> Sample mean\n",
        "\n",
        "$\\mu$ -> Population mean\n",
        "\n",
        "\\begin{align}\n",
        "        {SE_{\\bar{Y}}} = \\frac{S}{\\sqrt{n}}\n",
        "    \\end{align}"
      ],
      "metadata": {
        "id": "Sdf0erSVepal"
      }
    },
    {
      "cell_type": "code",
      "source": [
        "# Calculate t-stat\n",
        "SE = sample_sd/(n_sample**0.5) # Sample error\n",
        "t_stat = (sample_mean - mu_claimed) / SE\n",
        "\n",
        "p_value = 2*(t.cdf(-abs(t_stat), DoF))\n",
        "print(f\"t-stat: {t_stat:.2f}, p-value: {p_value:.4f}\")\n",
        "print(\"------------------------------------\")\n",
        "alpha = 0.05\n",
        "if p_value > alpha:\n",
        "  print(\"We fail to reject the null hypothesis \\n(i.e. the mean of human body temperature is on average 98.6 °F)\")\n",
        "else:\n",
        "  print(\"We reject the null hypothesis \\n(i.e. the mean of human body temperature is different from 98.6 °F)\")\n"
      ],
      "metadata": {
        "colab": {
          "base_uri": "https://localhost:8080/"
        },
        "id": "ddqT8E2CAzAM",
        "outputId": "645c4728-7211-432e-99af-ff804688dff2"
      },
      "execution_count": null,
      "outputs": [
        {
          "output_type": "stream",
          "name": "stdout",
          "text": [
            "t-stat: -1.44, p-value: 0.1626\n",
            "------------------------------------\n",
            "We fail to reject the null hypothesis \n",
            "(i.e. the mean of human body temperature is on average 98.6 °F)\n"
          ]
        }
      ]
    },
    {
      "cell_type": "markdown",
      "source": [
        "###**5. The 95% Confidence Interval for the mean**\n",
        "---\n",
        "It is defined as the range of values that is likely to contain the true mean of a population **95%** of the time."
      ],
      "metadata": {
        "id": "Sn_0VfVPaCPd"
      }
    },
    {
      "cell_type": "code",
      "source": [
        "# Import Library\n",
        "import scipy.stats\n",
        "\n",
        "# To find the t-critical value\n",
        "t_critic_value = scipy.stats.t.ppf(q = 0.025, df=24)\n",
        "lower_bound = sample_mean - (abs(t_critic_value))*SE\n",
        "upper_bound = sample_mean + (abs(t_critic_value))*SE\n",
        "print(f\"The 95% confidence interval of the population mean is: \\n{lower_bound:.4f} < μ < {upper_bound:.4f}\")"
      ],
      "metadata": {
        "colab": {
          "base_uri": "https://localhost:8080/"
        },
        "id": "ezs0DOnYS8HS",
        "outputId": "b4a1014e-fd69-4f2e-b06b-c85b1cb72e9d"
      },
      "execution_count": null,
      "outputs": [
        {
          "output_type": "stream",
          "name": "stdout",
          "text": [
            "The 95% confidence interval of the population mean is: \n",
            "98.1454 < μ < 98.6808\n"
          ]
        }
      ]
    }
  ]
}