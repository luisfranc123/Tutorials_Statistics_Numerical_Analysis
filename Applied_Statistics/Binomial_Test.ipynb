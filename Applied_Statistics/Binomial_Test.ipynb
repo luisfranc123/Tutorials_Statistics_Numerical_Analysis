{
  "nbformat": 4,
  "nbformat_minor": 0,
  "metadata": {
    "colab": {
      "provenance": [],
      "authorship_tag": "ABX9TyMtZaKTkh8el09vNYcqnHDx",
      "include_colab_link": true
    },
    "kernelspec": {
      "name": "python3",
      "display_name": "Python 3"
    },
    "language_info": {
      "name": "python"
    }
  },
  "cells": [
    {
      "cell_type": "markdown",
      "metadata": {
        "id": "view-in-github",
        "colab_type": "text"
      },
      "source": [
        "<a href=\"https://colab.research.google.com/github/luisfranc123/Tutorials_Statistics_Numerical_Analysis/blob/main/Applied_Statistics/Binomial_Test.ipynb\" target=\"_parent\"><img src=\"https://colab.research.google.com/assets/colab-badge.svg\" alt=\"Open In Colab\"/></a>"
      ]
    },
    {
      "cell_type": "markdown",
      "source": [
        "#**Biostatistics - Binomial Test**\n",
        "\n"
      ],
      "metadata": {
        "id": "Er62U2HAnojw"
      }
    },
    {
      "cell_type": "markdown",
      "source": [
        "<img src=\"https://cdna.artstation.com/p/assets/images/images/007/699/792/large/dariusz-andrulonis-1-jadronr3-plemnikami2-175.jpg?1507922501\" width=\"400\" height=\"300\">\n",
        "\n",
        "**Image taken from**: [Dariusz Andrulonis](https://dariuszandrulonis.artstation.com/projects/xRqOY?album_id=992479)\n",
        "\n"
      ],
      "metadata": {
        "id": "AXxL79EHRzrG"
      }
    },
    {
      "cell_type": "markdown",
      "source": [
        "#**Testing a proportion: the binomial test**\n",
        "---\n",
        "A study of 25 genes involved in spermatogenesis (sperm formation) found locations in the mouse genome. The study was carried out to test a prediction of evolutionary theory that such genes should occur disproportionately often on the X chromosome. As it turned out, 10 out of the 25 spermatogenesis genes (40%) were on the X chromosome (Wang et al. 2001). *If genes for spermatogenesis occurred \"randomly\" throughout the genome, then we would expect only 6.1% of them to fall on the X chromosome, because the X chromosome contains 6.1% of the genes in the genome.*\n",
        "\n",
        "##**Hypotheses:**\n",
        "- **H0:** The probability that a spermatogenesis gene falls on the X chromosome is *p* = 0.061.\n",
        "- **Ha:** The probability that a spermatogenesis gene falls on the X chromosome is something other than 0.061 *p* =! 0.061."
      ],
      "metadata": {
        "id": "UlBjHNZue6X6"
      }
    },
    {
      "cell_type": "markdown",
      "source": [
        "**Note the asymmetry of these two hypothesis. The null hypothesis is very specific, while the alternative hypothesis is not specific, referring to every other possibility. Also note that there are two ways to reject the null hypothesis: there can be an excess of spermetatogenesis genes on the X chromosome (i.e., *p* > 0.061) or there can be too few (i.e., *p* < 0.061). Therefore, the test is two-sided.**  "
      ],
      "metadata": {
        "id": "En-4S45HD0zP"
      }
    },
    {
      "cell_type": "markdown",
      "source": [
        "##**1. Generate the Binomial Distribution**"
      ],
      "metadata": {
        "id": "k7uD82bNgwab"
      }
    },
    {
      "cell_type": "code",
      "execution_count": null,
      "metadata": {
        "id": "hQXfoSofe3aX"
      },
      "outputs": [],
      "source": [
        "import numpy as np\n",
        "import pandas as pd\n",
        "import matplotlib.pyplot as plt\n",
        "from scipy.stats import binom\n",
        "\n",
        "# Parameters for the binomial distribution\n",
        "\n",
        "def binomial_test(n, p):\n",
        "# Generate the binomial distribution for different outcomes\n",
        "  x = np.arange(10, n + 1)\n",
        "  probabilities = binom.pmf(x, n, p)\n",
        "  df = pd.DataFrame({\n",
        "    'Number of Genes on X': x,\n",
        "    'Probability under the null hypothesis': probabilities\n",
        "  })\n",
        "  return df"
      ]
    },
    {
      "cell_type": "code",
      "source": [
        "n = 25 #umber of genes\n",
        "p = 0.061 # Probability that a spermatogenesis gene falls on the X chromosome\n",
        "df = binomial_test(n, p)\n",
        "df"
      ],
      "metadata": {
        "id": "fo7ZP1lcHLYB",
        "colab": {
          "base_uri": "https://localhost:8080/",
          "height": 551
        },
        "outputId": "443c3bbd-8188-4886-cac5-5bee69fb8108"
      },
      "execution_count": null,
      "outputs": [
        {
          "output_type": "execute_result",
          "data": {
            "text/plain": [
              "    Number of Genes on X  Probability under the null hypothesis\n",
              "0                     10                           9.071211e-07\n",
              "1                     11                           8.035781e-08\n",
              "2                     12                           6.090306e-09\n",
              "3                     13                           3.956429e-10\n",
              "4                     14                           2.203032e-11\n",
              "5                     15                           1.049510e-12\n",
              "6                     16                           4.261188e-14\n",
              "7                     17                           1.465509e-15\n",
              "8                     18                           4.231266e-17\n",
              "9                     19                           1.012696e-18\n",
              "10                    20                           1.973624e-20\n",
              "11                    21                           3.052667e-22\n",
              "12                    22                           3.605629e-24\n",
              "13                    23                           3.055193e-26\n",
              "14                    24                           1.653947e-28\n",
              "15                    25                           4.297797e-31"
            ],
            "text/html": [
              "\n",
              "  <div id=\"df-70c02a51-0a18-4a8f-ae38-0c7abc18b0ef\" class=\"colab-df-container\">\n",
              "    <div>\n",
              "<style scoped>\n",
              "    .dataframe tbody tr th:only-of-type {\n",
              "        vertical-align: middle;\n",
              "    }\n",
              "\n",
              "    .dataframe tbody tr th {\n",
              "        vertical-align: top;\n",
              "    }\n",
              "\n",
              "    .dataframe thead th {\n",
              "        text-align: right;\n",
              "    }\n",
              "</style>\n",
              "<table border=\"1\" class=\"dataframe\">\n",
              "  <thead>\n",
              "    <tr style=\"text-align: right;\">\n",
              "      <th></th>\n",
              "      <th>Number of Genes on X</th>\n",
              "      <th>Probability under the null hypothesis</th>\n",
              "    </tr>\n",
              "  </thead>\n",
              "  <tbody>\n",
              "    <tr>\n",
              "      <th>0</th>\n",
              "      <td>10</td>\n",
              "      <td>9.071211e-07</td>\n",
              "    </tr>\n",
              "    <tr>\n",
              "      <th>1</th>\n",
              "      <td>11</td>\n",
              "      <td>8.035781e-08</td>\n",
              "    </tr>\n",
              "    <tr>\n",
              "      <th>2</th>\n",
              "      <td>12</td>\n",
              "      <td>6.090306e-09</td>\n",
              "    </tr>\n",
              "    <tr>\n",
              "      <th>3</th>\n",
              "      <td>13</td>\n",
              "      <td>3.956429e-10</td>\n",
              "    </tr>\n",
              "    <tr>\n",
              "      <th>4</th>\n",
              "      <td>14</td>\n",
              "      <td>2.203032e-11</td>\n",
              "    </tr>\n",
              "    <tr>\n",
              "      <th>5</th>\n",
              "      <td>15</td>\n",
              "      <td>1.049510e-12</td>\n",
              "    </tr>\n",
              "    <tr>\n",
              "      <th>6</th>\n",
              "      <td>16</td>\n",
              "      <td>4.261188e-14</td>\n",
              "    </tr>\n",
              "    <tr>\n",
              "      <th>7</th>\n",
              "      <td>17</td>\n",
              "      <td>1.465509e-15</td>\n",
              "    </tr>\n",
              "    <tr>\n",
              "      <th>8</th>\n",
              "      <td>18</td>\n",
              "      <td>4.231266e-17</td>\n",
              "    </tr>\n",
              "    <tr>\n",
              "      <th>9</th>\n",
              "      <td>19</td>\n",
              "      <td>1.012696e-18</td>\n",
              "    </tr>\n",
              "    <tr>\n",
              "      <th>10</th>\n",
              "      <td>20</td>\n",
              "      <td>1.973624e-20</td>\n",
              "    </tr>\n",
              "    <tr>\n",
              "      <th>11</th>\n",
              "      <td>21</td>\n",
              "      <td>3.052667e-22</td>\n",
              "    </tr>\n",
              "    <tr>\n",
              "      <th>12</th>\n",
              "      <td>22</td>\n",
              "      <td>3.605629e-24</td>\n",
              "    </tr>\n",
              "    <tr>\n",
              "      <th>13</th>\n",
              "      <td>23</td>\n",
              "      <td>3.055193e-26</td>\n",
              "    </tr>\n",
              "    <tr>\n",
              "      <th>14</th>\n",
              "      <td>24</td>\n",
              "      <td>1.653947e-28</td>\n",
              "    </tr>\n",
              "    <tr>\n",
              "      <th>15</th>\n",
              "      <td>25</td>\n",
              "      <td>4.297797e-31</td>\n",
              "    </tr>\n",
              "  </tbody>\n",
              "</table>\n",
              "</div>\n",
              "    <div class=\"colab-df-buttons\">\n",
              "\n",
              "  <div class=\"colab-df-container\">\n",
              "    <button class=\"colab-df-convert\" onclick=\"convertToInteractive('df-70c02a51-0a18-4a8f-ae38-0c7abc18b0ef')\"\n",
              "            title=\"Convert this dataframe to an interactive table.\"\n",
              "            style=\"display:none;\">\n",
              "\n",
              "  <svg xmlns=\"http://www.w3.org/2000/svg\" height=\"24px\" viewBox=\"0 -960 960 960\">\n",
              "    <path d=\"M120-120v-720h720v720H120Zm60-500h600v-160H180v160Zm220 220h160v-160H400v160Zm0 220h160v-160H400v160ZM180-400h160v-160H180v160Zm440 0h160v-160H620v160ZM180-180h160v-160H180v160Zm440 0h160v-160H620v160Z\"/>\n",
              "  </svg>\n",
              "    </button>\n",
              "\n",
              "  <style>\n",
              "    .colab-df-container {\n",
              "      display:flex;\n",
              "      gap: 12px;\n",
              "    }\n",
              "\n",
              "    .colab-df-convert {\n",
              "      background-color: #E8F0FE;\n",
              "      border: none;\n",
              "      border-radius: 50%;\n",
              "      cursor: pointer;\n",
              "      display: none;\n",
              "      fill: #1967D2;\n",
              "      height: 32px;\n",
              "      padding: 0 0 0 0;\n",
              "      width: 32px;\n",
              "    }\n",
              "\n",
              "    .colab-df-convert:hover {\n",
              "      background-color: #E2EBFA;\n",
              "      box-shadow: 0px 1px 2px rgba(60, 64, 67, 0.3), 0px 1px 3px 1px rgba(60, 64, 67, 0.15);\n",
              "      fill: #174EA6;\n",
              "    }\n",
              "\n",
              "    .colab-df-buttons div {\n",
              "      margin-bottom: 4px;\n",
              "    }\n",
              "\n",
              "    [theme=dark] .colab-df-convert {\n",
              "      background-color: #3B4455;\n",
              "      fill: #D2E3FC;\n",
              "    }\n",
              "\n",
              "    [theme=dark] .colab-df-convert:hover {\n",
              "      background-color: #434B5C;\n",
              "      box-shadow: 0px 1px 3px 1px rgba(0, 0, 0, 0.15);\n",
              "      filter: drop-shadow(0px 1px 2px rgba(0, 0, 0, 0.3));\n",
              "      fill: #FFFFFF;\n",
              "    }\n",
              "  </style>\n",
              "\n",
              "    <script>\n",
              "      const buttonEl =\n",
              "        document.querySelector('#df-70c02a51-0a18-4a8f-ae38-0c7abc18b0ef button.colab-df-convert');\n",
              "      buttonEl.style.display =\n",
              "        google.colab.kernel.accessAllowed ? 'block' : 'none';\n",
              "\n",
              "      async function convertToInteractive(key) {\n",
              "        const element = document.querySelector('#df-70c02a51-0a18-4a8f-ae38-0c7abc18b0ef');\n",
              "        const dataTable =\n",
              "          await google.colab.kernel.invokeFunction('convertToInteractive',\n",
              "                                                    [key], {});\n",
              "        if (!dataTable) return;\n",
              "\n",
              "        const docLinkHtml = 'Like what you see? Visit the ' +\n",
              "          '<a target=\"_blank\" href=https://colab.research.google.com/notebooks/data_table.ipynb>data table notebook</a>'\n",
              "          + ' to learn more about interactive tables.';\n",
              "        element.innerHTML = '';\n",
              "        dataTable['output_type'] = 'display_data';\n",
              "        await google.colab.output.renderOutput(dataTable, element);\n",
              "        const docLink = document.createElement('div');\n",
              "        docLink.innerHTML = docLinkHtml;\n",
              "        element.appendChild(docLink);\n",
              "      }\n",
              "    </script>\n",
              "  </div>\n",
              "\n",
              "\n",
              "<div id=\"df-0d07d8a9-764e-40dd-9632-de83a7a4aba6\">\n",
              "  <button class=\"colab-df-quickchart\" onclick=\"quickchart('df-0d07d8a9-764e-40dd-9632-de83a7a4aba6')\"\n",
              "            title=\"Suggest charts\"\n",
              "            style=\"display:none;\">\n",
              "\n",
              "<svg xmlns=\"http://www.w3.org/2000/svg\" height=\"24px\"viewBox=\"0 0 24 24\"\n",
              "     width=\"24px\">\n",
              "    <g>\n",
              "        <path d=\"M19 3H5c-1.1 0-2 .9-2 2v14c0 1.1.9 2 2 2h14c1.1 0 2-.9 2-2V5c0-1.1-.9-2-2-2zM9 17H7v-7h2v7zm4 0h-2V7h2v10zm4 0h-2v-4h2v4z\"/>\n",
              "    </g>\n",
              "</svg>\n",
              "  </button>\n",
              "\n",
              "<style>\n",
              "  .colab-df-quickchart {\n",
              "      --bg-color: #E8F0FE;\n",
              "      --fill-color: #1967D2;\n",
              "      --hover-bg-color: #E2EBFA;\n",
              "      --hover-fill-color: #174EA6;\n",
              "      --disabled-fill-color: #AAA;\n",
              "      --disabled-bg-color: #DDD;\n",
              "  }\n",
              "\n",
              "  [theme=dark] .colab-df-quickchart {\n",
              "      --bg-color: #3B4455;\n",
              "      --fill-color: #D2E3FC;\n",
              "      --hover-bg-color: #434B5C;\n",
              "      --hover-fill-color: #FFFFFF;\n",
              "      --disabled-bg-color: #3B4455;\n",
              "      --disabled-fill-color: #666;\n",
              "  }\n",
              "\n",
              "  .colab-df-quickchart {\n",
              "    background-color: var(--bg-color);\n",
              "    border: none;\n",
              "    border-radius: 50%;\n",
              "    cursor: pointer;\n",
              "    display: none;\n",
              "    fill: var(--fill-color);\n",
              "    height: 32px;\n",
              "    padding: 0;\n",
              "    width: 32px;\n",
              "  }\n",
              "\n",
              "  .colab-df-quickchart:hover {\n",
              "    background-color: var(--hover-bg-color);\n",
              "    box-shadow: 0 1px 2px rgba(60, 64, 67, 0.3), 0 1px 3px 1px rgba(60, 64, 67, 0.15);\n",
              "    fill: var(--button-hover-fill-color);\n",
              "  }\n",
              "\n",
              "  .colab-df-quickchart-complete:disabled,\n",
              "  .colab-df-quickchart-complete:disabled:hover {\n",
              "    background-color: var(--disabled-bg-color);\n",
              "    fill: var(--disabled-fill-color);\n",
              "    box-shadow: none;\n",
              "  }\n",
              "\n",
              "  .colab-df-spinner {\n",
              "    border: 2px solid var(--fill-color);\n",
              "    border-color: transparent;\n",
              "    border-bottom-color: var(--fill-color);\n",
              "    animation:\n",
              "      spin 1s steps(1) infinite;\n",
              "  }\n",
              "\n",
              "  @keyframes spin {\n",
              "    0% {\n",
              "      border-color: transparent;\n",
              "      border-bottom-color: var(--fill-color);\n",
              "      border-left-color: var(--fill-color);\n",
              "    }\n",
              "    20% {\n",
              "      border-color: transparent;\n",
              "      border-left-color: var(--fill-color);\n",
              "      border-top-color: var(--fill-color);\n",
              "    }\n",
              "    30% {\n",
              "      border-color: transparent;\n",
              "      border-left-color: var(--fill-color);\n",
              "      border-top-color: var(--fill-color);\n",
              "      border-right-color: var(--fill-color);\n",
              "    }\n",
              "    40% {\n",
              "      border-color: transparent;\n",
              "      border-right-color: var(--fill-color);\n",
              "      border-top-color: var(--fill-color);\n",
              "    }\n",
              "    60% {\n",
              "      border-color: transparent;\n",
              "      border-right-color: var(--fill-color);\n",
              "    }\n",
              "    80% {\n",
              "      border-color: transparent;\n",
              "      border-right-color: var(--fill-color);\n",
              "      border-bottom-color: var(--fill-color);\n",
              "    }\n",
              "    90% {\n",
              "      border-color: transparent;\n",
              "      border-bottom-color: var(--fill-color);\n",
              "    }\n",
              "  }\n",
              "</style>\n",
              "\n",
              "  <script>\n",
              "    async function quickchart(key) {\n",
              "      const quickchartButtonEl =\n",
              "        document.querySelector('#' + key + ' button');\n",
              "      quickchartButtonEl.disabled = true;  // To prevent multiple clicks.\n",
              "      quickchartButtonEl.classList.add('colab-df-spinner');\n",
              "      try {\n",
              "        const charts = await google.colab.kernel.invokeFunction(\n",
              "            'suggestCharts', [key], {});\n",
              "      } catch (error) {\n",
              "        console.error('Error during call to suggestCharts:', error);\n",
              "      }\n",
              "      quickchartButtonEl.classList.remove('colab-df-spinner');\n",
              "      quickchartButtonEl.classList.add('colab-df-quickchart-complete');\n",
              "    }\n",
              "    (() => {\n",
              "      let quickchartButtonEl =\n",
              "        document.querySelector('#df-0d07d8a9-764e-40dd-9632-de83a7a4aba6 button');\n",
              "      quickchartButtonEl.style.display =\n",
              "        google.colab.kernel.accessAllowed ? 'block' : 'none';\n",
              "    })();\n",
              "  </script>\n",
              "</div>\n",
              "\n",
              "  <div id=\"id_aedc1d22-118e-4115-a5eb-3e757534bdb4\">\n",
              "    <style>\n",
              "      .colab-df-generate {\n",
              "        background-color: #E8F0FE;\n",
              "        border: none;\n",
              "        border-radius: 50%;\n",
              "        cursor: pointer;\n",
              "        display: none;\n",
              "        fill: #1967D2;\n",
              "        height: 32px;\n",
              "        padding: 0 0 0 0;\n",
              "        width: 32px;\n",
              "      }\n",
              "\n",
              "      .colab-df-generate:hover {\n",
              "        background-color: #E2EBFA;\n",
              "        box-shadow: 0px 1px 2px rgba(60, 64, 67, 0.3), 0px 1px 3px 1px rgba(60, 64, 67, 0.15);\n",
              "        fill: #174EA6;\n",
              "      }\n",
              "\n",
              "      [theme=dark] .colab-df-generate {\n",
              "        background-color: #3B4455;\n",
              "        fill: #D2E3FC;\n",
              "      }\n",
              "\n",
              "      [theme=dark] .colab-df-generate:hover {\n",
              "        background-color: #434B5C;\n",
              "        box-shadow: 0px 1px 3px 1px rgba(0, 0, 0, 0.15);\n",
              "        filter: drop-shadow(0px 1px 2px rgba(0, 0, 0, 0.3));\n",
              "        fill: #FFFFFF;\n",
              "      }\n",
              "    </style>\n",
              "    <button class=\"colab-df-generate\" onclick=\"generateWithVariable('df')\"\n",
              "            title=\"Generate code using this dataframe.\"\n",
              "            style=\"display:none;\">\n",
              "\n",
              "  <svg xmlns=\"http://www.w3.org/2000/svg\" height=\"24px\"viewBox=\"0 0 24 24\"\n",
              "       width=\"24px\">\n",
              "    <path d=\"M7,19H8.4L18.45,9,17,7.55,7,17.6ZM5,21V16.75L18.45,3.32a2,2,0,0,1,2.83,0l1.4,1.43a1.91,1.91,0,0,1,.58,1.4,1.91,1.91,0,0,1-.58,1.4L9.25,21ZM18.45,9,17,7.55Zm-12,3A5.31,5.31,0,0,0,4.9,8.1,5.31,5.31,0,0,0,1,6.5,5.31,5.31,0,0,0,4.9,4.9,5.31,5.31,0,0,0,6.5,1,5.31,5.31,0,0,0,8.1,4.9,5.31,5.31,0,0,0,12,6.5,5.46,5.46,0,0,0,6.5,12Z\"/>\n",
              "  </svg>\n",
              "    </button>\n",
              "    <script>\n",
              "      (() => {\n",
              "      const buttonEl =\n",
              "        document.querySelector('#id_aedc1d22-118e-4115-a5eb-3e757534bdb4 button.colab-df-generate');\n",
              "      buttonEl.style.display =\n",
              "        google.colab.kernel.accessAllowed ? 'block' : 'none';\n",
              "\n",
              "      buttonEl.onclick = () => {\n",
              "        google.colab.notebook.generateWithVariable('df');\n",
              "      }\n",
              "      })();\n",
              "    </script>\n",
              "  </div>\n",
              "\n",
              "    </div>\n",
              "  </div>\n"
            ],
            "application/vnd.google.colaboratory.intrinsic+json": {
              "type": "dataframe",
              "variable_name": "df",
              "summary": "{\n  \"name\": \"df\",\n  \"rows\": 16,\n  \"fields\": [\n    {\n      \"column\": \"Number of Genes on X\",\n      \"properties\": {\n        \"dtype\": \"number\",\n        \"std\": 4,\n        \"min\": 10,\n        \"max\": 25,\n        \"num_unique_values\": 16,\n        \"samples\": [\n          10,\n          11,\n          15\n        ],\n        \"semantic_type\": \"\",\n        \"description\": \"\"\n      }\n    },\n    {\n      \"column\": \"Probability under the null hypothesis\",\n      \"properties\": {\n        \"dtype\": \"number\",\n        \"std\": 2.262170874249659e-07,\n        \"min\": 4.297796771186333e-31,\n        \"max\": 9.071211000202529e-07,\n        \"num_unique_values\": 16,\n        \"samples\": [\n          9.071211000202529e-07,\n          8.035780874416993e-08,\n          1.049509762329614e-12\n        ],\n        \"semantic_type\": \"\",\n        \"description\": \"\"\n      }\n    }\n  ]\n}"
            }
          },
          "metadata": {},
          "execution_count": 2
        }
      ]
    },
    {
      "cell_type": "code",
      "source": [
        "#We sum the probabilities from 10 onwards. i.e. P(X>=10)\n",
        "x = np.arange(10, n + 1)\n",
        "probabilities = binom.pmf(x, n, p)\n",
        "p_X_10 = np.sum(probabilities)\n",
        "p_value = 2*p_X_10\n",
        "p_value\n",
        "print(f'Assuming that the null hypothesis is true, there is a probability of \\ngetting 10 or more spermatogenesis genes on the X chromosome of: {p_X_10:.2e}')"
      ],
      "metadata": {
        "colab": {
          "base_uri": "https://localhost:8080/"
        },
        "id": "_21N-E2asfIM",
        "outputId": "be1aa64e-5ea1-4a09-df45-0a3e2bbbcb72"
      },
      "execution_count": null,
      "outputs": [
        {
          "output_type": "stream",
          "name": "stdout",
          "text": [
            "Assuming that the null hypothesis is true, there is a probability of \n",
            "getting 10 or more spermatogenesis genes on the X chromosome of: 5.75e-01\n"
          ]
        }
      ]
    },
    {
      "cell_type": "code",
      "source": [
        "from scipy.stats import binomtest\n",
        "#from scipy import stats\n",
        "# Data from the study\n",
        "x_genes = 10   # Number of spermatogenesis genes on the X chromosome\n",
        "n = 25           # Total number of spermatogenesis genes\n",
        "p_null = 0.061   # Null hypothesis proportion (proportion of genes on X chromosome in general)\n",
        "\n",
        "# Perform a one-sided binomial test\n",
        "p_value = binomtest(x_genes, n, p_null, alternative='two-sided')\n",
        "\n",
        "# Output the result\n",
        "\n",
        "print(f\"Binomial test p-value: {p_value.pvalue:.3e}\")\n",
        "\n",
        "# Interpretation of results\n",
        "if p_value.pvalue < 0.05:\n",
        "    print(\"Reject the null hypothesis: Spermatogenesis genes are \\ndisproportionately located on the X chromosome.\")\n",
        "else:\n",
        "    print(\"Fail to reject the null hypothesis: No significant difference in \\nthe proportion of genes on the X chromosome.\")"
      ],
      "metadata": {
        "colab": {
          "base_uri": "https://localhost:8080/"
        },
        "id": "rPwc-UXl1Kaf",
        "outputId": "64996f12-0dab-4bdf-e7f8-570c360c5d5e"
      },
      "execution_count": null,
      "outputs": [
        {
          "output_type": "stream",
          "name": "stdout",
          "text": [
            "Binomial test p-value: 9.940e-07\n",
            "Reject the null hypothesis: Spermatogenesis genes are \n",
            "disproportionately located on the X chromosome.\n"
          ]
        }
      ]
    },
    {
      "cell_type": "markdown",
      "source": [
        "##**2. Plot the Binomial Distribution**"
      ],
      "metadata": {
        "id": "MQJnEgIAiQ-3"
      }
    },
    {
      "cell_type": "code",
      "source": [
        "#n = 25\n",
        "#p = 0.061\n",
        "x = np.arange(0, n + 1)\n",
        "probabilities = binom.pmf(x, n, p)\n",
        "plt.bar(x,\n",
        "        probabilities,\n",
        "        color = 'lightpink',\n",
        "        edgecolor = 'black'\n",
        "        )\n",
        "\n",
        "plt.title('Binomial Distribution of Genome Distribution (n = 25, p = 0.061)')\n",
        "plt.xlabel('Number of Genes Present in the X Chromosome')\n",
        "plt.ylabel('Probability')\n",
        "#plt.xticks(x)\n",
        "plt.show()"
      ],
      "metadata": {
        "colab": {
          "base_uri": "https://localhost:8080/",
          "height": 472
        },
        "id": "iv_mBsatiWwz",
        "outputId": "5efa5af1-deaf-4461-adcc-33c83383045f"
      },
      "execution_count": null,
      "outputs": [
        {
          "output_type": "display_data",
          "data": {
            "text/plain": [
              "<Figure size 640x480 with 1 Axes>"
            ],
            "image/png": "[encoded data removed]"
          },
          "metadata": {}
        }
      ]
    },
    {
      "cell_type": "markdown",
      "source": [
        "##**3. Calculate distinct Probabilities** (Pending)"
      ],
      "metadata": {
        "id": "NFONb1LKi6SX"
      }
    },
    {
      "cell_type": "code",
      "source": [
        "# Calculate the probability of exactly 10 spermatogenesis genes present in the X chromosome\n",
        "exact_10 = binom.pmf(10, n, p_null)\n",
        "print(f'Probability of exactly 10 spermatogenesis genes are in the X chromosome: {exact_10}')\n",
        "\n",
        "# Calculate the probability of fewer than 10 spermatogenesis genes present in the X chromosome\n",
        "less_than_10 = binom.cdf(9, n, p_null)\n",
        "print(f'Probability of fewer than 10 spermatogenesis genes present in the X chromosome: {less_than_10}')\n",
        "\n",
        "# Calculate the probability of more than 10 spermatogenesis genes present in the X chromosome\n",
        "more_than_10 = 1 - binom.cdf(11, n, p_null)\n",
        "print(f'Probability of more than 10 spermatogenesis genes present in the X chromosome: {more_than_10}')"
      ],
      "metadata": {
        "colab": {
          "base_uri": "https://localhost:8080/"
        },
        "id": "og4iCmQTjBD_",
        "outputId": "a0000b0a-bfeb-4533-ca52-62e3e67fbac9"
      },
      "execution_count": null,
      "outputs": [
        {
          "output_type": "stream",
          "name": "stdout",
          "text": [
            "Probability of exactly 10 spermatogenesis genes are in the X chromosome: 9.071211000202529e-07\n",
            "Probability of fewer than 10 spermatogenesis genes present in the X chromosome: 0.9999990060120183\n",
            "Probability of more than 10 spermatogenesis genes present in the X chromosome: 6.509072947302741e-09\n"
          ]
        }
      ]
    },
    {
      "cell_type": "markdown",
      "source": [
        "**Explanation:**\n",
        "\n",
        "    Parameters of the Binomial Distribution:\n",
        "\n",
        "        n = 25: The number of posible number of spermatogenesis genes present on the X chromosome.  \n",
        "        p = 0.061: # Null hypothesis proportion (proportion of genes on X chromosome in general)\n",
        "\n",
        "    Binomial Probability Mass Function (PMF):\n",
        "\n",
        "        The binom.pmf function calculates the probability of each possible outcome (0 to 25 genes positively present in the X chromosome).\n",
        "\n",
        "    Visualization:\n",
        "\n",
        "        The outcomes are visualized with a bar plot, making it easier to interpret the distribution of responses.\n",
        "\n",
        "    Specific Probabilities:\n",
        "\n",
        "        We calculate and print the probability of:\n",
        "            exactly 10 spermatogenesis genes present in the X chromosome.\n",
        "            fewer than 10 spermatogenesis genes present in the X chromosome.\n",
        "            More than 10 spermatogenesis genes present in the X chromosome."
      ],
      "metadata": {
        "id": "lAkl8jq8kg-i"
      }
    },
    {
      "cell_type": "markdown",
      "source": [
        "**Discussion Questions:**\n",
        "---\n",
        "\n",
        "1. **Conduct the Binomial Test:**\n",
        "\n",
        "Perform a binomial test in Python to test whether the proportion of spermatogenesis genes on the X chromosome (10 out of 25) is significantly different from the expected proportion of 6.1%. Report the p-value. Is there enough evidence to reject the null hypothesis at a significance level of 0.05?\n",
        "\n",
        "\n",
        "\n",
        "2. **Interpret the Results:**\n",
        "\n",
        "Based on the p-value obtained from the binomial test, interpret whether the occurrence of spermatogenesis genes on the X chromosome is consistent with random distribution across the genome. What biological conclusions can you draw from this result?\n",
        "\n",
        "\n",
        "\n",
        "3. **Effect of Sample Size:**\n",
        "\n",
        "Simulate another scenario where the study was conducted with 50 spermatogenesis genes, keeping the observed proportion on the X chromosome the same (40%). Perform the binomial test again. How does increasing the sample size affect the p-value and the statistical significance of the result?\n",
        "\n",
        "\n",
        "\n",
        "4. **Confidence Interval for Proportion:**\n",
        "\n",
        "Calculate a 95% confidence interval for the observed proportion of spermatogenesis genes on the X chromosome (10 out of 25). Does this confidence interval include the expected proportion of 6.1%? What does this suggest about the hypothesis?\n",
        "\n",
        "\n",
        "\n",
        "5. **Exploring Alternative Hypotheses:**\n",
        "\n",
        "Perform a one-tailed binomial test to evaluate whether the proportion of spermatogenesis genes on the X chromosome is greater than 6.1%, rather than simply different from it. How does this test differ from the two-tailed test? What biological interpretation can you make if the one-tailed test is significant?"
      ],
      "metadata": {
        "id": "lcJO_jnmqHCb"
      }
    }
  ]
}