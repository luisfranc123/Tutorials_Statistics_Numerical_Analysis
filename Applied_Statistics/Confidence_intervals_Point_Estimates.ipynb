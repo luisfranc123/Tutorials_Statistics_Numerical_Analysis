{
  "cells": [
    {
      "cell_type": "markdown",
      "metadata": {
        "id": "view-in-github",
        "colab_type": "text"
      },
      "source": [
        "<a href=\"https://colab.research.google.com/github/luisfranc123/Tutorials_Statistics_Numerical_Analysis/blob/main/Applied_Statistics/Confidence_intervals_Point_Estimates.ipynb\" target=\"_parent\"><img src=\"https://colab.research.google.com/assets/colab-badge.svg\" alt=\"Open In Colab\"/></a>"
      ]
    },
    {
      "cell_type": "markdown",
      "source": [
        "#**Confidence Intervals**\n",
        "---"
      ],
      "metadata": {
        "id": "tCWBwa_KGOPq"
      }
    },
    {
      "cell_type": "markdown",
      "source": [
        "<img src = \"https://d37djvu3ytnwxt.cloudfront.net/assets/courseware/v1/3c2230f2c98f3c61fcb4a4884ba96f84/asset-v1:DelftX+OT.1x+3T2016+type@asset+block/Normal_critical_values.png\" width = '800' height = '650'>"
      ],
      "metadata": {
        "id": "ipX7oS8ZGKEk"
      }
    },
    {
      "cell_type": "markdown",
      "metadata": {
        "_cell_guid": "79c7e3d0-c299-4dcb-8224-4455121ee9b0",
        "_uuid": "d629ff2d2480ee46fbb7e2d37f6b5fab8052498a",
        "collapsed": true,
        "id": "CC3kPNSUab39"
      },
      "source": [
        "Statistical inference is the process of analyzing sample data to gain insight into the population from which the data was collected and to investigate differences between data samples. In data analysis, we are often interested in the characteristics of some large population, but collecting data on the entire population may be infeasible. For example, leading up to Colombian presidential elections it could be very useful to know the political leanings of every single eligible voter, but surveying every voter is not feasible. Instead, we could poll some subset of the population, such as a thousand registered voters, and use that data to make inferences about the population as a whole."
      ]
    },
    {
      "cell_type": "markdown",
      "metadata": {
        "id": "BfslrAxtab39"
      },
      "source": [
        "## **Point Estimates**"
      ]
    },
    {
      "cell_type": "markdown",
      "metadata": {
        "id": "VJ7sduugab3-"
      },
      "source": [
        "Point estimates are estimates of population parameters based on sample data. For instance, if we wanted to know the average age of registered voters in Colombia, we could take a survey of registered voters and then use the average age of the respondents as a point estimate of the average age of the population as a whole. The average of a sample is known as the sample mean.\n",
        "\n",
        "The sample mean is usually not exactly the same as the population mean. This difference can be caused by many factors including poor survey design, biased sampling methods and the randomness inherent to drawing a sample from a population. Let's investigate point estimates by generating a population of random age data and then drawing a sample from it to estimate the mean:"
      ]
    },
    {
      "cell_type": "code",
      "execution_count": null,
      "metadata": {
        "id": "m16H7P0Gab3-"
      },
      "outputs": [],
      "source": [
        "%matplotlib inline\n",
        "\n",
        "import numpy as np\n",
        "import pandas as pd\n",
        "import scipy.stats as stats\n",
        "import matplotlib.pyplot as plt\n",
        "import random\n",
        "import math"
      ]
    },
    {
      "cell_type": "markdown",
      "source": [
        "###**Population Simulation**\n",
        "---"
      ],
      "metadata": {
        "id": "AW9uUoF37j_H"
      }
    },
    {
      "cell_type": "code",
      "execution_count": null,
      "metadata": {
        "colab": {
          "base_uri": "https://localhost:8080/"
        },
        "id": "365fkDLIab3_",
        "outputId": "ede00e36-69ef-4446-931d-942211fa0d81"
      },
      "outputs": [
        {
          "output_type": "stream",
          "name": "stdout",
          "text": [
            "[58 55 53 ... 50 46 49]\n",
            "[33 30 29 ... 27 28 28]\n",
            "[58 55 53 ... 27 28 28]\n",
            "43.002372\n"
          ]
        }
      ],
      "source": [
        "np.random.seed(10)\n",
        "population_ages1 = stats.poisson.rvs(loc=18, mu=35, size=150000)\n",
        "population_ages2 = stats.poisson.rvs(loc=18, mu=10, size=100000)\n",
        "population_ages = np.concatenate((population_ages1, population_ages2))\n",
        "\n",
        "print(population_ages1)\n",
        "print(population_ages2)\n",
        "print(population_ages)\n",
        "print(population_ages.mean())"
      ]
    },
    {
      "cell_type": "markdown",
      "source": [
        "###**Random Sample and Population Difference**\n",
        "---"
      ],
      "metadata": {
        "id": "8ZnXUdvV7wGl"
      }
    },
    {
      "cell_type": "code",
      "execution_count": null,
      "metadata": {
        "colab": {
          "base_uri": "https://localhost:8080/"
        },
        "id": "Rb-Lfw6Lab4A",
        "outputId": "ab2ceb95-4405-485f-8e57-b9998a349f8d"
      },
      "outputs": [
        {
          "output_type": "stream",
          "name": "stdout",
          "text": [
            "42.388\n",
            "0.6144\n"
          ]
        }
      ],
      "source": [
        "np.random.seed(6)\n",
        "sample_ages = np.random.choice(a = population_ages,\n",
        "                               size = 500)            # Sample 500 values\n",
        "\n",
        "print(sample_ages.mean())                         # Show sample mean\n",
        "\n",
        "diff = population_ages.mean() - sample_ages.mean()\n",
        "print(f'{diff:.4f}')   # Check difference between means"
      ]
    },
    {
      "cell_type": "markdown",
      "metadata": {
        "id": "oFAFMfVVab4A"
      },
      "source": [
        "Our point estimate based on a sample of 500 individuals underestimates the true population mean by 0.6 years, but it is close. This illustrates an important point: we can get a fairly accurate estimate of a large population by sampling a relatively small subset of individuals.\n",
        "\n"
      ]
    },
    {
      "cell_type": "markdown",
      "metadata": {
        "id": "jszIJngBab4D"
      },
      "source": [
        "###**Confidence Intervals**\n",
        "---"
      ]
    },
    {
      "cell_type": "markdown",
      "metadata": {
        "id": "aBiMtSd2ab4E"
      },
      "source": [
        "A point estimate can give you a rough idea of a population parameter like the mean, but estimates are prone to error and taking multiple samples to get improved estimates may not be feasible. A confidence interval is a range of values above and below a point estimate that captures the true population parameter at some predetermined confidence level. For example, if you want to have a 95% chance of capturing the true population parameter with a point estimate and a corresponding confidence interval, you'd set your confidence level to 95%. Higher confidence levels result in a wider confidence intervals.\n",
        "\n",
        "Calculate a confidence interval by taking a point estimate and then adding and subtracting a margin of error to create a range. Margin of error is based on your desired confidence level, the spread of the data and the size of your sample. The way you calculate the margin of error depends on whether you know the standard deviation of the population or not.\n",
        "\n",
        "If you know the standard deviation of the population, the margin of error is equal to:\n",
        "\n",
        "$$z * \\frac{\\sigma}{\\sqrt{n}}$$"
      ]
    },
    {
      "cell_type": "markdown",
      "metadata": {
        "id": "m27sVZ-mab4E"
      },
      "source": [
        "Where σ (sigma) is the population standard deviation, n is sample size, and z is a number known as the z-critical value. The z-critical value is the number of standard deviations you'd have to go from the mean of the normal distribution to capture the proportion of the data associated with the desired confidence level. For instance, we know that roughly 95% of the data in a normal distribution lies within 2 standard deviations of the mean, so we could use 2 as the z-critical value for a 95% confidence interval (although it is more exact to get z-critical values with stats.norm.ppf().).\n",
        "\n",
        "Let's calculate a 95% confidence for our mean point estimate:"
      ]
    },
    {
      "cell_type": "code",
      "execution_count": null,
      "metadata": {
        "colab": {
          "base_uri": "https://localhost:8080/"
        },
        "id": "nEHYJ8Lhab4E",
        "outputId": "acd1e975-d9ba-4d96-fc3c-658a32f467db"
      },
      "outputs": [
        {
          "output_type": "stream",
          "name": "stdout",
          "text": [
            "z-critical value:\n",
            "1.959963984540054\n",
            "Confidence interval:\n",
            "(41.70306406882683, 43.34293593117317)\n"
          ]
        }
      ],
      "source": [
        "np.random.seed(10)\n",
        "\n",
        "sample_size = 1000\n",
        "sample = np.random.choice(a= population_ages, size = sample_size)\n",
        "sample_mean = sample.mean()\n",
        "\n",
        "z_critical = stats.norm.ppf(q = 0.975)  # Get the z-critical value*\n",
        "\n",
        "print(\"z-critical value:\")              # Check the z-critical value\n",
        "print(z_critical)\n",
        "\n",
        "pop_stdev = population_ages.std()  # Get the population standard deviation\n",
        "\n",
        "margin_of_error = z_critical * (pop_stdev/math.sqrt(sample_size))\n",
        "\n",
        "confidence_interval = (sample_mean - margin_of_error,\n",
        "                       sample_mean + margin_of_error)\n",
        "\n",
        "print(\"Confidence interval:\")\n",
        "print(f\"{confidence_interval}\")"
      ]
    },
    {
      "cell_type": "markdown",
      "metadata": {
        "id": "0eRPqEqXab4E"
      },
      "source": [
        "*Note: We use stats.norm.ppf(q = 0.975) to get the desired z-critical value instead of q = 0.95 because the distribution has two tails.*\n",
        "\n",
        "Notice that the confidence interval we calculated captures the true population mean of 43.0023.\n",
        "\n",
        "Let's create several confidence intervals and plot them to get a better sense of what it means to \"capture\" the true mean:"
      ]
    },
    {
      "cell_type": "code",
      "execution_count": null,
      "metadata": {
        "id": "TD-BvNR8ab4F"
      },
      "outputs": [],
      "source": [
        "np.random.seed(12)\n",
        "\n",
        "sample_size = 1000\n",
        "\n",
        "intervals = []\n",
        "sample_means = []\n",
        "\n",
        "for sample in range(25):\n",
        "    sample = np.random.choice(a = population_ages, size = sample_size)\n",
        "    sample_mean = sample.mean()\n",
        "    sample_means.append(sample_mean)\n",
        "\n",
        "    z_critical = stats.norm.ppf(q = 0.975)  # Get the z-critical value*\n",
        "\n",
        "    pop_stdev = population_ages.std()  # Get the population standard deviation\n",
        "\n",
        "    stats.norm.ppf(q = 0.025)\n",
        "\n",
        "    margin_of_error = z_critical * (pop_stdev/math.sqrt(sample_size))\n",
        "\n",
        "    confidence_interval = (sample_mean - margin_of_error,\n",
        "                           sample_mean + margin_of_error)\n",
        "\n",
        "    intervals.append(confidence_interval)"
      ]
    },
    {
      "cell_type": "code",
      "execution_count": null,
      "metadata": {
        "id": "C6L6gU6wab4F",
        "outputId": "80e8112c-686a-45b8-96e8-d4e320d20d0f"
      },
      "outputs": [
        {
          "data": {
            "image/png": "[encoded data removed]",
            "text/plain": [
              "<Figure size 648x648 with 1 Axes>"
            ]
          },
          "metadata": {},
          "output_type": "display_data"
        }
      ],
      "source": [
        "plt.figure(figsize=(9,9))\n",
        "\n",
        "plt.errorbar(x=np.arange(0.1, 25, 1),\n",
        "             y=sample_means,\n",
        "             yerr=[(top-bot)/2 for top,bot in intervals],\n",
        "             fmt='o')\n",
        "\n",
        "plt.hlines(xmin=0, xmax=25,\n",
        "           y=43.0023,\n",
        "           linewidth=2.0,\n",
        "           color=\"red\");"
      ]
    },
    {
      "cell_type": "markdown",
      "metadata": {
        "id": "-X6m29oEab4F"
      },
      "source": [
        "Notice that in the plot above, all but one of the 95% confidence intervals overlap the red line marking the true mean. This is to be expected: since a 95% confidence interval captures the true mean 95% of the time, we'd expect our interval to miss the true mean 5% of the time.\n",
        "\n",
        "If you don't know the standard deviation of the population, you have to use the standard deviation of your sample as a stand in when creating confidence intervals. Since the sample standard deviation may not match the population parameter the interval will have more error when you don't know the population standard deviation. To account for this error, we use what's known as a t-critical value instead of the z-critical value. The t-critical value is drawn from what's known as a t-distribution--a distribution that closely resembles the normal distribution but that gets wider and wider as the sample size falls. The t-distribution is available in scipy.stats with the nickname \"t\" so we can get t-critical values with stats.t.ppf().\n",
        "\n",
        "Let's take a new, smaller sample and then create a confidence interval without the population standard deviation, using the t-distribution:"
      ]
    },
    {
      "cell_type": "code",
      "execution_count": null,
      "metadata": {
        "id": "VImmekcCab4F",
        "outputId": "3447be4b-becd-4c2d-f960-f91751ad79cc"
      },
      "outputs": [
        {
          "name": "stdout",
          "output_type": "stream",
          "text": [
            "t-critical value:\n",
            "2.0638985616280205\n",
            "Confidence interval:\n",
            "(37.65147508161371, 48.108524918386294)\n"
          ]
        }
      ],
      "source": [
        "np.random.seed(10)\n",
        "\n",
        "sample_size = 25\n",
        "sample = np.random.choice(a= population_ages, size = sample_size)\n",
        "sample_mean = sample.mean()\n",
        "\n",
        "t_critical = stats.t.ppf(q = 0.975, df=24)  # Get the t-critical value*\n",
        "\n",
        "print(\"t-critical value:\")                  # Check the t-critical value\n",
        "print(t_critical)\n",
        "\n",
        "sample_stdev = sample.std(ddof=1)    # Get the sample standard deviation\n",
        "\n",
        "sigma = sample_stdev/math.sqrt(sample_size)  # Standard deviation estimate\n",
        "margin_of_error = t_critical * sigma\n",
        "\n",
        "confidence_interval = (sample_mean - margin_of_error,\n",
        "                       sample_mean + margin_of_error)\n",
        "\n",
        "print(\"Confidence interval:\")\n",
        "print(confidence_interval)"
      ]
    },
    {
      "cell_type": "code",
      "execution_count": null,
      "metadata": {
        "colab": {
          "base_uri": "https://localhost:8080/"
        },
        "id": "xyQ_FXa8ab4A",
        "outputId": "f0c63c49-ea29-48a7-9e4e-8c65d7ce3e50"
      },
      "outputs": [
        {
          "output_type": "stream",
          "name": "stdout",
          "text": [
            "indian proportion estimate:\n",
            "0.192\n",
            "zambo proportion estimate:\n",
            "0.099\n",
            "afro-colombian proportion estimate:\n",
            "0.231\n",
            "creole proportion estimate:\n",
            "0.379\n",
            "other proportion estimate:\n",
            "0.099\n"
          ]
        }
      ],
      "source": [
        "random.seed(10)\n",
        "population_races = ([\"creole\"]*100000) + ([\"afro-colombian\"]*50000) +\\\n",
        "                   ([\"indian\"]*50000) + ([\"zambo\"]*25000) +\\\n",
        "                   ([\"other\"]*25000)\n",
        "\n",
        "demo_sample = random.sample(population_races, 1000)   # Sample 1000 values\n",
        "\n",
        "for race in set(demo_sample):\n",
        "    print(f\"{race} proportion estimate:\" )\n",
        "    print(f\"{demo_sample.count(race)/1000}\")"
      ]
    },
    {
      "cell_type": "markdown",
      "metadata": {
        "id": "PGyqFYFfab4B"
      },
      "source": [
        "Notice that the proportion estimates are close to the true underlying population proportions."
      ]
    },
    {
      "cell_type": "markdown",
      "source": [
        "##**Wrap up**"
      ],
      "metadata": {
        "id": "Nl8goeNBF_Lb"
      }
    },
    {
      "cell_type": "markdown",
      "metadata": {
        "id": "Lun3v0Wrab4P"
      },
      "source": [
        "Estimating population parameters through sampling is a simple, yet powerful form of inference. Point estimates combined with error margins let us create confidence intervals that capture the true population parameter with high probability.\n",
        "\n",
        "Next time we'll expand on the concepts in this lesson by learning about statistical hypothesis testing."
      ]
    }
  ],
  "metadata": {
    "kernelspec": {
      "display_name": "Python 3",
      "language": "python",
      "name": "python3"
    },
    "language_info": {
      "codemirror_mode": {
        "name": "ipython",
        "version": 3
      },
      "file_extension": ".py",
      "mimetype": "text/x-python",
      "name": "python",
      "nbconvert_exporter": "python",
      "pygments_lexer": "ipython3",
      "version": "3.6.4"
    },
    "colab": {
      "provenance": [],
      "include_colab_link": true
    }
  },
  "nbformat": 4,
  "nbformat_minor": 0
}