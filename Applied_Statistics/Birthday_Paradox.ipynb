{
  "nbformat": 4,
  "nbformat_minor": 0,
  "metadata": {
    "colab": {
      "provenance": [],
      "authorship_tag": "ABX9TyOHB5Eqgl0FFhUkbxbgybOM",
      "include_colab_link": true
    },
    "kernelspec": {
      "name": "python3",
      "display_name": "Python 3"
    },
    "language_info": {
      "name": "python"
    }
  },
  "cells": [
    {
      "cell_type": "markdown",
      "metadata": {
        "id": "view-in-github",
        "colab_type": "text"
      },
      "source": [
        "<a href=\"https://colab.research.google.com/github/luisfranc123/Tutorials_Statistics_Numerical_Analysis/blob/main/Applied_Statistics/Birthday_Paradox.ipynb\" target=\"_parent\"><img src=\"https://colab.research.google.com/assets/colab-badge.svg\" alt=\"Open In Colab\"/></a>"
      ]
    },
    {
      "cell_type": "markdown",
      "source": [
        "###**The Birthday Paradox**\n",
        "---\n",
        "Imagine you place *n* random individuals in a room. What is the chance that *at least* two of them will **share the same birthday**?\n",
        "\n",
        "**Key Question**\n",
        "- What is the smallest value of *n* where the probability is at least 50% or 99%?"
      ],
      "metadata": {
        "id": "ik-fsbGYs9w1"
      }
    },
    {
      "cell_type": "markdown",
      "source": [
        "<img src=\"https://static.vecteezy.com/system/resources/thumbnails/051/420/124/small_2x/birthday-celebration-cake-happy-birthday-background-with-copy-space-colorful-background-wallpaper-backdrop-photo.jpg\" width=\"500\" height=\"300\">\n",
        "\n",
        "**Image taken from:** [vecteezy](https://www.vecteezy.com/free-photos/birthday-celebration)\n"
      ],
      "metadata": {
        "id": "Pt-UQbLpmj3t"
      }
    },
    {
      "cell_type": "markdown",
      "source": [
        "Let's validate the situation by making a simulation in Python:\n",
        "\n",
        "First of all, as an example, imagine we want to generate a room with 5 peope having distinct birthdays, we can use the following code to do it so:"
      ],
      "metadata": {
        "id": "OsD-qqW3urBN"
      }
    },
    {
      "cell_type": "code",
      "source": [
        "# Libraries\n",
        "import numpy as np\n",
        "import pandas as pd\n",
        "import matplotlib.pyplot as plt"
      ],
      "metadata": {
        "id": "ddRwEzm0vCfd"
      },
      "execution_count": null,
      "outputs": []
    },
    {
      "cell_type": "code",
      "execution_count": null,
      "metadata": {
        "colab": {
          "base_uri": "https://localhost:8080/"
        },
        "id": "quXsR8VBeIRu",
        "outputId": "3b6ccdaf-71f8-4f93-9d66-e4f627b81415"
      },
      "outputs": [
        {
          "output_type": "execute_result",
          "data": {
            "text/plain": [
              "array([239,  38, 135, 265, 198, 258, 111,  88,  60,   6, 106, 111, 113,\n",
              "         3, 180, 331, 285, 345, 144, 213])"
            ]
          },
          "metadata": {},
          "execution_count": 2
        }
      ],
      "source": [
        "np.random.randint(low = 1, high = 365, size = (20,))"
      ]
    },
    {
      "cell_type": "markdown",
      "source": [
        "Let's now generate 1000 rooms with distinct number of people having random birthdays across the year, then we count the number of times that at least two individuals within a room share the same birthday. You can change the `room_size` parameter to find out the different computed probabilities:"
      ],
      "metadata": {
        "id": "4YO_ZRGz3eum"
      }
    },
    {
      "cell_type": "code",
      "source": [
        "room_size = 71\n",
        "room_with_same_bd = 0\n",
        "number_of_rooms = 1000\n",
        "\n",
        "for _ in range(number_of_rooms):\n",
        "\n",
        "  room = np.random.randint(low=1, high=365, size=(room_size,))\n",
        "\n",
        "  #print(room)\n",
        "\n",
        "  ## Number of people > Number of unique birthdays.\n",
        "  if room_size > len(np.unique(room)):\n",
        "    room_with_same_bd += 1\n",
        "\n",
        "print(f'Rooms with 2 or more persons share same BD: {room_with_same_bd}')\n",
        "print(f'Probability of the room with 2 or more persons share same BD: {room_with_same_bd/number_of_rooms}')"
      ],
      "metadata": {
        "colab": {
          "base_uri": "https://localhost:8080/"
        },
        "id": "nV76laDK2f8O",
        "outputId": "0da24041-e3b8-4d52-bbde-da2335714fcd"
      },
      "execution_count": null,
      "outputs": [
        {
          "output_type": "stream",
          "name": "stdout",
          "text": [
            "Rooms with 2 or more persons share same BD: 999\n",
            "Probability of the room with 2 or more persons share same BD: 0.999\n"
          ]
        }
      ]
    },
    {
      "cell_type": "code",
      "source": [
        "room"
      ],
      "metadata": {
        "colab": {
          "base_uri": "https://localhost:8080/"
        },
        "id": "MnxndxFtovFY",
        "outputId": "fd51aa9f-ffbc-4e90-ea66-24b73df80a01"
      },
      "execution_count": null,
      "outputs": [
        {
          "output_type": "execute_result",
          "data": {
            "text/plain": [
              "array([320, 248,  69, 152, 280, 268,  34, 337,  81, 310,  46, 240, 311,\n",
              "       349, 128, 348, 182, 148,  94, 335, 242, 299, 263])"
            ]
          },
          "metadata": {},
          "execution_count": 18
        }
      ]
    },
    {
      "cell_type": "markdown",
      "source": [
        "####**1. Let's generate 1000 rooms**\n",
        "\n",
        "Imagine now we have 1000 rooms with each having *n* people inside."
      ],
      "metadata": {
        "id": "FGtT84n9wiWB"
      }
    },
    {
      "cell_type": "code",
      "source": [
        "# Parameter n\n",
        "# n ranging from 20 to 30 people\n",
        "room_size = list(range(20, 31))\n",
        "\n",
        "for i in room_size:\n",
        "  room_with_same_bd = 0\n",
        "  number_of_rooms = 1000\n",
        "\n",
        "  for _ in range(number_of_rooms):\n",
        "\n",
        "    room = np.random.randint(low = 0, high = 365, size = (i,))\n",
        "\n",
        "    # Number of people > Number of unique birthdays\n",
        "    if i > len(np.unique(room)):\n",
        "      room_with_same_bd += 1\n",
        "\n",
        "  print(f'Room size: {i}, Rooms with shared BD: {room_with_same_bd}')"
      ],
      "metadata": {
        "colab": {
          "base_uri": "https://localhost:8080/"
        },
        "id": "1kJSWlJuxMoG",
        "outputId": "1949c5d9-1066-4401-9694-124b12edd82f"
      },
      "execution_count": null,
      "outputs": [
        {
          "output_type": "stream",
          "name": "stdout",
          "text": [
            "Room size: 20, Rooms with shared BD: 416\n",
            "Room size: 21, Rooms with shared BD: 438\n",
            "Room size: 22, Rooms with shared BD: 445\n",
            "Room size: 23, Rooms with shared BD: 520\n",
            "Room size: 24, Rooms with shared BD: 520\n",
            "Room size: 25, Rooms with shared BD: 571\n",
            "Room size: 26, Rooms with shared BD: 599\n",
            "Room size: 27, Rooms with shared BD: 612\n",
            "Room size: 28, Rooms with shared BD: 686\n",
            "Room size: 29, Rooms with shared BD: 687\n",
            "Room size: 30, Rooms with shared BD: 714\n"
          ]
        }
      ]
    },
    {
      "cell_type": "markdown",
      "source": [
        "The more people in the room the higher the probability of having shared birthdays."
      ],
      "metadata": {
        "id": "0lnIcNzE0C_4"
      }
    },
    {
      "cell_type": "markdown",
      "source": [
        "####**2. Visualize the results**"
      ],
      "metadata": {
        "id": "F5cfMEvd4o7K"
      }
    },
    {
      "cell_type": "code",
      "source": [
        "import numpy as np\n",
        "import matplotlib.pyplot as plt\n",
        "\n",
        "room_size = list(range(2, 70))\n",
        "number_of_rooms = 1000\n",
        "probabilities = []\n",
        "\n",
        "# Run simulation\n",
        "for i in room_size:\n",
        "  room_with_same_bd = 0\n",
        "\n",
        "  for _ in range(number_of_rooms):\n",
        "    # Generate birthdays for people in the room\n",
        "    room = np.random.randint(low=0, high=365, size=(i,))\n",
        "\n",
        "    ## Number of people > Number of unique birthdays.\n",
        "    # Chack for duplicate birthdays\n",
        "    if i > len(np.unique(room)):\n",
        "      room_with_same_bd += 1\n",
        "\n",
        "  #Calculate probability and store it\n",
        "  probability = room_with_same_bd/number_of_rooms\n",
        "  probabilities.append(probability)\n",
        "\n",
        "#Visualization\n",
        "#fig, ax = plt.subplots(1)\n",
        "plt.figure(figsize = (10, 5))\n",
        "plt.plot(room_size, probabilities,\n",
        "         marker = 'o', linestyle = '-',\n",
        "         color = 'royalblue')\n",
        "plt.title('Probability of Shared Birthday vs. Room Size')\n",
        "plt.xlabel('Room Size (Number of people)')\n",
        "plt.ylabel('Probability of Shared Birthday')\n",
        "plt.xticks(np.arange(2, 70, step = 5))\n",
        "plt.axhline(y = 0.5, xmin = 0.0, xmax = 23/70, color='k', ls = '--')\n",
        "plt.axvline(x = 23, ymin = 0.0, ymax = 0.5, color='k', ls = '--')\n",
        "plt.ylim(0, 1)\n",
        "plt.show()\n",
        "\n"
      ],
      "metadata": {
        "colab": {
          "base_uri": "https://localhost:8080/",
          "height": 487
        },
        "id": "M7Y1xpd3eKFj",
        "outputId": "2c9a7d77-4438-4ca5-e57b-92e82db3e415"
      },
      "execution_count": null,
      "outputs": [
        {
          "output_type": "display_data",
          "data": {
            "text/plain": [
              "<Figure size 1000x500 with 1 Axes>"
            ],
            "image/png": "[encoded data removed]"
          },
          "metadata": {}
        }
      ]
    },
    {
      "cell_type": "markdown",
      "source": [
        "##**Exercises**\n",
        "---\n",
        "Read each exercise carefully and model the situation in Python.\n",
        "\n",
        "**Note**: Try to solve each situation in a paper employing the rules of probability and concepts covered through the year (e.g., Bayes Theorem).\n",
        "\n",
        "---\n",
        "**1. Monty Hall Problem Simulation**\n",
        "\n",
        "**Description**:\n",
        "\n",
        "You're on a game show with 3 doors: behind one is a car, behind the others, goats. After you choose a door, the host (who knows what's behind them) opens a door with a goat. You're offered to switch or stay.\n",
        "\n",
        "**Question**: Is it better to switch or stay?\n",
        "\n",
        "**Simulation Task**:\n",
        "\n",
        "- Simulate the game 10,000 times.\n",
        "\n",
        "- Count the number of wins when staying vs. switching.\n",
        "\n",
        "- Plot the probability of winning under both strategies.\n",
        "\n",
        "---\n",
        "**2. The Coupon Collector's Problem**\n",
        "\n",
        "**Description**:\n",
        "\n",
        "You want to collect all *n* unique items (e.g., Pokémon cards, cereal toys). On each trial, you receive one at random.\n",
        "\n",
        "**Question**: How many trials are needed (on average) to collect all n items?\n",
        "\n",
        "**Simulation Task**:\n",
        "\n",
        "- Simulate collecting items until all n are obtained.\n",
        "\n",
        "- Repeat the experiment and compute the average number of trials\n",
        "\n",
        "---\n",
        "\n",
        "**3. Boy or Girl Paradox (Conditional Probability)**\n",
        "\n",
        "**Description**:\n",
        "\n",
        "A family has two children. Given that at least one is a boy, what is the probability that both are boys?\n",
        "\n",
        "**Answer**: It's 1/3, not 1/2 — which surprises many!\n",
        "\n",
        "**Simulation Task**:\n",
        "\n",
        "- Simulate 10,000 families with two children.\n",
        "\n",
        "- Count how many have at least one boy.\n",
        "\n",
        "- Of those, count how many have two boys."
      ],
      "metadata": {
        "id": "ABMEK8-ydVfc"
      }
    }
  ]
}