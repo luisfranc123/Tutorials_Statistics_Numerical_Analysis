{
  "nbformat": 4,
  "nbformat_minor": 0,
  "metadata": {
    "colab": {
      "provenance": [],
      "authorship_tag": "ABX9TyOpZfhPFNuHwZQ9yrW0EMKk",
      "include_colab_link": true
    },
    "kernelspec": {
      "name": "python3",
      "display_name": "Python 3"
    },
    "language_info": {
      "name": "python"
    }
  },
  "cells": [
    {
      "cell_type": "markdown",
      "metadata": {
        "id": "view-in-github",
        "colab_type": "text"
      },
      "source": [
        "<a href=\"https://colab.research.google.com/github/luisfranc123/Tutorials_Statistics_Numerical_Analysis/blob/main/Applied_Statistics/Central_Limit_Theorem.ipynb\" target=\"_parent\"><img src=\"https://colab.research.google.com/assets/colab-badge.svg\" alt=\"Open In Colab\"/></a>"
      ]
    },
    {
      "cell_type": "markdown",
      "source": [
        "#**Central Limit Theorem**\n",
        "---"
      ],
      "metadata": {
        "id": "omBbzRUrnYda"
      }
    },
    {
      "cell_type": "markdown",
      "source": [
        "<img src=\"https://upload.wikimedia.org/wikipedia/commons/7/7b/IllustrationCentralTheorem.png\" width=\"700\" height=\"300\">\n",
        "\n"
      ],
      "metadata": {
        "id": "ZjKoDum6nP4H"
      }
    },
    {
      "cell_type": "markdown",
      "source": [
        "**Image taken from**: [CLT](https://www.geeksforgeeks.org/python-central-limit-theorem/)"
      ],
      "metadata": {
        "id": "Oa8YOjb8HMxG"
      }
    },
    {
      "cell_type": "markdown",
      "source": [
        "###**Use of Central Limit Theorem(CLT)**\n",
        "\n",
        "We can use central limit theorem for various purposes in data science project some the key uses are listed below\n",
        "\n",
        "- **Population Parameter Estimation** – We can use CLT to estimate the parameters of the population like population mean or population proportion based on a sampled data.\n",
        "\n",
        "- **Hypothesis testing** –  CLT can be used for various hypothesis assumptions tests as It helps in constructing test statistics, such as the z-test or t-test, by assuming that the sampling distribution of the test statistic is approximately normal.\n",
        "\n",
        "- **Confidence interval** – Confidence interval plays a very important role in defang the range in which the population parameter lies. CLT plays a very crucial role in determining the confidence interval of these population parameter.\n",
        "\n",
        "- **Sampling Techniques** – sampling technique help in collecting representative samples and generalize the findings to the larger population. The CLT supports various sampling techniques used in survey sampling and experimental design.\n",
        "\n",
        "- **Simulation and Monte Carlo Methods** – This methods involve generating random samples from known distributions to approximate the behavior of complex systems or estimate statistical quantities. CLT plays a very key role in the simulation and monte carlo methods."
      ],
      "metadata": {
        "id": "Ayodo5yG9hVr"
      }
    },
    {
      "cell_type": "markdown",
      "source": [
        "###**Central Limit Theorem implementation in Python**\n",
        "---\n",
        "\n",
        "We will generate random numbers from -40 to 40 and and collect their mean in a list. we will iteratively perform his operation for different count of numbers and we will plot their sampling distribution."
      ],
      "metadata": {
        "id": "vVjnmQaN-QtZ"
      }
    },
    {
      "cell_type": "markdown",
      "source": [
        "**1. Import Required Libraries** :\n",
        "\n",
        "First, import the necessary libraries. We’ll use numpy for numerical operations and random sampling, matplotlib for data visualization, and scipy.stats for statistical functions"
      ],
      "metadata": {
        "id": "yk4vm7dJ-Y2Q"
      }
    },
    {
      "cell_type": "code",
      "execution_count": null,
      "metadata": {
        "id": "4dIOs4wKnE7q"
      },
      "outputs": [],
      "source": [
        "import numpy as np\n",
        "import matplotlib.pyplot as plt"
      ]
    },
    {
      "cell_type": "markdown",
      "source": [
        "**2. Generate Population Data** :\n",
        "\n",
        "Generate data from a non-normal distribution to demonstrate CLT. Here, we’ll generate samples from an exponential distribution, which is not normally distributed.\n",
        "\n",
        "**3. Define Sample Size and Number of Samples** :\n",
        "\n",
        "Define the sample size (`sample_size`) and the number of samples (`num_samples`) you want to generate from the population. Larger sample sizes typically show better convergence to a normal distribution.\n",
        "\n",
        "**4. Calculate Sample Means** :\n",
        "\n",
        "Generate multiple samples from the population data, calculate the mean for each sample, and store these sample means.\n",
        "\n",
        "**5. Plot Sample Means Distribution** :\n",
        "\n",
        "Visualize the distribution of sample means and compare it with a normal distribution using a histogram and a density plot.\n",
        "\n",
        "**6. Interpretation** :\n",
        "\n",
        "The histogram demonstrate how the distribution of sample means approaches a normal distribution, regardless of the underlying population distribution. As the sample size (`sample_size`) increases or as more samples (`num_samples`) are taken, the sample means’ distribution more closely resembles a normal distribution, validating the Central Limit Theorem."
      ],
      "metadata": {
        "id": "4_y3x3e-CZXy"
      }
    },
    {
      "cell_type": "code",
      "source": [
        "list = [0, 1, 3, 4]\n",
        "for i in list:\n",
        "  print(i*i)"
      ],
      "metadata": {
        "colab": {
          "base_uri": "https://localhost:8080/"
        },
        "id": "2Hztsg0NSIA_",
        "outputId": "2b7058e7-f96a-4a1d-8e22-cb330d1ba849"
      },
      "execution_count": null,
      "outputs": [
        {
          "output_type": "stream",
          "name": "stdout",
          "text": [
            "0\n",
            "1\n",
            "9\n",
            "16\n"
          ]
        }
      ]
    },
    {
      "cell_type": "code",
      "source": [
        "# number of sample\n",
        "num = [10, 20, 50, 100]\n",
        "# list of sample means\n",
        "means = []\n",
        "\n",
        "# Generating 1, 10, 50, 100 random numbers from -40 to 40\n",
        "# taking their mean and appending it to list means.\n",
        "for j in num:\n",
        "    # Generating seed so that we can get same result\n",
        "    # every time the loop is run...\n",
        "    np.random.seed(1)\n",
        "    x = [np.mean(\n",
        "        np.random.randint(\n",
        "            -40, 40, j)) for _i in range(1000)]\n",
        "    means.append(x)\n",
        "k = 0\n",
        "\n",
        "# plotting all the means in one figure\n",
        "fig, ax = plt.subplots(2, 2, figsize =(8, 8))\n",
        "for i in range(0, 2):\n",
        "    for j in range(0, 2):\n",
        "        # Histogram for each x stored in means\n",
        "        ax[i, j].hist(means[k], 10, density = True)\n",
        "        ax[i, j].set_title(label = num[k])\n",
        "        k = k + 1\n",
        " #plt.show()\n"
      ],
      "metadata": {
        "colab": {
          "base_uri": "https://localhost:8080/",
          "height": 699
        },
        "id": "jZPy4JguDYhY",
        "outputId": "2905ba82-d625-4bb0-b546-126ffebf63b7"
      },
      "execution_count": null,
      "outputs": [
        {
          "output_type": "display_data",
          "data": {
            "text/plain": [
              "<Figure size 800x800 with 4 Axes>"
            ],
            "image/png": "[encoded data removed]"
          },
          "metadata": {}
        }
      ]
    },
    {
      "cell_type": "markdown",
      "source": [
        "It is evident from the graphs that as we keep on increasing the sample size from 1 to 100 the histogram tends to take the shape of a normal distribution."
      ],
      "metadata": {
        "id": "WmVFTo4lD3Sh"
      }
    },
    {
      "cell_type": "markdown",
      "source": [
        "###**Rule of Thumb For Central Limit Theorem**\n",
        "---\n",
        "\n",
        "Generally, the Central Limit Theorem is used when the sample size is fairly big, usually larger than or equal to 30. In some cases even if the sample size is less than 30 central limit theorem still holds but for this the population distribution should be close to normal or symmetric.\n",
        "\n",
        "###**Conclusion**\n",
        "---\n",
        "\n",
        "Central Limit Theorem is a cornerstone of statistical theory, facilitating accurate analysis and interpretation of data across various disciplines. By understanding its principles and applications, researchers and analysts can make informed decisions and draw reliable conclusions from sample data, ensuring robust and effective decision-making in practice."
      ],
      "metadata": {
        "id": "V3r0mzB_Ehxm"
      }
    },
    {
      "cell_type": "markdown",
      "source": [
        "###**What are the three rules of central limit theorem?**\n",
        "\n",
        "The three key implications for  applying the central limit theorem effectively:\n",
        "\n",
        "- *Independence: The random variables being averaged or summed must be independent of each other*.\n",
        "- *Identical Distribution: Each random variable should be identically distributed, meaning they come from the same population or distribution*.\n",
        "- *Sample Size: For the distribution of sample means or sums to approximate a normal distribution, the sample size should be sufficiently large(at least 30).*"
      ],
      "metadata": {
        "id": "YeT1tk0gFOaf"
      }
    },
    {
      "cell_type": "markdown",
      "source": [
        "###**Practice Problems**##\n",
        "---\n",
        "\n",
        "**Problem 1**: Generate a population with a skewed distribution (e.g., log-normal distribution). Calculate the sample means for different sample sizes (e.g., 10, 30, 50) and plot the histograms. Observe how the distribution of sample means changes with sample size.\n",
        "\n",
        "**Problem 2**: Use real-world data (e.g., housing prices) to demonstrate the Central Limit Theorem. Take multiple samples from the dataset, calculate their means, and plot the distribution of these sample means.\n",
        "\n",
        "**Problem 3**: Conduct a simulation to show how the Central Limit Theorem can be used to approximate the probability of certain outcomes in a given dataset. For example, simulate rolling a die multiple times and calculate the distribution of the average outcome."
      ],
      "metadata": {
        "id": "DDN8iybPFgk4"
      }
    },
    {
      "cell_type": "markdown",
      "source": [
        "###**References**\n",
        "---\n",
        "https://www.geeksforgeeks.org/python-central-limit-theorem/"
      ],
      "metadata": {
        "id": "XicAll0CHGwa"
      }
    }
  ]
}