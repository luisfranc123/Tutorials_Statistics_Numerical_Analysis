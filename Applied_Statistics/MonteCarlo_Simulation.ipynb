{
  "nbformat": 4,
  "nbformat_minor": 0,
  "metadata": {
    "colab": {
      "provenance": [],
      "authorship_tag": "ABX9TyO3Uat+aHOJay4JmoAXZ9Ew",
      "include_colab_link": true
    },
    "kernelspec": {
      "name": "python3",
      "display_name": "Python 3"
    },
    "language_info": {
      "name": "python"
    }
  },
  "cells": [
    {
      "cell_type": "markdown",
      "metadata": {
        "id": "view-in-github",
        "colab_type": "text"
      },
      "source": [
        "<a href=\"https://colab.research.google.com/github/luisfranc123/Tutorials_Statistics_Numerical_Analysis/blob/main/Applied_Statistics/MonteCarlo_Simulation.ipynb\" target=\"_parent\"><img src=\"https://colab.research.google.com/assets/colab-badge.svg\" alt=\"Open In Colab\"/></a>"
      ]
    },
    {
      "cell_type": "markdown",
      "source": [
        "##**1. Monte Carlo Simulation**\n",
        "---\n",
        "\n",
        "**Monte Carlo simulation** is a computational technique that uses random sampling to model and analyze complex systems or processes. It is particularly useful for problems with a large number of variables or uncertainties, where deterministic methods are impractical. The core idea is to run a simulation multiple times with different random inputs and then aggregate the results to obtain a statistical estimate of the desired quantity"
      ],
      "metadata": {
        "id": "SvOi5VZpw07E"
      }
    },
    {
      "cell_type": "markdown",
      "source": [
        "<img src=\"https://cdn.prod.website-files.com/6098e41066be8b2b7cb437cd/60f02f320d401a0c0d63abfe_20200228_LAD_Blog_Image_Plan-for-Growth-with-Monte-Carlo-Simulations-01.png\" width=\"700\" height=\"300\">\n",
        "\n",
        "Image taken from: [Ladder-Blog](https://ladder.io/blog/monte-carlo-simulation)\n",
        "\n",
        "**1. Context**: Let's consider the following situation; It's 9:00 AM in the morning when your boss, Todd, comes into the office demanding that you havetwo reports on his desk by end of day. These demands are particularly frustrating to you as you scheduled months ago a met up with your friends and family that's taking place at 6:00 PM.\n",
        "\n",
        "**Key Question**:\n",
        "- What is the probability that you could even finish these two reports in time for the party?\n",
        "- How could you actually even go about computing that probability?"
      ],
      "metadata": {
        "id": "bOHpZ1IlXLaZ"
      }
    },
    {
      "cell_type": "code",
      "source": [
        "# Libraries:\n",
        "import random\n",
        "import numpy as np\n",
        "import matplotlib.pyplot as plt"
      ],
      "metadata": {
        "id": "NZh68Vnvb0kS"
      },
      "execution_count": null,
      "outputs": []
    },
    {
      "cell_type": "code",
      "execution_count": null,
      "metadata": {
        "id": "ZKDOVZ1SwQnL"
      },
      "outputs": [],
      "source": [
        "import numpy as np\n",
        "simulation = 1000000\n",
        "\n",
        "A = np.random.uniform(1, 5, simulation)\n",
        "B = np.random.uniform(2, 6, simulation)\n",
        "\n",
        "duration = A + B"
      ]
    },
    {
      "cell_type": "code",
      "source": [
        "# Let's take a look at the duration (A + B) distribution.\n",
        "duration"
      ],
      "metadata": {
        "colab": {
          "base_uri": "https://localhost:8080/"
        },
        "id": "2I0dbgu3p4Jt",
        "outputId": "673f28f1-2d0e-47f0-9e1e-88ef540303e4"
      },
      "execution_count": null,
      "outputs": [
        {
          "output_type": "execute_result",
          "data": {
            "text/plain": [
              "array([9.37322313, 5.84601592, 8.51101985, ..., 8.83501488, 9.61581086,\n",
              "       8.38570536])"
            ]
          },
          "metadata": {},
          "execution_count": 10
        }
      ]
    },
    {
      "cell_type": "markdown",
      "source": [
        "##**2. Interpret the Results**\n",
        "---"
      ],
      "metadata": {
        "id": "TfOlJBMfw9PG"
      }
    },
    {
      "cell_type": "code",
      "source": [
        "import matplotlib.pyplot as plt\n",
        "plt.figure(figsize = (10, 6))\n",
        "plt.hist(duration, density = True)\n",
        "# Time limit to complete the task\n",
        "plt.axvline(9, color = 'r')\n",
        "plt.show()\n",
        "#print(f\"Probability of finishing both tasks in more than 9 hrs: {prob_9hrs}\")\n",
        "#print(f\"Probability of finishing both tasks in less than 9 hrs: {1 - prob_9hrs}\")"
      ],
      "metadata": {
        "colab": {
          "base_uri": "https://localhost:8080/",
          "height": 558
        },
        "id": "iX4CQTa-w6Mg",
        "outputId": "fdf2ab2d-53f2-45d1-a9dd-fa57c8fe12d6"
      },
      "execution_count": null,
      "outputs": [
        {
          "output_type": "display_data",
          "data": {
            "text/plain": [
              "<Figure size 1000x600 with 1 Axes>"
            ],
            "image/png": "[encoded data removed]"
          },
          "metadata": {}
        },
        {
          "output_type": "stream",
          "name": "stdout",
          "text": [
            "Probability of finishing both tasks in more than 9 hrs: 0.124668\n",
            "Probability of finishing both tasks in less than 9 hrs: 0.875332\n"
          ]
        }
      ]
    },
    {
      "cell_type": "markdown",
      "source": [
        "**2. Coin Flip Example**:\n",
        "\n",
        "The probability of head for a fair coin is 1/2. However, is there any way we can prove it experimentally? In this example, we are going to use the Monte-Carlo method to simulate the coin-flipping iteratively 5000 times to find out why the probability of a head or tail is always 1/2. If we repeat this coin flipping many, many more times, then we can achieve higher accuracy on an exact answer for our probability value.\n",
        "\n",
        "While flipping a coin:\n",
        "\n",
        "$$P(head) = P(Tail) = 1/2$$\n",
        "\n",
        "Next, we are going to prove this formula experimetally using the Monte Carlo Method."
      ],
      "metadata": {
        "id": "i9LWQ_AEa_MM"
      }
    },
    {
      "cell_type": "code",
      "source": [
        "# Coin flip function:\n",
        "# 0 ---> Heads\n",
        "# 1 ---> Tails\n",
        "\n",
        "def coin_flip():\n",
        "  return random.randint(0, 1)"
      ],
      "metadata": {
        "id": "3UbE9QygbxB-"
      },
      "execution_count": null,
      "outputs": []
    },
    {
      "cell_type": "code",
      "source": [
        "# Checking the output of the function:\n",
        "coin_flip()"
      ],
      "metadata": {
        "colab": {
          "base_uri": "https://localhost:8080/"
        },
        "id": "nVuriXzWcdEC",
        "outputId": "06cabeb6-cbbb-4413-dec1-e9676e6b1186"
      },
      "execution_count": null,
      "outputs": [
        {
          "output_type": "execute_result",
          "data": {
            "text/plain": [
              "0"
            ]
          },
          "metadata": {},
          "execution_count": 7
        }
      ]
    },
    {
      "cell_type": "markdown",
      "source": [
        "##**Monte Carlo Simulation**"
      ],
      "metadata": {
        "id": "GKUds76_cnN3"
      }
    },
    {
      "cell_type": "code",
      "source": [
        "# Main function\n",
        "# Monte Carlo Simulation:\n",
        "\n",
        "# Empty list to store the probability values\n",
        "\n",
        "probability = []\n",
        "\n",
        "def monte_carlo(n):\n",
        "  results = 0\n",
        "  for i in range(n):\n",
        "    flip_result = coin_flip()\n",
        "    results = results + flip_result\n",
        "\n",
        "    # Calculating probability value:\n",
        "    prob_value = results/(i + 1)\n",
        "\n",
        "    # Append the probability values to the list:\n",
        "    probability.append(prob_value)\n",
        "\n",
        "    # Plot the results:\n",
        "\n",
        "    plt.axhline(y = 0.5, color = 'r', linestyle = '-')\n",
        "    plt.xlabel(\"Iterations\")\n",
        "    plt.ylabel(\"Probability\")\n",
        "    plt.plot(probability)\n",
        "\n",
        "  return results/n"
      ],
      "metadata": {
        "colab": {
          "base_uri": "https://localhost:8080/",
          "height": 35
        },
        "id": "LqGgVEpJckFm",
        "outputId": "f5dc1aee-c677-4763-9611-5fc592e415b7"
      },
      "execution_count": null,
      "outputs": [
        {
          "output_type": "display_data",
          "data": {
            "text/plain": [
              "<Figure size 1000x600 with 0 Axes>"
            ]
          },
          "metadata": {}
        }
      ]
    },
    {
      "cell_type": "code",
      "source": [
        "# Calling the function:\n",
        "Prob = monte_carlo(1000)\n",
        "print(f\"Final Probability after the simulation: {Prob}\")"
      ],
      "metadata": {
        "colab": {
          "base_uri": "https://localhost:8080/",
          "height": 467
        },
        "id": "i6zE8kMId2Jf",
        "outputId": "fe2ada4e-6101-466f-87db-5ca27d107269"
      },
      "execution_count": null,
      "outputs": [
        {
          "output_type": "stream",
          "name": "stdout",
          "text": [
            "Final Probability after the simulation: 0.505\n"
          ]
        },
        {
          "output_type": "display_data",
          "data": {
            "text/plain": [
              "<Figure size 640x480 with 1 Axes>"
            ],
            "image/png": "[encoded data removed]"
          },
          "metadata": {}
        }
      ]
    },
    {
      "cell_type": "markdown",
      "source": [
        "As shown in the plot, we show that after 1000 iterations, the probability of getting a tail is **0.505**."
      ],
      "metadata": {
        "id": "hwQYORUQ_IEz"
      }
    },
    {
      "cell_type": "markdown",
      "source": [
        "**2. Monty Hall Problem**:\n",
        "\n",
        "Suppose you are on a game show, and you have the choice of picking one of three doors: Behind one door is a car; behind the other doors, goats. You pick a door, let's say door 1, and the host who knows what's behind the doors, opens another door, say door 3, which has a goat. The host then asks you: do you want to stick with your choice or choose another door?\n",
        "\n",
        "- Is it to your advantage to switch your choice of door?\n",
        "\n",
        "**Based on probability, it turns out it is to our advantage to switch the doors. Let's find out how:**\n",
        "\n",
        "Initially, for all three gates, the probability (P) of getting the car is the same ($P=1/3$).\n",
        "\n",
        "![Monty Hall Game](https://miro.medium.com/v2/resize:fit:720/format:webp/0*ovOex55tldMX3WEI.png)\n",
        "\n"
      ],
      "metadata": {
        "id": "rScsPaiJ_TNI"
      }
    },
    {
      "cell_type": "markdown",
      "source": [
        "Now assume that the contestant chooses door 1. Next, the host opens the third door, which has a goat. Next, the host asks the contestant if he/she wants to switch the doors?\n",
        "\n",
        "We will see why it is more advantageous to switch the door:\n",
        "\n",
        "![Monty Hall Problem](https://miro.medium.com/v2/resize:fit:720/format:webp/0*bHbVj17ckJHzoUai.png)\n",
        "\n",
        "In the previous figure, we can see that after the host opens door 3, the probability of the last two doors of having a car increases to 2/3. Hence, it is more advantegeous to switch the doors.\n",
        "\n",
        "\n",
        "Now we are going to use **Monte Carlo Method** to perform this test case many times and find out its probabilities in an experimental way.  \n",
        "\n"
      ],
      "metadata": {
        "id": "HqF5xFp7C_mS"
      }
    },
    {
      "cell_type": "code",
      "source": [
        "# Initialize some data:\n",
        "# 1 - Car\n",
        "# 2 - Goats\n",
        "\n",
        "doors = [\"goat\", \"goat\", \"car\"]\n",
        "\n",
        "# Empty lists to store probability values:\n",
        "switch_win_prob = []\n",
        "stick_win_prob = []\n"
      ],
      "metadata": {
        "id": "dACWBOcJEMI1"
      },
      "execution_count": null,
      "outputs": []
    },
    {
      "cell_type": "code",
      "source": [
        "# Main Function\n",
        "# Monte Carlo Simulation:\n",
        "\n",
        "def monte_carlo_monty(n):\n",
        "\n",
        "  #Calculating switch and stick wins:\n",
        "  switch_wins = 0\n",
        "  stick_wins = 0\n",
        "\n",
        "  for i in range(n):\n",
        "\n",
        "    # Randomly placing the car and goats behind the three doors:\n",
        "    random.shuffle(doors)\n",
        "\n",
        "    # Contestant's choice:\n",
        "    k = random.randrange(2)\n",
        "\n",
        "    # If the contestant doesn't get the car:\n",
        "    if doors[k] != 'car':\n",
        "      switch_wins +=1\n",
        "\n",
        "    # If the contestant get the car:\n",
        "    else:\n",
        "      stick_wins += 1\n",
        "\n",
        "    # Updating the list values:\n",
        "    switch_win_prob.append(switch_wins/(i + 1))\n",
        "    stick_win_prob.append(stick_wins/(i + 1))\n",
        "\n",
        "    # Plotting the data:\n",
        "    plt.plot(switch_win_prob)\n",
        "    plt.plot(stick_win_prob)\n",
        "  print(f\"Winning probability if you always switch: {switch_win_prob[-1]}\")\n",
        "  print(f\"Winning probability if you stick to your original choice: {stick_win_prob[-1]}\")\n"
      ],
      "metadata": {
        "id": "oxZgKaLQGPFO"
      },
      "execution_count": null,
      "outputs": []
    },
    {
      "cell_type": "code",
      "source": [
        "# Calling the main function:\n",
        "plt.axhline(y = 2/3, color = 'r', linestyle = '-')\n",
        "plt.axhline(y = 1/3, color = 'g', linestyle = '-')\n",
        "monte_carlo_monty(1000)"
      ],
      "metadata": {
        "colab": {
          "base_uri": "https://localhost:8080/",
          "height": 466
        },
        "id": "R_5btiz6I58P",
        "outputId": "8f702342-4d36-4bce-b0c6-e0cbf0eabda4"
      },
      "execution_count": null,
      "outputs": [
        {
          "output_type": "stream",
          "name": "stdout",
          "text": [
            "Winning probability if you always switch: 0.662\n",
            "Winning probability if you stick to your original choice: 0.338\n"
          ]
        },
        {
          "output_type": "display_data",
          "data": {
            "text/plain": [
              "<Figure size 640x480 with 1 Axes>"
            ],
            "image/png": "[encoded data removed]"
          },
          "metadata": {}
        }
      ]
    },
    {
      "cell_type": "markdown",
      "source": [
        "In the previous plot, we show that after 1000 (n) iterations , the winning probability if we switch the door is 0.669. Therefore, we are confident that it works to our advantage to switch the door in this example."
      ],
      "metadata": {
        "id": "x8s7Og6vKYT7"
      }
    }
  ]
}