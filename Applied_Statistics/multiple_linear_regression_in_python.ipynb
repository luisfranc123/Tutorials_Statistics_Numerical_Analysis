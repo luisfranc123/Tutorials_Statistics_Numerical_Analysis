{
  "cells": [
    {
      "cell_type": "markdown",
      "metadata": {
        "id": "view-in-github",
        "colab_type": "text"
      },
      "source": [
        "<a href=\"https://colab.research.google.com/github/luisfranc123/Tutorials_Statistics_Numerical_Analysis/blob/main/Applied_Statistics/multiple_linear_regression_in_python.ipynb\" target=\"_parent\"><img src=\"https://colab.research.google.com/assets/colab-badge.svg\" alt=\"Open In Colab\"/></a>"
      ]
    },
    {
      "cell_type": "markdown",
      "id": "37769685",
      "metadata": {
        "papermill": {
          "duration": 0.007535,
          "end_time": "2022-12-04T13:23:01.492260",
          "exception": false,
          "start_time": "2022-12-04T13:23:01.484725",
          "status": "completed"
        },
        "tags": [],
        "id": "37769685"
      },
      "source": [
        "# **Linear Regression:**\n",
        "\n",
        "Linear regression is a statistical method used to analyze the relationship between a dependent variable and one or more independent variables. In linear regression, the relationship between the variables is modeled using a linear equation. This equation can be used to predict the value of the dependent variable based on the values of the independent variables.\n",
        "\n",
        "There are several types of linear regression, including simple linear regression, multiple linear regression, and polynomial regression.\n",
        "\n",
        "* **Simple linear regression:** This type of linear regression models the relationship between a dependent variable and a single independent variable. It is used to identify the strength of the relationship between the two variables and to predict the value of the dependent variable based on the value of the independent variable.\n",
        "\n",
        "* **Multiple linear regression:** This type of linear regression models the relationship between a dependent variable and two or more independent variables. It is used to identify the strength of the relationship between the variables and to predict the value of the dependent variable based on the values of the independent variables.\n",
        "\n",
        "* **Polynomial regression:** This type of linear regression is used to model relationships between the dependent and independent variables that are not linear. It can be used to fit a curve to the data and make predictions based on the curve.\n",
        "\n",
        "You can find my project about simple linear regression [here](http://www.kaggle.com/code/emineyetm/simple-linear-regression-using-python).\n",
        "\n",
        "*Multiple regression* is a statistical method used to model the relationship between multiple independent variables and a dependent variable. In Python, this can be performed using the sklearn library. To use multiple regression with this library, you will first need to create a LinearRegression object, then train the model on your data using the fit() method. Once the model is trained, you can use the predict() method to make predictions on new data.\n",
        "\n",
        "* Here : Y = b0 + b1 * x1 + b2 * x2 + b3 * x3 + …… bn * xn\n",
        "* Y = Dependent variable and x1, x2, x3, …… xn = multiple independent variables"
      ]
    },
    {
      "cell_type": "markdown",
      "id": "75839221",
      "metadata": {
        "papermill": {
          "duration": 0.00755,
          "end_time": "2022-12-04T13:23:01.507375",
          "exception": false,
          "start_time": "2022-12-04T13:23:01.499825",
          "status": "completed"
        },
        "tags": [],
        "id": "75839221"
      },
      "source": [
        "**Assumption of Regression Model :**\n",
        "* Linearity: The relationship between dependent and independent variables should be linear.\n",
        "* Homoscedasticity: Constant variance of the errors should be maintained.\n",
        "* Multivariate normality: Multiple Regression assumes that the residuals are normally distributed.\n",
        "* Lack of Multicollinearity: It is assumed that there is little or no multicollinearity in the data."
      ]
    },
    {
      "cell_type": "code",
      "execution_count": null,
      "id": "f2a86fe3",
      "metadata": {
        "execution": {
          "iopub.execute_input": "2022-12-04T13:23:01.524315Z",
          "iopub.status.busy": "2022-12-04T13:23:01.523836Z",
          "iopub.status.idle": "2022-12-04T13:23:03.148961Z",
          "shell.execute_reply": "2022-12-04T13:23:03.147765Z"
        },
        "papermill": {
          "duration": 1.636975,
          "end_time": "2022-12-04T13:23:03.152005",
          "exception": false,
          "start_time": "2022-12-04T13:23:01.515030",
          "status": "completed"
        },
        "tags": [],
        "id": "f2a86fe3"
      },
      "outputs": [],
      "source": [
        "# Main Libraries for Numerical Analaysis and data processing\n",
        "#Importing the libraries\n",
        "import pandas as pd # data processing, CSV file I/O (e.g. pd.read_csv)\n",
        "import numpy as np # linear algebra\n",
        "import matplotlib.pyplot as plt\n",
        "import seaborn as sns\n",
        "\n",
        "# import warnings\n",
        "import warnings\n",
        "warnings.filterwarnings(\"ignore\")\n",
        "\n",
        "# We will use some methods from the sklearn module\n",
        "from sklearn import linear_model\n",
        "from sklearn.linear_model import LinearRegression\n",
        "from sklearn import metrics\n",
        "from sklearn.metrics import mean_squared_error, mean_absolute_error\n",
        "from sklearn.model_selection import train_test_split, cross_val_score"
      ]
    },
    {
      "cell_type": "markdown",
      "source": [
        "###**Loading Dataset**"
      ],
      "metadata": {
        "id": "V93uPfeePxnY"
      },
      "id": "V93uPfeePxnY"
    },
    {
      "cell_type": "code",
      "source": [
        "!mkdir -p ~/.kaggle\n",
        "!cp kaggle(1).json ~/.kaggle/"
      ],
      "metadata": {
        "colab": {
          "base_uri": "https://localhost:8080/"
        },
        "id": "fRShL1WgP1np",
        "outputId": "e097e670-0287-4d66-9919-4e70b2da7bc6"
      },
      "id": "fRShL1WgP1np",
      "execution_count": null,
      "outputs": [
        {
          "output_type": "stream",
          "name": "stdout",
          "text": [
            "/bin/bash: -c: line 1: syntax error near unexpected token `('\n",
            "/bin/bash: -c: line 1: `cp kaggle(1).json ~/.kaggle/'\n"
          ]
        }
      ]
    },
    {
      "cell_type": "code",
      "source": [
        "!kaggle datasets download -d emineyetm/cardataset"
      ],
      "metadata": {
        "colab": {
          "base_uri": "https://localhost:8080/"
        },
        "id": "E-TxCfjTQFLI",
        "outputId": "9eeb9603-339a-4ee6-e9a1-511ca5fa1c76"
      },
      "id": "E-TxCfjTQFLI",
      "execution_count": null,
      "outputs": [
        {
          "output_type": "stream",
          "name": "stdout",
          "text": [
            "Dataset URL: https://www.kaggle.com/datasets/emineyetm/cardataset\n",
            "License(s): unknown\n",
            "Downloading cardataset.zip to /content\n",
            "  0% 0.00/628 [00:00<?, ?B/s]\n",
            "100% 628/628 [00:00<00:00, 254kB/s]\n"
          ]
        }
      ]
    },
    {
      "cell_type": "code",
      "source": [
        "import zipfile\n",
        "zip_ref = zipfile.ZipFile('/content/cardataset.zip', 'r')\n",
        "zip_ref.extractall('/content')\n",
        "zip_ref.close()"
      ],
      "metadata": {
        "id": "-XpxI_CeT8tU"
      },
      "id": "-XpxI_CeT8tU",
      "execution_count": null,
      "outputs": []
    },
    {
      "cell_type": "code",
      "execution_count": null,
      "id": "b07233b1",
      "metadata": {
        "execution": {
          "iopub.execute_input": "2022-12-04T13:23:03.168944Z",
          "iopub.status.busy": "2022-12-04T13:23:03.168433Z",
          "iopub.status.idle": "2022-12-04T13:23:03.185073Z",
          "shell.execute_reply": "2022-12-04T13:23:03.183755Z"
        },
        "papermill": {
          "duration": 0.028445,
          "end_time": "2022-12-04T13:23:03.188061",
          "exception": false,
          "start_time": "2022-12-04T13:23:03.159616",
          "status": "completed"
        },
        "tags": [],
        "id": "b07233b1"
      },
      "outputs": [],
      "source": [
        "# Reading the Dataset\n",
        "path_loc = '/content/data.csv'\n",
        "df = pd.read_csv(path_loc)"
      ]
    },
    {
      "cell_type": "code",
      "execution_count": null,
      "id": "418dbb4b",
      "metadata": {
        "execution": {
          "iopub.execute_input": "2022-12-04T13:23:03.206710Z",
          "iopub.status.busy": "2022-12-04T13:23:03.206241Z",
          "iopub.status.idle": "2022-12-04T13:23:03.230080Z",
          "shell.execute_reply": "2022-12-04T13:23:03.228635Z"
        },
        "papermill": {
          "duration": 0.035582,
          "end_time": "2022-12-04T13:23:03.232843",
          "exception": false,
          "start_time": "2022-12-04T13:23:03.197261",
          "status": "completed"
        },
        "tags": [],
        "id": "418dbb4b",
        "outputId": "9c67d44e-8518-47bd-ee0a-368c939b8ce3",
        "colab": {
          "base_uri": "https://localhost:8080/",
          "height": 206
        }
      },
      "outputs": [
        {
          "output_type": "execute_result",
          "data": {
            "text/plain": [
              "          Car       Model  Volume  Weight  CO2\n",
              "0      Toyoty        Aygo    1000     790   99\n",
              "1  Mitsubishi  Space Star    1200    1160   95\n",
              "2       Skoda      Citigo    1000     929   95\n",
              "3        Fiat         500     900     865   90\n",
              "4        Mini      Cooper    1500    1140  105"
            ],
            "text/html": [
              "\n",
              "  <div id=\"df-c5187818-55b2-41ae-bc5f-032c40ca0a16\" class=\"colab-df-container\">\n",
              "    <div>\n",
              "<style scoped>\n",
              "    .dataframe tbody tr th:only-of-type {\n",
              "        vertical-align: middle;\n",
              "    }\n",
              "\n",
              "    .dataframe tbody tr th {\n",
              "        vertical-align: top;\n",
              "    }\n",
              "\n",
              "    .dataframe thead th {\n",
              "        text-align: right;\n",
              "    }\n",
              "</style>\n",
              "<table border=\"1\" class=\"dataframe\">\n",
              "  <thead>\n",
              "    <tr style=\"text-align: right;\">\n",
              "      <th></th>\n",
              "      <th>Car</th>\n",
              "      <th>Model</th>\n",
              "      <th>Volume</th>\n",
              "      <th>Weight</th>\n",
              "      <th>CO2</th>\n",
              "    </tr>\n",
              "  </thead>\n",
              "  <tbody>\n",
              "    <tr>\n",
              "      <th>0</th>\n",
              "      <td>Toyoty</td>\n",
              "      <td>Aygo</td>\n",
              "      <td>1000</td>\n",
              "      <td>790</td>\n",
              "      <td>99</td>\n",
              "    </tr>\n",
              "    <tr>\n",
              "      <th>1</th>\n",
              "      <td>Mitsubishi</td>\n",
              "      <td>Space Star</td>\n",
              "      <td>1200</td>\n",
              "      <td>1160</td>\n",
              "      <td>95</td>\n",
              "    </tr>\n",
              "    <tr>\n",
              "      <th>2</th>\n",
              "      <td>Skoda</td>\n",
              "      <td>Citigo</td>\n",
              "      <td>1000</td>\n",
              "      <td>929</td>\n",
              "      <td>95</td>\n",
              "    </tr>\n",
              "    <tr>\n",
              "      <th>3</th>\n",
              "      <td>Fiat</td>\n",
              "      <td>500</td>\n",
              "      <td>900</td>\n",
              "      <td>865</td>\n",
              "      <td>90</td>\n",
              "    </tr>\n",
              "    <tr>\n",
              "      <th>4</th>\n",
              "      <td>Mini</td>\n",
              "      <td>Cooper</td>\n",
              "      <td>1500</td>\n",
              "      <td>1140</td>\n",
              "      <td>105</td>\n",
              "    </tr>\n",
              "  </tbody>\n",
              "</table>\n",
              "</div>\n",
              "    <div class=\"colab-df-buttons\">\n",
              "\n",
              "  <div class=\"colab-df-container\">\n",
              "    <button class=\"colab-df-convert\" onclick=\"convertToInteractive('df-c5187818-55b2-41ae-bc5f-032c40ca0a16')\"\n",
              "            title=\"Convert this dataframe to an interactive table.\"\n",
              "            style=\"display:none;\">\n",
              "\n",
              "  <svg xmlns=\"http://www.w3.org/2000/svg\" height=\"24px\" viewBox=\"0 -960 960 960\">\n",
              "    <path d=\"M120-120v-720h720v720H120Zm60-500h600v-160H180v160Zm220 220h160v-160H400v160Zm0 220h160v-160H400v160ZM180-400h160v-160H180v160Zm440 0h160v-160H620v160ZM180-180h160v-160H180v160Zm440 0h160v-160H620v160Z\"/>\n",
              "  </svg>\n",
              "    </button>\n",
              "\n",
              "  <style>\n",
              "    .colab-df-container {\n",
              "      display:flex;\n",
              "      gap: 12px;\n",
              "    }\n",
              "\n",
              "    .colab-df-convert {\n",
              "      background-color: #E8F0FE;\n",
              "      border: none;\n",
              "      border-radius: 50%;\n",
              "      cursor: pointer;\n",
              "      display: none;\n",
              "      fill: #1967D2;\n",
              "      height: 32px;\n",
              "      padding: 0 0 0 0;\n",
              "      width: 32px;\n",
              "    }\n",
              "\n",
              "    .colab-df-convert:hover {\n",
              "      background-color: #E2EBFA;\n",
              "      box-shadow: 0px 1px 2px rgba(60, 64, 67, 0.3), 0px 1px 3px 1px rgba(60, 64, 67, 0.15);\n",
              "      fill: #174EA6;\n",
              "    }\n",
              "\n",
              "    .colab-df-buttons div {\n",
              "      margin-bottom: 4px;\n",
              "    }\n",
              "\n",
              "    [theme=dark] .colab-df-convert {\n",
              "      background-color: #3B4455;\n",
              "      fill: #D2E3FC;\n",
              "    }\n",
              "\n",
              "    [theme=dark] .colab-df-convert:hover {\n",
              "      background-color: #434B5C;\n",
              "      box-shadow: 0px 1px 3px 1px rgba(0, 0, 0, 0.15);\n",
              "      filter: drop-shadow(0px 1px 2px rgba(0, 0, 0, 0.3));\n",
              "      fill: #FFFFFF;\n",
              "    }\n",
              "  </style>\n",
              "\n",
              "    <script>\n",
              "      const buttonEl =\n",
              "        document.querySelector('#df-c5187818-55b2-41ae-bc5f-032c40ca0a16 button.colab-df-convert');\n",
              "      buttonEl.style.display =\n",
              "        google.colab.kernel.accessAllowed ? 'block' : 'none';\n",
              "\n",
              "      async function convertToInteractive(key) {\n",
              "        const element = document.querySelector('#df-c5187818-55b2-41ae-bc5f-032c40ca0a16');\n",
              "        const dataTable =\n",
              "          await google.colab.kernel.invokeFunction('convertToInteractive',\n",
              "                                                    [key], {});\n",
              "        if (!dataTable) return;\n",
              "\n",
              "        const docLinkHtml = 'Like what you see? Visit the ' +\n",
              "          '<a target=\"_blank\" href=https://colab.research.google.com/notebooks/data_table.ipynb>data table notebook</a>'\n",
              "          + ' to learn more about interactive tables.';\n",
              "        element.innerHTML = '';\n",
              "        dataTable['output_type'] = 'display_data';\n",
              "        await google.colab.output.renderOutput(dataTable, element);\n",
              "        const docLink = document.createElement('div');\n",
              "        docLink.innerHTML = docLinkHtml;\n",
              "        element.appendChild(docLink);\n",
              "      }\n",
              "    </script>\n",
              "  </div>\n",
              "\n",
              "\n",
              "<div id=\"df-d912d765-2bcf-4c60-bf32-911c6c0975c1\">\n",
              "  <button class=\"colab-df-quickchart\" onclick=\"quickchart('df-d912d765-2bcf-4c60-bf32-911c6c0975c1')\"\n",
              "            title=\"Suggest charts\"\n",
              "            style=\"display:none;\">\n",
              "\n",
              "<svg xmlns=\"http://www.w3.org/2000/svg\" height=\"24px\"viewBox=\"0 0 24 24\"\n",
              "     width=\"24px\">\n",
              "    <g>\n",
              "        <path d=\"M19 3H5c-1.1 0-2 .9-2 2v14c0 1.1.9 2 2 2h14c1.1 0 2-.9 2-2V5c0-1.1-.9-2-2-2zM9 17H7v-7h2v7zm4 0h-2V7h2v10zm4 0h-2v-4h2v4z\"/>\n",
              "    </g>\n",
              "</svg>\n",
              "  </button>\n",
              "\n",
              "<style>\n",
              "  .colab-df-quickchart {\n",
              "      --bg-color: #E8F0FE;\n",
              "      --fill-color: #1967D2;\n",
              "      --hover-bg-color: #E2EBFA;\n",
              "      --hover-fill-color: #174EA6;\n",
              "      --disabled-fill-color: #AAA;\n",
              "      --disabled-bg-color: #DDD;\n",
              "  }\n",
              "\n",
              "  [theme=dark] .colab-df-quickchart {\n",
              "      --bg-color: #3B4455;\n",
              "      --fill-color: #D2E3FC;\n",
              "      --hover-bg-color: #434B5C;\n",
              "      --hover-fill-color: #FFFFFF;\n",
              "      --disabled-bg-color: #3B4455;\n",
              "      --disabled-fill-color: #666;\n",
              "  }\n",
              "\n",
              "  .colab-df-quickchart {\n",
              "    background-color: var(--bg-color);\n",
              "    border: none;\n",
              "    border-radius: 50%;\n",
              "    cursor: pointer;\n",
              "    display: none;\n",
              "    fill: var(--fill-color);\n",
              "    height: 32px;\n",
              "    padding: 0;\n",
              "    width: 32px;\n",
              "  }\n",
              "\n",
              "  .colab-df-quickchart:hover {\n",
              "    background-color: var(--hover-bg-color);\n",
              "    box-shadow: 0 1px 2px rgba(60, 64, 67, 0.3), 0 1px 3px 1px rgba(60, 64, 67, 0.15);\n",
              "    fill: var(--button-hover-fill-color);\n",
              "  }\n",
              "\n",
              "  .colab-df-quickchart-complete:disabled,\n",
              "  .colab-df-quickchart-complete:disabled:hover {\n",
              "    background-color: var(--disabled-bg-color);\n",
              "    fill: var(--disabled-fill-color);\n",
              "    box-shadow: none;\n",
              "  }\n",
              "\n",
              "  .colab-df-spinner {\n",
              "    border: 2px solid var(--fill-color);\n",
              "    border-color: transparent;\n",
              "    border-bottom-color: var(--fill-color);\n",
              "    animation:\n",
              "      spin 1s steps(1) infinite;\n",
              "  }\n",
              "\n",
              "  @keyframes spin {\n",
              "    0% {\n",
              "      border-color: transparent;\n",
              "      border-bottom-color: var(--fill-color);\n",
              "      border-left-color: var(--fill-color);\n",
              "    }\n",
              "    20% {\n",
              "      border-color: transparent;\n",
              "      border-left-color: var(--fill-color);\n",
              "      border-top-color: var(--fill-color);\n",
              "    }\n",
              "    30% {\n",
              "      border-color: transparent;\n",
              "      border-left-color: var(--fill-color);\n",
              "      border-top-color: var(--fill-color);\n",
              "      border-right-color: var(--fill-color);\n",
              "    }\n",
              "    40% {\n",
              "      border-color: transparent;\n",
              "      border-right-color: var(--fill-color);\n",
              "      border-top-color: var(--fill-color);\n",
              "    }\n",
              "    60% {\n",
              "      border-color: transparent;\n",
              "      border-right-color: var(--fill-color);\n",
              "    }\n",
              "    80% {\n",
              "      border-color: transparent;\n",
              "      border-right-color: var(--fill-color);\n",
              "      border-bottom-color: var(--fill-color);\n",
              "    }\n",
              "    90% {\n",
              "      border-color: transparent;\n",
              "      border-bottom-color: var(--fill-color);\n",
              "    }\n",
              "  }\n",
              "</style>\n",
              "\n",
              "  <script>\n",
              "    async function quickchart(key) {\n",
              "      const quickchartButtonEl =\n",
              "        document.querySelector('#' + key + ' button');\n",
              "      quickchartButtonEl.disabled = true;  // To prevent multiple clicks.\n",
              "      quickchartButtonEl.classList.add('colab-df-spinner');\n",
              "      try {\n",
              "        const charts = await google.colab.kernel.invokeFunction(\n",
              "            'suggestCharts', [key], {});\n",
              "      } catch (error) {\n",
              "        console.error('Error during call to suggestCharts:', error);\n",
              "      }\n",
              "      quickchartButtonEl.classList.remove('colab-df-spinner');\n",
              "      quickchartButtonEl.classList.add('colab-df-quickchart-complete');\n",
              "    }\n",
              "    (() => {\n",
              "      let quickchartButtonEl =\n",
              "        document.querySelector('#df-d912d765-2bcf-4c60-bf32-911c6c0975c1 button');\n",
              "      quickchartButtonEl.style.display =\n",
              "        google.colab.kernel.accessAllowed ? 'block' : 'none';\n",
              "    })();\n",
              "  </script>\n",
              "</div>\n",
              "\n",
              "    </div>\n",
              "  </div>\n"
            ],
            "application/vnd.google.colaboratory.intrinsic+json": {
              "type": "dataframe",
              "variable_name": "df",
              "summary": "{\n  \"name\": \"df\",\n  \"rows\": 36,\n  \"fields\": [\n    {\n      \"column\": \"Car\",\n      \"properties\": {\n        \"dtype\": \"category\",\n        \"num_unique_values\": 17,\n        \"samples\": [\n          \"Toyoty\",\n          \"Mitsubishi\",\n          \"VW\"\n        ],\n        \"semantic_type\": \"\",\n        \"description\": \"\"\n      }\n    },\n    {\n      \"column\": \"Model\",\n      \"properties\": {\n        \"dtype\": \"string\",\n        \"num_unique_values\": 35,\n        \"samples\": [\n          \"A6\",\n          \"I30\",\n          \"CLA\"\n        ],\n        \"semantic_type\": \"\",\n        \"description\": \"\"\n      }\n    },\n    {\n      \"column\": \"Volume\",\n      \"properties\": {\n        \"dtype\": \"number\",\n        \"std\": 388,\n        \"min\": 900,\n        \"max\": 2500,\n        \"num_unique_values\": 12,\n        \"samples\": [\n          2100,\n          2000,\n          1000\n        ],\n        \"semantic_type\": \"\",\n        \"description\": \"\"\n      }\n    },\n    {\n      \"column\": \"Weight\",\n      \"properties\": {\n        \"dtype\": \"number\",\n        \"std\": 242,\n        \"min\": 790,\n        \"max\": 1746,\n        \"num_unique_values\": 31,\n        \"samples\": [\n          1235,\n          1119,\n          1523\n        ],\n        \"semantic_type\": \"\",\n        \"description\": \"\"\n      }\n    },\n    {\n      \"column\": \"CO2\",\n      \"properties\": {\n        \"dtype\": \"number\",\n        \"std\": 7,\n        \"min\": 90,\n        \"max\": 120,\n        \"num_unique_values\": 17,\n        \"samples\": [\n          99,\n          95,\n          98\n        ],\n        \"semantic_type\": \"\",\n        \"description\": \"\"\n      }\n    }\n  ]\n}"
            }
          },
          "metadata": {},
          "execution_count": 6
        }
      ],
      "source": [
        "df.head()"
      ]
    },
    {
      "cell_type": "code",
      "source": [
        "df.info()"
      ],
      "metadata": {
        "colab": {
          "base_uri": "https://localhost:8080/"
        },
        "id": "vW8nHRZahQ5A",
        "outputId": "92249f52-b298-4df2-e6a8-c7dcaebc2f87"
      },
      "id": "vW8nHRZahQ5A",
      "execution_count": null,
      "outputs": [
        {
          "output_type": "stream",
          "name": "stdout",
          "text": [
            "<class 'pandas.core.frame.DataFrame'>\n",
            "RangeIndex: 36 entries, 0 to 35\n",
            "Data columns (total 5 columns):\n",
            " #   Column  Non-Null Count  Dtype \n",
            "---  ------  --------------  ----- \n",
            " 0   Car     36 non-null     object\n",
            " 1   Model   36 non-null     object\n",
            " 2   Volume  36 non-null     int64 \n",
            " 3   Weight  36 non-null     int64 \n",
            " 4   CO2     36 non-null     int64 \n",
            "dtypes: int64(3), object(2)\n",
            "memory usage: 1.5+ KB\n"
          ]
        }
      ]
    },
    {
      "cell_type": "code",
      "execution_count": null,
      "id": "e83999e0",
      "metadata": {
        "execution": {
          "iopub.execute_input": "2022-12-04T13:23:03.250446Z",
          "iopub.status.busy": "2022-12-04T13:23:03.250036Z",
          "iopub.status.idle": "2022-12-04T13:23:03.257160Z",
          "shell.execute_reply": "2022-12-04T13:23:03.256062Z"
        },
        "papermill": {
          "duration": 0.018754,
          "end_time": "2022-12-04T13:23:03.259451",
          "exception": false,
          "start_time": "2022-12-04T13:23:03.240697",
          "status": "completed"
        },
        "tags": [],
        "id": "e83999e0",
        "outputId": "cf534441-f10a-4b10-f4af-fc50a8e6d1e3",
        "colab": {
          "base_uri": "https://localhost:8080/"
        }
      },
      "outputs": [
        {
          "output_type": "execute_result",
          "data": {
            "text/plain": [
              "(36, 5)"
            ]
          },
          "metadata": {},
          "execution_count": 8
        }
      ],
      "source": [
        "df.shape"
      ]
    },
    {
      "cell_type": "code",
      "source": [
        "df.columns"
      ],
      "metadata": {
        "colab": {
          "base_uri": "https://localhost:8080/"
        },
        "id": "IK9fLbrzhZzJ",
        "outputId": "769ee0f8-b65e-4783-e93c-6de4469a4be9"
      },
      "id": "IK9fLbrzhZzJ",
      "execution_count": null,
      "outputs": [
        {
          "output_type": "execute_result",
          "data": {
            "text/plain": [
              "Index(['Car', 'Model', 'Volume', 'Weight', 'CO2'], dtype='object')"
            ]
          },
          "metadata": {},
          "execution_count": 9
        }
      ]
    },
    {
      "cell_type": "code",
      "execution_count": null,
      "id": "0a426eb0",
      "metadata": {
        "execution": {
          "iopub.execute_input": "2022-12-04T13:23:03.277417Z",
          "iopub.status.busy": "2022-12-04T13:23:03.276947Z",
          "iopub.status.idle": "2022-12-04T13:23:03.292836Z",
          "shell.execute_reply": "2022-12-04T13:23:03.291389Z"
        },
        "papermill": {
          "duration": 0.028852,
          "end_time": "2022-12-04T13:23:03.296532",
          "exception": false,
          "start_time": "2022-12-04T13:23:03.267680",
          "status": "completed"
        },
        "tags": [],
        "id": "0a426eb0",
        "outputId": "a4d2af80-f5ff-4c1e-fd25-a9b560173e9c",
        "colab": {
          "base_uri": "https://localhost:8080/"
        }
      },
      "outputs": [
        {
          "output_type": "stream",
          "name": "stdout",
          "text": [
            "        Volume  Weight    CO2\n",
            "Volume   1.000   0.754  0.592\n",
            "Weight   0.754   1.000  0.552\n",
            "CO2      0.592   0.552  1.000\n"
          ]
        }
      ],
      "source": [
        "num_columns = ['Volume', 'Weight', 'CO2']\n",
        "print(df[num_columns].corr().round(3))"
      ]
    },
    {
      "cell_type": "code",
      "execution_count": null,
      "id": "38cf205a",
      "metadata": {
        "execution": {
          "iopub.execute_input": "2022-12-04T13:23:03.315568Z",
          "iopub.status.busy": "2022-12-04T13:23:03.314901Z",
          "iopub.status.idle": "2022-12-04T13:23:03.342291Z",
          "shell.execute_reply": "2022-12-04T13:23:03.341218Z"
        },
        "papermill": {
          "duration": 0.039766,
          "end_time": "2022-12-04T13:23:03.344972",
          "exception": false,
          "start_time": "2022-12-04T13:23:03.305206",
          "status": "completed"
        },
        "tags": [],
        "id": "38cf205a",
        "outputId": "0ab064a3-38a2-49e2-e7a6-4307d6e1f598",
        "colab": {
          "base_uri": "https://localhost:8080/"
        }
      },
      "outputs": [
        {
          "output_type": "stream",
          "name": "stdout",
          "text": [
            "         Volume    Weight      CO2\n",
            "count    36.000    36.000   36.000\n",
            "mean   1611.111  1292.278  102.028\n",
            "std     388.975   242.124    7.455\n",
            "min     900.000   790.000   90.000\n",
            "25%    1475.000  1117.250   97.750\n",
            "50%    1600.000  1329.000   99.000\n",
            "75%    2000.000  1418.250  105.000\n",
            "max    2500.000  1746.000  120.000\n"
          ]
        }
      ],
      "source": [
        "print(df.describe().round(3))"
      ]
    },
    {
      "cell_type": "markdown",
      "id": "251e971c",
      "metadata": {
        "papermill": {
          "duration": 0.00764,
          "end_time": "2022-12-04T13:23:03.361155",
          "exception": false,
          "start_time": "2022-12-04T13:23:03.353515",
          "status": "completed"
        },
        "tags": [],
        "id": "251e971c"
      },
      "source": [
        "**Then make a list of the independent values and call this variable X. Put the dependent values in a variable called y.**\n",
        "\n",
        "It is common to name the list of independent values with an uppercase X and the list of dependent values with a lowercase y.\n",
        "* **Equation:** Sales = β0 + (β1 * Weight) + (β2 * Volume) + e\n",
        "* Setting the values for independent **(X)** variable and dependent **(Y)** variable"
      ]
    },
    {
      "cell_type": "code",
      "execution_count": null,
      "id": "a3f3e5af",
      "metadata": {
        "execution": {
          "iopub.execute_input": "2022-12-04T13:23:03.378870Z",
          "iopub.status.busy": "2022-12-04T13:23:03.378396Z",
          "iopub.status.idle": "2022-12-04T13:23:03.384390Z",
          "shell.execute_reply": "2022-12-04T13:23:03.383516Z"
        },
        "papermill": {
          "duration": 0.018075,
          "end_time": "2022-12-04T13:23:03.387047",
          "exception": false,
          "start_time": "2022-12-04T13:23:03.368972",
          "status": "completed"
        },
        "tags": [],
        "id": "a3f3e5af"
      },
      "outputs": [],
      "source": [
        "#Setting the value for X and Y\n",
        "X = df[['Weight', 'Volume']]\n",
        "y = df['CO2']"
      ]
    },
    {
      "cell_type": "markdown",
      "id": "0ff314ca",
      "metadata": {
        "papermill": {
          "duration": 0.007644,
          "end_time": "2022-12-04T13:23:03.402756",
          "exception": false,
          "start_time": "2022-12-04T13:23:03.395112",
          "status": "completed"
        },
        "tags": [],
        "id": "0ff314ca"
      },
      "source": [
        "**Checking for outliers**"
      ]
    },
    {
      "cell_type": "code",
      "execution_count": null,
      "id": "ec2278e8",
      "metadata": {
        "execution": {
          "iopub.execute_input": "2022-12-04T13:23:03.421875Z",
          "iopub.status.busy": "2022-12-04T13:23:03.420462Z",
          "iopub.status.idle": "2022-12-04T13:23:03.810394Z",
          "shell.execute_reply": "2022-12-04T13:23:03.809436Z"
        },
        "papermill": {
          "duration": 0.402008,
          "end_time": "2022-12-04T13:23:03.812837",
          "exception": false,
          "start_time": "2022-12-04T13:23:03.410829",
          "status": "completed"
        },
        "tags": [],
        "id": "ec2278e8",
        "outputId": "def2113b-e5e3-4b1a-9537-aef7d0004d6a",
        "colab": {
          "base_uri": "https://localhost:8080/",
          "height": 507
        }
      },
      "outputs": [
        {
          "output_type": "display_data",
          "data": {
            "text/plain": [
              "<Figure size 500x500 with 2 Axes>"
            ],
            "image/png": "[encoded data removed]"
          },
          "metadata": {}
        }
      ],
      "source": [
        "fig, axs = plt.subplots(2, figsize = (5,5))\n",
        "plt1 = sns.boxplot(df['Weight'], ax = axs[0])\n",
        "sns.stripplot(df['Weight'], ax=axs[0], color='black',\n",
        "              size=4, jitter=True, alpha=0.7)\n",
        "plt2 = sns.boxplot(df['Volume'], ax = axs[1])\n",
        "sns.stripplot(df['Volume'], ax=axs[1], color='black',\n",
        "              size=4, jitter=True, alpha=0.7)\n",
        "plt.tight_layout()\n",
        "plt.show()"
      ]
    },
    {
      "cell_type": "code",
      "source": [
        "print(\"Weight description\")\n",
        "print(df['Weight'].describe().round(3))\n",
        "print(\"------\")\n",
        "print(\"Volume description\")\n",
        "print(df['Volume'].describe().round(3))"
      ],
      "metadata": {
        "colab": {
          "base_uri": "https://localhost:8080/"
        },
        "id": "SdypUaGjj8S-",
        "outputId": "bbf7e53e-0824-4b91-a3a4-c8a6c6943a46"
      },
      "id": "SdypUaGjj8S-",
      "execution_count": null,
      "outputs": [
        {
          "output_type": "stream",
          "name": "stdout",
          "text": [
            "Weight description\n",
            "count      36.000\n",
            "mean     1292.278\n",
            "std       242.124\n",
            "min       790.000\n",
            "25%      1117.250\n",
            "50%      1329.000\n",
            "75%      1418.250\n",
            "max      1746.000\n",
            "Name: Weight, dtype: float64\n",
            "------\n",
            "Volume description\n",
            "count      36.000\n",
            "mean     1611.111\n",
            "std       388.975\n",
            "min       900.000\n",
            "25%      1475.000\n",
            "50%      1600.000\n",
            "75%      2000.000\n",
            "max      2500.000\n",
            "Name: Volume, dtype: float64\n"
          ]
        }
      ]
    },
    {
      "cell_type": "markdown",
      "id": "4dca0ae7",
      "metadata": {
        "papermill": {
          "duration": 0.008168,
          "end_time": "2022-12-04T13:23:03.829832",
          "exception": false,
          "start_time": "2022-12-04T13:23:03.821664",
          "status": "completed"
        },
        "tags": [],
        "id": "4dca0ae7"
      },
      "source": [
        "# Exploratory Data Analysis\n",
        "\n",
        "**Distribution of the target variable**"
      ]
    },
    {
      "cell_type": "code",
      "execution_count": null,
      "id": "15ddd582",
      "metadata": {
        "execution": {
          "iopub.execute_input": "2022-12-04T13:23:03.848851Z",
          "iopub.status.busy": "2022-12-04T13:23:03.848137Z",
          "iopub.status.idle": "2022-12-04T13:23:04.123282Z",
          "shell.execute_reply": "2022-12-04T13:23:04.121884Z"
        },
        "papermill": {
          "duration": 0.287332,
          "end_time": "2022-12-04T13:23:04.125862",
          "exception": false,
          "start_time": "2022-12-04T13:23:03.838530",
          "status": "completed"
        },
        "tags": [],
        "id": "15ddd582",
        "outputId": "ef8b0f4b-7c27-4515-cdcc-61af40f4b014",
        "colab": {
          "base_uri": "https://localhost:8080/",
          "height": 449
        }
      },
      "outputs": [
        {
          "output_type": "display_data",
          "data": {
            "text/plain": [
              "<Figure size 640x480 with 1 Axes>"
            ],
            "image/png": "[encoded data removed]"
          },
          "metadata": {}
        }
      ],
      "source": [
        "sns.distplot(df['CO2']);"
      ]
    },
    {
      "cell_type": "markdown",
      "id": "cb441aec",
      "metadata": {
        "papermill": {
          "duration": 0.00824,
          "end_time": "2022-12-04T13:23:04.142934",
          "exception": false,
          "start_time": "2022-12-04T13:23:04.134694",
          "status": "completed"
        },
        "tags": [],
        "id": "cb441aec"
      },
      "source": [
        "**Conclusion:** It is normally distributed"
      ]
    },
    {
      "cell_type": "markdown",
      "id": "fba84803",
      "metadata": {
        "papermill": {
          "duration": 0.008316,
          "end_time": "2022-12-04T13:23:04.159777",
          "exception": false,
          "start_time": "2022-12-04T13:23:04.151461",
          "status": "completed"
        },
        "tags": [],
        "id": "fba84803"
      },
      "source": [
        "**Relationship of CO2 with other variables**"
      ]
    },
    {
      "cell_type": "code",
      "execution_count": null,
      "id": "66a06f2d",
      "metadata": {
        "execution": {
          "iopub.execute_input": "2022-12-04T13:23:04.179294Z",
          "iopub.status.busy": "2022-12-04T13:23:04.178859Z",
          "iopub.status.idle": "2022-12-04T13:23:04.687163Z",
          "shell.execute_reply": "2022-12-04T13:23:04.685800Z"
        },
        "papermill": {
          "duration": 0.521379,
          "end_time": "2022-12-04T13:23:04.689817",
          "exception": false,
          "start_time": "2022-12-04T13:23:04.168438",
          "status": "completed"
        },
        "tags": [],
        "id": "66a06f2d",
        "outputId": "2c824999-8d2f-4fa8-91fd-6918ef91435f",
        "colab": {
          "base_uri": "https://localhost:8080/",
          "height": 415
        }
      },
      "outputs": [
        {
          "output_type": "display_data",
          "data": {
            "text/plain": [
              "<Figure size 800x400 with 2 Axes>"
            ],
            "image/png": "[encoded data removed]"
          },
          "metadata": {}
        }
      ],
      "source": [
        "sns.pairplot(df, x_vars=['Weight', 'Volume'], y_vars='CO2',\n",
        "             height=4, aspect=1, kind='scatter')\n",
        "plt.show()"
      ]
    },
    {
      "cell_type": "markdown",
      "id": "888447a1",
      "metadata": {
        "papermill": {
          "duration": 0.009503,
          "end_time": "2022-12-04T13:23:04.708559",
          "exception": false,
          "start_time": "2022-12-04T13:23:04.699056",
          "status": "completed"
        },
        "tags": [],
        "id": "888447a1"
      },
      "source": [
        "**Heatmap**\n",
        "The sns.heatmap() function creates a visualization that shows the correlation matrix of a dataset as a heatmap. The annot parameter of this function shows or does not show correlation values in the cells of the heatmap. If this parameter is set to True, correlation values in cells are displayed."
      ]
    },
    {
      "cell_type": "code",
      "execution_count": null,
      "id": "03669704",
      "metadata": {
        "execution": {
          "iopub.execute_input": "2022-12-04T13:23:04.729111Z",
          "iopub.status.busy": "2022-12-04T13:23:04.728683Z",
          "iopub.status.idle": "2022-12-04T13:23:05.017879Z",
          "shell.execute_reply": "2022-12-04T13:23:05.016333Z"
        },
        "papermill": {
          "duration": 0.303189,
          "end_time": "2022-12-04T13:23:05.020834",
          "exception": false,
          "start_time": "2022-12-04T13:23:04.717645",
          "status": "completed"
        },
        "tags": [],
        "id": "03669704",
        "outputId": "d6889966-9dff-4225-a106-d834591223e3",
        "colab": {
          "base_uri": "https://localhost:8080/",
          "height": 435
        }
      },
      "outputs": [
        {
          "output_type": "display_data",
          "data": {
            "text/plain": [
              "<Figure size 640x480 with 2 Axes>"
            ],
            "image/png": "[encoded data removed]"
          },
          "metadata": {}
        }
      ],
      "source": [
        "# Create the correlation matrix and represent it as a heatmap.\n",
        "data_hp = df[['Weight', 'Volume', 'CO2']]\n",
        "sns.heatmap(data_hp.corr(), annot = True, cmap = 'coolwarm')\n",
        "plt.show()"
      ]
    },
    {
      "cell_type": "markdown",
      "id": "e3b39b66",
      "metadata": {
        "papermill": {
          "duration": 0.008901,
          "end_time": "2022-12-04T13:23:05.039071",
          "exception": false,
          "start_time": "2022-12-04T13:23:05.030170",
          "status": "completed"
        },
        "tags": [],
        "id": "e3b39b66"
      },
      "source": [
        "# Model Building\n",
        "\n",
        "**Splitting the dataset into train and test set**"
      ]
    },
    {
      "cell_type": "markdown",
      "id": "18690cd7",
      "metadata": {
        "papermill": {
          "duration": 0.008948,
          "end_time": "2022-12-04T13:23:05.057172",
          "exception": false,
          "start_time": "2022-12-04T13:23:05.048224",
          "status": "completed"
        },
        "tags": [],
        "id": "18690cd7"
      },
      "source": [
        "We need to split our dataset into training and testing sets. We’ll perform this by importing train_test_split from sklearn.model_selection library. It is usually good to keep 70% of the data in your train dataset and the rest 30% in your test dataset."
      ]
    },
    {
      "cell_type": "code",
      "execution_count": null,
      "id": "31bb4b6d",
      "metadata": {
        "execution": {
          "iopub.execute_input": "2022-12-04T13:23:05.078037Z",
          "iopub.status.busy": "2022-12-04T13:23:05.077595Z",
          "iopub.status.idle": "2022-12-04T13:23:05.086154Z",
          "shell.execute_reply": "2022-12-04T13:23:05.085168Z"
        },
        "papermill": {
          "duration": 0.022341,
          "end_time": "2022-12-04T13:23:05.088643",
          "exception": false,
          "start_time": "2022-12-04T13:23:05.066302",
          "status": "completed"
        },
        "tags": [],
        "id": "31bb4b6d"
      },
      "outputs": [],
      "source": [
        "X_train,X_test, y_train, y_test = train_test_split(X, y, test_size = 0.2,\n",
        "                                                   random_state = 100)"
      ]
    },
    {
      "cell_type": "code",
      "execution_count": null,
      "id": "225853eb",
      "metadata": {
        "execution": {
          "iopub.execute_input": "2022-12-04T13:23:05.109519Z",
          "iopub.status.busy": "2022-12-04T13:23:05.108479Z",
          "iopub.status.idle": "2022-12-04T13:23:05.115726Z",
          "shell.execute_reply": "2022-12-04T13:23:05.114683Z"
        },
        "papermill": {
          "duration": 0.020066,
          "end_time": "2022-12-04T13:23:05.117932",
          "exception": false,
          "start_time": "2022-12-04T13:23:05.097866",
          "status": "completed"
        },
        "tags": [],
        "id": "225853eb",
        "outputId": "f01f193d-2762-43d5-eb31-9264aa50e6af",
        "colab": {
          "base_uri": "https://localhost:8080/"
        }
      },
      "outputs": [
        {
          "output_type": "execute_result",
          "data": {
            "text/plain": [
              "(25,)"
            ]
          },
          "metadata": {},
          "execution_count": 20
        }
      ],
      "source": [
        "y_train.shape"
      ]
    },
    {
      "cell_type": "markdown",
      "source": [],
      "metadata": {
        "id": "S2tkTFjXjND6"
      },
      "id": "S2tkTFjXjND6"
    },
    {
      "cell_type": "code",
      "execution_count": null,
      "id": "82739b2d",
      "metadata": {
        "execution": {
          "iopub.execute_input": "2022-12-04T13:23:05.139442Z",
          "iopub.status.busy": "2022-12-04T13:23:05.138699Z",
          "iopub.status.idle": "2022-12-04T13:23:05.145087Z",
          "shell.execute_reply": "2022-12-04T13:23:05.143839Z"
        },
        "papermill": {
          "duration": 0.020341,
          "end_time": "2022-12-04T13:23:05.147904",
          "exception": false,
          "start_time": "2022-12-04T13:23:05.127563",
          "status": "completed"
        },
        "tags": [],
        "id": "82739b2d",
        "outputId": "b134de1b-b992-45cf-b92e-3793f3596fb3",
        "colab": {
          "base_uri": "https://localhost:8080/"
        }
      },
      "outputs": [
        {
          "output_type": "execute_result",
          "data": {
            "text/plain": [
              "(11,)"
            ]
          },
          "metadata": {},
          "execution_count": 21
        }
      ],
      "source": [
        "y_test.shape"
      ]
    },
    {
      "cell_type": "code",
      "execution_count": null,
      "id": "42d35b21",
      "metadata": {
        "execution": {
          "iopub.execute_input": "2022-12-04T13:23:05.170944Z",
          "iopub.status.busy": "2022-12-04T13:23:05.169913Z",
          "iopub.status.idle": "2022-12-04T13:23:05.176082Z",
          "shell.execute_reply": "2022-12-04T13:23:05.174881Z"
        },
        "papermill": {
          "duration": 0.020707,
          "end_time": "2022-12-04T13:23:05.178717",
          "exception": false,
          "start_time": "2022-12-04T13:23:05.158010",
          "status": "completed"
        },
        "tags": [],
        "id": "42d35b21"
      },
      "outputs": [],
      "source": [
        "reg_model = linear_model.LinearRegression()"
      ]
    },
    {
      "cell_type": "code",
      "execution_count": null,
      "id": "e44fbf6f",
      "metadata": {
        "execution": {
          "iopub.execute_input": "2022-12-04T13:23:05.201422Z",
          "iopub.status.busy": "2022-12-04T13:23:05.200698Z",
          "iopub.status.idle": "2022-12-04T13:23:05.221600Z",
          "shell.execute_reply": "2022-12-04T13:23:05.220657Z"
        },
        "papermill": {
          "duration": 0.035397,
          "end_time": "2022-12-04T13:23:05.224330",
          "exception": false,
          "start_time": "2022-12-04T13:23:05.188933",
          "status": "completed"
        },
        "tags": [],
        "id": "e44fbf6f"
      },
      "outputs": [],
      "source": [
        "#Fitting the Multiple Linear Regression model\n",
        "reg_model = LinearRegression().fit(X_train, y_train)"
      ]
    },
    {
      "cell_type": "code",
      "execution_count": null,
      "id": "9a89c0fb",
      "metadata": {
        "execution": {
          "iopub.execute_input": "2022-12-04T13:23:05.246799Z",
          "iopub.status.busy": "2022-12-04T13:23:05.246035Z",
          "iopub.status.idle": "2022-12-04T13:23:05.254660Z",
          "shell.execute_reply": "2022-12-04T13:23:05.252821Z"
        },
        "papermill": {
          "duration": 0.023737,
          "end_time": "2022-12-04T13:23:05.257679",
          "exception": false,
          "start_time": "2022-12-04T13:23:05.233942",
          "status": "completed"
        },
        "tags": [],
        "id": "9a89c0fb",
        "outputId": "15bf1fc6-0848-40d3-b09a-43cb24691bf5",
        "colab": {
          "base_uri": "https://localhost:8080/"
        }
      },
      "outputs": [
        {
          "output_type": "stream",
          "name": "stdout",
          "text": [
            "Intercept:  74.33882836589245\n"
          ]
        },
        {
          "output_type": "execute_result",
          "data": {
            "text/plain": [
              "[('Weight', 0.0171800645996374), ('Volume', 0.0025046399866402976)]"
            ]
          },
          "metadata": {},
          "execution_count": 24
        }
      ],
      "source": [
        "#Printing the model coefficients\n",
        "print('Intercept: ',reg_model.intercept_)\n",
        "# pair the feature names with the coefficients\n",
        "list(zip(X, reg_model.coef_))"
      ]
    },
    {
      "cell_type": "code",
      "execution_count": null,
      "id": "c33207be",
      "metadata": {
        "execution": {
          "iopub.execute_input": "2022-12-04T13:23:05.279207Z",
          "iopub.status.busy": "2022-12-04T13:23:05.278441Z",
          "iopub.status.idle": "2022-12-04T13:23:05.287072Z",
          "shell.execute_reply": "2022-12-04T13:23:05.285785Z"
        },
        "papermill": {
          "duration": 0.022639,
          "end_time": "2022-12-04T13:23:05.289877",
          "exception": false,
          "start_time": "2022-12-04T13:23:05.267238",
          "status": "completed"
        },
        "tags": [],
        "id": "c33207be"
      },
      "outputs": [],
      "source": [
        "#Predicting the Test and Train set result\n",
        "y_pred= reg_model.predict(X_test)\n",
        "x_pred= reg_model.predict(X_train)"
      ]
    },
    {
      "cell_type": "markdown",
      "source": [
        "To print the model's diagnostic table, we employ a new library called `statsmodel`:"
      ],
      "metadata": {
        "id": "tuMpo5Sp-4ZZ"
      },
      "id": "tuMpo5Sp-4ZZ"
    },
    {
      "cell_type": "code",
      "source": [
        "import statsmodels.api as sm\n",
        "import statsmodels.formula.api as smf"
      ],
      "metadata": {
        "id": "b1vlKAwP-v7U"
      },
      "id": "b1vlKAwP-v7U",
      "execution_count": null,
      "outputs": []
    },
    {
      "cell_type": "code",
      "source": [
        "import numpy as np\n",
        "X_train_array = np.array(X_train)\n",
        "y_train_array = np.array(y_train)\n",
        "X_train_model = sm.add_constant(X_train_array)\n",
        "model = sm.OLS(y_train_array, X_train_model)\n",
        "results = model.fit()\n",
        "print(results.summary())"
      ],
      "metadata": {
        "colab": {
          "base_uri": "https://localhost:8080/"
        },
        "id": "uZkPgpos-2mZ",
        "outputId": "9aed6ed8-be1a-4201-bb97-329fb21e2f52"
      },
      "id": "uZkPgpos-2mZ",
      "execution_count": null,
      "outputs": [
        {
          "output_type": "stream",
          "name": "stdout",
          "text": [
            "                            OLS Regression Results                            \n",
            "==============================================================================\n",
            "Dep. Variable:                      y   R-squared:                       0.449\n",
            "Model:                            OLS   Adj. R-squared:                  0.399\n",
            "Method:                 Least Squares   F-statistic:                     8.975\n",
            "Date:                Tue, 11 Mar 2025   Prob (F-statistic):            0.00141\n",
            "Time:                        16:19:17   Log-Likelihood:                -76.701\n",
            "No. Observations:                  25   AIC:                             159.4\n",
            "Df Residuals:                      22   BIC:                             163.1\n",
            "Df Model:                           2                                         \n",
            "Covariance Type:            nonrobust                                         \n",
            "==============================================================================\n",
            "                 coef    std err          t      P>|t|      [0.025      0.975]\n",
            "------------------------------------------------------------------------------\n",
            "const         74.3388      6.420     11.579      0.000      61.024      87.654\n",
            "x1             0.0172      0.007      2.349      0.028       0.002       0.032\n",
            "x2             0.0025      0.005      0.497      0.624      -0.008       0.013\n",
            "==============================================================================\n",
            "Omnibus:                        1.137   Durbin-Watson:                   1.518\n",
            "Prob(Omnibus):                  0.566   Jarque-Bera (JB):                0.857\n",
            "Skew:                          -0.100   Prob(JB):                        0.651\n",
            "Kurtosis:                       2.115   Cond. No.                     1.24e+04\n",
            "==============================================================================\n",
            "\n",
            "Notes:\n",
            "[1] Standard Errors assume that the covariance matrix of the errors is correctly specified.\n",
            "[2] The condition number is large, 1.24e+04. This might indicate that there are\n",
            "strong multicollinearity or other numerical problems.\n"
          ]
        }
      ]
    },
    {
      "cell_type": "code",
      "source": [
        "print(X_train_model.shape)\n",
        "print(y_train_array.shape)"
      ],
      "metadata": {
        "colab": {
          "base_uri": "https://localhost:8080/"
        },
        "id": "HHgvEx8U_vr7",
        "outputId": "8ebca307-c684-4549-c339-a20c9a96a90b"
      },
      "id": "HHgvEx8U_vr7",
      "execution_count": null,
      "outputs": [
        {
          "output_type": "stream",
          "name": "stdout",
          "text": [
            "(25, 3)\n",
            "(25,)\n"
          ]
        }
      ]
    },
    {
      "cell_type": "code",
      "source": [
        "print(reg_model.summary(y_train_array, ))"
      ],
      "metadata": {
        "colab": {
          "base_uri": "https://localhost:8080/",
          "height": 141
        },
        "id": "48DVPNcF-Vmb",
        "outputId": "0312e0d8-426e-4690-ddbb-39cc547353c1"
      },
      "id": "48DVPNcF-Vmb",
      "execution_count": null,
      "outputs": [
        {
          "output_type": "error",
          "ename": "AttributeError",
          "evalue": "'LinearRegression' object has no attribute 'summary'",
          "traceback": [
            "\u001b[0;31m---------------------------------------------------------------------------\u001b[0m",
            "\u001b[0;31mAttributeError\u001b[0m                            Traceback (most recent call last)",
            "\u001b[0;32m<ipython-input-36-d41153d8639f>\u001b[0m in \u001b[0;36m<cell line: 0>\u001b[0;34m()\u001b[0m\n\u001b[0;32m----> 1\u001b[0;31m \u001b[0mprint\u001b[0m\u001b[0;34m(\u001b[0m\u001b[0mreg_model\u001b[0m\u001b[0;34m.\u001b[0m\u001b[0msummary\u001b[0m\u001b[0;34m)\u001b[0m\u001b[0;34m\u001b[0m\u001b[0;34m\u001b[0m\u001b[0m\n\u001b[0m",
            "\u001b[0;31mAttributeError\u001b[0m: 'LinearRegression' object has no attribute 'summary'"
          ]
        }
      ]
    },
    {
      "cell_type": "code",
      "execution_count": null,
      "id": "8504eaa3",
      "metadata": {
        "execution": {
          "iopub.execute_input": "2022-12-04T13:23:05.314523Z",
          "iopub.status.busy": "2022-12-04T13:23:05.313204Z",
          "iopub.status.idle": "2022-12-04T13:23:05.321672Z",
          "shell.execute_reply": "2022-12-04T13:23:05.319901Z"
        },
        "papermill": {
          "duration": 0.023344,
          "end_time": "2022-12-04T13:23:05.324639",
          "exception": false,
          "start_time": "2022-12-04T13:23:05.301295",
          "status": "completed"
        },
        "tags": [],
        "id": "8504eaa3",
        "outputId": "1a747184-b2f5-4266-b8da-488b6c21557a"
      },
      "outputs": [
        {
          "name": "stdout",
          "output_type": "stream",
          "text": [
            "Prediction for test set: [ 90.41571939 102.16323413  99.56363213 104.56661845 101.54657652\n",
            "  95.94770019 108.64011848 102.22654214  92.80374837  97.27327129\n",
            "  97.57074463]\n"
          ]
        }
      ],
      "source": [
        "print(\"Prediction for test set: {}\".format(y_pred))"
      ]
    },
    {
      "cell_type": "code",
      "execution_count": null,
      "id": "d413ea41",
      "metadata": {
        "execution": {
          "iopub.execute_input": "2022-12-04T13:23:05.349495Z",
          "iopub.status.busy": "2022-12-04T13:23:05.349065Z",
          "iopub.status.idle": "2022-12-04T13:23:05.362444Z",
          "shell.execute_reply": "2022-12-04T13:23:05.361070Z"
        },
        "papermill": {
          "duration": 0.029939,
          "end_time": "2022-12-04T13:23:05.365107",
          "exception": false,
          "start_time": "2022-12-04T13:23:05.335168",
          "status": "completed"
        },
        "tags": [],
        "id": "d413ea41",
        "outputId": "f36b174d-b514-47b4-ba69-5fd2f48c08da",
        "colab": {
          "base_uri": "https://localhost:8080/",
          "height": 394
        }
      },
      "outputs": [
        {
          "output_type": "execute_result",
          "data": {
            "text/plain": [
              "    Actual value  Predicted value\n",
              "0             99        90.415719\n",
              "19           105       102.163234\n",
              "32           104        99.563632\n",
              "35           120       104.566618\n",
              "7             92       101.546577\n",
              "12            99        95.947700\n",
              "29           114       108.640118\n",
              "33           108       102.226542\n",
              "5            105        92.803748\n",
              "1             95        97.273271\n",
              "18           104        97.570745"
            ],
            "text/html": [
              "\n",
              "  <div id=\"df-c0389019-ce74-4a60-b704-444581d7f2fe\" class=\"colab-df-container\">\n",
              "    <div>\n",
              "<style scoped>\n",
              "    .dataframe tbody tr th:only-of-type {\n",
              "        vertical-align: middle;\n",
              "    }\n",
              "\n",
              "    .dataframe tbody tr th {\n",
              "        vertical-align: top;\n",
              "    }\n",
              "\n",
              "    .dataframe thead th {\n",
              "        text-align: right;\n",
              "    }\n",
              "</style>\n",
              "<table border=\"1\" class=\"dataframe\">\n",
              "  <thead>\n",
              "    <tr style=\"text-align: right;\">\n",
              "      <th></th>\n",
              "      <th>Actual value</th>\n",
              "      <th>Predicted value</th>\n",
              "    </tr>\n",
              "  </thead>\n",
              "  <tbody>\n",
              "    <tr>\n",
              "      <th>0</th>\n",
              "      <td>99</td>\n",
              "      <td>90.415719</td>\n",
              "    </tr>\n",
              "    <tr>\n",
              "      <th>19</th>\n",
              "      <td>105</td>\n",
              "      <td>102.163234</td>\n",
              "    </tr>\n",
              "    <tr>\n",
              "      <th>32</th>\n",
              "      <td>104</td>\n",
              "      <td>99.563632</td>\n",
              "    </tr>\n",
              "    <tr>\n",
              "      <th>35</th>\n",
              "      <td>120</td>\n",
              "      <td>104.566618</td>\n",
              "    </tr>\n",
              "    <tr>\n",
              "      <th>7</th>\n",
              "      <td>92</td>\n",
              "      <td>101.546577</td>\n",
              "    </tr>\n",
              "    <tr>\n",
              "      <th>12</th>\n",
              "      <td>99</td>\n",
              "      <td>95.947700</td>\n",
              "    </tr>\n",
              "    <tr>\n",
              "      <th>29</th>\n",
              "      <td>114</td>\n",
              "      <td>108.640118</td>\n",
              "    </tr>\n",
              "    <tr>\n",
              "      <th>33</th>\n",
              "      <td>108</td>\n",
              "      <td>102.226542</td>\n",
              "    </tr>\n",
              "    <tr>\n",
              "      <th>5</th>\n",
              "      <td>105</td>\n",
              "      <td>92.803748</td>\n",
              "    </tr>\n",
              "    <tr>\n",
              "      <th>1</th>\n",
              "      <td>95</td>\n",
              "      <td>97.273271</td>\n",
              "    </tr>\n",
              "    <tr>\n",
              "      <th>18</th>\n",
              "      <td>104</td>\n",
              "      <td>97.570745</td>\n",
              "    </tr>\n",
              "  </tbody>\n",
              "</table>\n",
              "</div>\n",
              "    <div class=\"colab-df-buttons\">\n",
              "\n",
              "  <div class=\"colab-df-container\">\n",
              "    <button class=\"colab-df-convert\" onclick=\"convertToInteractive('df-c0389019-ce74-4a60-b704-444581d7f2fe')\"\n",
              "            title=\"Convert this dataframe to an interactive table.\"\n",
              "            style=\"display:none;\">\n",
              "\n",
              "  <svg xmlns=\"http://www.w3.org/2000/svg\" height=\"24px\" viewBox=\"0 -960 960 960\">\n",
              "    <path d=\"M120-120v-720h720v720H120Zm60-500h600v-160H180v160Zm220 220h160v-160H400v160Zm0 220h160v-160H400v160ZM180-400h160v-160H180v160Zm440 0h160v-160H620v160ZM180-180h160v-160H180v160Zm440 0h160v-160H620v160Z\"/>\n",
              "  </svg>\n",
              "    </button>\n",
              "\n",
              "  <style>\n",
              "    .colab-df-container {\n",
              "      display:flex;\n",
              "      gap: 12px;\n",
              "    }\n",
              "\n",
              "    .colab-df-convert {\n",
              "      background-color: #E8F0FE;\n",
              "      border: none;\n",
              "      border-radius: 50%;\n",
              "      cursor: pointer;\n",
              "      display: none;\n",
              "      fill: #1967D2;\n",
              "      height: 32px;\n",
              "      padding: 0 0 0 0;\n",
              "      width: 32px;\n",
              "    }\n",
              "\n",
              "    .colab-df-convert:hover {\n",
              "      background-color: #E2EBFA;\n",
              "      box-shadow: 0px 1px 2px rgba(60, 64, 67, 0.3), 0px 1px 3px 1px rgba(60, 64, 67, 0.15);\n",
              "      fill: #174EA6;\n",
              "    }\n",
              "\n",
              "    .colab-df-buttons div {\n",
              "      margin-bottom: 4px;\n",
              "    }\n",
              "\n",
              "    [theme=dark] .colab-df-convert {\n",
              "      background-color: #3B4455;\n",
              "      fill: #D2E3FC;\n",
              "    }\n",
              "\n",
              "    [theme=dark] .colab-df-convert:hover {\n",
              "      background-color: #434B5C;\n",
              "      box-shadow: 0px 1px 3px 1px rgba(0, 0, 0, 0.15);\n",
              "      filter: drop-shadow(0px 1px 2px rgba(0, 0, 0, 0.3));\n",
              "      fill: #FFFFFF;\n",
              "    }\n",
              "  </style>\n",
              "\n",
              "    <script>\n",
              "      const buttonEl =\n",
              "        document.querySelector('#df-c0389019-ce74-4a60-b704-444581d7f2fe button.colab-df-convert');\n",
              "      buttonEl.style.display =\n",
              "        google.colab.kernel.accessAllowed ? 'block' : 'none';\n",
              "\n",
              "      async function convertToInteractive(key) {\n",
              "        const element = document.querySelector('#df-c0389019-ce74-4a60-b704-444581d7f2fe');\n",
              "        const dataTable =\n",
              "          await google.colab.kernel.invokeFunction('convertToInteractive',\n",
              "                                                    [key], {});\n",
              "        if (!dataTable) return;\n",
              "\n",
              "        const docLinkHtml = 'Like what you see? Visit the ' +\n",
              "          '<a target=\"_blank\" href=https://colab.research.google.com/notebooks/data_table.ipynb>data table notebook</a>'\n",
              "          + ' to learn more about interactive tables.';\n",
              "        element.innerHTML = '';\n",
              "        dataTable['output_type'] = 'display_data';\n",
              "        await google.colab.output.renderOutput(dataTable, element);\n",
              "        const docLink = document.createElement('div');\n",
              "        docLink.innerHTML = docLinkHtml;\n",
              "        element.appendChild(docLink);\n",
              "      }\n",
              "    </script>\n",
              "  </div>\n",
              "\n",
              "\n",
              "<div id=\"df-d2e3d57e-1264-4190-82cc-58fefec5ba33\">\n",
              "  <button class=\"colab-df-quickchart\" onclick=\"quickchart('df-d2e3d57e-1264-4190-82cc-58fefec5ba33')\"\n",
              "            title=\"Suggest charts\"\n",
              "            style=\"display:none;\">\n",
              "\n",
              "<svg xmlns=\"http://www.w3.org/2000/svg\" height=\"24px\"viewBox=\"0 0 24 24\"\n",
              "     width=\"24px\">\n",
              "    <g>\n",
              "        <path d=\"M19 3H5c-1.1 0-2 .9-2 2v14c0 1.1.9 2 2 2h14c1.1 0 2-.9 2-2V5c0-1.1-.9-2-2-2zM9 17H7v-7h2v7zm4 0h-2V7h2v10zm4 0h-2v-4h2v4z\"/>\n",
              "    </g>\n",
              "</svg>\n",
              "  </button>\n",
              "\n",
              "<style>\n",
              "  .colab-df-quickchart {\n",
              "      --bg-color: #E8F0FE;\n",
              "      --fill-color: #1967D2;\n",
              "      --hover-bg-color: #E2EBFA;\n",
              "      --hover-fill-color: #174EA6;\n",
              "      --disabled-fill-color: #AAA;\n",
              "      --disabled-bg-color: #DDD;\n",
              "  }\n",
              "\n",
              "  [theme=dark] .colab-df-quickchart {\n",
              "      --bg-color: #3B4455;\n",
              "      --fill-color: #D2E3FC;\n",
              "      --hover-bg-color: #434B5C;\n",
              "      --hover-fill-color: #FFFFFF;\n",
              "      --disabled-bg-color: #3B4455;\n",
              "      --disabled-fill-color: #666;\n",
              "  }\n",
              "\n",
              "  .colab-df-quickchart {\n",
              "    background-color: var(--bg-color);\n",
              "    border: none;\n",
              "    border-radius: 50%;\n",
              "    cursor: pointer;\n",
              "    display: none;\n",
              "    fill: var(--fill-color);\n",
              "    height: 32px;\n",
              "    padding: 0;\n",
              "    width: 32px;\n",
              "  }\n",
              "\n",
              "  .colab-df-quickchart:hover {\n",
              "    background-color: var(--hover-bg-color);\n",
              "    box-shadow: 0 1px 2px rgba(60, 64, 67, 0.3), 0 1px 3px 1px rgba(60, 64, 67, 0.15);\n",
              "    fill: var(--button-hover-fill-color);\n",
              "  }\n",
              "\n",
              "  .colab-df-quickchart-complete:disabled,\n",
              "  .colab-df-quickchart-complete:disabled:hover {\n",
              "    background-color: var(--disabled-bg-color);\n",
              "    fill: var(--disabled-fill-color);\n",
              "    box-shadow: none;\n",
              "  }\n",
              "\n",
              "  .colab-df-spinner {\n",
              "    border: 2px solid var(--fill-color);\n",
              "    border-color: transparent;\n",
              "    border-bottom-color: var(--fill-color);\n",
              "    animation:\n",
              "      spin 1s steps(1) infinite;\n",
              "  }\n",
              "\n",
              "  @keyframes spin {\n",
              "    0% {\n",
              "      border-color: transparent;\n",
              "      border-bottom-color: var(--fill-color);\n",
              "      border-left-color: var(--fill-color);\n",
              "    }\n",
              "    20% {\n",
              "      border-color: transparent;\n",
              "      border-left-color: var(--fill-color);\n",
              "      border-top-color: var(--fill-color);\n",
              "    }\n",
              "    30% {\n",
              "      border-color: transparent;\n",
              "      border-left-color: var(--fill-color);\n",
              "      border-top-color: var(--fill-color);\n",
              "      border-right-color: var(--fill-color);\n",
              "    }\n",
              "    40% {\n",
              "      border-color: transparent;\n",
              "      border-right-color: var(--fill-color);\n",
              "      border-top-color: var(--fill-color);\n",
              "    }\n",
              "    60% {\n",
              "      border-color: transparent;\n",
              "      border-right-color: var(--fill-color);\n",
              "    }\n",
              "    80% {\n",
              "      border-color: transparent;\n",
              "      border-right-color: var(--fill-color);\n",
              "      border-bottom-color: var(--fill-color);\n",
              "    }\n",
              "    90% {\n",
              "      border-color: transparent;\n",
              "      border-bottom-color: var(--fill-color);\n",
              "    }\n",
              "  }\n",
              "</style>\n",
              "\n",
              "  <script>\n",
              "    async function quickchart(key) {\n",
              "      const quickchartButtonEl =\n",
              "        document.querySelector('#' + key + ' button');\n",
              "      quickchartButtonEl.disabled = true;  // To prevent multiple clicks.\n",
              "      quickchartButtonEl.classList.add('colab-df-spinner');\n",
              "      try {\n",
              "        const charts = await google.colab.kernel.invokeFunction(\n",
              "            'suggestCharts', [key], {});\n",
              "      } catch (error) {\n",
              "        console.error('Error during call to suggestCharts:', error);\n",
              "      }\n",
              "      quickchartButtonEl.classList.remove('colab-df-spinner');\n",
              "      quickchartButtonEl.classList.add('colab-df-quickchart-complete');\n",
              "    }\n",
              "    (() => {\n",
              "      let quickchartButtonEl =\n",
              "        document.querySelector('#df-d2e3d57e-1264-4190-82cc-58fefec5ba33 button');\n",
              "      quickchartButtonEl.style.display =\n",
              "        google.colab.kernel.accessAllowed ? 'block' : 'none';\n",
              "    })();\n",
              "  </script>\n",
              "</div>\n",
              "\n",
              "  <div id=\"id_6eea778d-9fe7-4b04-b136-7b4c18689e55\">\n",
              "    <style>\n",
              "      .colab-df-generate {\n",
              "        background-color: #E8F0FE;\n",
              "        border: none;\n",
              "        border-radius: 50%;\n",
              "        cursor: pointer;\n",
              "        display: none;\n",
              "        fill: #1967D2;\n",
              "        height: 32px;\n",
              "        padding: 0 0 0 0;\n",
              "        width: 32px;\n",
              "      }\n",
              "\n",
              "      .colab-df-generate:hover {\n",
              "        background-color: #E2EBFA;\n",
              "        box-shadow: 0px 1px 2px rgba(60, 64, 67, 0.3), 0px 1px 3px 1px rgba(60, 64, 67, 0.15);\n",
              "        fill: #174EA6;\n",
              "      }\n",
              "\n",
              "      [theme=dark] .colab-df-generate {\n",
              "        background-color: #3B4455;\n",
              "        fill: #D2E3FC;\n",
              "      }\n",
              "\n",
              "      [theme=dark] .colab-df-generate:hover {\n",
              "        background-color: #434B5C;\n",
              "        box-shadow: 0px 1px 3px 1px rgba(0, 0, 0, 0.15);\n",
              "        filter: drop-shadow(0px 1px 2px rgba(0, 0, 0, 0.3));\n",
              "        fill: #FFFFFF;\n",
              "      }\n",
              "    </style>\n",
              "    <button class=\"colab-df-generate\" onclick=\"generateWithVariable('reg_model_diff')\"\n",
              "            title=\"Generate code using this dataframe.\"\n",
              "            style=\"display:none;\">\n",
              "\n",
              "  <svg xmlns=\"http://www.w3.org/2000/svg\" height=\"24px\"viewBox=\"0 0 24 24\"\n",
              "       width=\"24px\">\n",
              "    <path d=\"M7,19H8.4L18.45,9,17,7.55,7,17.6ZM5,21V16.75L18.45,3.32a2,2,0,0,1,2.83,0l1.4,1.43a1.91,1.91,0,0,1,.58,1.4,1.91,1.91,0,0,1-.58,1.4L9.25,21ZM18.45,9,17,7.55Zm-12,3A5.31,5.31,0,0,0,4.9,8.1,5.31,5.31,0,0,0,1,6.5,5.31,5.31,0,0,0,4.9,4.9,5.31,5.31,0,0,0,6.5,1,5.31,5.31,0,0,0,8.1,4.9,5.31,5.31,0,0,0,12,6.5,5.46,5.46,0,0,0,6.5,12Z\"/>\n",
              "  </svg>\n",
              "    </button>\n",
              "    <script>\n",
              "      (() => {\n",
              "      const buttonEl =\n",
              "        document.querySelector('#id_6eea778d-9fe7-4b04-b136-7b4c18689e55 button.colab-df-generate');\n",
              "      buttonEl.style.display =\n",
              "        google.colab.kernel.accessAllowed ? 'block' : 'none';\n",
              "\n",
              "      buttonEl.onclick = () => {\n",
              "        google.colab.notebook.generateWithVariable('reg_model_diff');\n",
              "      }\n",
              "      })();\n",
              "    </script>\n",
              "  </div>\n",
              "\n",
              "    </div>\n",
              "  </div>\n"
            ],
            "application/vnd.google.colaboratory.intrinsic+json": {
              "type": "dataframe",
              "variable_name": "reg_model_diff",
              "summary": "{\n  \"name\": \"reg_model_diff\",\n  \"rows\": 11,\n  \"fields\": [\n    {\n      \"column\": \"Actual value\",\n      \"properties\": {\n        \"dtype\": \"number\",\n        \"std\": 8,\n        \"min\": 92,\n        \"max\": 120,\n        \"num_unique_values\": 8,\n        \"samples\": [\n          105,\n          114,\n          99\n        ],\n        \"semantic_type\": \"\",\n        \"description\": \"\"\n      }\n    },\n    {\n      \"column\": \"Predicted value\",\n      \"properties\": {\n        \"dtype\": \"number\",\n        \"std\": 5.25648330732102,\n        \"min\": 90.4157193862463,\n        \"max\": 108.64011848155482,\n        \"num_unique_values\": 11,\n        \"samples\": [\n          95.94770018732954,\n          90.4157193862463,\n          97.27327128544019\n        ],\n        \"semantic_type\": \"\",\n        \"description\": \"\"\n      }\n    }\n  ]\n}"
            }
          },
          "metadata": {},
          "execution_count": 26
        }
      ],
      "source": [
        "#Actual value and the predicted value\n",
        "reg_model_diff = pd.DataFrame({'Actual value': y_test, 'Predicted value': y_pred})\n",
        "reg_model_diff"
      ]
    },
    {
      "cell_type": "code",
      "execution_count": null,
      "id": "ee0996ca",
      "metadata": {
        "execution": {
          "iopub.execute_input": "2022-12-04T13:23:05.388949Z",
          "iopub.status.busy": "2022-12-04T13:23:05.387510Z",
          "iopub.status.idle": "2022-12-04T13:23:05.398932Z",
          "shell.execute_reply": "2022-12-04T13:23:05.396503Z"
        },
        "papermill": {
          "duration": 0.027622,
          "end_time": "2022-12-04T13:23:05.402805",
          "exception": false,
          "start_time": "2022-12-04T13:23:05.375183",
          "status": "completed"
        },
        "tags": [],
        "id": "ee0996ca",
        "outputId": "512fdb90-6cd9-4278-abe0-7146a716230f",
        "colab": {
          "base_uri": "https://localhost:8080/"
        }
      },
      "outputs": [
        {
          "output_type": "stream",
          "name": "stdout",
          "text": [
            "Mean Absolute Error: 6.902\n",
            "Mean Square Error: 63.398\n",
            "Root Mean Square Error: 7.962\n"
          ]
        }
      ],
      "source": [
        "mae = metrics.mean_absolute_error(y_test, y_pred)\n",
        "mse = metrics.mean_squared_error(y_test, y_pred)\n",
        "r2 = np.sqrt(metrics.mean_squared_error(y_test, y_pred))\n",
        "\n",
        "print(f'Mean Absolute Error: {mae:.3f}')\n",
        "print(f'Mean Square Error: {mse:.3f}')\n",
        "print(f'Root Mean Square Error: {r2:.3f}')"
      ]
    }
  ],
  "metadata": {
    "kernelspec": {
      "display_name": "Python 3",
      "language": "python",
      "name": "python3"
    },
    "language_info": {
      "codemirror_mode": {
        "name": "ipython",
        "version": 3
      },
      "file_extension": ".py",
      "mimetype": "text/x-python",
      "name": "python",
      "nbconvert_exporter": "python",
      "pygments_lexer": "ipython3",
      "version": "3.7.12"
    },
    "papermill": {
      "default_parameters": {},
      "duration": 15.042425,
      "end_time": "2022-12-04T13:23:06.440296",
      "environment_variables": {},
      "exception": null,
      "input_path": "__notebook__.ipynb",
      "output_path": "__notebook__.ipynb",
      "parameters": {},
      "start_time": "2022-12-04T13:22:51.397871",
      "version": "2.3.4"
    },
    "colab": {
      "provenance": [],
      "include_colab_link": true
    }
  },
  "nbformat": 4,
  "nbformat_minor": 5
}