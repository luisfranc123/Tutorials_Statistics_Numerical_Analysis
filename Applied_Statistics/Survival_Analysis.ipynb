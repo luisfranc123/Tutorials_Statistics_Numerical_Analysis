{
  "nbformat": 4,
  "nbformat_minor": 0,
  "metadata": {
    "colab": {
      "provenance": [],
      "authorship_tag": "ABX9TyNqhBfUrEuxWCzyFOSg9UqF",
      "include_colab_link": true
    },
    "kernelspec": {
      "name": "python3",
      "display_name": "Python 3"
    },
    "language_info": {
      "name": "python"
    }
  },
  "cells": [
    {
      "cell_type": "markdown",
      "metadata": {
        "id": "view-in-github",
        "colab_type": "text"
      },
      "source": [
        "<a href=\"https://colab.research.google.com/github/luisfranc123/Tutorials_Statistics_Numerical_Analysis/blob/main/Applied_Statistics/Survival_Analysis.ipynb\" target=\"_parent\"><img src=\"https://colab.research.google.com/assets/colab-badge.svg\" alt=\"Open In Colab\"/></a>"
      ]
    },
    {
      "cell_type": "markdown",
      "source": [
        "##**Survival Analysis**\n",
        "---\n",
        "In this tutorial, we will perform survival analysis on three separate data sets. `BrainCancer`, `Publication`, and a simulated call-center data set.\n",
        "\n",
        "We begin by importing some of the needed libraries.\n"
      ],
      "metadata": {
        "id": "L689q1PY6iGo"
      }
    },
    {
      "cell_type": "code",
      "source": [
        "%pip install ISLP"
      ],
      "metadata": {
        "colab": {
          "base_uri": "https://localhost:8080/"
        },
        "id": "5g-aODOwugki",
        "outputId": "c349efb8-fa3c-417a-961a-7f1d65018c66"
      },
      "execution_count": 1,
      "outputs": [
        {
          "output_type": "stream",
          "name": "stdout",
          "text": [
            "Collecting ISLP\n",
            "  Downloading ISLP-0.4.0-py3-none-any.whl.metadata (7.0 kB)\n",
            "Requirement already satisfied: numpy>=1.7.1 in /usr/local/lib/python3.12/dist-packages (from ISLP) (2.0.2)\n",
            "Requirement already satisfied: scipy>=0.9 in /usr/local/lib/python3.12/dist-packages (from ISLP) (1.16.3)\n",
            "Requirement already satisfied: pandas>=0.20 in /usr/local/lib/python3.12/dist-packages (from ISLP) (2.2.2)\n",
            "Requirement already satisfied: lxml in /usr/local/lib/python3.12/dist-packages (from ISLP) (5.4.0)\n",
            "Requirement already satisfied: scikit-learn>=1.2 in /usr/local/lib/python3.12/dist-packages (from ISLP) (1.6.1)\n",
            "Requirement already satisfied: joblib in /usr/local/lib/python3.12/dist-packages (from ISLP) (1.5.2)\n",
            "Requirement already satisfied: statsmodels>=0.13 in /usr/local/lib/python3.12/dist-packages (from ISLP) (0.14.5)\n",
            "Collecting lifelines (from ISLP)\n",
            "  Downloading lifelines-0.30.0-py3-none-any.whl.metadata (3.2 kB)\n",
            "Collecting pygam (from ISLP)\n",
            "  Downloading pygam-0.10.1-py3-none-any.whl.metadata (9.7 kB)\n",
            "Requirement already satisfied: torch in /usr/local/lib/python3.12/dist-packages (from ISLP) (2.8.0+cu126)\n",
            "Collecting pytorch-lightning (from ISLP)\n",
            "  Downloading pytorch_lightning-2.5.5-py3-none-any.whl.metadata (20 kB)\n",
            "Collecting torchmetrics (from ISLP)\n",
            "  Downloading torchmetrics-1.8.2-py3-none-any.whl.metadata (22 kB)\n",
            "Requirement already satisfied: python-dateutil>=2.8.2 in /usr/local/lib/python3.12/dist-packages (from pandas>=0.20->ISLP) (2.9.0.post0)\n",
            "Requirement already satisfied: pytz>=2020.1 in /usr/local/lib/python3.12/dist-packages (from pandas>=0.20->ISLP) (2025.2)\n",
            "Requirement already satisfied: tzdata>=2022.7 in /usr/local/lib/python3.12/dist-packages (from pandas>=0.20->ISLP) (2025.2)\n",
            "Requirement already satisfied: threadpoolctl>=3.1.0 in /usr/local/lib/python3.12/dist-packages (from scikit-learn>=1.2->ISLP) (3.6.0)\n",
            "Requirement already satisfied: patsy>=0.5.6 in /usr/local/lib/python3.12/dist-packages (from statsmodels>=0.13->ISLP) (1.0.2)\n",
            "Requirement already satisfied: packaging>=21.3 in /usr/local/lib/python3.12/dist-packages (from statsmodels>=0.13->ISLP) (25.0)\n",
            "Requirement already satisfied: matplotlib>=3.0 in /usr/local/lib/python3.12/dist-packages (from lifelines->ISLP) (3.10.0)\n",
            "Requirement already satisfied: autograd>=1.5 in /usr/local/lib/python3.12/dist-packages (from lifelines->ISLP) (1.8.0)\n",
            "Collecting autograd-gamma>=0.3 (from lifelines->ISLP)\n",
            "  Downloading autograd-gamma-0.5.0.tar.gz (4.0 kB)\n",
            "  Preparing metadata (setup.py) ... \u001b[?25l\u001b[?25hdone\n",
            "Collecting formulaic>=0.2.2 (from lifelines->ISLP)\n",
            "  Downloading formulaic-1.2.1-py3-none-any.whl.metadata (7.0 kB)\n",
            "Requirement already satisfied: progressbar2<5,>=4.2.0 in /usr/local/lib/python3.12/dist-packages (from pygam->ISLP) (4.5.0)\n",
            "Requirement already satisfied: tqdm>=4.57.0 in /usr/local/lib/python3.12/dist-packages (from pytorch-lightning->ISLP) (4.67.1)\n",
            "Requirement already satisfied: PyYAML>5.4 in /usr/local/lib/python3.12/dist-packages (from pytorch-lightning->ISLP) (6.0.3)\n",
            "Requirement already satisfied: fsspec>=2022.5.0 in /usr/local/lib/python3.12/dist-packages (from fsspec[http]>=2022.5.0->pytorch-lightning->ISLP) (2025.3.0)\n",
            "Requirement already satisfied: typing-extensions>4.5.0 in /usr/local/lib/python3.12/dist-packages (from pytorch-lightning->ISLP) (4.15.0)\n",
            "Collecting lightning-utilities>=0.10.0 (from pytorch-lightning->ISLP)\n",
            "  Downloading lightning_utilities-0.15.2-py3-none-any.whl.metadata (5.7 kB)\n",
            "Requirement already satisfied: filelock in /usr/local/lib/python3.12/dist-packages (from torch->ISLP) (3.20.0)\n",
            "Requirement already satisfied: setuptools in /usr/local/lib/python3.12/dist-packages (from torch->ISLP) (75.2.0)\n",
            "Requirement already satisfied: sympy>=1.13.3 in /usr/local/lib/python3.12/dist-packages (from torch->ISLP) (1.13.3)\n",
            "Requirement already satisfied: networkx in /usr/local/lib/python3.12/dist-packages (from torch->ISLP) (3.5)\n",
            "Requirement already satisfied: jinja2 in /usr/local/lib/python3.12/dist-packages (from torch->ISLP) (3.1.6)\n",
            "Requirement already satisfied: nvidia-cuda-nvrtc-cu12==12.6.77 in /usr/local/lib/python3.12/dist-packages (from torch->ISLP) (12.6.77)\n",
            "Requirement already satisfied: nvidia-cuda-runtime-cu12==12.6.77 in /usr/local/lib/python3.12/dist-packages (from torch->ISLP) (12.6.77)\n",
            "Requirement already satisfied: nvidia-cuda-cupti-cu12==12.6.80 in /usr/local/lib/python3.12/dist-packages (from torch->ISLP) (12.6.80)\n",
            "Requirement already satisfied: nvidia-cudnn-cu12==9.10.2.21 in /usr/local/lib/python3.12/dist-packages (from torch->ISLP) (9.10.2.21)\n",
            "Requirement already satisfied: nvidia-cublas-cu12==12.6.4.1 in /usr/local/lib/python3.12/dist-packages (from torch->ISLP) (12.6.4.1)\n",
            "Requirement already satisfied: nvidia-cufft-cu12==11.3.0.4 in /usr/local/lib/python3.12/dist-packages (from torch->ISLP) (11.3.0.4)\n",
            "Requirement already satisfied: nvidia-curand-cu12==10.3.7.77 in /usr/local/lib/python3.12/dist-packages (from torch->ISLP) (10.3.7.77)\n",
            "Requirement already satisfied: nvidia-cusolver-cu12==11.7.1.2 in /usr/local/lib/python3.12/dist-packages (from torch->ISLP) (11.7.1.2)\n",
            "Requirement already satisfied: nvidia-cusparse-cu12==12.5.4.2 in /usr/local/lib/python3.12/dist-packages (from torch->ISLP) (12.5.4.2)\n",
            "Requirement already satisfied: nvidia-cusparselt-cu12==0.7.1 in /usr/local/lib/python3.12/dist-packages (from torch->ISLP) (0.7.1)\n",
            "Requirement already satisfied: nvidia-nccl-cu12==2.27.3 in /usr/local/lib/python3.12/dist-packages (from torch->ISLP) (2.27.3)\n",
            "Requirement already satisfied: nvidia-nvtx-cu12==12.6.77 in /usr/local/lib/python3.12/dist-packages (from torch->ISLP) (12.6.77)\n",
            "Requirement already satisfied: nvidia-nvjitlink-cu12==12.6.85 in /usr/local/lib/python3.12/dist-packages (from torch->ISLP) (12.6.85)\n",
            "Requirement already satisfied: nvidia-cufile-cu12==1.11.1.6 in /usr/local/lib/python3.12/dist-packages (from torch->ISLP) (1.11.1.6)\n",
            "Requirement already satisfied: triton==3.4.0 in /usr/local/lib/python3.12/dist-packages (from torch->ISLP) (3.4.0)\n",
            "Collecting interface-meta>=1.2.0 (from formulaic>=0.2.2->lifelines->ISLP)\n",
            "  Downloading interface_meta-1.3.0-py3-none-any.whl.metadata (6.7 kB)\n",
            "Requirement already satisfied: narwhals>=1.17 in /usr/local/lib/python3.12/dist-packages (from formulaic>=0.2.2->lifelines->ISLP) (2.10.0)\n",
            "Requirement already satisfied: wrapt>=1.0 in /usr/local/lib/python3.12/dist-packages (from formulaic>=0.2.2->lifelines->ISLP) (2.0.0)\n",
            "Requirement already satisfied: aiohttp!=4.0.0a0,!=4.0.0a1 in /usr/local/lib/python3.12/dist-packages (from fsspec[http]>=2022.5.0->pytorch-lightning->ISLP) (3.13.1)\n",
            "Requirement already satisfied: contourpy>=1.0.1 in /usr/local/lib/python3.12/dist-packages (from matplotlib>=3.0->lifelines->ISLP) (1.3.3)\n",
            "Requirement already satisfied: cycler>=0.10 in /usr/local/lib/python3.12/dist-packages (from matplotlib>=3.0->lifelines->ISLP) (0.12.1)\n",
            "Requirement already satisfied: fonttools>=4.22.0 in /usr/local/lib/python3.12/dist-packages (from matplotlib>=3.0->lifelines->ISLP) (4.60.1)\n",
            "Requirement already satisfied: kiwisolver>=1.3.1 in /usr/local/lib/python3.12/dist-packages (from matplotlib>=3.0->lifelines->ISLP) (1.4.9)\n",
            "Requirement already satisfied: pillow>=8 in /usr/local/lib/python3.12/dist-packages (from matplotlib>=3.0->lifelines->ISLP) (11.3.0)\n",
            "Requirement already satisfied: pyparsing>=2.3.1 in /usr/local/lib/python3.12/dist-packages (from matplotlib>=3.0->lifelines->ISLP) (3.2.5)\n",
            "Requirement already satisfied: python-utils>=3.8.1 in /usr/local/lib/python3.12/dist-packages (from progressbar2<5,>=4.2.0->pygam->ISLP) (3.9.1)\n",
            "Requirement already satisfied: six>=1.5 in /usr/local/lib/python3.12/dist-packages (from python-dateutil>=2.8.2->pandas>=0.20->ISLP) (1.17.0)\n",
            "Requirement already satisfied: mpmath<1.4,>=1.1.0 in /usr/local/lib/python3.12/dist-packages (from sympy>=1.13.3->torch->ISLP) (1.3.0)\n",
            "Requirement already satisfied: MarkupSafe>=2.0 in /usr/local/lib/python3.12/dist-packages (from jinja2->torch->ISLP) (3.0.3)\n",
            "Requirement already satisfied: aiohappyeyeballs>=2.5.0 in /usr/local/lib/python3.12/dist-packages (from aiohttp!=4.0.0a0,!=4.0.0a1->fsspec[http]>=2022.5.0->pytorch-lightning->ISLP) (2.6.1)\n",
            "Requirement already satisfied: aiosignal>=1.4.0 in /usr/local/lib/python3.12/dist-packages (from aiohttp!=4.0.0a0,!=4.0.0a1->fsspec[http]>=2022.5.0->pytorch-lightning->ISLP) (1.4.0)\n",
            "Requirement already satisfied: attrs>=17.3.0 in /usr/local/lib/python3.12/dist-packages (from aiohttp!=4.0.0a0,!=4.0.0a1->fsspec[http]>=2022.5.0->pytorch-lightning->ISLP) (25.4.0)\n",
            "Requirement already satisfied: frozenlist>=1.1.1 in /usr/local/lib/python3.12/dist-packages (from aiohttp!=4.0.0a0,!=4.0.0a1->fsspec[http]>=2022.5.0->pytorch-lightning->ISLP) (1.8.0)\n",
            "Requirement already satisfied: multidict<7.0,>=4.5 in /usr/local/lib/python3.12/dist-packages (from aiohttp!=4.0.0a0,!=4.0.0a1->fsspec[http]>=2022.5.0->pytorch-lightning->ISLP) (6.7.0)\n",
            "Requirement already satisfied: propcache>=0.2.0 in /usr/local/lib/python3.12/dist-packages (from aiohttp!=4.0.0a0,!=4.0.0a1->fsspec[http]>=2022.5.0->pytorch-lightning->ISLP) (0.4.1)\n",
            "Requirement already satisfied: yarl<2.0,>=1.17.0 in /usr/local/lib/python3.12/dist-packages (from aiohttp!=4.0.0a0,!=4.0.0a1->fsspec[http]>=2022.5.0->pytorch-lightning->ISLP) (1.22.0)\n",
            "Requirement already satisfied: idna>=2.0 in /usr/local/lib/python3.12/dist-packages (from yarl<2.0,>=1.17.0->aiohttp!=4.0.0a0,!=4.0.0a1->fsspec[http]>=2022.5.0->pytorch-lightning->ISLP) (3.11)\n",
            "Downloading ISLP-0.4.0-py3-none-any.whl (3.6 MB)\n",
            "\u001b[2K   \u001b[90m━━━━━━━━━━━━━━━━━━━━━━━━━━━━━━━━━━━━━━━━\u001b[0m \u001b[32m3.6/3.6 MB\u001b[0m \u001b[31m23.8 MB/s\u001b[0m eta \u001b[36m0:00:00\u001b[0m\n",
            "\u001b[?25hDownloading lifelines-0.30.0-py3-none-any.whl (349 kB)\n",
            "\u001b[2K   \u001b[90m━━━━━━━━━━━━━━━━━━━━━━━━━━━━━━━━━━━━━━━━\u001b[0m \u001b[32m349.3/349.3 kB\u001b[0m \u001b[31m12.9 MB/s\u001b[0m eta \u001b[36m0:00:00\u001b[0m\n",
            "\u001b[?25hDownloading pygam-0.10.1-py3-none-any.whl (80 kB)\n",
            "\u001b[2K   \u001b[90m━━━━━━━━━━━━━━━━━━━━━━━━━━━━━━━━━━━━━━━━\u001b[0m \u001b[32m80.2/80.2 kB\u001b[0m \u001b[31m4.6 MB/s\u001b[0m eta \u001b[36m0:00:00\u001b[0m\n",
            "\u001b[?25hDownloading pytorch_lightning-2.5.5-py3-none-any.whl (832 kB)\n",
            "\u001b[2K   \u001b[90m━━━━━━━━━━━━━━━━━━━━━━━━━━━━━━━━━━━━━━━━\u001b[0m \u001b[32m832.4/832.4 kB\u001b[0m \u001b[31m18.9 MB/s\u001b[0m eta \u001b[36m0:00:00\u001b[0m\n",
            "\u001b[?25hDownloading torchmetrics-1.8.2-py3-none-any.whl (983 kB)\n",
            "\u001b[2K   \u001b[90m━━━━━━━━━━━━━━━━━━━━━━━━━━━━━━━━━━━━━━━━\u001b[0m \u001b[32m983.2/983.2 kB\u001b[0m \u001b[31m16.6 MB/s\u001b[0m eta \u001b[36m0:00:00\u001b[0m\n",
            "\u001b[?25hDownloading formulaic-1.2.1-py3-none-any.whl (117 kB)\n",
            "\u001b[2K   \u001b[90m━━━━━━━━━━━━━━━━━━━━━━━━━━━━━━━━━━━━━━━━\u001b[0m \u001b[32m117.3/117.3 kB\u001b[0m \u001b[31m4.2 MB/s\u001b[0m eta \u001b[36m0:00:00\u001b[0m\n",
            "\u001b[?25hDownloading lightning_utilities-0.15.2-py3-none-any.whl (29 kB)\n",
            "Downloading interface_meta-1.3.0-py3-none-any.whl (14 kB)\n",
            "Building wheels for collected packages: autograd-gamma\n",
            "  Building wheel for autograd-gamma (setup.py) ... \u001b[?25l\u001b[?25hdone\n",
            "  Created wheel for autograd-gamma: filename=autograd_gamma-0.5.0-py3-none-any.whl size=4030 sha256=1d6d9df96c02679124428573c6a5082cfcc9aa47d05562698ebe2d036642c68f\n",
            "  Stored in directory: /root/.cache/pip/wheels/50/37/21/0a719b9d89c635e89ff24bd93b862882ad675279552013b2fb\n",
            "Successfully built autograd-gamma\n",
            "Installing collected packages: lightning-utilities, interface-meta, autograd-gamma, pygam, formulaic, torchmetrics, lifelines, pytorch-lightning, ISLP\n",
            "Successfully installed ISLP-0.4.0 autograd-gamma-0.5.0 formulaic-1.2.1 interface-meta-1.3.0 lifelines-0.30.0 lightning-utilities-0.15.2 pygam-0.10.1 pytorch-lightning-2.5.5 torchmetrics-1.8.2\n"
          ]
        }
      ]
    },
    {
      "cell_type": "code",
      "execution_count": 2,
      "metadata": {
        "id": "1KY3EkFc6aPD"
      },
      "outputs": [],
      "source": [
        "import matplotlib.pyplot as plt\n",
        "from matplotlib.pyplot import subplots\n",
        "import numpy as np\n",
        "import pandas as pd\n",
        "from ISLP.models import ModelSpec as MS\n",
        "from ISLP import load_data"
      ]
    },
    {
      "cell_type": "markdown",
      "source": [
        "We also collect the new imports needed for this tutorial."
      ],
      "metadata": {
        "id": "t64rLfUIuqVn"
      }
    },
    {
      "cell_type": "code",
      "source": [
        "from lifelines import (KaplanMeierFitter, CoxPHFitter)\n",
        "from lifelines.statistics import (logrank_test, multivariate_logrank_test)\n",
        "from ISLP.survival import sim_time"
      ],
      "metadata": {
        "id": "nSUhyYLluuR6"
      },
      "execution_count": 3,
      "outputs": []
    },
    {
      "cell_type": "markdown",
      "source": [
        "###**1. Brain Cancer Data**\n",
        "\n",
        "We begin with the `BrainCancer` data set, contained in the `ISLP` package."
      ],
      "metadata": {
        "id": "3daQWK_JvIpA"
      }
    },
    {
      "cell_type": "code",
      "source": [
        "BrainCancer = load_data('BrainCancer')\n",
        "BC = BrainCancer.copy()\n",
        "BC.columns"
      ],
      "metadata": {
        "colab": {
          "base_uri": "https://localhost:8080/"
        },
        "id": "SNCloJCnvwTn",
        "outputId": "d8861a2f-8060-4cfc-db90-5a49a1f90147"
      },
      "execution_count": 4,
      "outputs": [
        {
          "output_type": "execute_result",
          "data": {
            "text/plain": [
              "Index(['sex', 'diagnosis', 'loc', 'ki', 'gtv', 'stereo', 'status', 'time'], dtype='object')"
            ]
          },
          "metadata": {},
          "execution_count": 4
        }
      ]
    },
    {
      "cell_type": "code",
      "source": [
        "print(BC.sample(10))"
      ],
      "metadata": {
        "colab": {
          "base_uri": "https://localhost:8080/"
        },
        "id": "uIFg9sauwUSx",
        "outputId": "23decca0-eead-4f5e-9b45-44908e499ca1"
      },
      "execution_count": 5,
      "outputs": [
        {
          "output_type": "stream",
          "name": "stdout",
          "text": [
            "       sex   diagnosis             loc   ki    gtv stereo  status   time\n",
            "48    Male  Meningioma  Supratentorial   70   0.97    SRT       1   1.41\n",
            "81  Female       Other  Supratentorial   90   1.82    SRT       0  47.11\n",
            "18    Male  Meningioma  Supratentorial   80  13.49    SRS       1   6.92\n",
            "5   Female  Meningioma  Supratentorial   80   4.82    SRS       0  52.75\n",
            "71    Male  Meningioma  Supratentorial   80  20.93    SRT       1  31.15\n",
            "61    Male  Meningioma  Supratentorial   80  11.51    SRT       1  14.62\n",
            "77  Female  Meningioma  Supratentorial   90   7.26    SRT       0  49.05\n",
            "78  Female  Meningioma  Supratentorial  100   9.66    SRT       0  39.25\n",
            "27    Male   HG glioma  Supratentorial   70  33.69    SRT       1   0.07\n",
            "82    Male   LG glioma  Infratentorial   90  30.41    SRT       0   1.18\n"
          ]
        }
      ]
    },
    {
      "cell_type": "code",
      "source": [
        "print(f\"Number of rows contained within BC: {BC.shape[0]}\")\n",
        "print(f\"Number of columns contained within BC: {BC.shape[1]}\")"
      ],
      "metadata": {
        "colab": {
          "base_uri": "https://localhost:8080/"
        },
        "id": "eJ3N_7F_weEV",
        "outputId": "ecab953b-6780-4a54-c7d4-b633d8fbaa38"
      },
      "execution_count": 6,
      "outputs": [
        {
          "output_type": "stream",
          "name": "stdout",
          "text": [
            "Number of rows contained within BC: 88\n",
            "Number of columns contained within BC: 8\n"
          ]
        }
      ]
    },
    {
      "cell_type": "markdown",
      "source": [
        "Therows index the 88 patients, while the 8 columns contain the predictors and outcome variables. We first briefly examine the data."
      ],
      "metadata": {
        "id": "CzwUjXl9wXXN"
      }
    },
    {
      "cell_type": "code",
      "source": [
        "print(BC['sex'].value_counts())\n",
        "print(\"-\"*30)\n",
        "print(f\"\\n{BC['diagnosis'].value_counts()}\")\n",
        "print(\"-\"*30)\n",
        "print(f\"\\n{BC['status'].value_counts()}\")"
      ],
      "metadata": {
        "colab": {
          "base_uri": "https://localhost:8080/"
        },
        "id": "Ffa-M5Maw6GK",
        "outputId": "4a8210ec-1049-4ef6-e977-c8c953a63fa8"
      },
      "execution_count": 7,
      "outputs": [
        {
          "output_type": "stream",
          "name": "stdout",
          "text": [
            "sex\n",
            "Female    45\n",
            "Male      43\n",
            "Name: count, dtype: int64\n",
            "------------------------------\n",
            "\n",
            "diagnosis\n",
            "Meningioma    42\n",
            "HG glioma     22\n",
            "Other         14\n",
            "LG glioma      9\n",
            "Name: count, dtype: int64\n",
            "------------------------------\n",
            "\n",
            "status\n",
            "0    53\n",
            "1    35\n",
            "Name: count, dtype: int64\n"
          ]
        }
      ]
    },
    {
      "cell_type": "markdown",
      "source": [
        "For the `BrainCancer` data, the `status` variable was coded conventionally, meaning that 35 patients died before the end of the study.\n",
        "\n",
        "To begin the analysis, we re-create the Kaplan-Meier survival curve."
      ],
      "metadata": {
        "id": "-iIyMMQsxmE4"
      }
    },
    {
      "cell_type": "code",
      "source": [
        "fig, ax = subplots(figsize = (5, 5))\n",
        "km = KaplanMeierFitter()\n",
        "km_brain = km.fit(BC['time'], BC['status'])\n",
        "km_brain.plot(label = 'Kaplan Meier estimate', ax = ax)"
      ],
      "metadata": {
        "colab": {
          "base_uri": "https://localhost:8080/",
          "height": 483
        },
        "id": "b6QXGi8syeQq",
        "outputId": "299e28b7-1759-470f-bbd7-ff4e9ca9dbcd"
      },
      "execution_count": 8,
      "outputs": [
        {
          "output_type": "execute_result",
          "data": {
            "text/plain": [
              "<Axes: xlabel='timeline'>"
            ]
          },
          "metadata": {},
          "execution_count": 8
        },
        {
          "output_type": "display_data",
          "data": {
            "text/plain": [
              "<Figure size 500x500 with 1 Axes>"
            ],
            "image/png": "[encoded data removed]"
          },
          "metadata": {}
        }
      ]
    },
    {
      "cell_type": "markdown",
      "source": [
        "Next, we create Kaplan-Meier survival curves that are stratified by `sex`. We do this employing the `groupby()` method.  "
      ],
      "metadata": {
        "id": "QLvySC5pzX6d"
      }
    },
    {
      "cell_type": "code",
      "source": [
        "fig, ax = subplots(figsize = (5, 5))\n",
        "by_sex = {} # empty tuple to store the results\n",
        "for sex, df in BC.groupby('sex'):\n",
        "  by_sex[sex] = df\n",
        "  km_sex = km.fit(df['time'], df['status'])\n",
        "  km_sex.plot(label = 'Sex = %s' % sex, ax = ax);"
      ],
      "metadata": {
        "colab": {
          "base_uri": "https://localhost:8080/",
          "height": 521
        },
        "id": "iztb4g6azxGA",
        "outputId": "d99e4c0a-89ea-47a5-c7c1-946e4343e928"
      },
      "execution_count": 9,
      "outputs": [
        {
          "output_type": "stream",
          "name": "stderr",
          "text": [
            "/tmp/ipython-input-1894743219.py:3: FutureWarning: The default of observed=False is deprecated and will be changed to True in a future version of pandas. Pass observed=False to retain current behavior or observed=True to adopt the future default and silence this warning.\n",
            "  for sex, df in BC.groupby('sex'):\n"
          ]
        },
        {
          "output_type": "display_data",
          "data": {
            "text/plain": [
              "<Figure size 500x500 with 1 Axes>"
            ],
            "image/png": "[encoded data removed]"
          },
          "metadata": {}
        }
      ]
    },
    {
      "cell_type": "markdown",
      "source": [
        "We can perform a log-rank test to compare the survival of males to females. We use the `logrank_test()` function from the `lifelines.statistics` module."
      ],
      "metadata": {
        "id": "CZo92PDF10g3"
      }
    },
    {
      "cell_type": "code",
      "source": [
        "print(logrank_test(by_sex['Male']['time'],\n",
        "             by_sex['Female']['time'],\n",
        "             by_sex['Male']['status'],\n",
        "             by_sex['Female']['status']))"
      ],
      "metadata": {
        "colab": {
          "base_uri": "https://localhost:8080/"
        },
        "id": "e3_BpGOa2DRk",
        "outputId": "965a7e42-80ab-404a-f657-56454ba730d5"
      },
      "execution_count": 10,
      "outputs": [
        {
          "output_type": "stream",
          "name": "stdout",
          "text": [
            "<lifelines.StatisticalResult: logrank_test>\n",
            "               t_0 = -1\n",
            " null_distribution = chi squared\n",
            "degrees_of_freedom = 1\n",
            "         test_name = logrank_test\n",
            "\n",
            "---\n",
            " test_statistic    p  -log2(p)\n",
            "           1.44 0.23      2.12\n"
          ]
        }
      ]
    },
    {
      "cell_type": "markdown",
      "source": [
        "**The resulting *p*-value is 0.23, indicating no evidence of a significant difference in survival between males and females.**\n",
        "\n",
        "Next, we use the `CoxPHFitter()` estimator from `lifelines` to fit Cox proportional hazards models.  We start with a model that considers `sex` as the only predictor."
      ],
      "metadata": {
        "id": "ei6CwGP92pnz"
      }
    },
    {
      "cell_type": "code",
      "source": [
        "coxph = CoxPHFitter() # CoxPHFitter object\n",
        "sex_df = BC[['time', 'status', 'sex']]\n",
        "model_df = MS(['time', 'status', 'sex'],\n",
        "              intercept = False).fit_transform(sex_df)\n",
        "cox_fit = coxph.fit(model_df,\n",
        "                    'time',\n",
        "                    'status')\n",
        "print(cox_fit.summary)\n",
        "print(\"-\"*80)\n",
        "print(cox_fit.summary[['coef', 'se(coef)', 'p']])"
      ],
      "metadata": {
        "colab": {
          "base_uri": "https://localhost:8080/"
        },
        "id": "unPNFFjC3HOU",
        "outputId": "d4acd18b-ab9f-4fcc-b474-2b4bcd866885"
      },
      "execution_count": 11,
      "outputs": [
        {
          "output_type": "stream",
          "name": "stdout",
          "text": [
            "               coef  exp(coef)  se(coef)  coef lower 95%  coef upper 95%  \\\n",
            "covariate                                                                  \n",
            "sex[Male]  0.407668   1.503309  0.342004       -0.262648        1.077984   \n",
            "\n",
            "           exp(coef) lower 95%  exp(coef) upper 95%  cmp to         z  \\\n",
            "covariate                                                               \n",
            "sex[Male]             0.769013              2.93875     0.0  1.191998   \n",
            "\n",
            "                  p  -log2(p)  \n",
            "covariate                      \n",
            "sex[Male]  0.233262  2.099977  \n",
            "--------------------------------------------------------------------------------\n",
            "               coef  se(coef)         p\n",
            "covariate                              \n",
            "sex[Male]  0.407668  0.342004  0.233262\n"
          ]
        }
      ]
    },
    {
      "cell_type": "markdown",
      "source": [
        "It is possible to obtain the likelihood ratio test comparing this model to the one with no features as follows:"
      ],
      "metadata": {
        "id": "_VJW1BuB4wf8"
      }
    },
    {
      "cell_type": "code",
      "source": [
        "print(cox_fit.log_likelihood_ratio_test())"
      ],
      "metadata": {
        "colab": {
          "base_uri": "https://localhost:8080/"
        },
        "id": "B_fshlBt44E6",
        "outputId": "bfe323ea-5e35-47f8-eec2-dd616c88bcca"
      },
      "execution_count": 12,
      "outputs": [
        {
          "output_type": "stream",
          "name": "stdout",
          "text": [
            "<lifelines.StatisticalResult: log-likelihood ratio test>\n",
            "null_distribution = chi squared\n",
            "  degrees_freedom = 1\n",
            "        test_name = log-likelihood ratio test\n",
            "\n",
            "---\n",
            " test_statistic    p  -log2(p)\n",
            "           1.44 0.23      2.12\n"
          ]
        }
      ]
    },
    {
      "cell_type": "markdown",
      "source": [
        "Regardless of which test we use, we observe that there is no clear evidence for a difference in survival between males and females.\n",
        "\n",
        "Now we fit a model that includes additional predictors. Before implementing the model including the rest of the features, we clean our data by removing all possible null observations."
      ],
      "metadata": {
        "id": "Z-Mis4em5HxC"
      }
    },
    {
      "cell_type": "code",
      "source": [
        "cleaned = BC.dropna()\n",
        "all_MS = MS(cleaned.columns, intercept = False)\n",
        "all_df = all_MS.fit_transform(cleaned)\n",
        "fit_all = coxph.fit(all_df,\n",
        "                    'time',\n",
        "                    'status'\n",
        "                    )\n",
        "print(fit_all.summary)\n",
        "print('-'*80)\n",
        "print(fit_all.summary[['coef', 'se(coef)', 'p']])"
      ],
      "metadata": {
        "colab": {
          "base_uri": "https://localhost:8080/"
        },
        "id": "AKc3dktl52tG",
        "outputId": "5bf2e787-39d8-44d9-f71f-dd1276d9814a"
      },
      "execution_count": 13,
      "outputs": [
        {
          "output_type": "stream",
          "name": "stdout",
          "text": [
            "                           coef  exp(coef)  se(coef)  coef lower 95%  \\\n",
            "covariate                                                              \n",
            "sex[Male]              0.183748   1.201712  0.360358       -0.522541   \n",
            "diagnosis[LG glioma]  -1.239530   0.289520  0.579555       -2.375436   \n",
            "diagnosis[Meningioma] -2.154566   0.115954  0.450524       -3.037577   \n",
            "diagnosis[Other]      -1.268870   0.281149  0.617672       -2.479486   \n",
            "loc[Supratentorial]    0.441195   1.554563  0.703669       -0.937971   \n",
            "ki                    -0.054955   0.946527  0.018314       -0.090850   \n",
            "gtv                    0.034293   1.034887  0.022333       -0.009480   \n",
            "stereo[SRT]            0.177778   1.194560  0.601578       -1.001293   \n",
            "\n",
            "                       coef upper 95%  exp(coef) lower 95%  \\\n",
            "covariate                                                    \n",
            "sex[Male]                    0.890036             0.593012   \n",
            "diagnosis[LG glioma]        -0.103623             0.092974   \n",
            "diagnosis[Meningioma]       -1.271554             0.047951   \n",
            "diagnosis[Other]            -0.058255             0.083786   \n",
            "loc[Supratentorial]          1.820361             0.391421   \n",
            "ki                          -0.019061             0.913155   \n",
            "gtv                          0.078065             0.990565   \n",
            "stereo[SRT]                  1.356848             0.367404   \n",
            "\n",
            "                       exp(coef) upper 95%  cmp to         z         p  \\\n",
            "covariate                                                                \n",
            "sex[Male]                         2.435218     0.0  0.509903  0.610119   \n",
            "diagnosis[LG glioma]              0.901565     0.0 -2.138762  0.032455   \n",
            "diagnosis[Meningioma]             0.280396     0.0 -4.782351  0.000002   \n",
            "diagnosis[Other]                  0.943409     0.0 -2.054278  0.039949   \n",
            "loc[Supratentorial]               6.174084     0.0  0.626992  0.530665   \n",
            "ki                                0.981120     0.0 -3.000768  0.002693   \n",
            "gtv                               1.081192     0.0  1.535502  0.124661   \n",
            "stereo[SRT]                       3.883933     0.0  0.295519  0.767597   \n",
            "\n",
            "                        -log2(p)  \n",
            "covariate                         \n",
            "sex[Male]               0.712836  \n",
            "diagnosis[LG glioma]    4.945417  \n",
            "diagnosis[Meningioma]  19.138659  \n",
            "diagnosis[Other]        4.645705  \n",
            "loc[Supratentorial]     0.914128  \n",
            "ki                      8.536573  \n",
            "gtv                     3.003923  \n",
            "stereo[SRT]             0.381578  \n",
            "--------------------------------------------------------------------------------\n",
            "                           coef  se(coef)         p\n",
            "covariate                                          \n",
            "sex[Male]              0.183748  0.360358  0.610119\n",
            "diagnosis[LG glioma]  -1.239530  0.579555  0.032455\n",
            "diagnosis[Meningioma] -2.154566  0.450524  0.000002\n",
            "diagnosis[Other]      -1.268870  0.617672  0.039949\n",
            "loc[Supratentorial]    0.441195  0.703669  0.530665\n",
            "ki                    -0.054955  0.018314  0.002693\n",
            "gtv                    0.034293  0.022333  0.124661\n",
            "stereo[SRT]            0.177778  0.601578  0.767597\n"
          ]
        }
      ]
    },
    {
      "cell_type": "code",
      "source": [
        "print(cleaned.diagnosis.unique())"
      ],
      "metadata": {
        "colab": {
          "base_uri": "https://localhost:8080/"
        },
        "id": "SMc-A3dw6u-h",
        "outputId": "4b9a1488-3b9f-48c1-a2f7-409c3f575b80"
      },
      "execution_count": 14,
      "outputs": [
        {
          "output_type": "stream",
          "name": "stdout",
          "text": [
            "['Meningioma', 'HG glioma', 'LG glioma', 'Other']\n",
            "Categories (4, object): ['HG glioma', 'LG glioma', 'Meningioma', 'Other']\n"
          ]
        }
      ]
    },
    {
      "cell_type": "code",
      "source": [
        "np.exp(-0.054955)"
      ],
      "metadata": {
        "colab": {
          "base_uri": "https://localhost:8080/"
        },
        "id": "BhvaWED9EhBE",
        "outputId": "3c6433d6-1692-493d-a7b0-b542e58515c8"
      },
      "execution_count": 15,
      "outputs": [
        {
          "output_type": "execute_result",
          "data": {
            "text/plain": [
              "np.float64(0.9465277407434723)"
            ]
          },
          "metadata": {},
          "execution_count": 15
        }
      ]
    },
    {
      "cell_type": "markdown",
      "source": [
        "The `diagnosis` variable has been coded so that the baseline corresponds to HG glioma.\n",
        "\n",
        "The results indicate that the risk associated with HG glioma is more than 8 times (i.e. $e^{2.15} = 8.62$) the risk associated with meningioma. *In other words, after adjusting for the other predictors, patients with HG glioma have significantly lesser survival probability compared to those with meningioma.* Additionally, larger values of the Karnofsky index, `ki`, (i.e. $e^{-0.054} = 0.95$), are associated with lower risk (longer survival).\n",
        "\n",
        "Finally, we plot estimated survival curves for each diagnosis category, adjusting for the other predictors. To make these plots, we set the values of the other predictors equal to the mean for quantitative variables and equal to the mode for categorical. To do this, we use the `apply()` method across rows (i.e. `axis=0`) with a function `rep` that checks if a column is categorical or not.\n",
        "\n",
        "- **hasattr Python built-in function: [hasattr](https://www.geeksforgeeks.org/python/python-hasattr-method/)**\n"
      ],
      "metadata": {
        "id": "AqTvXGjF616e"
      }
    },
    {
      "cell_type": "code",
      "source": [
        "levels = cleaned.diagnosis.unique()\n",
        "\n",
        "def rep(series):\n",
        "  if hasattr(series.dtype, 'categories'):\n",
        "    return pd.Series.mode(series)\n",
        "  else:\n",
        "    return series.mean()\n",
        "model_data = cleaned.apply(rep, axis = 0)"
      ],
      "metadata": {
        "id": "xEYl0hQxFQ0R"
      },
      "execution_count": 16,
      "outputs": []
    },
    {
      "cell_type": "code",
      "source": [
        "print(model_data)"
      ],
      "metadata": {
        "colab": {
          "base_uri": "https://localhost:8080/"
        },
        "id": "oJNMl1BlHRpy",
        "outputId": "c09e9a89-a794-4525-cb9a-8a1cd24eb4c6"
      },
      "execution_count": 17,
      "outputs": [
        {
          "output_type": "stream",
          "name": "stdout",
          "text": [
            "      sex   diagnosis             loc        ki       gtv stereo    status  \\\n",
            "0  Female  Meningioma  Supratentorial  80.91954  8.687011    SRT  0.402299   \n",
            "\n",
            "        time  \n",
            "0  27.188621  \n"
          ]
        }
      ]
    },
    {
      "cell_type": "markdown",
      "source": [
        "We make fpur copies of the column means and assign the `diagnosis` column to be the four different diagnoses."
      ],
      "metadata": {
        "id": "x1KA7EcJGpfY"
      }
    },
    {
      "cell_type": "code",
      "source": [
        "model_df = pd.DataFrame(\n",
        "    [model_data.iloc[0] for _ in range(len(levels))])\n",
        "model_df['diagnosis'] = levels\n",
        "print(model_df)"
      ],
      "metadata": {
        "colab": {
          "base_uri": "https://localhost:8080/"
        },
        "id": "ScugL214GyEG",
        "outputId": "a6318d6b-a958-43c6-ccbc-fe7cf85dc05b"
      },
      "execution_count": 18,
      "outputs": [
        {
          "output_type": "stream",
          "name": "stdout",
          "text": [
            "      sex   diagnosis             loc        ki       gtv stereo    status  \\\n",
            "0  Female  Meningioma  Supratentorial  80.91954  8.687011    SRT  0.402299   \n",
            "0  Female   HG glioma  Supratentorial  80.91954  8.687011    SRT  0.402299   \n",
            "0  Female   LG glioma  Supratentorial  80.91954  8.687011    SRT  0.402299   \n",
            "0  Female       Other  Supratentorial  80.91954  8.687011    SRT  0.402299   \n",
            "\n",
            "        time  \n",
            "0  27.188621  \n",
            "0  27.188621  \n",
            "0  27.188621  \n",
            "0  27.188621  \n"
          ]
        }
      ]
    },
    {
      "cell_type": "markdown",
      "source": [
        "We then construct the model matrix based on the model specification `all_MS` used to fit the model, and name the rows according to the levels of `diagnosis`."
      ],
      "metadata": {
        "id": "9U2EZuOyIA66"
      }
    },
    {
      "cell_type": "code",
      "source": [
        "model_X = all_MS.transform(model_df)\n",
        "model_X.index = levels\n",
        "print(model_X)"
      ],
      "metadata": {
        "colab": {
          "base_uri": "https://localhost:8080/"
        },
        "id": "9rXnuCBmIOXO",
        "outputId": "22f7cc6f-bcb7-4dbb-9154-4e73d43d065f"
      },
      "execution_count": 19,
      "outputs": [
        {
          "output_type": "stream",
          "name": "stdout",
          "text": [
            "            sex[Male]  diagnosis[LG glioma]  diagnosis[Meningioma]  \\\n",
            "Meningioma        0.0                   0.0                    1.0   \n",
            "HG glioma         0.0                   0.0                    0.0   \n",
            "LG glioma         0.0                   1.0                    0.0   \n",
            "Other             0.0                   0.0                    0.0   \n",
            "\n",
            "            diagnosis[Other]  loc[Supratentorial]        ki       gtv  \\\n",
            "Meningioma               0.0                  1.0  80.91954  8.687011   \n",
            "HG glioma                0.0                  1.0  80.91954  8.687011   \n",
            "LG glioma                0.0                  1.0  80.91954  8.687011   \n",
            "Other                    1.0                  1.0  80.91954  8.687011   \n",
            "\n",
            "            stereo[SRT]    status       time  \n",
            "Meningioma          1.0  0.402299  27.188621  \n",
            "HG glioma           1.0  0.402299  27.188621  \n",
            "LG glioma           1.0  0.402299  27.188621  \n",
            "Other               1.0  0.402299  27.188621  \n"
          ]
        }
      ]
    },
    {
      "cell_type": "markdown",
      "source": [
        "We can use the `predict_survival_function()` method to obtain the estimated survival function."
      ],
      "metadata": {
        "id": "UrKShd3MIoY3"
      }
    },
    {
      "cell_type": "code",
      "source": [
        "predicted_survival = fit_all.predict_survival_function(model_X)\n",
        "print(predicted_survival)"
      ],
      "metadata": {
        "colab": {
          "base_uri": "https://localhost:8080/"
        },
        "id": "M_Yp5f4MIzNd",
        "outputId": "30cbf7c1-b288-49cc-8c0a-dce0181dc886"
      },
      "execution_count": 20,
      "outputs": [
        {
          "output_type": "stream",
          "name": "stdout",
          "text": [
            "       Meningioma  HG glioma  LG glioma     Other\n",
            "0.07     0.997947   0.982430   0.994881  0.995029\n",
            "1.18     0.997947   0.982430   0.994881  0.995029\n",
            "1.41     0.995679   0.963342   0.989245  0.989555\n",
            "1.54     0.995679   0.963342   0.989245  0.989555\n",
            "2.03     0.995679   0.963342   0.989245  0.989555\n",
            "...           ...        ...        ...       ...\n",
            "65.02    0.688772   0.040136   0.394181  0.404936\n",
            "67.38    0.688772   0.040136   0.394181  0.404936\n",
            "73.74    0.688772   0.040136   0.394181  0.404936\n",
            "78.75    0.688772   0.040136   0.394181  0.404936\n",
            "82.56    0.688772   0.040136   0.394181  0.404936\n",
            "\n",
            "[85 rows x 4 columns]\n"
          ]
        }
      ]
    },
    {
      "cell_type": "markdown",
      "source": [
        "This return a data frame, whose plot methods yield the different survival curves."
      ],
      "metadata": {
        "id": "XhrMjLTRJFyb"
      }
    },
    {
      "cell_type": "code",
      "source": [
        "fig, ax = subplots(figsize=(5, 5))\n",
        "predicted_survival.plot(ax=ax);"
      ],
      "metadata": {
        "colab": {
          "base_uri": "https://localhost:8080/",
          "height": 445
        },
        "id": "mtLb4Q9fJFEj",
        "outputId": "d5f4edff-1396-4933-e17b-83283aa829c0"
      },
      "execution_count": 21,
      "outputs": [
        {
          "output_type": "display_data",
          "data": {
            "text/plain": [
              "<Figure size 500x500 with 1 Axes>"
            ],
            "image/png": "[encoded data removed]"
          },
          "metadata": {}
        }
      ]
    },
    {
      "cell_type": "markdown",
      "source": [
        "###**2. Publication Data**\n",
        "\n",
        "This data set involves the time to publication of journal papers reporting the results of clinical trials. The covariates include:\n",
        "\n",
        "- `clinend` $\\rightarrow$ whether the study focuses on a clinical endpoint.\n",
        "- `multi` $\\rightarrow$ whether the study involves multiple clinical centers.\n",
        "- `mech`$\\rightarrow$ the funding mechanism.\n",
        "- `sampsize` $\\rightarrow$ sample size.\n",
        "- `budget` $\\rightarrow$ budget (USD)\n",
        "- `Impact`$\\rightarrow$ related to the number of citations.\n",
        "- `posres`$\\rightarrow$ whether the trial produced a positive significant result or a negative result.\n",
        "\n",
        "The `publication` data can be found in the `ISLP` package. We first re-create the Kaplan-Meier curves stratified on the `posres` (whether the trial produced a positive significant result) variable.  "
      ],
      "metadata": {
        "id": "Jad5VheUJV_e"
      }
    },
    {
      "cell_type": "code",
      "source": [
        "fig, ax = subplots(figsize = (5, 5))\n",
        "publication = load_data('Publication')\n",
        "by_result = {} # empty tuple to store the results\n",
        "for result, df in publication.groupby('posres'):\n",
        "  by_result[result] = df\n",
        "  km_result = km.fit(df['time'], df['status'])\n",
        "  km_result.plot(label = 'Result = %d' % result, ax = ax);"
      ],
      "metadata": {
        "colab": {
          "base_uri": "https://localhost:8080/",
          "height": 465
        },
        "id": "HTu85jCCy1wW",
        "outputId": "299aede7-a1d6-4a99-9c45-38a19cc9fd9a"
      },
      "execution_count": 22,
      "outputs": [
        {
          "output_type": "display_data",
          "data": {
            "text/plain": [
              "<Figure size 500x500 with 1 Axes>"
            ],
            "image/png": "[encoded data removed]"
          },
          "metadata": {}
        }
      ]
    },
    {
      "cell_type": "markdown",
      "source": [
        "Next, we fit a Cox's proportional hazards model to quantify the difference between survival times in terms of `posres` variable."
      ],
      "metadata": {
        "id": "bhJjNf6K0PXE"
      }
    },
    {
      "cell_type": "code",
      "source": [
        "posres_df = MS(['posres',\n",
        "                'time',\n",
        "                'status'],\n",
        "               intercept = False).fit_transform(publication)\n",
        "posres_fit = coxph.fit(posres_df,\n",
        "                       'time',\n",
        "                       'status')\n",
        "\n",
        "print(posres_fit.summary)\n",
        "print(\"-\"*50)\n",
        "print(posres_fit.summary[['coef', 'exp(coef)', 'se(coef)', 'p']])"
      ],
      "metadata": {
        "colab": {
          "base_uri": "https://localhost:8080/"
        },
        "id": "R9IQEWQu0fyv",
        "outputId": "c19ecf3d-8562-4d82-dda7-e4bfbb70eab3"
      },
      "execution_count": 23,
      "outputs": [
        {
          "output_type": "stream",
          "name": "stdout",
          "text": [
            "               coef  exp(coef)  se(coef)  coef lower 95%  coef upper 95%  \\\n",
            "covariate                                                                  \n",
            "posres     0.148076   1.159601  0.161625       -0.168704        0.464856   \n",
            "\n",
            "           exp(coef) lower 95%  exp(coef) upper 95%  cmp to         z  \\\n",
            "covariate                                                               \n",
            "posres                0.844759             1.591785     0.0  0.916168   \n",
            "\n",
            "                  p  -log2(p)  \n",
            "covariate                      \n",
            "posres     0.359579  1.475621  \n",
            "--------------------------------------------------\n",
            "               coef  exp(coef)  se(coef)         p\n",
            "covariate                                         \n",
            "posres     0.148076   1.159601  0.161625  0.359579\n"
          ]
        }
      ]
    },
    {
      "cell_type": "markdown",
      "source": [
        "We can observe from the previous results that the *p*-value indicates that there is no significant different between publication times when considering `posres` as the unique covariate.\n",
        "\n",
        "We know consider additional covariates to assess how the model might change:"
      ],
      "metadata": {
        "id": "AjXykBUs1fWU"
      }
    },
    {
      "cell_type": "code",
      "source": [
        "publication.columns"
      ],
      "metadata": {
        "colab": {
          "base_uri": "https://localhost:8080/"
        },
        "id": "Tpckhwgm25B9",
        "outputId": "6405410f-0e9c-48f9-dc1c-80567776c0fb"
      },
      "execution_count": 24,
      "outputs": [
        {
          "output_type": "execute_result",
          "data": {
            "text/plain": [
              "Index(['posres', 'multi', 'clinend', 'mech', 'sampsize', 'budget', 'impact',\n",
              "       'time', 'status'],\n",
              "      dtype='object')"
            ]
          },
          "metadata": {},
          "execution_count": 24
        }
      ]
    },
    {
      "cell_type": "code",
      "source": [
        "add_model_df = MS(publication.drop(['mech'], axis = 1),\n",
        "               intercept = False).fit_transform(publication)\n",
        "add_model_fit = coxph.fit(add_model_df,\n",
        "                       'time',\n",
        "                       'status')\n",
        "print(add_model_fit.summary)\n",
        "print(\"-\"*50)\n",
        "print(add_model_fit.summary[['coef', 'exp(coef)', 'se(coef)', 'p']])"
      ],
      "metadata": {
        "colab": {
          "base_uri": "https://localhost:8080/"
        },
        "id": "0uvCmWO315DE",
        "outputId": "20ec95d5-846b-42d2-ed06-7980c0d97607"
      },
      "execution_count": 25,
      "outputs": [
        {
          "output_type": "stream",
          "name": "stdout",
          "text": [
            "               coef  exp(coef)  se(coef)  coef lower 95%  coef upper 95%  \\\n",
            "covariate                                                                  \n",
            "posres     0.570773   1.769634  0.175960        0.225898        0.915648   \n",
            "multi     -0.040860   0.959964  0.251194       -0.533190        0.451470   \n",
            "clinend    0.546183   1.726650  0.262000        0.032672        1.059694   \n",
            "sampsize   0.000005   1.000005  0.000015       -0.000024        0.000034   \n",
            "budget     0.004386   1.004395  0.002465       -0.000445        0.009216   \n",
            "impact     0.058318   1.060052  0.006676        0.045233        0.071403   \n",
            "\n",
            "           exp(coef) lower 95%  exp(coef) upper 95%  cmp to         z  \\\n",
            "covariate                                                               \n",
            "posres                1.253447             2.498394     0.0  3.243765   \n",
            "multi                 0.586730             1.570620     0.0 -0.162662   \n",
            "clinend               1.033212             2.885489     0.0  2.084668   \n",
            "sampsize              0.999976             1.000034     0.0  0.317716   \n",
            "budget                0.999555             1.009259     0.0  1.779488   \n",
            "impact                1.046272             1.074014     0.0  8.735477   \n",
            "\n",
            "                      p   -log2(p)  \n",
            "covariate                           \n",
            "posres     1.179610e-03   9.727474  \n",
            "multi      8.707842e-01   0.199613  \n",
            "clinend    3.709944e-02   4.752459  \n",
            "sampsize   7.507005e-01   0.413691  \n",
            "budget     7.515984e-02   3.733894  \n",
            "impact     2.426306e-18  58.515944  \n",
            "--------------------------------------------------\n",
            "               coef  exp(coef)  se(coef)             p\n",
            "covariate                                             \n",
            "posres     0.570773   1.769634  0.175960  1.179610e-03\n",
            "multi     -0.040860   0.959964  0.251194  8.707842e-01\n",
            "clinend    0.546183   1.726650  0.262000  3.709944e-02\n",
            "sampsize   0.000005   1.000005  0.000015  7.507005e-01\n",
            "budget     0.004386   1.004395  0.002465  7.515984e-02\n",
            "impact     0.058318   1.060052  0.006676  2.426306e-18\n"
          ]
        }
      ]
    },
    {
      "cell_type": "markdown",
      "source": [
        "As we can now observe, the results changed dramatically when we include other predictors in the model. The variables `posres`, `clinend`, and `impact` indicated a statistically significant effect on publication time in this context."
      ],
      "metadata": {
        "id": "b2NdQUmh3Nlr"
      }
    },
    {
      "cell_type": "markdown",
      "source": [
        "###**3. Call Center Data**\n",
        "\n",
        "In this section, we will simulate survival data using the relationship between cumulative hazard function.a survival function. The simulated data will represent the observed wiat times (in seconds) for 2000 customers who have contacted a call center. In this context, censoring occurs if a customer hangs up before their call is answered.\n",
        "\n",
        "There are three covariates: *i)* `Operators` that represent the number of call center operators available at the time of the call, ranging from 5 to 15, *ii)* `Center` which represents three different call centers (A, B or C), and *iii)* `Time` of day (Morning, Afternoon, or Evening)."
      ],
      "metadata": {
        "id": "tKdUM-LM3wZp"
      }
    },
    {
      "cell_type": "code",
      "source": [
        "rng = np.random.default_rng(123) # Seed\n",
        "N = 2000\n",
        "operators = rng.choice(np.arange(5, 16),\n",
        "                       N,\n",
        "                       replace = True)\n",
        "center = rng.choice(['A', 'B', 'C'],\n",
        "                    N,\n",
        "                    replace = True)\n",
        "time = rng.choice(['Morning', 'Afternoon', 'Evening'],\n",
        "                  N,\n",
        "                  replace = True)\n",
        "df_cc = pd.DataFrame({'Operators': operators,\n",
        "                      'Center': pd.Categorical(center),\n",
        "                      'Time': pd.Categorical(time)})\n",
        "print(df_cc.sample(10))"
      ],
      "metadata": {
        "colab": {
          "base_uri": "https://localhost:8080/"
        },
        "id": "_DvVEv0H67Wp",
        "outputId": "f41a7d62-6359-4095-d47b-3a6fb7957e02"
      },
      "execution_count": 26,
      "outputs": [
        {
          "output_type": "stream",
          "name": "stdout",
          "text": [
            "      Operators Center       Time\n",
            "1681         10      A  Afternoon\n",
            "166           6      C  Afternoon\n",
            "1749          9      A    Morning\n",
            "1871         13      A    Evening\n",
            "1558         13      C    Morning\n",
            "1727         11      A    Morning\n",
            "1064          6      C    Evening\n",
            "939          14      B    Morning\n",
            "1612         13      B  Afternoon\n",
            "1456         12      C    Evening\n"
          ]
        }
      ]
    },
    {
      "cell_type": "markdown",
      "source": [
        "We then build  model matrix:"
      ],
      "metadata": {
        "id": "D_4p-hM6JHSb"
      }
    },
    {
      "cell_type": "code",
      "source": [
        "model_cc = MS(['Operators',\n",
        "               'Center',\n",
        "               'Time'],\n",
        "              intercept = False)\n",
        "X = model_cc.fit_transform(df_cc)"
      ],
      "metadata": {
        "id": "KXz3b1lvJK5M"
      },
      "execution_count": 27,
      "outputs": []
    },
    {
      "cell_type": "code",
      "source": [
        "print(X[:5])"
      ],
      "metadata": {
        "colab": {
          "base_uri": "https://localhost:8080/"
        },
        "id": "i_EXurE4Jobt",
        "outputId": "8b7d20ff-ec48-4c4c-9f87-944e79c24a94"
      },
      "execution_count": 28,
      "outputs": [
        {
          "output_type": "stream",
          "name": "stdout",
          "text": [
            "   Operators  Center[B]  Center[C]  Time[Evening]  Time[Morning]\n",
            "0          5        0.0        0.0            0.0            0.0\n",
            "1         12        1.0        0.0            0.0            0.0\n",
            "2         11        0.0        1.0            0.0            0.0\n",
            "3          5        0.0        0.0            1.0            0.0\n",
            "4         14        0.0        1.0            1.0            0.0\n"
          ]
        }
      ]
    },
    {
      "cell_type": "markdown",
      "source": [
        "We now specify the coefficients and the hazard function:"
      ],
      "metadata": {
        "id": "Sn4eoDdAJw1x"
      }
    },
    {
      "cell_type": "code",
      "source": [
        "true_beta = np.array([0.04, -0.3, 0., 0.2, -0.2])\n",
        "true_linpred = X.dot(true_beta)\n",
        "hazard = lambda t: (1e-5)*t"
      ],
      "metadata": {
        "id": "wi_wGcU3J2DM"
      },
      "execution_count": 29,
      "outputs": []
    },
    {
      "cell_type": "markdown",
      "source": [
        "Here, we have set the coefficient associated with `Operators` to equal 0.04; i.e., each additional operator leads to a $e^{0.04} = 1.041$-fold increase in the \"risk\" that the cal wil be answered, adjusted for the `Center` and `Time` covariates.\n",
        "\n",
        "Next, we use the function `sim_time()` from the `ISLP.survival` package. This function uses the relationship between the survival function and cumulative hazard $S(t) = e^{-H(t)}$ and the specific form of the cumulative hazard function in the Cox model to simulate daa based on values of the linear predictor `true_linpred` and the cumulative hazard."
      ],
      "metadata": {
        "id": "Xh_f7J85Kn-E"
      }
    },
    {
      "cell_type": "code",
      "source": [
        "# Cumulative hazard function\n",
        "cum_hazard = lambda t: (1e-5) * t**2/2"
      ],
      "metadata": {
        "id": "f8Q51_BtMWor"
      },
      "execution_count": 30,
      "outputs": []
    },
    {
      "cell_type": "markdown",
      "source": [
        "We can now genrate data under the Cox proportional hazards model. The function `sim_time()` ([Module: survival](https://islp.readthedocs.io/en/latest/api/generated/ISLP.survival.html)) takes a linear predictor, a cumulative hazard function, and a random number generator. We truncated the maximum waiting time to 1000 seconds.  "
      ],
      "metadata": {
        "id": "MiQ4J-lEMi4K"
      }
    },
    {
      "cell_type": "code",
      "source": [
        "W = np.array([sim_time(l, cum_hazard, rng) for l in true_linpred])\n",
        "df_cc['Wait_time'] = np.clip(W, 0, 1000)\n",
        "print(df_cc.sample(10))"
      ],
      "metadata": {
        "colab": {
          "base_uri": "https://localhost:8080/"
        },
        "id": "1xkCqWaPNiXn",
        "outputId": "4624e1b3-fe92-4a20-8c14-210543d0de53"
      },
      "execution_count": 31,
      "outputs": [
        {
          "output_type": "stream",
          "name": "stdout",
          "text": [
            "      Operators Center       Time   Wait_time\n",
            "210          10      B    Morning  452.292593\n",
            "359          15      A    Evening   37.003778\n",
            "1008          6      B    Evening  418.200629\n",
            "1330          6      A    Evening  165.635756\n",
            "1641          6      B    Evening  533.261323\n",
            "494           8      B    Evening  328.652438\n",
            "1806          5      A  Afternoon   76.198815\n",
            "477          13      B    Evening  153.425844\n",
            "697           5      C    Morning  628.796380\n",
            "224          12      A    Evening  361.971958\n"
          ]
        }
      ]
    },
    {
      "cell_type": "markdown",
      "source": [
        "Finally, we simulate the censoring variable, for which it can be assumed that 90% of calls are answred (`Failed == 1`) before customer hung up (`Failed == 0`)."
      ],
      "metadata": {
        "id": "5yHESnANOQau"
      }
    },
    {
      "cell_type": "code",
      "source": [
        "df_cc['Failed'] = rng.choice([1, 0],\n",
        "                             N,\n",
        "                             p = [0.9, 0.1])\n",
        "print(df_cc[:5])"
      ],
      "metadata": {
        "colab": {
          "base_uri": "https://localhost:8080/"
        },
        "id": "zT20PL5LOjnp",
        "outputId": "858cd92f-1efe-4bf0-8120-41b964520d66"
      },
      "execution_count": 32,
      "outputs": [
        {
          "output_type": "stream",
          "name": "stdout",
          "text": [
            "   Operators Center       Time   Wait_time  Failed\n",
            "0          5      A  Afternoon  326.462155       1\n",
            "1         12      B  Afternoon  332.843994       1\n",
            "2         11      C  Afternoon  273.300768       1\n",
            "3          5      A    Evening  463.642866       1\n",
            "4         14      C    Evening  231.078447       0\n"
          ]
        }
      ]
    },
    {
      "cell_type": "code",
      "source": [
        "df_cc['Failed'].mean()"
      ],
      "metadata": {
        "colab": {
          "base_uri": "https://localhost:8080/"
        },
        "id": "SD0vgqt2O3lx",
        "outputId": "766a6aa0-bb6f-46cf-e6e1-7014f6281e19"
      },
      "execution_count": 33,
      "outputs": [
        {
          "output_type": "execute_result",
          "data": {
            "text/plain": [
              "np.float64(0.907)"
            ]
          },
          "metadata": {},
          "execution_count": 33
        }
      ]
    },
    {
      "cell_type": "markdown",
      "source": [
        "####**Kaplan-Meier survival Curves:**"
      ],
      "metadata": {
        "id": "hwQFR23uO6jt"
      }
    },
    {
      "cell_type": "markdown",
      "source": [
        "#####**Stratified by Center:**"
      ],
      "metadata": {
        "id": "TpZmSao8RIyu"
      }
    },
    {
      "cell_type": "code",
      "source": [
        "# Stratified by Center\n",
        "fig, ax = subplots(figsize = (8, 5))\n",
        "by_center = {} # empty tuple to store the results\n",
        "for center, df in df_cc.groupby('Center'):\n",
        "  by_center[center] = df\n",
        "  km_center = km.fit(df['Wait_time'], df['Failed'])\n",
        "  km_center.plot(label = 'Center = %s' % center, ax = ax);\n",
        "ax.set_title(\"Probability of Still Being on Hold\")"
      ],
      "metadata": {
        "colab": {
          "base_uri": "https://localhost:8080/",
          "height": 561
        },
        "id": "9LH6qkoZPwTT",
        "outputId": "0e2c8868-92d2-440b-d73c-a7dd68a8b5b8"
      },
      "execution_count": 34,
      "outputs": [
        {
          "output_type": "stream",
          "name": "stderr",
          "text": [
            "/tmp/ipython-input-1494504685.py:4: FutureWarning: The default of observed=False is deprecated and will be changed to True in a future version of pandas. Pass observed=False to retain current behavior or observed=True to adopt the future default and silence this warning.\n",
            "  for center, df in df_cc.groupby('Center'):\n"
          ]
        },
        {
          "output_type": "execute_result",
          "data": {
            "text/plain": [
              "Text(0.5, 1.0, 'Probability of Still Being on Hold')"
            ]
          },
          "metadata": {},
          "execution_count": 34
        },
        {
          "output_type": "display_data",
          "data": {
            "text/plain": [
              "<Figure size 800x500 with 1 Axes>"
            ],
            "image/png": "[encoded data removed]"
          },
          "metadata": {}
        }
      ]
    },
    {
      "cell_type": "markdown",
      "source": [
        "#####**Stratified by Time:**"
      ],
      "metadata": {
        "id": "rQAW3xKNROJY"
      }
    },
    {
      "cell_type": "code",
      "source": [
        "# Stratified by Time\n",
        "fig, ax = subplots(figsize = (8, 5))\n",
        "by_time = {} # empty tuple to store the results\n",
        "for time, df in df_cc.groupby('Time'):\n",
        "  by_time[time] = df\n",
        "  km_time = km.fit(df['Wait_time'], df['Failed'])\n",
        "  km_time.plot(label = 'Time = %s' % time, ax = ax);\n",
        "ax.set_title(\"Probability of Still Being on Hold\")"
      ],
      "metadata": {
        "colab": {
          "base_uri": "https://localhost:8080/",
          "height": 561
        },
        "id": "0n5wWILzRRho",
        "outputId": "e6f57b73-4f17-4026-b088-abc6ae8bbfe0"
      },
      "execution_count": 35,
      "outputs": [
        {
          "output_type": "stream",
          "name": "stderr",
          "text": [
            "/tmp/ipython-input-2602387839.py:4: FutureWarning: The default of observed=False is deprecated and will be changed to True in a future version of pandas. Pass observed=False to retain current behavior or observed=True to adopt the future default and silence this warning.\n",
            "  for time, df in df_cc.groupby('Time'):\n"
          ]
        },
        {
          "output_type": "execute_result",
          "data": {
            "text/plain": [
              "Text(0.5, 1.0, 'Probability of Still Being on Hold')"
            ]
          },
          "metadata": {},
          "execution_count": 35
        },
        {
          "output_type": "display_data",
          "data": {
            "text/plain": [
              "<Figure size 800x500 with 1 Axes>"
            ],
            "image/png": "[encoded data removed]"
          },
          "metadata": {}
        }
      ]
    },
    {
      "cell_type": "markdown",
      "source": [
        "Based on the plots above, it seems that at Call Center B take longer to be answered than calls at Centers A and C. Likewise, it appears that wit times are longest in the morning and shortest in the evening hours.\n",
        "\n",
        "We can now use the log-rank test to determine whether these differences are statistically significant employing the `multivariate_logrank_test()` function."
      ],
      "metadata": {
        "id": "w5Aubxyy20pF"
      }
    },
    {
      "cell_type": "markdown",
      "source": [
        "#####**Log-rank test considering `Centers`:**"
      ],
      "metadata": {
        "id": "NXMrBXl73_Gi"
      }
    },
    {
      "cell_type": "code",
      "source": [
        "print(multivariate_logrank_test(df_cc['Wait_time'],\n",
        "                          df_cc['Center'],\n",
        "                          df_cc['Failed']))"
      ],
      "metadata": {
        "colab": {
          "base_uri": "https://localhost:8080/"
        },
        "id": "_pWzxGza3X9W",
        "outputId": "ec82f992-3090-4618-c683-d2ba6f9ffd83"
      },
      "execution_count": 37,
      "outputs": [
        {
          "output_type": "stream",
          "name": "stdout",
          "text": [
            "<lifelines.StatisticalResult: multivariate_logrank_test>\n",
            "               t_0 = -1\n",
            " null_distribution = chi squared\n",
            "degrees_of_freedom = 2\n",
            "         test_name = multivariate_logrank_test\n",
            "\n",
            "---\n",
            " test_statistic      p  -log2(p)\n",
            "          16.13 <0.005     11.64\n"
          ]
        }
      ]
    },
    {
      "cell_type": "markdown",
      "source": [
        "#####**Log-rank test considering `Time`:**"
      ],
      "metadata": {
        "id": "jOyFUd8c3-gl"
      }
    },
    {
      "cell_type": "code",
      "source": [
        "print(multivariate_logrank_test(df_cc['Wait_time'],\n",
        "                          df_cc['Time'],\n",
        "                          df_cc['Failed']))"
      ],
      "metadata": {
        "colab": {
          "base_uri": "https://localhost:8080/"
        },
        "id": "VhITbiS2398U",
        "outputId": "61aac54a-ab0f-4476-d1f4-3767d73faac7"
      },
      "execution_count": 38,
      "outputs": [
        {
          "output_type": "stream",
          "name": "stdout",
          "text": [
            "<lifelines.StatisticalResult: multivariate_logrank_test>\n",
            "               t_0 = -1\n",
            " null_distribution = chi squared\n",
            "degrees_of_freedom = 2\n",
            "         test_name = multivariate_logrank_test\n",
            "\n",
            "---\n",
            " test_statistic      p  -log2(p)\n",
            "          66.58 <0.005     48.03\n"
          ]
        }
      ]
    },
    {
      "cell_type": "markdown",
      "source": [
        "As in the case of a categorical variable with 2 levels, these results showcase similarities to the likelihood ratio from the Cox proportional hazards model. First, we look at the results for `Center` variable:"
      ],
      "metadata": {
        "id": "ceYkToSw4lxK"
      }
    },
    {
      "cell_type": "code",
      "source": [
        "X = MS(['Wait_time', 'Failed', 'Center'],\n",
        "       intercept = False).fit_transform(df_cc)\n",
        "F_center = coxph.fit(X, 'Wait_time', 'Failed')\n",
        "print(F_center.log_likelihood_ratio_test())"
      ],
      "metadata": {
        "colab": {
          "base_uri": "https://localhost:8080/"
        },
        "id": "9Uq1ia2B42Jm",
        "outputId": "6efb11c6-02d1-4c0f-8d4a-c08d5c1204f1"
      },
      "execution_count": 41,
      "outputs": [
        {
          "output_type": "stream",
          "name": "stdout",
          "text": [
            "<lifelines.StatisticalResult: log-likelihood ratio test>\n",
            "null_distribution = chi squared\n",
            "  degrees_freedom = 2\n",
            "        test_name = log-likelihood ratio test\n",
            "\n",
            "---\n",
            " test_statistic      p  -log2(p)\n",
            "          16.19 <0.005     11.68\n"
          ]
        }
      ]
    },
    {
      "cell_type": "markdown",
      "source": [
        "Next, we look at the results for `Time` variable:"
      ],
      "metadata": {
        "id": "xMlRsV-q5cN6"
      }
    },
    {
      "cell_type": "code",
      "source": [
        "X = MS(['Wait_time', 'Failed', 'Time'],\n",
        "       intercept = False).fit_transform(df_cc)\n",
        "F_time = coxph.fit(X, 'Wait_time', 'Failed')\n",
        "print(F_time.log_likelihood_ratio_test())"
      ],
      "metadata": {
        "colab": {
          "base_uri": "https://localhost:8080/"
        },
        "id": "Fxm2DVE15bsF",
        "outputId": "ac50282c-56ae-40df-ff25-ef7420eef5e5"
      },
      "execution_count": 42,
      "outputs": [
        {
          "output_type": "stream",
          "name": "stdout",
          "text": [
            "<lifelines.StatisticalResult: log-likelihood ratio test>\n",
            "null_distribution = chi squared\n",
            "  degrees_freedom = 2\n",
            "        test_name = log-likelihood ratio test\n",
            "\n",
            "---\n",
            " test_statistic      p  -log2(p)\n",
            "          67.64 <0.005     48.79\n"
          ]
        }
      ]
    },
    {
      "cell_type": "markdown",
      "source": [
        "**We find that differences between centers and times of the day are highly significant.**"
      ],
      "metadata": {
        "id": "6PHPzdZS5vSd"
      }
    },
    {
      "cell_type": "markdown",
      "source": [
        "Finally, we fit Cox's proportional hazards model to the data."
      ],
      "metadata": {
        "id": "DMIqeoAf57fV"
      }
    },
    {
      "cell_type": "code",
      "source": [
        "X = MS(df_cc.columns,\n",
        "       intercept = False).fit_transform(df_cc)\n",
        "model_fit = coxph.fit(X,\n",
        "                      'Wait_time',\n",
        "                      'Failed')\n",
        "print(model_fit.summary)\n",
        "print(\"-\"*50)\n",
        "print(model_fit.summary[['coef', 'exp(coef)', 'se(coef)', 'p']])"
      ],
      "metadata": {
        "colab": {
          "base_uri": "https://localhost:8080/"
        },
        "id": "2UlrLh7o6N_L",
        "outputId": "850f2c69-b374-4bdb-ce0e-2bdeb1e5183f"
      },
      "execution_count": 44,
      "outputs": [
        {
          "output_type": "stream",
          "name": "stdout",
          "text": [
            "                   coef  exp(coef)  se(coef)  coef lower 95%  coef upper 95%  \\\n",
            "covariate                                                                      \n",
            "Operators      0.034194   1.034785  0.007411        0.019668        0.048720   \n",
            "Center[B]     -0.224564   0.798864  0.057514       -0.337290       -0.111839   \n",
            "Center[C]     -0.057009   0.944586  0.057635       -0.169970        0.055953   \n",
            "Time[Evening]  0.116877   1.123981  0.058081        0.003041        0.230713   \n",
            "Time[Morning] -0.335166   0.715219  0.058305       -0.449442       -0.220889   \n",
            "\n",
            "               exp(coef) lower 95%  exp(coef) upper 95%  cmp to         z  \\\n",
            "covariate                                                                   \n",
            "Operators                 1.019863             1.049927     0.0  4.613669   \n",
            "Center[B]                 0.713702             0.894188     0.0 -3.904514   \n",
            "Center[C]                 0.843690             1.057548     0.0 -0.989141   \n",
            "Time[Evening]             1.003045             1.259498     0.0  2.012314   \n",
            "Time[Morning]             0.637984             0.801805     0.0 -5.748454   \n",
            "\n",
            "                          p   -log2(p)  \n",
            "covariate                               \n",
            "Operators      3.956219e-06  17.947446  \n",
            "Center[B]      9.441480e-05  13.370627  \n",
            "Center[C]      3.225940e-01   1.632208  \n",
            "Time[Evening]  4.418682e-02   4.500240  \n",
            "Time[Morning]  9.006300e-09  26.726418  \n",
            "--------------------------------------------------\n",
            "                   coef  exp(coef)  se(coef)             p\n",
            "covariate                                                 \n",
            "Operators      0.034194   1.034785  0.007411  3.956219e-06\n",
            "Center[B]     -0.224564   0.798864  0.057514  9.441480e-05\n",
            "Center[C]     -0.057009   0.944586  0.057635  3.225940e-01\n",
            "Time[Evening]  0.116877   1.123981  0.058081  4.418682e-02\n",
            "Time[Morning] -0.335166   0.715219  0.058305  9.006300e-09\n"
          ]
        }
      ]
    },
    {
      "cell_type": "markdown",
      "source": [
        "The *p*-values for Center B and morning time are significantly small, 9.44e-5 and 9.01e-9, respectively. It is also clear that the hazard -- that is, the instantaneous *\"risk\"* that a call will be answered -- increases with the number of operators.\n",
        "\n",
        "\n"
      ],
      "metadata": {
        "id": "ZKCaopqe6-NQ"
      }
    }
  ]
}