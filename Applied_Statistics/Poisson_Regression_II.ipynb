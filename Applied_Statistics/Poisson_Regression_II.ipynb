{
  "nbformat": 4,
  "nbformat_minor": 0,
  "metadata": {
    "colab": {
      "provenance": [],
      "authorship_tag": "ABX9TyOnsXk+eh2U1GvDMNr1gJ7G",
      "include_colab_link": true
    },
    "kernelspec": {
      "name": "python3",
      "display_name": "Python 3"
    },
    "language_info": {
      "name": "python"
    }
  },
  "cells": [
    {
      "cell_type": "markdown",
      "metadata": {
        "id": "view-in-github",
        "colab_type": "text"
      },
      "source": [
        "<a href=\"https://colab.research.google.com/github/luisfranc123/Tutorials_Statistics_Numerical_Analysis/blob/main/Applied_Statistics/Poisson_Regression_II.ipynb\" target=\"_parent\"><img src=\"https://colab.research.google.com/assets/colab-badge.svg\" alt=\"Open In Colab\"/></a>"
      ]
    },
    {
      "cell_type": "markdown",
      "source": [
        "##**The Poisson Regression**\n",
        "---\n",
        "\n",
        "###**What Are Poisson Regression Models?**\n",
        "Poisson Regression models are best used to model events where the outcomes are counted. More specifically, count data consists of discrete data with non-negative integer values that count something, like the number of times an event occurs during a given timeframe or the number of people in line at the grocery store.\n",
        "\n",
        "Count data can also be expressed as rate data, since the number of times an event occurs within a timeframe can be expressed as a raw count (i.e. \"In a day, we eat three meals\") or as a rate (\"We eat at a rate of 0.125 meals per hour\").\n",
        "\n",
        "Poisson Regression helps us analyze both count and rate data by allowing us to determine which explanatory variables (X values) affect a given response variable (Y value, the count, or a rate). For example, a grocery store could apply Poisson regression to better understand and predict the number of people in a line.\n",
        "\n",
        "###**What is Poisson Distribution?**\n",
        "\n",
        "Poisson distribution is a statistical theory named after French mathematician Siméon Denis Poisson. It models the probability of event or events occurring within a specific timeframe, assuming that $y$ occurrences are not affected by the timing of previous occurrences of $y$. This can be expressed mathematically using the following formula:\n",
        "\n",
        "\\begin{align}\n",
        "P(y)=\\frac{e^{-\\mu{t}}(\\mu{t})^{y}}{y!}\n",
        "\\end{align}\n",
        "\n",
        "where $y$ = 0, 1, 2, 3...\n",
        "\n",
        "Here, μ (in some textbooks you may see λ instead of μ) is the average number of times an event may occur per unit of exposure. It is also called the parameter of Poisson distribution. The exposure may be time, space, population size, distance, or area, but it is often time, denoted with t. If exposure value is not given it is assumed to be equal to 1."
      ],
      "metadata": {
        "id": "oeuktZM8ZGUV"
      }
    },
    {
      "cell_type": "markdown",
      "source": [
        "##**Poisson Regression in Python**\n",
        "---"
      ],
      "metadata": {
        "id": "VXw6qKxoeMmc"
      }
    },
    {
      "cell_type": "markdown",
      "source": [
        "![Arrest](https://beyondcourts.org/sites/default/files/2022-06/1%20-%20arrest%20-%20precinct.png)"
      ],
      "metadata": {
        "id": "Hi3S5D5jd5Kk"
      }
    },
    {
      "cell_type": "markdown",
      "source": [
        "###**Setup**"
      ],
      "metadata": {
        "id": "KBHlEpP1Bn1O"
      }
    },
    {
      "cell_type": "code",
      "source": [
        "# This code enable us to have access to the Drive environment\n",
        "from google.colab import drive\n",
        "drive.mount('/content/drive')"
      ],
      "metadata": {
        "colab": {
          "base_uri": "https://localhost:8080/"
        },
        "id": "gyJJwN2REdOx",
        "outputId": "6eb04d91-5330-4c2f-d0fe-5006a4a287bb"
      },
      "execution_count": null,
      "outputs": [
        {
          "output_type": "stream",
          "name": "stdout",
          "text": [
            "Mounted at /content/drive\n"
          ]
        }
      ]
    },
    {
      "cell_type": "code",
      "execution_count": null,
      "metadata": {
        "colab": {
          "base_uri": "https://localhost:8080/",
          "height": 206
        },
        "id": "bwVB4PThBYy6",
        "outputId": "d15d1221-9c6a-4370-a82b-64d7e6271e61"
      },
      "outputs": [
        {
          "output_type": "execute_result",
          "data": {
            "text/plain": [
              "     stops    pop  past.arrests  precinct  eth  crime\n",
              "599      4    611            13        50    3      4\n",
              "406    243  62100           142        34    3      3\n",
              "844    196  39395           264        71    2      1\n",
              "304     92  63458           883        26    2      1\n",
              "101     25   3919            25         9    2      2"
            ],
            "text/html": [
              "\n",
              "  <div id=\"df-86b2ada9-1546-4f7f-a1ef-5c35f4c4cc2a\" class=\"colab-df-container\">\n",
              "    <div>\n",
              "<style scoped>\n",
              "    .dataframe tbody tr th:only-of-type {\n",
              "        vertical-align: middle;\n",
              "    }\n",
              "\n",
              "    .dataframe tbody tr th {\n",
              "        vertical-align: top;\n",
              "    }\n",
              "\n",
              "    .dataframe thead th {\n",
              "        text-align: right;\n",
              "    }\n",
              "</style>\n",
              "<table border=\"1\" class=\"dataframe\">\n",
              "  <thead>\n",
              "    <tr style=\"text-align: right;\">\n",
              "      <th></th>\n",
              "      <th>stops</th>\n",
              "      <th>pop</th>\n",
              "      <th>past.arrests</th>\n",
              "      <th>precinct</th>\n",
              "      <th>eth</th>\n",
              "      <th>crime</th>\n",
              "    </tr>\n",
              "  </thead>\n",
              "  <tbody>\n",
              "    <tr>\n",
              "      <th>599</th>\n",
              "      <td>4</td>\n",
              "      <td>611</td>\n",
              "      <td>13</td>\n",
              "      <td>50</td>\n",
              "      <td>3</td>\n",
              "      <td>4</td>\n",
              "    </tr>\n",
              "    <tr>\n",
              "      <th>406</th>\n",
              "      <td>243</td>\n",
              "      <td>62100</td>\n",
              "      <td>142</td>\n",
              "      <td>34</td>\n",
              "      <td>3</td>\n",
              "      <td>3</td>\n",
              "    </tr>\n",
              "    <tr>\n",
              "      <th>844</th>\n",
              "      <td>196</td>\n",
              "      <td>39395</td>\n",
              "      <td>264</td>\n",
              "      <td>71</td>\n",
              "      <td>2</td>\n",
              "      <td>1</td>\n",
              "    </tr>\n",
              "    <tr>\n",
              "      <th>304</th>\n",
              "      <td>92</td>\n",
              "      <td>63458</td>\n",
              "      <td>883</td>\n",
              "      <td>26</td>\n",
              "      <td>2</td>\n",
              "      <td>1</td>\n",
              "    </tr>\n",
              "    <tr>\n",
              "      <th>101</th>\n",
              "      <td>25</td>\n",
              "      <td>3919</td>\n",
              "      <td>25</td>\n",
              "      <td>9</td>\n",
              "      <td>2</td>\n",
              "      <td>2</td>\n",
              "    </tr>\n",
              "  </tbody>\n",
              "</table>\n",
              "</div>\n",
              "    <div class=\"colab-df-buttons\">\n",
              "\n",
              "  <div class=\"colab-df-container\">\n",
              "    <button class=\"colab-df-convert\" onclick=\"convertToInteractive('df-86b2ada9-1546-4f7f-a1ef-5c35f4c4cc2a')\"\n",
              "            title=\"Convert this dataframe to an interactive table.\"\n",
              "            style=\"display:none;\">\n",
              "\n",
              "  <svg xmlns=\"http://www.w3.org/2000/svg\" height=\"24px\" viewBox=\"0 -960 960 960\">\n",
              "    <path d=\"M120-120v-720h720v720H120Zm60-500h600v-160H180v160Zm220 220h160v-160H400v160Zm0 220h160v-160H400v160ZM180-400h160v-160H180v160Zm440 0h160v-160H620v160ZM180-180h160v-160H180v160Zm440 0h160v-160H620v160Z\"/>\n",
              "  </svg>\n",
              "    </button>\n",
              "\n",
              "  <style>\n",
              "    .colab-df-container {\n",
              "      display:flex;\n",
              "      gap: 12px;\n",
              "    }\n",
              "\n",
              "    .colab-df-convert {\n",
              "      background-color: #E8F0FE;\n",
              "      border: none;\n",
              "      border-radius: 50%;\n",
              "      cursor: pointer;\n",
              "      display: none;\n",
              "      fill: #1967D2;\n",
              "      height: 32px;\n",
              "      padding: 0 0 0 0;\n",
              "      width: 32px;\n",
              "    }\n",
              "\n",
              "    .colab-df-convert:hover {\n",
              "      background-color: #E2EBFA;\n",
              "      box-shadow: 0px 1px 2px rgba(60, 64, 67, 0.3), 0px 1px 3px 1px rgba(60, 64, 67, 0.15);\n",
              "      fill: #174EA6;\n",
              "    }\n",
              "\n",
              "    .colab-df-buttons div {\n",
              "      margin-bottom: 4px;\n",
              "    }\n",
              "\n",
              "    [theme=dark] .colab-df-convert {\n",
              "      background-color: #3B4455;\n",
              "      fill: #D2E3FC;\n",
              "    }\n",
              "\n",
              "    [theme=dark] .colab-df-convert:hover {\n",
              "      background-color: #434B5C;\n",
              "      box-shadow: 0px 1px 3px 1px rgba(0, 0, 0, 0.15);\n",
              "      filter: drop-shadow(0px 1px 2px rgba(0, 0, 0, 0.3));\n",
              "      fill: #FFFFFF;\n",
              "    }\n",
              "  </style>\n",
              "\n",
              "    <script>\n",
              "      const buttonEl =\n",
              "        document.querySelector('#df-86b2ada9-1546-4f7f-a1ef-5c35f4c4cc2a button.colab-df-convert');\n",
              "      buttonEl.style.display =\n",
              "        google.colab.kernel.accessAllowed ? 'block' : 'none';\n",
              "\n",
              "      async function convertToInteractive(key) {\n",
              "        const element = document.querySelector('#df-86b2ada9-1546-4f7f-a1ef-5c35f4c4cc2a');\n",
              "        const dataTable =\n",
              "          await google.colab.kernel.invokeFunction('convertToInteractive',\n",
              "                                                    [key], {});\n",
              "        if (!dataTable) return;\n",
              "\n",
              "        const docLinkHtml = 'Like what you see? Visit the ' +\n",
              "          '<a target=\"_blank\" href=https://colab.research.google.com/notebooks/data_table.ipynb>data table notebook</a>'\n",
              "          + ' to learn more about interactive tables.';\n",
              "        element.innerHTML = '';\n",
              "        dataTable['output_type'] = 'display_data';\n",
              "        await google.colab.output.renderOutput(dataTable, element);\n",
              "        const docLink = document.createElement('div');\n",
              "        docLink.innerHTML = docLinkHtml;\n",
              "        element.appendChild(docLink);\n",
              "      }\n",
              "    </script>\n",
              "  </div>\n",
              "\n",
              "\n",
              "<div id=\"df-79bad0fc-8fcb-488d-a95f-2a3e2c92613a\">\n",
              "  <button class=\"colab-df-quickchart\" onclick=\"quickchart('df-79bad0fc-8fcb-488d-a95f-2a3e2c92613a')\"\n",
              "            title=\"Suggest charts\"\n",
              "            style=\"display:none;\">\n",
              "\n",
              "<svg xmlns=\"http://www.w3.org/2000/svg\" height=\"24px\"viewBox=\"0 0 24 24\"\n",
              "     width=\"24px\">\n",
              "    <g>\n",
              "        <path d=\"M19 3H5c-1.1 0-2 .9-2 2v14c0 1.1.9 2 2 2h14c1.1 0 2-.9 2-2V5c0-1.1-.9-2-2-2zM9 17H7v-7h2v7zm4 0h-2V7h2v10zm4 0h-2v-4h2v4z\"/>\n",
              "    </g>\n",
              "</svg>\n",
              "  </button>\n",
              "\n",
              "<style>\n",
              "  .colab-df-quickchart {\n",
              "      --bg-color: #E8F0FE;\n",
              "      --fill-color: #1967D2;\n",
              "      --hover-bg-color: #E2EBFA;\n",
              "      --hover-fill-color: #174EA6;\n",
              "      --disabled-fill-color: #AAA;\n",
              "      --disabled-bg-color: #DDD;\n",
              "  }\n",
              "\n",
              "  [theme=dark] .colab-df-quickchart {\n",
              "      --bg-color: #3B4455;\n",
              "      --fill-color: #D2E3FC;\n",
              "      --hover-bg-color: #434B5C;\n",
              "      --hover-fill-color: #FFFFFF;\n",
              "      --disabled-bg-color: #3B4455;\n",
              "      --disabled-fill-color: #666;\n",
              "  }\n",
              "\n",
              "  .colab-df-quickchart {\n",
              "    background-color: var(--bg-color);\n",
              "    border: none;\n",
              "    border-radius: 50%;\n",
              "    cursor: pointer;\n",
              "    display: none;\n",
              "    fill: var(--fill-color);\n",
              "    height: 32px;\n",
              "    padding: 0;\n",
              "    width: 32px;\n",
              "  }\n",
              "\n",
              "  .colab-df-quickchart:hover {\n",
              "    background-color: var(--hover-bg-color);\n",
              "    box-shadow: 0 1px 2px rgba(60, 64, 67, 0.3), 0 1px 3px 1px rgba(60, 64, 67, 0.15);\n",
              "    fill: var(--button-hover-fill-color);\n",
              "  }\n",
              "\n",
              "  .colab-df-quickchart-complete:disabled,\n",
              "  .colab-df-quickchart-complete:disabled:hover {\n",
              "    background-color: var(--disabled-bg-color);\n",
              "    fill: var(--disabled-fill-color);\n",
              "    box-shadow: none;\n",
              "  }\n",
              "\n",
              "  .colab-df-spinner {\n",
              "    border: 2px solid var(--fill-color);\n",
              "    border-color: transparent;\n",
              "    border-bottom-color: var(--fill-color);\n",
              "    animation:\n",
              "      spin 1s steps(1) infinite;\n",
              "  }\n",
              "\n",
              "  @keyframes spin {\n",
              "    0% {\n",
              "      border-color: transparent;\n",
              "      border-bottom-color: var(--fill-color);\n",
              "      border-left-color: var(--fill-color);\n",
              "    }\n",
              "    20% {\n",
              "      border-color: transparent;\n",
              "      border-left-color: var(--fill-color);\n",
              "      border-top-color: var(--fill-color);\n",
              "    }\n",
              "    30% {\n",
              "      border-color: transparent;\n",
              "      border-left-color: var(--fill-color);\n",
              "      border-top-color: var(--fill-color);\n",
              "      border-right-color: var(--fill-color);\n",
              "    }\n",
              "    40% {\n",
              "      border-color: transparent;\n",
              "      border-right-color: var(--fill-color);\n",
              "      border-top-color: var(--fill-color);\n",
              "    }\n",
              "    60% {\n",
              "      border-color: transparent;\n",
              "      border-right-color: var(--fill-color);\n",
              "    }\n",
              "    80% {\n",
              "      border-color: transparent;\n",
              "      border-right-color: var(--fill-color);\n",
              "      border-bottom-color: var(--fill-color);\n",
              "    }\n",
              "    90% {\n",
              "      border-color: transparent;\n",
              "      border-bottom-color: var(--fill-color);\n",
              "    }\n",
              "  }\n",
              "</style>\n",
              "\n",
              "  <script>\n",
              "    async function quickchart(key) {\n",
              "      const quickchartButtonEl =\n",
              "        document.querySelector('#' + key + ' button');\n",
              "      quickchartButtonEl.disabled = true;  // To prevent multiple clicks.\n",
              "      quickchartButtonEl.classList.add('colab-df-spinner');\n",
              "      try {\n",
              "        const charts = await google.colab.kernel.invokeFunction(\n",
              "            'suggestCharts', [key], {});\n",
              "      } catch (error) {\n",
              "        console.error('Error during call to suggestCharts:', error);\n",
              "      }\n",
              "      quickchartButtonEl.classList.remove('colab-df-spinner');\n",
              "      quickchartButtonEl.classList.add('colab-df-quickchart-complete');\n",
              "    }\n",
              "    (() => {\n",
              "      let quickchartButtonEl =\n",
              "        document.querySelector('#df-79bad0fc-8fcb-488d-a95f-2a3e2c92613a button');\n",
              "      quickchartButtonEl.style.display =\n",
              "        google.colab.kernel.accessAllowed ? 'block' : 'none';\n",
              "    })();\n",
              "  </script>\n",
              "</div>\n",
              "\n",
              "    </div>\n",
              "  </div>\n"
            ],
            "application/vnd.google.colaboratory.intrinsic+json": {
              "type": "dataframe",
              "summary": "{\n  \"name\": \"data\",\n  \"rows\": 5,\n  \"fields\": [\n    {\n      \"column\": \"stops\",\n      \"properties\": {\n        \"dtype\": \"number\",\n        \"std\": 104,\n        \"min\": 4,\n        \"max\": 243,\n        \"num_unique_values\": 5,\n        \"samples\": [\n          243,\n          25,\n          196\n        ],\n        \"semantic_type\": \"\",\n        \"description\": \"\"\n      }\n    },\n    {\n      \"column\": \"pop\",\n      \"properties\": {\n        \"dtype\": \"number\",\n        \"std\": 30438,\n        \"min\": 611,\n        \"max\": 63458,\n        \"num_unique_values\": 5,\n        \"samples\": [\n          62100,\n          3919,\n          39395\n        ],\n        \"semantic_type\": \"\",\n        \"description\": \"\"\n      }\n    },\n    {\n      \"column\": \"past.arrests\",\n      \"properties\": {\n        \"dtype\": \"number\",\n        \"std\": 359,\n        \"min\": 13,\n        \"max\": 883,\n        \"num_unique_values\": 5,\n        \"samples\": [\n          142,\n          25,\n          264\n        ],\n        \"semantic_type\": \"\",\n        \"description\": \"\"\n      }\n    },\n    {\n      \"column\": \"precinct\",\n      \"properties\": {\n        \"dtype\": \"number\",\n        \"std\": 23,\n        \"min\": 9,\n        \"max\": 71,\n        \"num_unique_values\": 5,\n        \"samples\": [\n          34,\n          9,\n          71\n        ],\n        \"semantic_type\": \"\",\n        \"description\": \"\"\n      }\n    },\n    {\n      \"column\": \"eth\",\n      \"properties\": {\n        \"dtype\": \"number\",\n        \"std\": 0,\n        \"min\": 2,\n        \"max\": 3,\n        \"num_unique_values\": 2,\n        \"samples\": [\n          2,\n          3\n        ],\n        \"semantic_type\": \"\",\n        \"description\": \"\"\n      }\n    },\n    {\n      \"column\": \"crime\",\n      \"properties\": {\n        \"dtype\": \"number\",\n        \"std\": 1,\n        \"min\": 1,\n        \"max\": 4,\n        \"num_unique_values\": 4,\n        \"samples\": [\n          3,\n          2\n        ],\n        \"semantic_type\": \"\",\n        \"description\": \"\"\n      }\n    }\n  ]\n}"
            }
          },
          "metadata": {},
          "execution_count": 2
        }
      ],
      "source": [
        "import matplotlib.pyplot as plt\n",
        "import numpy as np\n",
        "import pandas as pd\n",
        "import statsmodels.api as sm\n",
        "\n",
        "data_loc = \"/content/drive/MyDrive/Francisco/GC_Material/Biostatistics_10/Term III/frisk_with_noise.dat\"\n",
        "data = pd.read_csv(data_loc, skiprows = 6, delimiter = \" \")\n",
        "data.sample(5) # Print a random sample.\n"
      ]
    },
    {
      "cell_type": "markdown",
      "source": [
        "The data consists of stop-and-frisk data with noise added to protect confidentiality. This is important because it means that the estimates here will not reproduce the exact same results as in the book or the article. But the lessons of it remain true. Here's a quick description of the data.\n",
        "\n",
        "- **stops**: The number of police stops between January 1998 and March 1999, for each combination of precinct, ethnicity and type of crime.\n",
        "- **pop**: The population.\n",
        "- **past.arrests**: The number of arrests that took place in 1997 for each combination of precinct, ethnicity and type of crime.\n",
        "- **precinct**: Index for the precinct (1-75).\n",
        "- **eth**: Indicator for ethnicity, black (1), hispanic (2), white (3). Other ethnic groups were excluded because ambiguities in the classification would cause large distortions in the analysis.\n",
        "- **crime**: Indicator for the type, violent (1), weapons (2), property (3), drug (4).\n"
      ],
      "metadata": {
        "id": "iK-0u3pvFYXT"
      }
    },
    {
      "cell_type": "markdown",
      "source": [
        "In a Poisson model, each observation corresponds to a setting like a location or a time interval. In this example, the setting is precinct and ethnicity - these two are indexed with the leter *i*. **The response variable that we want to model, $y$, is the number of police stops**.\n",
        "\n",
        "Poisson regression is an example of a generalized linear model (GLM), so, like in **ordinary linear regression** or like in **logistic regression**, we model the variation in $y$ with some linear combination of predictors, $X$.\n",
        "\n",
        "\n",
        "\\begin{align}\n",
        "y_{i} ∼ Poisson(\\theta_{i})\n",
        "\\end{align}\n",
        "\n",
        "\\begin{align}\n",
        "\\theta_{i} = e^{X_{i}β}\n",
        "\\end{align}\n",
        "\n",
        "\\begin{align}\n",
        "{X_{i}β = β_{0} + X_{i,1}β_{1} + X_{i,2}β_{2} + ... + X_{i,k}β_{k}}\n",
        "\\end{align}\n",
        "\n",
        "The notation implicitly assumes that $X_{i,0} = 1$ for all observations, just so that we don't have to write the intercept term separately. The use of the exponential in second row is needed because the parameter passed to the Poisson distribution has to be a positive number. The linear combination $X_{i}β$ is not contrained to be positive, so the exponential isused a *link* to the allowed parameters.\n",
        "\n",
        "The model above would work just fine, but it is most common to model $y$ as relative to some baseline variable $u$. This baseline variable is also called the *exposure*. Thereby, the model we use is given by the following expression:\n",
        "\n",
        "\\begin{align}\n",
        "y_{i}=Poisson(u_{i}\\theta_{i})=Poisson(exp(X_{i}\\beta + log(u_{i})))\n",
        "\\end{align}\n",
        "\n",
        "In other words, the logarithm of the exposure plays the role of an offset term.\n",
        "\n"
      ],
      "metadata": {
        "id": "SMbdSTbqFwAD"
      }
    },
    {
      "cell_type": "markdown",
      "source": [
        "We first need to put our data in the right shape."
      ],
      "metadata": {
        "id": "Y6debXTnsshh"
      }
    },
    {
      "cell_type": "code",
      "source": [
        "X = (data\n",
        "    .groupby(['eth', 'precinct'])[[\"stops\", \"past.arrests\"]]\n",
        "    .sum()\n",
        "    .reset_index()\n",
        "    .pipe(pd.get_dummies, columns=['eth', 'precinct'], dtype = 'int64')\n",
        "    .assign(intercept=1)  # Adds a column called 'intercept' with all values equal to 1.\n",
        "    .sort_values(by='stops')\n",
        "    .reset_index(drop=True)\n",
        ")\n",
        "\n",
        "y = X.pop(\"stops\")"
      ],
      "metadata": {
        "id": "qBTgxxwJs6YL"
      },
      "execution_count": null,
      "outputs": []
    },
    {
      "cell_type": "code",
      "source": [
        "print(X)\n",
        "print(\"========\")\n",
        "print(y)"
      ],
      "metadata": {
        "colab": {
          "base_uri": "https://localhost:8080/"
        },
        "id": "8Ysj7s9st85U",
        "outputId": "e4515bcf-ddbe-4963-f5d6-377195ba2154"
      },
      "execution_count": null,
      "outputs": [
        {
          "output_type": "stream",
          "name": "stdout",
          "text": [
            "     past.arrests  eth_1  eth_2  eth_3  precinct_1  precinct_2  precinct_3  \\\n",
            "0              16      1      0      0           0           0           0   \n",
            "1              97      0      0      1           0           0           0   \n",
            "2             338      0      0      1           0           0           0   \n",
            "3             115      0      0      1           0           0           0   \n",
            "4              44      0      0      1           0           0           0   \n",
            "..            ...    ...    ...    ...         ...         ...         ...   \n",
            "220          2166      0      1      0           0           0           0   \n",
            "221          3468      1      0      0           0           0           0   \n",
            "222          4209      1      0      0           0           0           0   \n",
            "223          4540      1      0      0           0           0           0   \n",
            "224          4411      1      0      0           0           0           0   \n",
            "\n",
            "     precinct_4  precinct_5  precinct_6  ...  precinct_67  precinct_68  \\\n",
            "0             0           0           0  ...            0            0   \n",
            "1             0           0           0  ...            0            0   \n",
            "2             0           0           0  ...            0            0   \n",
            "3             0           0           0  ...            0            0   \n",
            "4             0           0           0  ...            0            0   \n",
            "..          ...         ...         ...  ...          ...          ...   \n",
            "220           0           0           0  ...            0            0   \n",
            "221           0           0           0  ...            0            0   \n",
            "222           0           0           0  ...            0            0   \n",
            "223           0           0           0  ...            0            0   \n",
            "224           0           0           0  ...            0            0   \n",
            "\n",
            "     precinct_69  precinct_70  precinct_71  precinct_72  precinct_73  \\\n",
            "0              0            0            0            0            0   \n",
            "1              0            0            0            0            0   \n",
            "2              0            0            0            0            0   \n",
            "3              0            0            0            0            0   \n",
            "4              0            0            0            0            0   \n",
            "..           ...          ...          ...          ...          ...   \n",
            "220            0            0            0            1            0   \n",
            "221            0            0            0            0            1   \n",
            "222            0            0            0            0            0   \n",
            "223            0            0            0            0            0   \n",
            "224            0            0            0            0            0   \n",
            "\n",
            "     precinct_74  precinct_75  intercept  \n",
            "0              0            1          1  \n",
            "1              0            0          1  \n",
            "2              0            0          1  \n",
            "3              0            0          1  \n",
            "4              0            0          1  \n",
            "..           ...          ...        ...  \n",
            "220            0            0          1  \n",
            "221            0            0          1  \n",
            "222            0            0          1  \n",
            "223            0            0          1  \n",
            "224            0            0          1  \n",
            "\n",
            "[225 rows x 80 columns]\n",
            "========\n",
            "0         7\n",
            "1         7\n",
            "2         9\n",
            "3        11\n",
            "4        11\n",
            "       ... \n",
            "220    2467\n",
            "221    2492\n",
            "222    2500\n",
            "223    2705\n",
            "224    2771\n",
            "Name: stops, Length: 225, dtype: int64\n"
          ]
        }
      ]
    },
    {
      "cell_type": "markdown",
      "source": [
        "###**Poisson Regression**\n",
        "\n",
        "####**Offset and constant term only**\n",
        "\n",
        "First we fit the model without any predictors,\n",
        "\n",
        "\\begin{align}\n",
        "y_{i} ∼ Poisson(exp(\\beta_{0} + log(u_{i}))).\n",
        "\\end{align}\n",
        "\n",
        "We use the library `scikit-learn` to fit the model."
      ],
      "metadata": {
        "id": "wchoeO5x15Lp"
      }
    },
    {
      "cell_type": "code",
      "source": [
        "model_no_indicators = sm.GLM(\n",
        "    y,\n",
        "    X[\"intercept\"],\n",
        "    offset=np.log(X[\"past.arrests\"]),\n",
        "    family=sm.families.Poisson(),\n",
        ")\n",
        "result_no_indicators = model_no_indicators.fit()\n",
        "print(result_no_indicators.summary())"
      ],
      "metadata": {
        "colab": {
          "base_uri": "https://localhost:8080/"
        },
        "id": "41tj79J6vMpq",
        "outputId": "6809061f-9de5-4d89-b018-a968c0d03f71"
      },
      "execution_count": null,
      "outputs": [
        {
          "output_type": "stream",
          "name": "stdout",
          "text": [
            "                 Generalized Linear Model Regression Results                  \n",
            "==============================================================================\n",
            "Dep. Variable:                  stops   No. Observations:                  225\n",
            "Model:                            GLM   Df Residuals:                      224\n",
            "Model Family:                 Poisson   Df Model:                            0\n",
            "Link Function:                    Log   Scale:                          1.0000\n",
            "Method:                          IRLS   Log-Likelihood:                -23913.\n",
            "Date:                Fri, 21 Mar 2025   Deviance:                       46120.\n",
            "Time:                        15:40:26   Pearson chi2:                 4.96e+04\n",
            "No. Iterations:                     5   Pseudo R-squ. (CS):         -6.461e-14\n",
            "Covariance Type:            nonrobust                                         \n",
            "==============================================================================\n",
            "                 coef    std err          z      P>|z|      [0.025      0.975]\n",
            "------------------------------------------------------------------------------\n",
            "intercept     -0.5877      0.003   -213.058      0.000      -0.593      -0.582\n",
            "==============================================================================\n"
          ]
        }
      ]
    },
    {
      "cell_type": "markdown",
      "source": [
        "Let's plot the observed values vs the fitted values. The fitted values are conveniently stored in the `fittedvalues` attribute of the result."
      ],
      "metadata": {
        "id": "i4kBkGyM5E6w"
      }
    },
    {
      "cell_type": "code",
      "source": [
        "from matplotlib.pyplot import figure\n",
        "\n",
        "figure(figsize=(10, 7), dpi=80)\n",
        "plt.plot(y, result_no_indicators.fittedvalues, 'o')\n",
        "plt.plot(y, y, '--', label = 'y = x')\n",
        "plt.ylabel(\"fitted value\")\n",
        "plt.xlabel(\"observed value\")\n",
        "plt.legend()\n",
        "plt.show()"
      ],
      "metadata": {
        "colab": {
          "base_uri": "https://localhost:8080/",
          "height": 496
        },
        "id": "5YVTshyH5qbu",
        "outputId": "03afa365-c54d-4eab-b271-825cfa284a29"
      },
      "execution_count": null,
      "outputs": [
        {
          "output_type": "display_data",
          "data": {
            "text/plain": [
              "<Figure size 800x560 with 1 Axes>"
            ],
            "image/png": "[encoded data removed]"
          },
          "metadata": {}
        }
      ]
    },
    {
      "cell_type": "markdown",
      "source": [
        "Perhaps, not as bad as we would've expected for a 1 parameter model. Let's extent the model to include two more parameters."
      ],
      "metadata": {
        "id": "MBefoJzdDHVm"
      }
    },
    {
      "cell_type": "markdown",
      "source": [
        "###**Ethnicity and precinct as predictors**\n",
        "\n",
        "We build on top of the previous model by first adding the ethnicity indicators. Note that we don't add the ethnicity indicator for black (1) because we use it as the baseline."
      ],
      "metadata": {
        "id": "C4wwtb3-DXAV"
      }
    },
    {
      "cell_type": "code",
      "source": [
        "# Model with ethnicity\n",
        "model_eth = sm.GLM(\n",
        "    y,\n",
        "    X[['intercept', 'eth_2', 'eth_3']],\n",
        "    offset = np.log(X['past.arrests']),\n",
        "    family = sm.families.Poisson(),\n",
        ")\n",
        "results_eth = model_eth.fit()\n",
        "print(results_eth.summary())"
      ],
      "metadata": {
        "colab": {
          "base_uri": "https://localhost:8080/"
        },
        "id": "CFdyoRtuFKng",
        "outputId": "cd6fd3df-7f15-496f-8b59-e3d9357152f4"
      },
      "execution_count": null,
      "outputs": [
        {
          "output_type": "stream",
          "name": "stdout",
          "text": [
            "                 Generalized Linear Model Regression Results                  \n",
            "==============================================================================\n",
            "Dep. Variable:                  stops   No. Observations:                  225\n",
            "Model:                            GLM   Df Residuals:                      222\n",
            "Model Family:                 Poisson   Df Model:                            2\n",
            "Link Function:                    Log   Scale:                          1.0000\n",
            "Method:                          IRLS   Log-Likelihood:                -23572.\n",
            "Date:                Fri, 21 Mar 2025   Deviance:                       45437.\n",
            "Time:                        15:40:26   Pearson chi2:                 4.94e+04\n",
            "No. Iterations:                     6   Pseudo R-squ. (CS):             0.9519\n",
            "Covariance Type:            nonrobust                                         \n",
            "==============================================================================\n",
            "                 coef    std err          z      P>|z|      [0.025      0.975]\n",
            "------------------------------------------------------------------------------\n",
            "intercept     -0.5881      0.004   -155.396      0.000      -0.596      -0.581\n",
            "eth_2          0.0702      0.006     11.584      0.000       0.058       0.082\n",
            "eth_3         -0.1616      0.009    -18.881      0.000      -0.178      -0.145\n",
            "==============================================================================\n"
          ]
        }
      ]
    },
    {
      "cell_type": "markdown",
      "source": [
        "Adding the two ethnicity indicators as predictors decreased the deviance by $46120-45437=683 (units)$. **Keep in mind that if ethnicity indicators were just noise, we should expect a decrease in deviance of around 2 units**. *Besides, noth coefficients are significant*.\n",
        "\n"
      ],
      "metadata": {
        "id": "8MrK7uJ-HmWQ"
      }
    },
    {
      "cell_type": "markdown",
      "source": [
        "Finally, let's also control for precinct (we use `precinct_1` as the baseline)."
      ],
      "metadata": {
        "id": "UjuOdD6FIx1h"
      }
    },
    {
      "cell_type": "code",
      "source": [
        "model_eth_prec = sm.GLM(\n",
        "    y,\n",
        "    X.drop(columns = [\"eth_1\", \"precinct_1\", \"past.arrests\"]),\n",
        "    offset = np.log(X[\"past.arrests\"]),\n",
        "    family = sm.families.Poisson(),\n",
        ")\n",
        "results_eth_prec = model_eth_prec.fit()\n",
        "print(results_eth_prec.summary())"
      ],
      "metadata": {
        "colab": {
          "base_uri": "https://localhost:8080/"
        },
        "id": "HAO7MsH3H3m2",
        "outputId": "2726d9ff-acf1-441a-a074-dc8999532630"
      },
      "execution_count": null,
      "outputs": [
        {
          "output_type": "stream",
          "name": "stdout",
          "text": [
            "                 Generalized Linear Model Regression Results                  \n",
            "==============================================================================\n",
            "Dep. Variable:                  stops   No. Observations:                  225\n",
            "Model:                            GLM   Df Residuals:                      148\n",
            "Model Family:                 Poisson   Df Model:                           76\n",
            "Link Function:                    Log   Scale:                          1.0000\n",
            "Method:                          IRLS   Log-Likelihood:                -2566.9\n",
            "Date:                Fri, 21 Mar 2025   Deviance:                       3427.1\n",
            "Time:                        15:40:26   Pearson chi2:                 3.24e+03\n",
            "No. Iterations:                     6   Pseudo R-squ. (CS):              1.000\n",
            "Covariance Type:            nonrobust                                         \n",
            "===============================================================================\n",
            "                  coef    std err          z      P>|z|      [0.025      0.975]\n",
            "-------------------------------------------------------------------------------\n",
            "eth_2           0.0102      0.007      1.498      0.134      -0.003       0.024\n",
            "eth_3          -0.4190      0.009    -44.409      0.000      -0.437      -0.401\n",
            "precinct_2     -0.1490      0.074     -2.013      0.044      -0.294      -0.004\n",
            "precinct_3      0.5600      0.057      9.866      0.000       0.449       0.671\n",
            "precinct_4      1.2106      0.058     21.037      0.000       1.098       1.323\n",
            "precinct_5      0.2829      0.057      4.981      0.000       0.172       0.394\n",
            "precinct_6      1.1442      0.058     19.712      0.000       1.030       1.258\n",
            "precinct_7      0.2182      0.064      3.391      0.001       0.092       0.344\n",
            "precinct_8     -0.3906      0.057     -6.868      0.000      -0.502      -0.279\n",
            "precinct_9      0.4851      0.078      6.207      0.000       0.332       0.638\n",
            "precinct_10     0.4171      0.059      7.087      0.000       0.302       0.532\n",
            "precinct_11     0.6544      0.062     10.626      0.000       0.534       0.775\n",
            "precinct_12     1.1487      0.061     18.811      0.000       1.029       1.268\n",
            "precinct_13     1.0535      0.055     19.068      0.000       0.945       1.162\n",
            "precinct_14     0.6141      0.059     10.444      0.000       0.499       0.729\n",
            "precinct_15     1.0549      0.055     19.195      0.000       0.947       1.163\n",
            "precinct_16     0.7977      0.060     13.231      0.000       0.680       0.916\n",
            "precinct_17    -0.0493      0.060     -0.815      0.415      -0.168       0.069\n",
            "precinct_18     0.1316      0.055      2.394      0.017       0.024       0.239\n",
            "precinct_19     0.3192      0.058      5.503      0.000       0.205       0.433\n",
            "precinct_20    -0.0406      0.057     -0.713      0.476      -0.152       0.071\n",
            "precinct_21     0.4110      0.057      7.235      0.000       0.300       0.522\n",
            "precinct_22     1.2112      0.053     22.683      0.000       1.107       1.316\n",
            "precinct_23     0.5999      0.055     10.895      0.000       0.492       0.708\n",
            "precinct_24     1.3195      0.055     24.166      0.000       1.212       1.426\n",
            "precinct_25     0.9134      0.054     17.041      0.000       0.808       1.018\n",
            "precinct_26    -0.1476      0.057     -2.589      0.010      -0.259      -0.036\n",
            "precinct_27     1.8955      0.056     34.052      0.000       1.786       2.005\n",
            "precinct_28    -0.7650      0.061    -12.558      0.000      -0.884      -0.646\n",
            "precinct_29     1.1247      0.054     20.726      0.000       1.018       1.231\n",
            "precinct_30     0.5247      0.055      9.475      0.000       0.416       0.633\n",
            "precinct_31     1.6495      0.056     29.368      0.000       1.539       1.760\n",
            "precinct_32     1.3863      0.060     23.229      0.000       1.269       1.503\n",
            "precinct_33     1.0832      0.054     19.980      0.000       0.977       1.189\n",
            "precinct_34     1.5190      0.054     27.945      0.000       1.412       1.626\n",
            "precinct_35     0.8794      0.063     13.917      0.000       0.756       1.003\n",
            "precinct_36     1.6163      0.059     27.490      0.000       1.501       1.732\n",
            "precinct_37     1.4094      0.060     23.487      0.000       1.292       1.527\n",
            "precinct_38     1.7638      0.056     31.388      0.000       1.654       1.874\n",
            "precinct_39     0.5011      0.055      9.137      0.000       0.394       0.609\n",
            "precinct_40     1.5320      0.061     24.924      0.000       1.412       1.652\n",
            "precinct_41     1.9139      0.056     34.351      0.000       1.805       2.023\n",
            "precinct_42     1.0842      0.055     19.890      0.000       0.977       1.191\n",
            "precinct_43     0.5418      0.057      9.565      0.000       0.431       0.653\n",
            "precinct_44     0.8830      0.057     15.582      0.000       0.772       0.994\n",
            "precinct_45     0.8384      0.054     15.465      0.000       0.732       0.945\n",
            "precinct_46     0.6559      0.054     12.202      0.000       0.551       0.761\n",
            "precinct_47     1.1281      0.060     18.808      0.000       1.011       1.246\n",
            "precinct_48     0.4119      0.057      7.239      0.000       0.300       0.523\n",
            "precinct_49     1.1012      0.060     18.452      0.000       0.984       1.218\n",
            "precinct_50     0.8788      0.054     16.241      0.000       0.773       0.985\n",
            "precinct_51     0.3490      0.059      5.960      0.000       0.234       0.464\n",
            "precinct_52     0.4919      0.055      8.870      0.000       0.383       0.601\n",
            "precinct_53     0.5997      0.058     10.254      0.000       0.485       0.714\n",
            "precinct_54     0.4918      0.060      8.192      0.000       0.374       0.610\n",
            "precinct_55     0.4975      0.059      8.429      0.000       0.382       0.613\n",
            "precinct_56     0.8909      0.066     13.502      0.000       0.762       1.020\n",
            "precinct_57     1.5328      0.061     24.978      0.000       1.413       1.653\n",
            "precinct_58     1.5788      0.055     28.955      0.000       1.472       1.686\n",
            "precinct_59     1.0837      0.059     18.393      0.000       0.968       1.199\n",
            "precinct_60     0.8338      0.054     15.380      0.000       0.728       0.940\n",
            "precinct_61     1.2773      0.057     22.506      0.000       1.166       1.389\n",
            "precinct_62     1.2064      0.057     21.289      0.000       1.095       1.317\n",
            "precinct_63     1.3088      0.058     22.449      0.000       1.195       1.423\n",
            "precinct_64     1.7125      0.058     29.642      0.000       1.599       1.826\n",
            "precinct_65     1.8992      0.055     34.434      0.000       1.791       2.007\n",
            "precinct_66     2.1021      0.054     38.763      0.000       1.996       2.208\n",
            "precinct_67     1.2028      0.055     21.887      0.000       1.095       1.311\n",
            "precinct_68     2.2013      0.059     37.155      0.000       2.085       2.317\n",
            "precinct_69     1.7207      0.058     29.551      0.000       1.607       1.835\n",
            "precinct_70     1.0320      0.055     18.828      0.000       0.925       1.139\n",
            "precinct_71     1.4794      0.054     27.276      0.000       1.373       1.586\n",
            "precinct_72     1.4650      0.054     27.262      0.000       1.360       1.570\n",
            "precinct_73     0.9910      0.054     18.494      0.000       0.886       1.096\n",
            "precinct_74     1.1515      0.058     19.845      0.000       1.038       1.265\n",
            "precinct_75     1.5712      0.076     20.747      0.000       1.423       1.720\n",
            "intercept      -1.3789      0.051    -27.027      0.000      -1.479      -1.279\n",
            "===============================================================================\n"
          ]
        }
      ]
    },
    {
      "cell_type": "markdown",
      "source": [
        "We can check out the massive decrease in the `Deviance` (from **45437** to **3427.1**) - precinct factors (e.g., location of police stops) are definitely not noise. Now we can observe that the stop rates for black and hispanic are very similar, while whites are 34% less likely to be stopped.The latter is because we get a 34% from the estimated coefficient:\n",
        "\n",
        "\\begin{align}\n",
        "e^{-0.419}≈0.66=1-0.34.\n",
        "\\end{align}\n",
        "\n",
        "**1. Understanding the Poisson Regression and the Exponential Formula**\n",
        "\n",
        "- Poisson regression models count data (e.g., the number of times an event occurs).\n",
        "- The model predicts the log of the expected count as a function of independent variables:\n",
        "\\begin{align}\n",
        "log⁡(E(Y))=β0+β1X1+β2X2+…,\n",
        "\\end{align}\n",
        "where $E(Y)$ is the expected count (e.g., number of police stops).\n",
        "- Since the model uses log-transformed expected counts, we need to exponentiate the coefficient to interpret its impact on the expected count.\n",
        "\n",
        "**2. Applying the Interpretation to Stop Rates**\n",
        "\n",
        "- The coefficient of -0.419 (for white individuals) tells us the effect of race on the expected number of stops.\n",
        "- To convert this back into **multiplicative terms**, we exponentiate it:\n",
        "\\begin{align}\n",
        "e^{-0.419}\\approx 0.66\n",
        "\\end{align}\n",
        "\n",
        "- This means that the expected **number of stops** for **White individuals** is 66% of the expected stops for **Black** or **Hispanic individuals**.\n",
        "- Equivalently, White individuals experience 34% **fewer stops** than **Black** or **Hispanic** individuals:\n",
        "\n",
        "\\begin{align}\n",
        "1-0.66 = 0.34 = 34%\n",
        "\\end{align}\n",
        "reduction.\n",
        "\n",
        "**3. Key Takeaways for Poisson Regression Interpretation**\n",
        "\n",
        "- Poisson regression models counts (not probabilities), so we interpret the coefficient in terms of expected number of events (stops).\n",
        "- Exponentiating the coefficient (-0.419) gives us a multiplicative effect on the stop rate: White individuals are stopped at 66% of the rate of Black or Hispanic individuals.\n",
        "- A negative coefficient means a decrease in expected stops: A 34% lower rate of stops for White individuals.\n",
        "\n"
      ],
      "metadata": {
        "id": "tYZ8Goa88oUD"
      }
    },
    {
      "cell_type": "markdown",
      "source": [
        "With so many precincts, we might find it easier to see the estimated coefficients in a plot."
      ],
      "metadata": {
        "id": "hfo4DJoFDUzi"
      }
    },
    {
      "cell_type": "code",
      "source": [
        "precinct_coefs = results_eth_prec.params\n",
        "precinct_interval = results_eth_prec.conf_int().reindex(precinct_coefs.index)\n",
        "precinct_interval"
      ],
      "metadata": {
        "colab": {
          "base_uri": "https://localhost:8080/",
          "height": 424
        },
        "id": "JY7dXjRSHxrg",
        "outputId": "469ddefc-46b2-4542-e070-57bbdb0f602e"
      },
      "execution_count": null,
      "outputs": [
        {
          "output_type": "execute_result",
          "data": {
            "text/plain": [
              "                    0         1\n",
              "eth_2       -0.003144  0.023520\n",
              "eth_3       -0.437493 -0.400509\n",
              "precinct_2  -0.294146 -0.003953\n",
              "precinct_3   0.448710  0.671199\n",
              "precinct_4   1.097842  1.323430\n",
              "...               ...       ...\n",
              "precinct_72  1.359662  1.570308\n",
              "precinct_73  0.885992  1.096043\n",
              "precinct_74  1.037737  1.265183\n",
              "precinct_75  1.422794  1.719656\n",
              "intercept   -1.478863 -1.278873\n",
              "\n",
              "[77 rows x 2 columns]"
            ],
            "text/html": [
              "\n",
              "  <div id=\"df-733a3ed0-673d-415c-a2d8-0e0c434ca000\" class=\"colab-df-container\">\n",
              "    <div>\n",
              "<style scoped>\n",
              "    .dataframe tbody tr th:only-of-type {\n",
              "        vertical-align: middle;\n",
              "    }\n",
              "\n",
              "    .dataframe tbody tr th {\n",
              "        vertical-align: top;\n",
              "    }\n",
              "\n",
              "    .dataframe thead th {\n",
              "        text-align: right;\n",
              "    }\n",
              "</style>\n",
              "<table border=\"1\" class=\"dataframe\">\n",
              "  <thead>\n",
              "    <tr style=\"text-align: right;\">\n",
              "      <th></th>\n",
              "      <th>0</th>\n",
              "      <th>1</th>\n",
              "    </tr>\n",
              "  </thead>\n",
              "  <tbody>\n",
              "    <tr>\n",
              "      <th>eth_2</th>\n",
              "      <td>-0.003144</td>\n",
              "      <td>0.023520</td>\n",
              "    </tr>\n",
              "    <tr>\n",
              "      <th>eth_3</th>\n",
              "      <td>-0.437493</td>\n",
              "      <td>-0.400509</td>\n",
              "    </tr>\n",
              "    <tr>\n",
              "      <th>precinct_2</th>\n",
              "      <td>-0.294146</td>\n",
              "      <td>-0.003953</td>\n",
              "    </tr>\n",
              "    <tr>\n",
              "      <th>precinct_3</th>\n",
              "      <td>0.448710</td>\n",
              "      <td>0.671199</td>\n",
              "    </tr>\n",
              "    <tr>\n",
              "      <th>precinct_4</th>\n",
              "      <td>1.097842</td>\n",
              "      <td>1.323430</td>\n",
              "    </tr>\n",
              "    <tr>\n",
              "      <th>...</th>\n",
              "      <td>...</td>\n",
              "      <td>...</td>\n",
              "    </tr>\n",
              "    <tr>\n",
              "      <th>precinct_72</th>\n",
              "      <td>1.359662</td>\n",
              "      <td>1.570308</td>\n",
              "    </tr>\n",
              "    <tr>\n",
              "      <th>precinct_73</th>\n",
              "      <td>0.885992</td>\n",
              "      <td>1.096043</td>\n",
              "    </tr>\n",
              "    <tr>\n",
              "      <th>precinct_74</th>\n",
              "      <td>1.037737</td>\n",
              "      <td>1.265183</td>\n",
              "    </tr>\n",
              "    <tr>\n",
              "      <th>precinct_75</th>\n",
              "      <td>1.422794</td>\n",
              "      <td>1.719656</td>\n",
              "    </tr>\n",
              "    <tr>\n",
              "      <th>intercept</th>\n",
              "      <td>-1.478863</td>\n",
              "      <td>-1.278873</td>\n",
              "    </tr>\n",
              "  </tbody>\n",
              "</table>\n",
              "<p>77 rows × 2 columns</p>\n",
              "</div>\n",
              "    <div class=\"colab-df-buttons\">\n",
              "\n",
              "  <div class=\"colab-df-container\">\n",
              "    <button class=\"colab-df-convert\" onclick=\"convertToInteractive('df-733a3ed0-673d-415c-a2d8-0e0c434ca000')\"\n",
              "            title=\"Convert this dataframe to an interactive table.\"\n",
              "            style=\"display:none;\">\n",
              "\n",
              "  <svg xmlns=\"http://www.w3.org/2000/svg\" height=\"24px\" viewBox=\"0 -960 960 960\">\n",
              "    <path d=\"M120-120v-720h720v720H120Zm60-500h600v-160H180v160Zm220 220h160v-160H400v160Zm0 220h160v-160H400v160ZM180-400h160v-160H180v160Zm440 0h160v-160H620v160ZM180-180h160v-160H180v160Zm440 0h160v-160H620v160Z\"/>\n",
              "  </svg>\n",
              "    </button>\n",
              "\n",
              "  <style>\n",
              "    .colab-df-container {\n",
              "      display:flex;\n",
              "      gap: 12px;\n",
              "    }\n",
              "\n",
              "    .colab-df-convert {\n",
              "      background-color: #E8F0FE;\n",
              "      border: none;\n",
              "      border-radius: 50%;\n",
              "      cursor: pointer;\n",
              "      display: none;\n",
              "      fill: #1967D2;\n",
              "      height: 32px;\n",
              "      padding: 0 0 0 0;\n",
              "      width: 32px;\n",
              "    }\n",
              "\n",
              "    .colab-df-convert:hover {\n",
              "      background-color: #E2EBFA;\n",
              "      box-shadow: 0px 1px 2px rgba(60, 64, 67, 0.3), 0px 1px 3px 1px rgba(60, 64, 67, 0.15);\n",
              "      fill: #174EA6;\n",
              "    }\n",
              "\n",
              "    .colab-df-buttons div {\n",
              "      margin-bottom: 4px;\n",
              "    }\n",
              "\n",
              "    [theme=dark] .colab-df-convert {\n",
              "      background-color: #3B4455;\n",
              "      fill: #D2E3FC;\n",
              "    }\n",
              "\n",
              "    [theme=dark] .colab-df-convert:hover {\n",
              "      background-color: #434B5C;\n",
              "      box-shadow: 0px 1px 3px 1px rgba(0, 0, 0, 0.15);\n",
              "      filter: drop-shadow(0px 1px 2px rgba(0, 0, 0, 0.3));\n",
              "      fill: #FFFFFF;\n",
              "    }\n",
              "  </style>\n",
              "\n",
              "    <script>\n",
              "      const buttonEl =\n",
              "        document.querySelector('#df-733a3ed0-673d-415c-a2d8-0e0c434ca000 button.colab-df-convert');\n",
              "      buttonEl.style.display =\n",
              "        google.colab.kernel.accessAllowed ? 'block' : 'none';\n",
              "\n",
              "      async function convertToInteractive(key) {\n",
              "        const element = document.querySelector('#df-733a3ed0-673d-415c-a2d8-0e0c434ca000');\n",
              "        const dataTable =\n",
              "          await google.colab.kernel.invokeFunction('convertToInteractive',\n",
              "                                                    [key], {});\n",
              "        if (!dataTable) return;\n",
              "\n",
              "        const docLinkHtml = 'Like what you see? Visit the ' +\n",
              "          '<a target=\"_blank\" href=https://colab.research.google.com/notebooks/data_table.ipynb>data table notebook</a>'\n",
              "          + ' to learn more about interactive tables.';\n",
              "        element.innerHTML = '';\n",
              "        dataTable['output_type'] = 'display_data';\n",
              "        await google.colab.output.renderOutput(dataTable, element);\n",
              "        const docLink = document.createElement('div');\n",
              "        docLink.innerHTML = docLinkHtml;\n",
              "        element.appendChild(docLink);\n",
              "      }\n",
              "    </script>\n",
              "  </div>\n",
              "\n",
              "\n",
              "<div id=\"df-42bda93a-5c9d-449b-bc67-9fa510f7fee8\">\n",
              "  <button class=\"colab-df-quickchart\" onclick=\"quickchart('df-42bda93a-5c9d-449b-bc67-9fa510f7fee8')\"\n",
              "            title=\"Suggest charts\"\n",
              "            style=\"display:none;\">\n",
              "\n",
              "<svg xmlns=\"http://www.w3.org/2000/svg\" height=\"24px\"viewBox=\"0 0 24 24\"\n",
              "     width=\"24px\">\n",
              "    <g>\n",
              "        <path d=\"M19 3H5c-1.1 0-2 .9-2 2v14c0 1.1.9 2 2 2h14c1.1 0 2-.9 2-2V5c0-1.1-.9-2-2-2zM9 17H7v-7h2v7zm4 0h-2V7h2v10zm4 0h-2v-4h2v4z\"/>\n",
              "    </g>\n",
              "</svg>\n",
              "  </button>\n",
              "\n",
              "<style>\n",
              "  .colab-df-quickchart {\n",
              "      --bg-color: #E8F0FE;\n",
              "      --fill-color: #1967D2;\n",
              "      --hover-bg-color: #E2EBFA;\n",
              "      --hover-fill-color: #174EA6;\n",
              "      --disabled-fill-color: #AAA;\n",
              "      --disabled-bg-color: #DDD;\n",
              "  }\n",
              "\n",
              "  [theme=dark] .colab-df-quickchart {\n",
              "      --bg-color: #3B4455;\n",
              "      --fill-color: #D2E3FC;\n",
              "      --hover-bg-color: #434B5C;\n",
              "      --hover-fill-color: #FFFFFF;\n",
              "      --disabled-bg-color: #3B4455;\n",
              "      --disabled-fill-color: #666;\n",
              "  }\n",
              "\n",
              "  .colab-df-quickchart {\n",
              "    background-color: var(--bg-color);\n",
              "    border: none;\n",
              "    border-radius: 50%;\n",
              "    cursor: pointer;\n",
              "    display: none;\n",
              "    fill: var(--fill-color);\n",
              "    height: 32px;\n",
              "    padding: 0;\n",
              "    width: 32px;\n",
              "  }\n",
              "\n",
              "  .colab-df-quickchart:hover {\n",
              "    background-color: var(--hover-bg-color);\n",
              "    box-shadow: 0 1px 2px rgba(60, 64, 67, 0.3), 0 1px 3px 1px rgba(60, 64, 67, 0.15);\n",
              "    fill: var(--button-hover-fill-color);\n",
              "  }\n",
              "\n",
              "  .colab-df-quickchart-complete:disabled,\n",
              "  .colab-df-quickchart-complete:disabled:hover {\n",
              "    background-color: var(--disabled-bg-color);\n",
              "    fill: var(--disabled-fill-color);\n",
              "    box-shadow: none;\n",
              "  }\n",
              "\n",
              "  .colab-df-spinner {\n",
              "    border: 2px solid var(--fill-color);\n",
              "    border-color: transparent;\n",
              "    border-bottom-color: var(--fill-color);\n",
              "    animation:\n",
              "      spin 1s steps(1) infinite;\n",
              "  }\n",
              "\n",
              "  @keyframes spin {\n",
              "    0% {\n",
              "      border-color: transparent;\n",
              "      border-bottom-color: var(--fill-color);\n",
              "      border-left-color: var(--fill-color);\n",
              "    }\n",
              "    20% {\n",
              "      border-color: transparent;\n",
              "      border-left-color: var(--fill-color);\n",
              "      border-top-color: var(--fill-color);\n",
              "    }\n",
              "    30% {\n",
              "      border-color: transparent;\n",
              "      border-left-color: var(--fill-color);\n",
              "      border-top-color: var(--fill-color);\n",
              "      border-right-color: var(--fill-color);\n",
              "    }\n",
              "    40% {\n",
              "      border-color: transparent;\n",
              "      border-right-color: var(--fill-color);\n",
              "      border-top-color: var(--fill-color);\n",
              "    }\n",
              "    60% {\n",
              "      border-color: transparent;\n",
              "      border-right-color: var(--fill-color);\n",
              "    }\n",
              "    80% {\n",
              "      border-color: transparent;\n",
              "      border-right-color: var(--fill-color);\n",
              "      border-bottom-color: var(--fill-color);\n",
              "    }\n",
              "    90% {\n",
              "      border-color: transparent;\n",
              "      border-bottom-color: var(--fill-color);\n",
              "    }\n",
              "  }\n",
              "</style>\n",
              "\n",
              "  <script>\n",
              "    async function quickchart(key) {\n",
              "      const quickchartButtonEl =\n",
              "        document.querySelector('#' + key + ' button');\n",
              "      quickchartButtonEl.disabled = true;  // To prevent multiple clicks.\n",
              "      quickchartButtonEl.classList.add('colab-df-spinner');\n",
              "      try {\n",
              "        const charts = await google.colab.kernel.invokeFunction(\n",
              "            'suggestCharts', [key], {});\n",
              "      } catch (error) {\n",
              "        console.error('Error during call to suggestCharts:', error);\n",
              "      }\n",
              "      quickchartButtonEl.classList.remove('colab-df-spinner');\n",
              "      quickchartButtonEl.classList.add('colab-df-quickchart-complete');\n",
              "    }\n",
              "    (() => {\n",
              "      let quickchartButtonEl =\n",
              "        document.querySelector('#df-42bda93a-5c9d-449b-bc67-9fa510f7fee8 button');\n",
              "      quickchartButtonEl.style.display =\n",
              "        google.colab.kernel.accessAllowed ? 'block' : 'none';\n",
              "    })();\n",
              "  </script>\n",
              "</div>\n",
              "\n",
              "  <div id=\"id_f4f30a66-2af1-4058-bc14-5f082620768d\">\n",
              "    <style>\n",
              "      .colab-df-generate {\n",
              "        background-color: #E8F0FE;\n",
              "        border: none;\n",
              "        border-radius: 50%;\n",
              "        cursor: pointer;\n",
              "        display: none;\n",
              "        fill: #1967D2;\n",
              "        height: 32px;\n",
              "        padding: 0 0 0 0;\n",
              "        width: 32px;\n",
              "      }\n",
              "\n",
              "      .colab-df-generate:hover {\n",
              "        background-color: #E2EBFA;\n",
              "        box-shadow: 0px 1px 2px rgba(60, 64, 67, 0.3), 0px 1px 3px 1px rgba(60, 64, 67, 0.15);\n",
              "        fill: #174EA6;\n",
              "      }\n",
              "\n",
              "      [theme=dark] .colab-df-generate {\n",
              "        background-color: #3B4455;\n",
              "        fill: #D2E3FC;\n",
              "      }\n",
              "\n",
              "      [theme=dark] .colab-df-generate:hover {\n",
              "        background-color: #434B5C;\n",
              "        box-shadow: 0px 1px 3px 1px rgba(0, 0, 0, 0.15);\n",
              "        filter: drop-shadow(0px 1px 2px rgba(0, 0, 0, 0.3));\n",
              "        fill: #FFFFFF;\n",
              "      }\n",
              "    </style>\n",
              "    <button class=\"colab-df-generate\" onclick=\"generateWithVariable('precinct_interval')\"\n",
              "            title=\"Generate code using this dataframe.\"\n",
              "            style=\"display:none;\">\n",
              "\n",
              "  <svg xmlns=\"http://www.w3.org/2000/svg\" height=\"24px\"viewBox=\"0 0 24 24\"\n",
              "       width=\"24px\">\n",
              "    <path d=\"M7,19H8.4L18.45,9,17,7.55,7,17.6ZM5,21V16.75L18.45,3.32a2,2,0,0,1,2.83,0l1.4,1.43a1.91,1.91,0,0,1,.58,1.4,1.91,1.91,0,0,1-.58,1.4L9.25,21ZM18.45,9,17,7.55Zm-12,3A5.31,5.31,0,0,0,4.9,8.1,5.31,5.31,0,0,0,1,6.5,5.31,5.31,0,0,0,4.9,4.9,5.31,5.31,0,0,0,6.5,1,5.31,5.31,0,0,0,8.1,4.9,5.31,5.31,0,0,0,12,6.5,5.46,5.46,0,0,0,6.5,12Z\"/>\n",
              "  </svg>\n",
              "    </button>\n",
              "    <script>\n",
              "      (() => {\n",
              "      const buttonEl =\n",
              "        document.querySelector('#id_f4f30a66-2af1-4058-bc14-5f082620768d button.colab-df-generate');\n",
              "      buttonEl.style.display =\n",
              "        google.colab.kernel.accessAllowed ? 'block' : 'none';\n",
              "\n",
              "      buttonEl.onclick = () => {\n",
              "        google.colab.notebook.generateWithVariable('precinct_interval');\n",
              "      }\n",
              "      })();\n",
              "    </script>\n",
              "  </div>\n",
              "\n",
              "    </div>\n",
              "  </div>\n"
            ],
            "application/vnd.google.colaboratory.intrinsic+json": {
              "type": "dataframe",
              "variable_name": "precinct_interval",
              "summary": "{\n  \"name\": \"precinct_interval\",\n  \"rows\": 77,\n  \"fields\": [\n    {\n      \"column\": 0,\n      \"properties\": {\n        \"dtype\": \"number\",\n        \"std\": 0.6702003930846822,\n        \"min\": -1.4788634527632092,\n        \"max\": 2.0851386758238233,\n        \"num_unique_values\": 77,\n        \"samples\": [\n          1.0978420825885713,\n          0.7555577997951151,\n          0.3017225799297101\n        ],\n        \"semantic_type\": \"\",\n        \"description\": \"\"\n      }\n    },\n    {\n      \"column\": 1,\n      \"properties\": {\n        \"dtype\": \"number\",\n        \"std\": 0.6768826319703579,\n        \"min\": -1.278872605079063,\n        \"max\": 2.3173758165176137,\n        \"num_unique_values\": 77,\n        \"samples\": [\n          1.3234300185808914,\n          1.0032568734999185,\n          0.5324141028122962\n        ],\n        \"semantic_type\": \"\",\n        \"description\": \"\"\n      }\n    }\n  ]\n}"
            }
          },
          "metadata": {},
          "execution_count": 10
        }
      ]
    },
    {
      "cell_type": "code",
      "source": [
        "precinct_coefs = results_eth_prec.params.iloc[2:-1] # Only intersted in precinct\n",
        "precinct_interval = results_eth_prec.conf_int().reindex(precinct_coefs.index)\n",
        "\n",
        "plt.figure(figsize=(13, 5))\n",
        "plt.plot(precinct_coefs, '.')\n",
        "\n",
        "for precinct, interval in precinct_interval.iterrows():\n",
        "    plt.plot([precinct, precinct], interval, color='C0')\n",
        "plt.axhline(y=0, linestyle=':', color='black')\n",
        "plt.xticks(\n",
        "    precinct_coefs.index[::3],\n",
        "    [int(x[1]) for x in precinct_coefs.index.str.split(\"_\",)][::3]\n",
        ")\n",
        "plt.ylabel(\"Estimated coefficient\")\n",
        "plt.xlabel(\"Precinct\")\n",
        "plt.show()\n"
      ],
      "metadata": {
        "colab": {
          "base_uri": "https://localhost:8080/",
          "height": 465
        },
        "id": "ZPF-CWivNodN",
        "outputId": "fcb5c729-0112-4360-873e-46cd902a36d2"
      },
      "execution_count": null,
      "outputs": [
        {
          "output_type": "display_data",
          "data": {
            "text/plain": [
              "<Figure size 1300x500 with 1 Axes>"
            ],
            "image/png": "[encoded data removed]"
          },
          "metadata": {}
        }
      ]
    },
    {
      "cell_type": "markdown",
      "source": [
        "We can observe that most coefficients are significant (i.e. do not include zero within their interval). Let's now compare the fitted values of the models with ethnicity and the one including ethnicity and precinct, respectively.   "
      ],
      "metadata": {
        "id": "dmVSG45LKXr4"
      }
    },
    {
      "cell_type": "code",
      "source": [
        "figure(figsize=(10, 7), dpi=80)\n",
        "plt.plot(y, results_eth.fittedvalues, '.', color = 'k')\n",
        "plt.plot(y, results_eth_prec.fittedvalues, '.', color = 'y')\n",
        "plt.plot(y, y, '--', label='y = x')\n",
        "plt.ylabel(\"fitted value\")\n",
        "plt.xlabel(\"observed value\")\n",
        "plt.legend()\n",
        "plt.show()"
      ],
      "metadata": {
        "colab": {
          "base_uri": "https://localhost:8080/",
          "height": 496
        },
        "id": "SpXJ37UMLemY",
        "outputId": "5fb6a4d2-8817-44d3-e57b-4fe29753fc6d"
      },
      "execution_count": null,
      "outputs": [
        {
          "output_type": "display_data",
          "data": {
            "text/plain": [
              "<Figure size 800x560 with 1 Axes>"
            ],
            "image/png": "[encoded data removed]"
          },
          "metadata": {}
        }
      ]
    },
    {
      "cell_type": "markdown",
      "source": [
        "###**Overdispersed Poisson**\n",
        "\n",
        "The Poisson distribution does not have independent parameter for the variance like, say, a normal distribution. Turns out that for the Poisson distribution, $y∼Poisson(\\lambda)$, the variance is equal to the mean.\n",
        "\n",
        "\\begin{align}\n",
        "E(y)=\\lambda\n",
        "\\end{align}\n",
        "\\begin{align}\n",
        "Var(y)=\\lambda\n",
        "\\end{align}\n",
        "\n",
        "This means that we can easily evauate if our data follows a Poisson distribution or not. *We already knnow that thet residuals of your fit should have mean equal to zero. We can go a bit further and look at the standardized residuals*.\n",
        "\n",
        "\\begin{align}\n",
        "z_{i} = \\frac{y_{i}-\\mu}{\\sigma}\n",
        "\\end{align}\n",
        "\n",
        "\\begin{align}\n",
        " = \\frac{y_{i}-\\hat{y_{i}}}{\\sqrt{\\hat{y_{i}}}}\n",
        "\\end{align}\n",
        "\n",
        "which not only have mean at zero, but also standard deviation equal to **1**."
      ],
      "metadata": {
        "id": "igOCpIqXWPll"
      }
    },
    {
      "cell_type": "code",
      "source": [
        "f, axes = plt.subplots(1, 2, figsize=(17, 6), dpi = 80)\n",
        "axes[0].plot(y, results_eth_prec.resid_response, '.')\n",
        "axes[0].set_ylabel(\"Residuals\")\n",
        "axes[0].set_xlabel(\"$y$\")\n",
        "axes[1].plot(y, results_eth_prec.resid_pearson, '.')\n",
        "axes[1].axhline(y=-2, linestyle=':', color='black', label='$\\pm 2$')\n",
        "axes[1].axhline(y=+2, linestyle=':', color='black')\n",
        "axes[1].set_ylabel(\"Standardized residuals\")\n",
        "axes[1].set_xlabel(\"$y$\")\n",
        "plt.legend()\n",
        "plt.show()"
      ],
      "metadata": {
        "colab": {
          "base_uri": "https://localhost:8080/",
          "height": 436
        },
        "id": "afhVSlCiu-OO",
        "outputId": "34a9545d-a0bb-48e1-a235-46962942865a"
      },
      "execution_count": null,
      "outputs": [
        {
          "output_type": "display_data",
          "data": {
            "text/plain": [
              "<Figure size 1360x480 with 2 Axes>"
            ],
            "image/png": "[encoded data removed]"
          },
          "metadata": {}
        }
      ]
    },
    {
      "cell_type": "markdown",
      "source": [
        "From the left plot, we observe tha the variance increases with the fitted values - as expected from a Poisson distribution. **However, if the data were well described by the Poisson model, 95% of the standardized residuals should lie within 2 standard deviations. This is not the case (right plot)**.\n",
        "\n",
        "to quantify this, the number we should look at is the *overdispersion ratio $R$*, which is\n",
        "\n",
        "\\begin{align}\n",
        "R = \\frac{1}{n-k}\\Sigma{z^2_{i}},\n",
        "\\end{align}\n",
        "\n",
        "where $n-k$ are the degrees of freedom of the residuals ($n$ is the number of observations and $k$ is the number of parameters we used in the model). If the data were Poisson, we would expect $R\\approx1$. When $R>0$, we establish that the data is **overdispersed**. When $R<1$, we establish that the data is **under-dispersed**.\n",
        "\n"
      ],
      "metadata": {
        "id": "Ko2k9cygZSy9"
      }
    },
    {
      "cell_type": "code",
      "source": [
        "R = results_eth_prec.pearson_chi2/results_eth_prec.df_resid\n",
        "print(f'Overdispersion R = {R:.2f}')"
      ],
      "metadata": {
        "colab": {
          "base_uri": "https://localhost:8080/"
        },
        "id": "KXKaCI6YcK7C",
        "outputId": "28f3cf39-b436-401b-d3b0-cd259f0ed1e7"
      },
      "execution_count": null,
      "outputs": [
        {
          "output_type": "stream",
          "name": "stdout",
          "text": [
            "Overdispersion R = 21.89\n"
          ]
        }
      ]
    },
    {
      "cell_type": "markdown",
      "source": [
        "##**Poisson Distribution Behavior**\n",
        "---\n",
        "\n",
        "Let's visualize the Poisson by creating a Poisson distribution plot for different values of $\\lambda$:\n"
      ],
      "metadata": {
        "id": "GfworBora4Ui"
      }
    },
    {
      "cell_type": "code",
      "source": [
        "# We first create a nested iteration to calculate the probabilities given\n",
        "# distinct λ values depending on event rangong from 1 to 20.\n",
        "import numpy as np\n",
        "import math\n",
        "a = [1, 2, 3, 4, 5, 6] # Vector for values of mu(u) - λ - Poisson Parameter\n",
        "b = np.linspace(1, 20, 20).tolist()\n",
        "b = list(map(int, b))\n",
        "b\n",
        "probabilities = []\n",
        "for i in a:\n",
        "  group = []\n",
        "  mu = i + 1 # Adjusted mu (λ) value\n",
        "\n",
        "  for j in b:\n",
        "    p = ((math.exp(-mu))*(mu**j))/(math.factorial(j))\n",
        "    j += 1\n",
        "    group.append(p)\n",
        "  probabilities.append(group)\n"
      ],
      "metadata": {
        "id": "MqXPWjMBa3Rq"
      },
      "execution_count": null,
      "outputs": []
    },
    {
      "cell_type": "code",
      "source": [
        "for i in range(len(probabilities)):\n",
        "  plt.plot(b, probabilities[i], label = f\"λ = {i+1}\", marker= \"*\")\n",
        "  i += 1\n",
        "#plt.plot(x, y1, \"-b\", label=\"sine\")\n",
        "#plt.plot(x, y2, \"-r\", label=\"cosine\")\n",
        "#plt.legend(loc=\"upper left\")\n",
        "\n",
        "plt.legend(loc = \"upper right\")\n",
        "plt.title('Poisson Distribution given distinct λ values')\n",
        "plt.show()"
      ],
      "metadata": {
        "colab": {
          "base_uri": "https://localhost:8080/",
          "height": 452
        },
        "id": "4CCuQyTxEcUk",
        "outputId": "19fc530f-2ec5-4b86-b94c-a9bbb798b073"
      },
      "execution_count": null,
      "outputs": [
        {
          "output_type": "display_data",
          "data": {
            "text/plain": [
              "<Figure size 640x480 with 1 Axes>"
            ],
            "image/png": "[encoded data removed]"
          },
          "metadata": {}
        }
      ]
    }
  ]
}