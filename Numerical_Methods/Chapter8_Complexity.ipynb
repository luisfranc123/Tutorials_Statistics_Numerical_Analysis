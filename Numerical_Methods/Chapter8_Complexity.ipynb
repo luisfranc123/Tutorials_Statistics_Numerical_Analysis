{
  "nbformat": 4,
  "nbformat_minor": 0,
  "metadata": {
    "colab": {
      "provenance": [],
      "authorship_tag": "ABX9TyNSNGjRLHNpCo2h891u4AhM",
      "include_colab_link": true
    },
    "kernelspec": {
      "name": "python3",
      "display_name": "Python 3"
    },
    "language_info": {
      "name": "python"
    }
  },
  "cells": [
    {
      "cell_type": "markdown",
      "metadata": {
        "id": "view-in-github",
        "colab_type": "text"
      },
      "source": [
        "<a href=\"https://colab.research.google.com/github/luisfranc123/Tutorials_Statistics_Numerical_Analysis/blob/main/Numerical_Methods/Chapter8_Complexity.ipynb\" target=\"_parent\"><img src=\"https://colab.research.google.com/assets/colab-badge.svg\" alt=\"Open In Colab\"/></a>"
      ]
    },
    {
      "cell_type": "markdown",
      "source": [
        "##**Chapter 8: Complexity**\n",
        "\n",
        "###**8.1 Complexity and Big-O Notation**\n",
        "---\n",
        "**Textbook: Python Programming and Numerical Methods**\n",
        "\n",
        "The **complexity** of a function is the relationship between the size of the input and the difficulty of running the function to completion. The size of the input is ussually denoted by $n$. However, $n$ usually describes something more tangible, such as the length of an array. The difficulty of a problem can be measured in several ways. One suitable way to describe the difficulty of the problem is to use **basic operations**: additions, subtractions, multiplications, divisions, assignments, and function calls. Although each basic operation takes different amount of time, the number of basic operations needed to complete a function is sufficiently related to the running time to be useful, and it is much easier to count."
      ],
      "metadata": {
        "id": "6GFbf_OlWl4t"
      }
    },
    {
      "cell_type": "markdown",
      "source": [
        "**TYRY IT!**: Count the number of basic operations, in terms of `n`, required for the following function to terminate:"
      ],
      "metadata": {
        "id": "ro84EJJZZ9xi"
      }
    },
    {
      "cell_type": "code",
      "execution_count": null,
      "metadata": {
        "id": "V2QKghJx3fG1"
      },
      "outputs": [],
      "source": [
        "def f(n):\n",
        "  out = 0\n",
        "  for i in range(n):\n",
        "    for j in range(n):\n",
        "      out += i*j\n",
        "  return out"
      ]
    },
    {
      "cell_type": "markdown",
      "source": [
        "Let us calculate the number of operations:\n",
        "$n^{2}$ additions; 0 subtractions; $n^{2}$ multiplications; 0 divisions; $2n^{2} + 1$ assignments; 0 function calls; $4n^{2} + 1$ in total.\n",
        "\n",
        "The number of assignments is $2n^{2} + n + 1$ because the line `out += i*j` is evaluated $n^{2}$ times, `j` is assigned $n^{2}$ times, `i` is assigned $n$ times, and the line `out = 0` is assigned once. So, the complexity of the function `f` can be described as $4n^{2} + n + 1$"
      ],
      "metadata": {
        "id": "_rbdzStKapdk"
      }
    },
    {
      "cell_type": "markdown",
      "source": [
        "A common notation for complexity is called **Big-O notation**. Big-O notation establisheds the relaitonship in the growth of the number of basic operations with respect to the size of the input as the input size becomes very large. Because hardwire may be different on every machine, we cannot accurately calculate how long it will take to complete without also evaluating the hardware, which is only valid for that specific machine. How long it takes to calculate a specific set of input on a specific machine is not germane. Germane refers to the \"time of completion\". Because this type of analysis is hardware independent, the basic operations grow in direct response to the increase in the size of the input. As $n$ gets large, the highest power dominates; therefore, only the highest power term is included in Big-O notation. Additionally, coefficients are not required to characterize growth, and so coefficients are also droppped. In the previous example we counted $4n^{2} + n + 1$ basic operations to complete the fuction. In Big-O notation we would say that the function is $O(n^{2})$. We say that any algorithm with complexity $O(n^{c}$ where $c$ is some constant with respect to $n$ is **polynomial time**."
      ],
      "metadata": {
        "id": "RLXVYmsNQ7nD"
      }
    },
    {
      "cell_type": "markdown",
      "source": [
        "**Try it!**: Determine the complexity of the iterative Fibonacci function in Big-O notation."
      ],
      "metadata": {
        "id": "KZIX57ILTTbZ"
      }
    },
    {
      "cell_type": "code",
      "source": [
        "def my_fib_iter(n):\n",
        "  out = [1, 1]\n",
        "\n",
        "  for i in range(2, n):\n",
        "    out.append(out[i - 1] + out[i - 2])\n",
        "\n",
        "  return out"
      ],
      "metadata": {
        "id": "5i4ttpFVgMIp"
      },
      "execution_count": null,
      "outputs": []
    },
    {
      "cell_type": "markdown",
      "source": [
        "Since the only lines of code that take more time as $n$ grows are those in the for-loop, we can restrict our attention to the for-loop and the code block within it. The code within the for-loop does not grow with respect to $n$ (i.e., it is constant). Therefore, the number of basic operations is $Cn$, where $C$ is some constant representing the number of basic operations that occur in the for-loop, and these $C$ operations run $n$ times. This gives a complexity of $O(n)$ for `my_fib_iter`."
      ],
      "metadata": {
        "id": "svbiWecghMjR"
      }
    },
    {
      "cell_type": "markdown",
      "source": [
        "###**8.2 Use the Line Profiler**\n",
        "\n",
        "Many times we want to determine which line in a code script takes a long time so that we can rewrite this line to make it more efficient. This can be done using the `line_profiler`, which will profile the code line by line. This function is not shipped with Python; therefore, we need to install it, and then we can use the magic command:"
      ],
      "metadata": {
        "id": "MNjkJAtNPLOM"
      }
    },
    {
      "cell_type": "code",
      "source": [
        "!pip install line_profiler"
      ],
      "metadata": {
        "colab": {
          "base_uri": "https://localhost:8080/"
        },
        "id": "Yy_O4-kdP-g3",
        "outputId": "fbbc032f-4e7c-46d6-c158-a981868816dc"
      },
      "execution_count": null,
      "outputs": [
        {
          "output_type": "stream",
          "name": "stdout",
          "text": [
            "Collecting line_profiler\n",
            "  Downloading line_profiler-4.2.0-cp311-cp311-manylinux_2_17_x86_64.manylinux2014_x86_64.whl.metadata (34 kB)\n",
            "Downloading line_profiler-4.2.0-cp311-cp311-manylinux_2_17_x86_64.manylinux2014_x86_64.whl (750 kB)\n",
            "\u001b[2K   \u001b[90m━━━━━━━━━━━━━━━━━━━━━━━━━━━━━━━━━━━━━━━━\u001b[0m \u001b[32m750.2/750.2 kB\u001b[0m \u001b[31m9.6 MB/s\u001b[0m eta \u001b[36m0:00:00\u001b[0m\n",
            "\u001b[?25hInstalling collected packages: line_profiler\n",
            "Successfully installed line_profiler-4.2.0\n"
          ]
        }
      ]
    },
    {
      "cell_type": "markdown",
      "source": [
        "After you have installed this package. load the `line_profiler` extension:"
      ],
      "metadata": {
        "id": "nHu4hr7pQIsi"
      }
    },
    {
      "cell_type": "code",
      "source": [
        "%load_ext line_profiler"
      ],
      "metadata": {
        "id": "yIxGkRgDQQYJ"
      },
      "execution_count": null,
      "outputs": []
    },
    {
      "cell_type": "markdown",
      "source": [
        "The way we use the `line_profiler` to profile the code is shown as follows:"
      ],
      "metadata": {
        "id": "Rj38a0lNQUnj"
      }
    },
    {
      "cell_type": "code",
      "source": [
        "import numpy as np\n",
        "\n",
        "def slow_sum(n, m):\n",
        "\n",
        "  for i in range(n):\n",
        "    # We create a size m array of random numbers\n",
        "    a = np.random.rand(m)\n",
        "\n",
        "    s = 0\n",
        "    # in this loop we iterate through th array\n",
        "    # and add elements to the sum one by one\n",
        "\n",
        "    for j in range(m):\n",
        "      s += a[j]\n",
        "\n",
        "%prun slow_sum(1000, 1000)\n"
      ],
      "metadata": {
        "colab": {
          "base_uri": "https://localhost:8080/"
        },
        "id": "Ss_AOtkUQuZB",
        "outputId": "f9210bc8-3abe-42a4-cad1-a60ef3346f8b"
      },
      "execution_count": null,
      "outputs": [
        {
          "output_type": "stream",
          "name": "stdout",
          "text": [
            " "
          ]
        }
      ]
    },
    {
      "cell_type": "code",
      "source": [
        "%lprun -f slow_sum slow_sum(1000, 1000)"
      ],
      "metadata": {
        "id": "Zowp_2E4QcSa"
      },
      "execution_count": null,
      "outputs": []
    },
    {
      "cell_type": "code",
      "source": [
        "n = 10\n",
        "s = 0\n",
        "a = np.random.rand(n)\n",
        "\n",
        "for i in range(n):\n",
        "  s = s + a[i]"
      ],
      "metadata": {
        "id": "SJZ4g6Ctfjnq"
      },
      "execution_count": null,
      "outputs": []
    },
    {
      "cell_type": "code",
      "source": [
        "s"
      ],
      "metadata": {
        "colab": {
          "base_uri": "https://localhost:8080/"
        },
        "id": "xlt_vnEEfsTn",
        "outputId": "da7f523a-3002-47d1-ff17-f473772c2438"
      },
      "execution_count": null,
      "outputs": [
        {
          "output_type": "execute_result",
          "data": {
            "text/plain": [
              "np.float64(3.2278959671076155)"
            ]
          },
          "metadata": {},
          "execution_count": 9
        }
      ]
    },
    {
      "cell_type": "markdown",
      "source": [
        "###**Errors (Chapter 10)**\n",
        "\n",
        "**10.3 Try/Except**\n",
        "\n",
        "Often it is important to write programs that can handle certain types of errors of exceptions gracefully. More specifically, the error or exception must not cause a critical error that makes your program shut down. A **try-Except statement** is a code block that allows your program to take alternative actions in case an error occurs.\n",
        "\n",
        "**Construction:** Try-Exception Statement\n",
        "\n",
        "    try:\n",
        "      code block 1\n",
        "    except ExceptionName:\n",
        "      code block 2"
      ],
      "metadata": {
        "id": "XA1AOCQTyT4r"
      }
    },
    {
      "cell_type": "markdown",
      "source": [
        "Python will first attempt to execute the code in the `try` statement (code block 1). If no exception occurs, the `except` statement is skipped and the execution of the `try` statemet is finished. If any exception occurs, the rest of the clause is skipped. Then if the exception type matches the exception named after the `except` keyword (`ExceptionName`), the code in the `except` statement will be executed (code block 2). If nothing in this block stops the program, it will continue to execute the rest of the code outside of the `try-except` code blocks. If the exception does not match the `ExceptionName`, it is passed on to outer `try` statements. If no other handler is found, then the execution stops with an error message.\n",
        "\n",
        "**Example**: Campture the exception."
      ],
      "metadata": {
        "id": "OMmrH56DzUn8"
      }
    },
    {
      "cell_type": "code",
      "source": [
        "x = \"6\"\n",
        "try:\n",
        "  if x > 3:\n",
        "    print(\"X is larger than 3\")\n",
        "except TypeError:\n",
        "  print(\"Oops! x is not a valid number Try again...\")"
      ],
      "metadata": {
        "colab": {
          "base_uri": "https://localhost:8080/"
        },
        "id": "CanmBxLm05fV",
        "outputId": "f5684581-4929-4751-e1b4-9ca17916e4f1"
      },
      "execution_count": null,
      "outputs": [
        {
          "output_type": "stream",
          "name": "stdout",
          "text": [
            "Oops! x is not a valid number Try again...\n"
          ]
        }
      ]
    },
    {
      "cell_type": "markdown",
      "source": [
        "**Example**: If your handler is trying to capture another exception type that the `except` does not capture, then an error accurs and the execution stops."
      ],
      "metadata": {
        "id": "FSfacYXG1Zoz"
      }
    },
    {
      "cell_type": "code",
      "source": [
        "x = \"6\"\n",
        "try:\n",
        "  if x > 3:\n",
        "    print(\"X is larger than 3\")\n",
        "except ValueError:\n",
        "  print(\"Oops! x is not  valid number. Try again...\")"
      ],
      "metadata": {
        "colab": {
          "base_uri": "https://localhost:8080/",
          "height": 216
        },
        "id": "D5ZIreHL1spi",
        "outputId": "327fa5bd-8f46-43d2-bea9-208161bab675"
      },
      "execution_count": null,
      "outputs": [
        {
          "output_type": "error",
          "ename": "TypeError",
          "evalue": "'>' not supported between instances of 'str' and 'int'",
          "traceback": [
            "\u001b[0;31m---------------------------------------------------------------------------\u001b[0m",
            "\u001b[0;31mTypeError\u001b[0m                                 Traceback (most recent call last)",
            "\u001b[0;32m/tmp/ipython-input-2-4198416651.py\u001b[0m in \u001b[0;36m<cell line: 0>\u001b[0;34m()\u001b[0m\n\u001b[1;32m      1\u001b[0m \u001b[0mx\u001b[0m \u001b[0;34m=\u001b[0m \u001b[0;34m\"6\"\u001b[0m\u001b[0;34m\u001b[0m\u001b[0;34m\u001b[0m\u001b[0m\n\u001b[1;32m      2\u001b[0m \u001b[0;32mtry\u001b[0m\u001b[0;34m:\u001b[0m\u001b[0;34m\u001b[0m\u001b[0;34m\u001b[0m\u001b[0m\n\u001b[0;32m----> 3\u001b[0;31m   \u001b[0;32mif\u001b[0m \u001b[0mx\u001b[0m \u001b[0;34m>\u001b[0m \u001b[0;36m3\u001b[0m\u001b[0;34m:\u001b[0m\u001b[0;34m\u001b[0m\u001b[0;34m\u001b[0m\u001b[0m\n\u001b[0m\u001b[1;32m      4\u001b[0m     \u001b[0mprint\u001b[0m\u001b[0;34m(\u001b[0m\u001b[0;34m\"X is larger than 3\"\u001b[0m\u001b[0;34m)\u001b[0m\u001b[0;34m\u001b[0m\u001b[0;34m\u001b[0m\u001b[0m\n\u001b[1;32m      5\u001b[0m \u001b[0;32mexcept\u001b[0m \u001b[0mValueError\u001b[0m\u001b[0;34m:\u001b[0m\u001b[0;34m\u001b[0m\u001b[0;34m\u001b[0m\u001b[0m\n",
            "\u001b[0;31mTypeError\u001b[0m: '>' not supported between instances of 'str' and 'int'"
          ]
        }
      ]
    },
    {
      "cell_type": "markdown",
      "source": [
        "Of course, a `try` statement may have more than one except statement to handle different exceptions or you cannot specify the exception type so that the `except` will catch any exception."
      ],
      "metadata": {
        "id": "NTS9YtiX2TKt"
      }
    },
    {
      "cell_type": "code",
      "source": [
        "x = \"s\"\n",
        "\n",
        "try:\n",
        "  if x > 3:\n",
        "    print(x)\n",
        "except:\n",
        "  print(f\"Something is wrong with x = {x}\")"
      ],
      "metadata": {
        "colab": {
          "base_uri": "https://localhost:8080/"
        },
        "id": "h72cwILs2oK9",
        "outputId": "b0e316ab-1584-45af-def8-88f5009c878c"
      },
      "execution_count": null,
      "outputs": [
        {
          "output_type": "stream",
          "name": "stdout",
          "text": [
            "Something is wrong with x = s\n"
          ]
        }
      ]
    },
    {
      "cell_type": "markdown",
      "source": [
        "**Example**: Handling multiple exceptions:"
      ],
      "metadata": {
        "id": "yGu7-fRW27U_"
      }
    },
    {
      "cell_type": "code",
      "source": [
        "def test_exceptions(x):\n",
        "  try:\n",
        "    x = int(x)\n",
        "    if x > 3:\n",
        "      print(x)\n",
        "  except TypeError:\n",
        "    print(\"x was not a valid number. Try again...\")\n",
        "  except ValueError:\n",
        "    print(\"Cannot convert x to int. Try again...\")\n",
        "  except:\n",
        "    print(\"Unexpected error\")"
      ],
      "metadata": {
        "id": "fbwmH8fc3AXA"
      },
      "execution_count": null,
      "outputs": []
    },
    {
      "cell_type": "code",
      "source": [
        "x = [1, 2]\n",
        "test_exceptions(x)"
      ],
      "metadata": {
        "colab": {
          "base_uri": "https://localhost:8080/"
        },
        "id": "GyCCV3yi3k8B",
        "outputId": "037a31c2-ab62-4118-d502-9e00616b5aed"
      },
      "execution_count": null,
      "outputs": [
        {
          "output_type": "stream",
          "name": "stdout",
          "text": [
            "x was not a valid number. Try again...\n"
          ]
        }
      ]
    },
    {
      "cell_type": "code",
      "source": [
        "x = \"s\"\n",
        "test_exceptions(x)"
      ],
      "metadata": {
        "colab": {
          "base_uri": "https://localhost:8080/"
        },
        "id": "Eq7UcP9D3pl3",
        "outputId": "592e4b09-787b-43c4-f3ed-b2f664cb5633"
      },
      "execution_count": null,
      "outputs": [
        {
          "output_type": "stream",
          "name": "stdout",
          "text": [
            "Cannot convert x to int. Try again...\n"
          ]
        }
      ]
    },
    {
      "cell_type": "markdown",
      "source": [
        "Another useful thing in Python is that we can raise some exceptions in certain cases using `raise`. For example, if we need `x` to be less than or equal to 5, we can use the following code to raise an exception if `x` is largr than 5. The program will display our exception and stop the execution."
      ],
      "metadata": {
        "id": "FBj4iK4S3yTR"
      }
    },
    {
      "cell_type": "code",
      "source": [
        "x = 10\n",
        "\n",
        "if x > 5:\n",
        "  raise(Exception(\"x should be <= 5\"))"
      ],
      "metadata": {
        "colab": {
          "base_uri": "https://localhost:8080/",
          "height": 180
        },
        "id": "yXl7QW5t4Q_7",
        "outputId": "fb051053-f0a4-419d-ec6f-fc6cbb22785e"
      },
      "execution_count": null,
      "outputs": [
        {
          "output_type": "error",
          "ename": "Exception",
          "evalue": "x should be <= 5",
          "traceback": [
            "\u001b[0;31m---------------------------------------------------------------------------\u001b[0m",
            "\u001b[0;31mException\u001b[0m                                 Traceback (most recent call last)",
            "\u001b[0;32m/tmp/ipython-input-8-509054440.py\u001b[0m in \u001b[0;36m<cell line: 0>\u001b[0;34m()\u001b[0m\n\u001b[1;32m      2\u001b[0m \u001b[0;34m\u001b[0m\u001b[0m\n\u001b[1;32m      3\u001b[0m \u001b[0;32mif\u001b[0m \u001b[0mx\u001b[0m \u001b[0;34m>\u001b[0m \u001b[0;36m5\u001b[0m\u001b[0;34m:\u001b[0m\u001b[0;34m\u001b[0m\u001b[0;34m\u001b[0m\u001b[0m\n\u001b[0;32m----> 4\u001b[0;31m   \u001b[0;32mraise\u001b[0m\u001b[0;34m(\u001b[0m\u001b[0mException\u001b[0m\u001b[0;34m(\u001b[0m\u001b[0;34m\"x should be <= 5\"\u001b[0m\u001b[0;34m)\u001b[0m\u001b[0;34m)\u001b[0m\u001b[0;34m\u001b[0m\u001b[0;34m\u001b[0m\u001b[0m\n\u001b[0m",
            "\u001b[0;31mException\u001b[0m: x should be <= 5"
          ]
        }
      ]
    },
    {
      "cell_type": "markdown",
      "source": [
        "**TRY IT!** Modify `my_adder` to type check that the input variables are ﬂoats. If any of the input variables are not ﬂoats, the function should return an appropriate error to the user using the `raise` function. Try your function for erroneous input arguments to verify that they are checked."
      ],
      "metadata": {
        "id": "fyXeXcBN5OlT"
      }
    },
    {
      "cell_type": "code",
      "source": [
        "def my_adder(a, b, c):\n",
        "  # type check\n",
        "  if isinstance(a, (float, int, complex)) and \\\n",
        "     isinstance(b, (float, int, complex)) and \\\n",
        "     isinstance(c, (float, int, complex)):\n",
        "     pass\n",
        "  else:\n",
        "    raise(TypeError(\"Inputs must be numbers\"))\n",
        "\n",
        "  out = a + b + c\n",
        "  return out"
      ],
      "metadata": {
        "id": "jJJbVKSj5XY1"
      },
      "execution_count": null,
      "outputs": []
    },
    {
      "cell_type": "code",
      "source": [
        "my_adder(1, 2, 3)"
      ],
      "metadata": {
        "colab": {
          "base_uri": "https://localhost:8080/"
        },
        "id": "ZgxxMaiC6OpA",
        "outputId": "db2ee0a2-4041-437e-fb0f-91383c5540b0"
      },
      "execution_count": null,
      "outputs": [
        {
          "output_type": "execute_result",
          "data": {
            "text/plain": [
              "6"
            ]
          },
          "metadata": {},
          "execution_count": 12
        }
      ]
    },
    {
      "cell_type": "code",
      "source": [
        "my_adder(1.0, 2, 3)"
      ],
      "metadata": {
        "colab": {
          "base_uri": "https://localhost:8080/"
        },
        "id": "U7SsxqXo6TWY",
        "outputId": "64864dca-a9e8-4853-c0b2-394f9398ed6d"
      },
      "execution_count": null,
      "outputs": [
        {
          "output_type": "execute_result",
          "data": {
            "text/plain": [
              "6.0"
            ]
          },
          "metadata": {},
          "execution_count": 13
        }
      ]
    },
    {
      "cell_type": "code",
      "source": [
        "my_adder(1j, 2 + 2j, 3 + 2j)"
      ],
      "metadata": {
        "colab": {
          "base_uri": "https://localhost:8080/"
        },
        "id": "ZIg_nZEu6VwB",
        "outputId": "7fd4b960-a1d6-490c-92c4-ca85b59282e8"
      },
      "execution_count": null,
      "outputs": [
        {
          "output_type": "execute_result",
          "data": {
            "text/plain": [
              "(5+5j)"
            ]
          },
          "metadata": {},
          "execution_count": 14
        }
      ]
    },
    {
      "cell_type": "markdown",
      "source": [
        "**10.5 Debugging**\n",
        "\n",
        "Debugging is the process of systematically removing errors, from your code. Python has functionalities that can assist you when debugging. The standard debugging tool in Python is `pdb` (Python DeBugger) for interactive debugging. It lets you step through the code line by line to find out what might be causing a difficult error. The IPython version of this is `ipdb` (IPython DeBugger). We will cover how to use two really useful magic comands `%debug` and `%pdb` to find the causing trouble.\n",
        "\n",
        "There are two ways you can debug your code: (1) activate the debugger when you run into an exception; and (2) activae debugger before running the code.\n",
        "\n",
        "**10.5.1 Activating Debugger After Running Into an Exception**\n",
        "\n",
        "If we run the code which stops at an ecxeption, we can call `%debug`. For example, we have a function that squares the input number and then adds to itself, as shown below:"
      ],
      "metadata": {
        "id": "R3YlGBXe6t4N"
      }
    },
    {
      "cell_type": "code",
      "source": [
        "def square_number(x):\n",
        "\n",
        "  sq = x**2\n",
        "  sq += x\n",
        "\n",
        "  return sq"
      ],
      "metadata": {
        "id": "G7j8t5FF8f_g"
      },
      "execution_count": null,
      "outputs": []
    },
    {
      "cell_type": "code",
      "source": [
        "square_number(\"10\")"
      ],
      "metadata": {
        "colab": {
          "base_uri": "https://localhost:8080/",
          "height": 269
        },
        "id": "pmr0QA6P8qqc",
        "outputId": "2fb16811-e26a-4cc4-e762-151450d069aa"
      },
      "execution_count": null,
      "outputs": [
        {
          "output_type": "error",
          "ename": "TypeError",
          "evalue": "unsupported operand type(s) for ** or pow(): 'str' and 'int'",
          "traceback": [
            "\u001b[0;31m---------------------------------------------------------------------------\u001b[0m",
            "\u001b[0;31mTypeError\u001b[0m                                 Traceback (most recent call last)",
            "\u001b[0;32m/tmp/ipython-input-18-3473278975.py\u001b[0m in \u001b[0;36m<cell line: 0>\u001b[0;34m()\u001b[0m\n\u001b[0;32m----> 1\u001b[0;31m \u001b[0msquare_number\u001b[0m\u001b[0;34m(\u001b[0m\u001b[0;34m\"10\"\u001b[0m\u001b[0;34m)\u001b[0m\u001b[0;34m\u001b[0m\u001b[0;34m\u001b[0m\u001b[0m\n\u001b[0m",
            "\u001b[0;32m/tmp/ipython-input-17-2021076059.py\u001b[0m in \u001b[0;36msquare_number\u001b[0;34m(x)\u001b[0m\n\u001b[1;32m      1\u001b[0m \u001b[0;32mdef\u001b[0m \u001b[0msquare_number\u001b[0m\u001b[0;34m(\u001b[0m\u001b[0mx\u001b[0m\u001b[0;34m)\u001b[0m\u001b[0;34m:\u001b[0m\u001b[0;34m\u001b[0m\u001b[0;34m\u001b[0m\u001b[0m\n\u001b[1;32m      2\u001b[0m \u001b[0;34m\u001b[0m\u001b[0m\n\u001b[0;32m----> 3\u001b[0;31m   \u001b[0msq\u001b[0m \u001b[0;34m=\u001b[0m \u001b[0mx\u001b[0m\u001b[0;34m**\u001b[0m\u001b[0;36m2\u001b[0m\u001b[0;34m\u001b[0m\u001b[0;34m\u001b[0m\u001b[0m\n\u001b[0m\u001b[1;32m      4\u001b[0m   \u001b[0msq\u001b[0m \u001b[0;34m+=\u001b[0m \u001b[0mx\u001b[0m\u001b[0;34m\u001b[0m\u001b[0;34m\u001b[0m\u001b[0m\n\u001b[1;32m      5\u001b[0m \u001b[0;34m\u001b[0m\u001b[0m\n",
            "\u001b[0;31mTypeError\u001b[0m: unsupported operand type(s) for ** or pow(): 'str' and 'int'"
          ]
        }
      ]
    },
    {
      "cell_type": "markdown",
      "source": [
        "After we locate this exception, we can activate the debugger by using the magic command `%debug`, which opens an interactive debugger, at which point you can type in commands i the debugger to get useful information."
      ],
      "metadata": {
        "id": "wJyE5rXf8zNi"
      }
    },
    {
      "cell_type": "code",
      "source": [
        "%debug"
      ],
      "metadata": {
        "colab": {
          "base_uri": "https://localhost:8080/"
        },
        "id": "bcLh-LW29DsJ",
        "outputId": "acc33898-f9f4-4abe-dcb3-6bd72404fdea"
      },
      "execution_count": null,
      "outputs": [
        {
          "output_type": "stream",
          "name": "stdout",
          "text": [
            "> \u001b[0;32m/usr/local/lib/python3.11/dist-packages/ipykernel/kernelbase.py\u001b[0m(1219)\u001b[0;36m_input_request\u001b[0;34m()\u001b[0m\n",
            "\u001b[0;32m   1217 \u001b[0;31m            \u001b[0;32mexcept\u001b[0m \u001b[0mKeyboardInterrupt\u001b[0m\u001b[0;34m:\u001b[0m\u001b[0;34m\u001b[0m\u001b[0;34m\u001b[0m\u001b[0m\n",
            "\u001b[0m\u001b[0;32m   1218 \u001b[0;31m                \u001b[0;31m# re-raise KeyboardInterrupt, to truncate traceback\u001b[0m\u001b[0;34m\u001b[0m\u001b[0;34m\u001b[0m\u001b[0m\n",
            "\u001b[0m\u001b[0;32m-> 1219 \u001b[0;31m                \u001b[0;32mraise\u001b[0m \u001b[0mKeyboardInterrupt\u001b[0m\u001b[0;34m(\u001b[0m\u001b[0;34m\"Interrupted by user\"\u001b[0m\u001b[0;34m)\u001b[0m \u001b[0;32mfrom\u001b[0m \u001b[0;32mNone\u001b[0m\u001b[0;34m\u001b[0m\u001b[0;34m\u001b[0m\u001b[0m\n",
            "\u001b[0m\u001b[0;32m   1220 \u001b[0;31m            \u001b[0;32mexcept\u001b[0m \u001b[0mException\u001b[0m\u001b[0;34m:\u001b[0m\u001b[0;34m\u001b[0m\u001b[0;34m\u001b[0m\u001b[0m\n",
            "\u001b[0m\u001b[0;32m   1221 \u001b[0;31m                \u001b[0mself\u001b[0m\u001b[0;34m.\u001b[0m\u001b[0mlog\u001b[0m\u001b[0;34m.\u001b[0m\u001b[0mwarning\u001b[0m\u001b[0;34m(\u001b[0m\u001b[0;34m\"Invalid Message:\"\u001b[0m\u001b[0;34m,\u001b[0m \u001b[0mexc_info\u001b[0m\u001b[0;34m=\u001b[0m\u001b[0;32mTrue\u001b[0m\u001b[0;34m)\u001b[0m\u001b[0;34m\u001b[0m\u001b[0;34m\u001b[0m\u001b[0m\n",
            "\u001b[0m\n",
            "ipdb> h\n",
            "\n",
            "Documented commands (type help <topic>):\n",
            "========================================\n",
            "EOF    commands   enable    ll        pp       s                until \n",
            "a      condition  exit      longlist  psource  skip_hidden      up    \n",
            "alias  cont       h         n         q        skip_predicates  w     \n",
            "args   context    help      next      quit     source           whatis\n",
            "b      continue   ignore    p         r        step             where \n",
            "break  d          interact  pdef      restart  tbreak         \n",
            "bt     debug      j         pdoc      return   u              \n",
            "c      disable    jump      pfile     retval   unalias        \n",
            "cl     display    l         pinfo     run      undisplay      \n",
            "clear  down       list      pinfo2    rv       unt            \n",
            "\n",
            "Miscellaneous help topics:\n",
            "==========================\n",
            "exec  pdb\n",
            "\n",
            "ipdb> p\n",
            "*** SyntaxError: invalid syntax\n",
            "ipdb> p x\n",
            "*** NameError: name 'x' is not defined\n",
            "--KeyboardInterrupt--\n",
            "\n",
            "KeyboardInterrupt: Interrupted by user\n"
          ]
        }
      ]
    },
    {
      "cell_type": "markdown",
      "source": [
        "**10.5.2 Activating Debugger Before Runing the Code**\n",
        "\n",
        "We can also turn on the debugger before we ru the code and then turn it off once we are finished running the code."
      ],
      "metadata": {
        "id": "nKtjI8lf98q3"
      }
    },
    {
      "cell_type": "code",
      "source": [
        "%pdb on"
      ],
      "metadata": {
        "colab": {
          "base_uri": "https://localhost:8080/"
        },
        "id": "i4bQFyXL-OcL",
        "outputId": "a5ca4ef5-57ea-4939-e623-00bcf1d7219c"
      },
      "execution_count": null,
      "outputs": [
        {
          "output_type": "stream",
          "name": "stdout",
          "text": [
            "Automatic pdb calling has been turned ON\n"
          ]
        }
      ]
    },
    {
      "cell_type": "code",
      "source": [
        "square_number(\"10\")"
      ],
      "metadata": {
        "colab": {
          "base_uri": "https://localhost:8080/",
          "height": 1000
        },
        "id": "R9YVAyWK-R_u",
        "outputId": "06f10762-d64f-4fd1-d077-bdfb7f54235e"
      },
      "execution_count": null,
      "outputs": [
        {
          "output_type": "error",
          "ename": "TypeError",
          "evalue": "unsupported operand type(s) for ** or pow(): 'str' and 'int'",
          "traceback": [
            "\u001b[0;31m---------------------------------------------------------------------------\u001b[0m",
            "\u001b[0;31mTypeError\u001b[0m                                 Traceback (most recent call last)",
            "\u001b[0;32m/tmp/ipython-input-22-3473278975.py\u001b[0m in \u001b[0;36m<cell line: 0>\u001b[0;34m()\u001b[0m\n\u001b[0;32m----> 1\u001b[0;31m \u001b[0msquare_number\u001b[0m\u001b[0;34m(\u001b[0m\u001b[0;34m\"10\"\u001b[0m\u001b[0;34m)\u001b[0m\u001b[0;34m\u001b[0m\u001b[0;34m\u001b[0m\u001b[0m\n\u001b[0m",
            "\u001b[0;32m/tmp/ipython-input-17-2021076059.py\u001b[0m in \u001b[0;36msquare_number\u001b[0;34m(x)\u001b[0m\n\u001b[1;32m      1\u001b[0m \u001b[0;32mdef\u001b[0m \u001b[0msquare_number\u001b[0m\u001b[0;34m(\u001b[0m\u001b[0mx\u001b[0m\u001b[0;34m)\u001b[0m\u001b[0;34m:\u001b[0m\u001b[0;34m\u001b[0m\u001b[0;34m\u001b[0m\u001b[0m\n\u001b[1;32m      2\u001b[0m \u001b[0;34m\u001b[0m\u001b[0m\n\u001b[0;32m----> 3\u001b[0;31m   \u001b[0msq\u001b[0m \u001b[0;34m=\u001b[0m \u001b[0mx\u001b[0m\u001b[0;34m**\u001b[0m\u001b[0;36m2\u001b[0m\u001b[0;34m\u001b[0m\u001b[0;34m\u001b[0m\u001b[0m\n\u001b[0m\u001b[1;32m      4\u001b[0m   \u001b[0msq\u001b[0m \u001b[0;34m+=\u001b[0m \u001b[0mx\u001b[0m\u001b[0;34m\u001b[0m\u001b[0;34m\u001b[0m\u001b[0m\n\u001b[1;32m      5\u001b[0m \u001b[0;34m\u001b[0m\u001b[0m\n",
            "\u001b[0;31mTypeError\u001b[0m: unsupported operand type(s) for ** or pow(): 'str' and 'int'"
          ]
        },
        {
          "name": "stdout",
          "output_type": "stream",
          "text": [
            "> \u001b[0;32m/tmp/ipython-input-17-2021076059.py\u001b[0m(3)\u001b[0;36msquare_number\u001b[0;34m()\u001b[0m\n",
            "\u001b[0;32m      1 \u001b[0;31m\u001b[0;32mdef\u001b[0m \u001b[0msquare_number\u001b[0m\u001b[0;34m(\u001b[0m\u001b[0mx\u001b[0m\u001b[0;34m)\u001b[0m\u001b[0;34m:\u001b[0m\u001b[0;34m\u001b[0m\u001b[0;34m\u001b[0m\u001b[0m\n",
            "\u001b[0m\u001b[0;32m      2 \u001b[0;31m\u001b[0;34m\u001b[0m\u001b[0m\n",
            "\u001b[0m\u001b[0;32m----> 3 \u001b[0;31m  \u001b[0msq\u001b[0m \u001b[0;34m=\u001b[0m \u001b[0mx\u001b[0m\u001b[0;34m**\u001b[0m\u001b[0;36m2\u001b[0m\u001b[0;34m\u001b[0m\u001b[0;34m\u001b[0m\u001b[0m\n",
            "\u001b[0m\u001b[0;32m      4 \u001b[0;31m  \u001b[0msq\u001b[0m \u001b[0;34m+=\u001b[0m \u001b[0mx\u001b[0m\u001b[0;34m\u001b[0m\u001b[0;34m\u001b[0m\u001b[0m\n",
            "\u001b[0m\u001b[0;32m      5 \u001b[0;31m\u001b[0;34m\u001b[0m\u001b[0m\n",
            "\u001b[0m\n",
            "ipdb> p\n",
            "*** SyntaxError: invalid syntax\n",
            "ipdb> h\n",
            "\n",
            "Documented commands (type help <topic>):\n",
            "========================================\n",
            "EOF    commands   enable    ll        pp       s                until \n",
            "a      condition  exit      longlist  psource  skip_hidden      up    \n",
            "alias  cont       h         n         q        skip_predicates  w     \n",
            "args   context    help      next      quit     source           whatis\n",
            "b      continue   ignore    p         r        step             where \n",
            "break  d          interact  pdef      restart  tbreak         \n",
            "bt     debug      j         pdoc      return   u              \n",
            "c      disable    jump      pfile     retval   unalias        \n",
            "cl     display    l         pinfo     run      undisplay      \n",
            "clear  down       list      pinfo2    rv       unt            \n",
            "\n",
            "Miscellaneous help topics:\n",
            "==========================\n",
            "exec  pdb\n",
            "\n",
            "ipdb> p x\n",
            "'10'\n",
            "ipdb> c\n"
          ]
        },
        {
          "output_type": "stream",
          "name": "stderr",
          "text": [
            "\n",
            "PYDEV DEBUGGER WARNING:\n",
            "sys.settrace() should not be used when the debugger is being used.\n",
            "This may cause the debugger to stop working correctly.\n",
            "If this is needed, please check: \n",
            "http://pydev.blogspot.com/2007/06/why-cant-pydev-debugger-work-with.html\n",
            "to see how to restore the debug tracing back correctly.\n",
            "Call Location:\n",
            "  File \"/usr/lib/python3.11/bdb.py\", line 347, in set_continue\n",
            "    sys.settrace(None)\n",
            "\n"
          ]
        }
      ]
    },
    {
      "cell_type": "markdown",
      "source": [
        "**10.5.3 Add a Breakpoint**\n",
        "\n",
        "It is often useful to insert a breakpoint into your code. A breakpoint is a line in your code at which Python will stop when the function is run."
      ],
      "metadata": {
        "id": "xfbKp_-e-bzM"
      }
    },
    {
      "cell_type": "code",
      "source": [
        "import pdb\n",
        "\n",
        "def square_number(x):\n",
        "\n",
        "  sq = x**2\n",
        "\n",
        "  # We add a breakpoint here\n",
        "  pdb.set_trace()\n",
        "\n",
        "  sq += x\n",
        "\n",
        "  return sq"
      ],
      "metadata": {
        "id": "tRyyPH7g-qdj"
      },
      "execution_count": null,
      "outputs": []
    },
    {
      "cell_type": "code",
      "source": [
        "square_number(3)"
      ],
      "metadata": {
        "colab": {
          "base_uri": "https://localhost:8080/"
        },
        "id": "RcQWt3Sk-9a-",
        "outputId": "ca5bd235-619a-4375-9a60-b0637c51d4fa"
      },
      "execution_count": null,
      "outputs": [
        {
          "output_type": "stream",
          "name": "stderr",
          "text": [
            "\n",
            "PYDEV DEBUGGER WARNING:\n",
            "sys.settrace() should not be used when the debugger is being used.\n",
            "This may cause the debugger to stop working correctly.\n",
            "If this is needed, please check: \n",
            "http://pydev.blogspot.com/2007/06/why-cant-pydev-debugger-work-with.html\n",
            "to see how to restore the debug tracing back correctly.\n",
            "Call Location:\n",
            "  File \"/usr/lib/python3.11/bdb.py\", line 336, in set_trace\n",
            "    sys.settrace(self.trace_dispatch)\n",
            "\n"
          ]
        },
        {
          "name": "stdout",
          "output_type": "stream",
          "text": [
            "> \u001b[0;32m/tmp/ipython-input-23-1197626903.py\u001b[0m(10)\u001b[0;36msquare_number\u001b[0;34m()\u001b[0m\n",
            "\u001b[0;32m      8 \u001b[0;31m  \u001b[0mpdb\u001b[0m\u001b[0;34m.\u001b[0m\u001b[0mset_trace\u001b[0m\u001b[0;34m(\u001b[0m\u001b[0;34m)\u001b[0m\u001b[0;34m\u001b[0m\u001b[0;34m\u001b[0m\u001b[0m\n",
            "\u001b[0m\u001b[0;32m      9 \u001b[0;31m\u001b[0;34m\u001b[0m\u001b[0m\n",
            "\u001b[0m\u001b[0;32m---> 10 \u001b[0;31m  \u001b[0msq\u001b[0m \u001b[0;34m+=\u001b[0m \u001b[0mx\u001b[0m\u001b[0;34m\u001b[0m\u001b[0;34m\u001b[0m\u001b[0m\n",
            "\u001b[0m\u001b[0;32m     11 \u001b[0;31m\u001b[0;34m\u001b[0m\u001b[0m\n",
            "\u001b[0m\u001b[0;32m     12 \u001b[0;31m  \u001b[0;32mreturn\u001b[0m \u001b[0msq\u001b[0m\u001b[0;34m\u001b[0m\u001b[0;34m\u001b[0m\u001b[0m\n",
            "\u001b[0m\n",
            "ipdb> p\n",
            "*** SyntaxError: invalid syntax\n",
            "ipdb> h\n",
            "\n",
            "Documented commands (type help <topic>):\n",
            "========================================\n",
            "EOF    commands   enable    ll        pp       s                until \n",
            "a      condition  exit      longlist  psource  skip_hidden      up    \n",
            "alias  cont       h         n         q        skip_predicates  w     \n",
            "args   context    help      next      quit     source           whatis\n",
            "b      continue   ignore    p         r        step             where \n",
            "break  d          interact  pdef      restart  tbreak         \n",
            "bt     debug      j         pdoc      return   u              \n",
            "c      disable    jump      pfile     retval   unalias        \n",
            "cl     display    l         pinfo     run      undisplay      \n",
            "clear  down       list      pinfo2    rv       unt            \n",
            "\n",
            "Miscellaneous help topics:\n",
            "==========================\n",
            "exec  pdb\n",
            "\n",
            "ipdb> c\n"
          ]
        },
        {
          "output_type": "execute_result",
          "data": {
            "text/plain": [
              "12"
            ]
          },
          "metadata": {},
          "execution_count": 24
        }
      ]
    }
  ]
}