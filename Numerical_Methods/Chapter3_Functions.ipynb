{
  "nbformat": 4,
  "nbformat_minor": 0,
  "metadata": {
    "colab": {
      "provenance": [],
      "authorship_tag": "ABX9TyMTjdLKIdnX81qzGmdsKjzm",
      "include_colab_link": true
    },
    "kernelspec": {
      "name": "python3",
      "display_name": "Python 3"
    },
    "language_info": {
      "name": "python"
    }
  },
  "cells": [
    {
      "cell_type": "markdown",
      "metadata": {
        "id": "view-in-github",
        "colab_type": "text"
      },
      "source": [
        "<a href=\"https://colab.research.google.com/github/luisfranc123/Tutorials_Statistics_Numerical_Analysis/blob/main/Numerical_Methods/Chapter3_Functions.ipynb\" target=\"_parent\"><img src=\"https://colab.research.google.com/assets/colab-badge.svg\" alt=\"Open In Colab\"/></a>"
      ]
    },
    {
      "cell_type": "markdown",
      "source": [
        "#**3. Functions**\n",
        "---\n",
        "\n",
        "**Textbook**: Phyton Programming and Numerical Methods"
      ],
      "metadata": {
        "id": "G5NcQBtpo9Q7"
      }
    },
    {
      "cell_type": "markdown",
      "source": [
        "##**3.1 Function Basics**\n",
        "\n",
        "In programing, a **function** is a sequence of instructions that performs a specific task."
      ],
      "metadata": {
        "id": "EwXTFtY-pe_N"
      }
    },
    {
      "cell_type": "markdown",
      "source": [
        "###**Define your own function**"
      ],
      "metadata": {
        "id": "uD4OKHSrqH1S"
      }
    },
    {
      "cell_type": "code",
      "execution_count": null,
      "metadata": {
        "id": "tSb5jkWOo395"
      },
      "outputs": [],
      "source": [
        "def function_name(parameter_1, parameter_2, ...):\n",
        "  \"\"\"\n",
        "  Descriptive String\n",
        "  \"\"\"\n",
        "  # Comment about the statements\n",
        "  function_statements\n",
        "\n",
        "  return output_parameters (optional)"
      ]
    },
    {
      "cell_type": "markdown",
      "source": [
        "- *Descriptive string*, which is string that describes the function that can be accessed by the help()\n",
        "function or the question mark. The triple single or triple double quotes show where to put (or\n",
        "locate) your descriptive strings. You can write any strings inside the quotes, either in one line or\n",
        "multiple lines.\n",
        "- *Function statements*, which are the step-by-step instructions the function will execute when\n",
        "calling the function. Note that there is a line that starts with #; this is a single line comment,\n",
        "which means that it is not part of the function and cannot be executed.\n",
        "- *Return statements*, which may contain some parameters to be returned after the function is called.\n",
        "As discussed in more detail later, any data type can be returned, even a function."
      ],
      "metadata": {
        "id": "7cNSMiilqhyK"
      }
    },
    {
      "cell_type": "code",
      "source": [
        "def my_adder(a, b, c):\n",
        "  \"\"\"\n",
        "  function to sum the 3 numbers\n",
        "  Input: 3 numbers a, b, c\n",
        "  Output: the sum of a, b, and c\n",
        "  author:\n",
        "  date:\n",
        "  \"\"\"\n",
        "\n",
        "  # this is the summation\n",
        "  out = a + b + c\n",
        "  return out"
      ],
      "metadata": {
        "id": "M54Bx9cqrECZ"
      },
      "execution_count": null,
      "outputs": []
    },
    {
      "cell_type": "code",
      "source": [
        "my_adder(1, 2, 3)"
      ],
      "metadata": {
        "colab": {
          "base_uri": "https://localhost:8080/"
        },
        "id": "c8WvfsDxrojk",
        "outputId": "8e06897b-f8b2-4654-8619-2d0ccd96da85"
      },
      "execution_count": null,
      "outputs": [
        {
          "output_type": "execute_result",
          "data": {
            "text/plain": [
              "6"
            ]
          },
          "metadata": {},
          "execution_count": 7
        }
      ]
    },
    {
      "cell_type": "code",
      "source": [
        "my_adder(4, 5, 6)"
      ],
      "metadata": {
        "colab": {
          "base_uri": "https://localhost:8080/"
        },
        "id": "018jEyNSrrU4",
        "outputId": "73afa46f-6eb1-4223-a3b7-f1dc7285c0f6"
      },
      "execution_count": null,
      "outputs": [
        {
          "output_type": "execute_result",
          "data": {
            "text/plain": [
              "15"
            ]
          },
          "metadata": {},
          "execution_count": 8
        }
      ]
    },
    {
      "cell_type": "code",
      "source": [
        "help(my_adder)"
      ],
      "metadata": {
        "colab": {
          "base_uri": "https://localhost:8080/"
        },
        "id": "iN-qD5eErueX",
        "outputId": "a9eb9d71-5a25-442a-f145-f7085213153e"
      },
      "execution_count": null,
      "outputs": [
        {
          "output_type": "stream",
          "name": "stdout",
          "text": [
            "Help on function my_adder in module __main__:\n",
            "\n",
            "my_adder(a, b, c)\n",
            "    function to sum the 3 numbers\n",
            "    Input: 3 numbers a, b, c\n",
            "    Output: the sum of a, b, and c\n",
            "    author:\n",
            "    date:\n",
            "\n"
          ]
        }
      ]
    },
    {
      "cell_type": "code",
      "source": [
        "import numpy as np\n",
        "d = my_adder(np.sin(np.pi), np.cos(np.pi), np.tan(np.pi))\n",
        "d"
      ],
      "metadata": {
        "colab": {
          "base_uri": "https://localhost:8080/"
        },
        "id": "iqS4FNB7sUHq",
        "outputId": "06218853-e5d3-478f-d9e9-9bf528ae432f"
      },
      "execution_count": null,
      "outputs": [
        {
          "output_type": "execute_result",
          "data": {
            "text/plain": [
              "np.float64(-1.0)"
            ]
          },
          "metadata": {},
          "execution_count": 10
        }
      ]
    },
    {
      "cell_type": "code",
      "source": [
        "def my_trig_sum(a, b):\n",
        "  \"\"\"\n",
        "  functio to demo return multiple\n",
        "  autohr\n",
        "  date\n",
        "  \"\"\"\n",
        "  out1 = np.sin(a) + np.cos(b)\n",
        "  out2 = np.sin(b) + np.cos(a)\n",
        "  return out1, out2, [out1, out2]\n"
      ],
      "metadata": {
        "id": "OE4iNz6Rsyzt"
      },
      "execution_count": null,
      "outputs": []
    },
    {
      "cell_type": "code",
      "source": [
        "c, d, e, = my_trig_sum(2, 3)\n",
        "print(f\"c = {c}, d = {d}, e = {e}\")"
      ],
      "metadata": {
        "colab": {
          "base_uri": "https://localhost:8080/"
        },
        "id": "98emoeoAtGgi",
        "outputId": "f4bf2799-0cc6-44fd-f3cd-d456163da471"
      },
      "execution_count": null,
      "outputs": [
        {
          "output_type": "stream",
          "name": "stdout",
          "text": [
            "c = -0.0806950697747637, d = -0.2750268284872752, e = [np.float64(-0.0806950697747637), np.float64(-0.2750268284872752)]\n"
          ]
        }
      ]
    },
    {
      "cell_type": "markdown",
      "source": [
        "A function can be defined without an input argument and returning any value. For example:"
      ],
      "metadata": {
        "id": "wE6C7F-3ttJs"
      }
    },
    {
      "cell_type": "code",
      "source": [
        "def print_hello():\n",
        "  print(\"Hello\")\n",
        "\n",
        "print_hello()\n",
        "# Note! Even there is no input argument, when you call the function,\n",
        "# you still need to include the parentheses."
      ],
      "metadata": {
        "colab": {
          "base_uri": "https://localhost:8080/"
        },
        "id": "BNHcqNKat4zQ",
        "outputId": "c26ebb1e-571c-4f4a-edfc-d9881e9c744c"
      },
      "execution_count": null,
      "outputs": [
        {
          "output_type": "stream",
          "name": "stdout",
          "text": [
            "Hello\n"
          ]
        }
      ]
    },
    {
      "cell_type": "markdown",
      "source": [
        "For the input of the argument, we can include the default value as well. See the following example:"
      ],
      "metadata": {
        "id": "5Tigd0QTuTrA"
      }
    },
    {
      "cell_type": "code",
      "source": [
        "def print_greeting(day = \"Monday\", name = \"Oingkai\"):\n",
        "  print(f\"Greetings, {name}, today is {day}\")\n",
        "\n",
        "print_greeting()"
      ],
      "metadata": {
        "colab": {
          "base_uri": "https://localhost:8080/"
        },
        "id": "jt5RBpDKucFG",
        "outputId": "361f2622-912e-430d-a25a-c01e237a6d1c"
      },
      "execution_count": null,
      "outputs": [
        {
          "output_type": "stream",
          "name": "stdout",
          "text": [
            "Greetings, Oingkai, today is Monday\n"
          ]
        }
      ]
    },
    {
      "cell_type": "code",
      "source": [
        "print_greeting(name = \"Timmy\", day = \"Friday\")"
      ],
      "metadata": {
        "colab": {
          "base_uri": "https://localhost:8080/"
        },
        "id": "4WJUq0DWusZp",
        "outputId": "914f418a-a181-4b2c-edce-3fef18e290e7"
      },
      "execution_count": null,
      "outputs": [
        {
          "output_type": "stream",
          "name": "stdout",
          "text": [
            "Greetings, Timmy, today is Friday\n"
          ]
        }
      ]
    },
    {
      "cell_type": "code",
      "source": [
        "print_greeting(name = \"Alex\")"
      ],
      "metadata": {
        "colab": {
          "base_uri": "https://localhost:8080/"
        },
        "id": "y-54mVSAu0LQ",
        "outputId": "38bdd694-9f2b-432e-d1ee-cf85728e6bb3"
      },
      "execution_count": null,
      "outputs": [
        {
          "output_type": "stream",
          "name": "stdout",
          "text": [
            "Greetings, Alex, today is Monday\n"
          ]
        }
      ]
    },
    {
      "cell_type": "markdown",
      "source": [
        "###**Local Variables and Global Variables**\n",
        "\n",
        "A function has its own memory block that is reserved for variables created within that function: This block of memory is not shared with the whole noteook memory block. Therefore, a variable with a given name can be assigned within a function without changing a variable with the same name outside of the function."
      ],
      "metadata": {
        "id": "mn1q4XhjvnkX"
      }
    },
    {
      "cell_type": "code",
      "source": [
        "def my_addr(a, b, c):\n",
        "  out = a + b + c\n",
        "  print(f\"The value out within the function is {out}\")\n",
        "  return\n",
        "\n",
        "out = 1\n",
        "d = my_adder(1, 2, 3)\n",
        "print(f\"The value out outside the function is {out}\")"
      ],
      "metadata": {
        "colab": {
          "base_uri": "https://localhost:8080/"
        },
        "id": "wMkbhSeUwYYE",
        "outputId": "3354bfd7-3ef1-4e74-b1fe-9cdf8a4d6c2f"
      },
      "execution_count": null,
      "outputs": [
        {
          "output_type": "stream",
          "name": "stdout",
          "text": [
            "The value out outside the function is 1\n"
          ]
        }
      ]
    },
    {
      "cell_type": "markdown",
      "source": [
        "###**Nested Functions**\n",
        "\n",
        "A **nested function** is a function that is defined within another function -- **parent function**. Only the parent function is able to call nested function. Remember that the nested function retains a separate memory block from its parnt function."
      ],
      "metadata": {
        "id": "kWuk9NamxULb"
      }
    },
    {
      "cell_type": "code",
      "source": [
        "def my_dist_xyz(x, y, z):\n",
        "  \"\"\"\n",
        "  x, y, z, are 2D coordinates contained in a tuple\n",
        "  output:\n",
        "  d = list, where\n",
        "  d[0] is the distance betwen x and y\n",
        "  d[1] is the distance betwen x and z\n",
        "  d[2] is the distance betwen y and z\n",
        "  \"\"\"\n",
        "\n",
        "  def my_dist(x, y):\n",
        "    \"\"\"\n",
        "    subfunction for my_dist_xyz\n",
        "    Output is the distance between x and y,\n",
        "    computed using the distance formula.\n",
        "    \"\"\"\n",
        "    out = np.sqrt((x[0]-y[0])**2+(x[1]-y[1])**2)\n",
        "    return out\n",
        "\n",
        "  d0 = my_dist(x, y)\n",
        "  d1 = my_dist(x, z)\n",
        "  d2 = my_dist(y, z)\n",
        "\n",
        "  return [d0, d1, d2]\n",
        "\n"
      ],
      "metadata": {
        "id": "ba93YfWzxsEG"
      },
      "execution_count": null,
      "outputs": []
    },
    {
      "cell_type": "code",
      "source": [
        "d = my_dist_xyz((0, 0), (0, 1), (1, 1))\n",
        "print([float(x) for x in d])\n"
      ],
      "metadata": {
        "colab": {
          "base_uri": "https://localhost:8080/"
        },
        "id": "-kDxN2FOzLG1",
        "outputId": "3d11582f-88b2-4db6-e150-51bb1235a66d"
      },
      "execution_count": null,
      "outputs": [
        {
          "output_type": "stream",
          "name": "stdout",
          "text": [
            "[1.0, 1.4142135623730951, 1.0]\n"
          ]
        }
      ]
    },
    {
      "cell_type": "code",
      "source": [
        "help(my_dist_xyz)"
      ],
      "metadata": {
        "colab": {
          "base_uri": "https://localhost:8080/"
        },
        "id": "mPCBfDkx0HIm",
        "outputId": "04fbcd18-dd0a-458d-d45a-fa05427e5d4f"
      },
      "execution_count": null,
      "outputs": [
        {
          "output_type": "stream",
          "name": "stdout",
          "text": [
            "Help on function my_dist_xyz in module __main__:\n",
            "\n",
            "my_dist_xyz(x, y, z)\n",
            "    x, y, z, are 2D coordinates contained in a tuple\n",
            "    output:\n",
            "    d = list, where\n",
            "    d[0] is the distance betwen x and y\n",
            "    d[1] is the distance betwen x and z\n",
            "    d[2] is the distance betwen y and z\n",
            "\n"
          ]
        }
      ]
    },
    {
      "cell_type": "markdown",
      "source": [
        "###**Lambda Functions**\n",
        "\n",
        "Sometimes it is not optimal to define a function the usual way, epecially if our function is just one line. In this case, we use the anonyous function in Python, which is a function that is defined without a name. These types of function are also called **lamda function**, since they are defined using the `lambda` keyword.\n",
        "\n",
        "**Construction**:\n",
        "\n",
        "`lambda arguments: expression`\n",
        "\n",
        "It can have ay number of arguments but has only one expression."
      ],
      "metadata": {
        "id": "rB3CyT8s2I9w"
      }
    },
    {
      "cell_type": "code",
      "source": [
        "square = lambda x: x**2\n",
        "print(square(2))\n",
        "print(square(7))"
      ],
      "metadata": {
        "colab": {
          "base_uri": "https://localhost:8080/"
        },
        "id": "zU3hVmvc22nz",
        "outputId": "25a97e9c-5ac3-499d-d5cc-37351de3f80d"
      },
      "execution_count": null,
      "outputs": [
        {
          "output_type": "stream",
          "name": "stdout",
          "text": [
            "4\n",
            "49\n"
          ]
        }
      ]
    },
    {
      "cell_type": "code",
      "source": [
        "# Define a lambda function, which adds x and y.\n",
        "\n",
        "my_adder = lambda x, y: x + y\n",
        "\n",
        "print(my_adder(2, 5))"
      ],
      "metadata": {
        "colab": {
          "base_uri": "https://localhost:8080/"
        },
        "id": "XP_zU2t23LCT",
        "outputId": "6dd1b6a4-09d8-4490-a7c8-4d80bc76e11f"
      },
      "execution_count": null,
      "outputs": [
        {
          "output_type": "stream",
          "name": "stdout",
          "text": [
            "7\n"
          ]
        }
      ]
    },
    {
      "cell_type": "code",
      "source": [
        "# Example: sort [(1, 2), (2, 0), (4, 1)] based on the second item in the tuple\n",
        "\n",
        "sorted([(1, 2), (2, 0), (4, 1)], key = lambda x: x[1])\n"
      ],
      "metadata": {
        "colab": {
          "base_uri": "https://localhost:8080/"
        },
        "id": "b69ecPIB3zI7",
        "outputId": "2cb98ca4-1db4-4b75-cab7-2979afdfc820"
      },
      "execution_count": null,
      "outputs": [
        {
          "output_type": "execute_result",
          "data": {
            "text/plain": [
              "[(2, 0), (4, 1), (1, 2)]"
            ]
          },
          "metadata": {},
          "execution_count": 23
        }
      ]
    },
    {
      "cell_type": "markdown",
      "source": [
        "What happens? The function `sorted` has an argument `key`, where a custom key function can be supplied\n",
        "to customize the sort order. We use the lambda function as a shortcut for this custom key function."
      ],
      "metadata": {
        "id": "GVQQBgEi4OL8"
      }
    },
    {
      "cell_type": "markdown",
      "source": [
        "###**Functions as Arguments to Functions**\n",
        "\n",
        "Up until now, we have assigned varous data structures to variables names. Being able to assign a data structure to a variable allows for the passing of information to the various functions and retrieve information back form them in a neat and orderly way. Sometimes it is useful to be able to pass a function and have it act as a variable to another function. In other words, the input to some functions may be other functions."
      ],
      "metadata": {
        "id": "SYfpaZfQ4ZvG"
      }
    },
    {
      "cell_type": "code",
      "source": [
        "f = max\n",
        "print(type(f))"
      ],
      "metadata": {
        "colab": {
          "base_uri": "https://localhost:8080/"
        },
        "id": "Ygqr8tGJ5PA1",
        "outputId": "60417b2f-282f-4ded-adf9-98fb17737ab0"
      },
      "execution_count": null,
      "outputs": [
        {
          "output_type": "stream",
          "name": "stdout",
          "text": [
            "<class 'builtin_function_or_method'>\n"
          ]
        }
      ]
    },
    {
      "cell_type": "code",
      "source": [
        "# Now f and max are interchengeable:\n",
        "print(f([2, 3, 5]))\n",
        "print(max([2, 3, 5]))"
      ],
      "metadata": {
        "colab": {
          "base_uri": "https://localhost:8080/"
        },
        "id": "aP6LOCMd5ZfJ",
        "outputId": "8236512b-411c-40da-a897-77016877d55d"
      },
      "execution_count": null,
      "outputs": [
        {
          "output_type": "stream",
          "name": "stdout",
          "text": [
            "5\n",
            "5\n"
          ]
        }
      ]
    },
    {
      "cell_type": "markdown",
      "source": [
        "Write a function `my_fun_plus_one` that takes a function object, `f`, and a ﬂoat number `x`as input arguments; `my_fun_plus_one` should return `f` evaluated at `x`, and the result added to the value 1. Verify that it works for various functions and values of x."
      ],
      "metadata": {
        "id": "mBPEy1wV5yPe"
      }
    },
    {
      "cell_type": "code",
      "source": [
        "def myfun_plus_one(f, x):\n",
        "  return f(x) + 1\n",
        "\n",
        "print(myfun_plus_one(np.sin, np.pi/2))\n",
        "print(myfun_plus_one(np.cos, np.pi/2))\n",
        "print(myfun_plus_one(np.sqrt, 25))"
      ],
      "metadata": {
        "colab": {
          "base_uri": "https://localhost:8080/"
        },
        "id": "x-s2HAnL5pOo",
        "outputId": "c5c731bb-bdc5-45a9-d585-713c5735a206"
      },
      "execution_count": null,
      "outputs": [
        {
          "output_type": "stream",
          "name": "stdout",
          "text": [
            "2.0\n",
            "1.0\n",
            "6.0\n"
          ]
        }
      ]
    },
    {
      "cell_type": "code",
      "source": [
        "# We can use the lambda function as well\n",
        "\n",
        "print(myfun_plus_one(lambda x: x + 2, 2))"
      ],
      "metadata": {
        "colab": {
          "base_uri": "https://localhost:8080/"
        },
        "id": "zAs7-w6o6WGJ",
        "outputId": "102148bf-b159-4c59-a11f-7091b7deda22"
      },
      "execution_count": null,
      "outputs": [
        {
          "output_type": "stream",
          "name": "stdout",
          "text": [
            "5\n"
          ]
        }
      ]
    },
    {
      "cell_type": "markdown",
      "source": [
        "##**Problems**\n",
        "---"
      ],
      "metadata": {
        "id": "0L8sI0TO6t0o"
      }
    },
    {
      "cell_type": "markdown",
      "source": [
        "1. Recall that the hyperbolic sine, denoted by sinh, is $$\n",
        "\\frac{exp(x)-exp(-x)}{2}\n",
        "$$\n",
        "\n",
        "Write a function `my_sinh(x)` where the output `y` is the hyperbolic sine computed on *x*. Assume that `x` is a 1 by 1 float."
      ],
      "metadata": {
        "id": "g5O0aPjNkrjT"
      }
    },
    {
      "cell_type": "code",
      "source": [
        "import math\n",
        "def my_sinh(x):\n",
        "  \"\"\"\n",
        "  This function calculates the sinh\n",
        "  of a given float input\n",
        "  \"\"\"\n",
        "  y = (math.exp(x) - math.exp(-x))/2\n",
        "  return y"
      ],
      "metadata": {
        "id": "CYpE5dlyq5Ek"
      },
      "execution_count": null,
      "outputs": []
    },
    {
      "cell_type": "code",
      "source": [
        "my_sinh(0)"
      ],
      "metadata": {
        "colab": {
          "base_uri": "https://localhost:8080/"
        },
        "id": "KZArp-YurYq4",
        "outputId": "09f1344f-a144-4375-b0b1-b08e7f62c9eb"
      },
      "execution_count": null,
      "outputs": [
        {
          "output_type": "execute_result",
          "data": {
            "text/plain": [
              "0.0"
            ]
          },
          "metadata": {},
          "execution_count": 33
        }
      ]
    },
    {
      "cell_type": "code",
      "source": [
        "my_sinh(1)"
      ],
      "metadata": {
        "colab": {
          "base_uri": "https://localhost:8080/"
        },
        "id": "XlDiEzVfrcSg",
        "outputId": "10a1a33d-27ac-4b8e-dd6b-aef1c8bd47f5"
      },
      "execution_count": null,
      "outputs": [
        {
          "output_type": "execute_result",
          "data": {
            "text/plain": [
              "1.1752011936438014"
            ]
          },
          "metadata": {},
          "execution_count": 34
        }
      ]
    },
    {
      "cell_type": "code",
      "source": [
        "my_sinh(2)"
      ],
      "metadata": {
        "colab": {
          "base_uri": "https://localhost:8080/"
        },
        "id": "9z2tDW-nrd7s",
        "outputId": "11893e02-e383-40c2-c628-66aeb706c6a1"
      },
      "execution_count": null,
      "outputs": [
        {
          "output_type": "execute_result",
          "data": {
            "text/plain": [
              "3.626860407847019"
            ]
          },
          "metadata": {},
          "execution_count": 35
        }
      ]
    },
    {
      "cell_type": "markdown",
      "source": [
        "2. Write a function `my_checker_board(n)` where the output `m` is an *n × n* array with the following form:\n",
        "\n",
        "m =\n",
        "[[10101],\n",
        "[01010],\n",
        "[10101],\n",
        "[01010],\n",
        "[10101]]"
      ],
      "metadata": {
        "id": "yaOVJ6KS6xDp"
      }
    },
    {
      "cell_type": "code",
      "source": [
        "def my_checker_board(n):\n",
        "  \"\"\"\n",
        "  The function creates a 2D array\n",
        "  having ones every two rows at the beginning\n",
        "  \"\"\"\n",
        "  #np.randint(0, 1)\n",
        "  m = np.ones([n, n])\n",
        "\n",
        "\n",
        "  return m"
      ],
      "metadata": {
        "id": "cCKszuhu0z7e"
      },
      "execution_count": null,
      "outputs": []
    },
    {
      "cell_type": "code",
      "source": [
        "my_checker_board(3)"
      ],
      "metadata": {
        "colab": {
          "base_uri": "https://localhost:8080/"
        },
        "id": "rnE4f-yQ01Qc",
        "outputId": "b687bc1b-3649-4fbd-a767-36600bb544a8"
      },
      "execution_count": null,
      "outputs": [
        {
          "output_type": "execute_result",
          "data": {
            "text/plain": [
              "array([[1., 1., 1.],\n",
              "       [1., 1., 1.],\n",
              "       [1., 1., 1.]])"
            ]
          },
          "metadata": {},
          "execution_count": 76
        }
      ]
    },
    {
      "cell_type": "code",
      "source": [
        "def my_checker_board_(n):\n",
        "  return [[(i + j) % 2 for i in range(n)] for j in range(n)]\n"
      ],
      "metadata": {
        "id": "gf3d_eWXuNuC"
      },
      "execution_count": null,
      "outputs": []
    },
    {
      "cell_type": "code",
      "source": [
        "my_checker_board_(5)"
      ],
      "metadata": {
        "colab": {
          "base_uri": "https://localhost:8080/"
        },
        "id": "XN4x8DFMzjvB",
        "outputId": "a7ba283d-bef1-49f6-9ca1-7341c7f0cc5f"
      },
      "execution_count": null,
      "outputs": [
        {
          "output_type": "execute_result",
          "data": {
            "text/plain": [
              "[[0, 1, 0, 1, 0],\n",
              " [1, 0, 1, 0, 1],\n",
              " [0, 1, 0, 1, 0],\n",
              " [1, 0, 1, 0, 1],\n",
              " [0, 1, 0, 1, 0]]"
            ]
          },
          "metadata": {},
          "execution_count": 84
        }
      ]
    },
    {
      "cell_type": "code",
      "source": [
        "#for i in\n",
        "data_list = my_checker_board(5)[:, 4].tolist()\n",
        "for i in range(1, len(data_list), 2):\n",
        "  new_data_list = data_list[i] - 1\n",
        "  print(data_list)"
      ],
      "metadata": {
        "colab": {
          "base_uri": "https://localhost:8080/"
        },
        "id": "1ZwzVkpN9x3Z",
        "outputId": "bc8131ea-5146-4b02-8919-462fd3f7fb27"
      },
      "execution_count": null,
      "outputs": [
        {
          "output_type": "stream",
          "name": "stdout",
          "text": [
            "[1.0, 1.0, 1.0, 1.0, 1.0]\n",
            "[1.0, 1.0, 1.0, 1.0, 1.0]\n"
          ]
        }
      ]
    }
  ]
}