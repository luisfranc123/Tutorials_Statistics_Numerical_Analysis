{
  "nbformat": 4,
  "nbformat_minor": 0,
  "metadata": {
    "colab": {
      "provenance": [],
      "authorship_tag": "ABX9TyNL2Qqh/T8afmYn5N4giX35",
      "include_colab_link": true
    },
    "kernelspec": {
      "name": "python3",
      "display_name": "Python 3"
    },
    "language_info": {
      "name": "python"
    }
  },
  "cells": [
    {
      "cell_type": "markdown",
      "metadata": {
        "id": "view-in-github",
        "colab_type": "text"
      },
      "source": [
        "<a href=\"https://colab.research.google.com/github/luisfranc123/Tutorials_Statistics_Numerical_Analysis/blob/main/Numerical_Methods/Chapter5_Iteration.ipynb\" target=\"_parent\"><img src=\"https://colab.research.google.com/assets/colab-badge.svg\" alt=\"Open In Colab\"/></a>"
      ]
    },
    {
      "cell_type": "markdown",
      "source": [
        "#**5. Iteration**\n",
        "---\n",
        "\n",
        "**Textbook**: Phyton Programming and Numerical Methods"
      ],
      "metadata": {
        "id": "OBTBZeeBhNZX"
      }
    },
    {
      "cell_type": "markdown",
      "source": [
        "###**5.1. For-Loops**\n",
        "\n",
        "A **for-loop** is a set of instructions that repeated, or iterated, for every value in a sequence."
      ],
      "metadata": {
        "id": "RADo-wDIhlvp"
      }
    },
    {
      "cell_type": "code",
      "execution_count": null,
      "metadata": {
        "colab": {
          "base_uri": "https://localhost:8080/"
        },
        "id": "8eBjiCJ8hHDc",
        "outputId": "1942607f-8866-46d3-a62f-e5b4d9750f7b"
      },
      "outputs": [
        {
          "output_type": "stream",
          "name": "stdout",
          "text": [
            "6\n"
          ]
        }
      ],
      "source": [
        "# What is the sum of every integer from 1 to 3?\n",
        "n = 0\n",
        "for i in range(1, 4):\n",
        "  n = n + i\n",
        "\n",
        "print(n)"
      ]
    },
    {
      "cell_type": "markdown",
      "source": [
        "Below are several more examples to give you a sense of how for-loops work. Other examples of sequences that we can iterate over include the elements of a tuple, the characters in a string, and other sequencial data types."
      ],
      "metadata": {
        "id": "tzQqhdcSirgD"
      }
    },
    {
      "cell_type": "code",
      "source": [
        "# Print all the characters in the string \"banana\".\n",
        "\n",
        "for c in \"banana\":\n",
        "  print(c)"
      ],
      "metadata": {
        "colab": {
          "base_uri": "https://localhost:8080/"
        },
        "id": "feclLyT8jBFc",
        "outputId": "ccbfdf2e-b3a0-4606-b4ea-5450cedb7b91"
      },
      "execution_count": null,
      "outputs": [
        {
          "output_type": "stream",
          "name": "stdout",
          "text": [
            "b\n",
            "a\n",
            "n\n",
            "a\n",
            "n\n",
            "a\n"
          ]
        }
      ]
    },
    {
      "cell_type": "markdown",
      "source": [
        "Alternatively, you can use the index to get each character, but it is not as concise as the previous example. Recall that the length of a string can be determined by using the `len` function, and we can ignore the start by only giving one number as the stop."
      ],
      "metadata": {
        "id": "8rRZdQI6jNFB"
      }
    },
    {
      "cell_type": "code",
      "source": [
        "s = \"banana\"\n",
        "for i in range(len(s)):\n",
        "  print(s[i])"
      ],
      "metadata": {
        "colab": {
          "base_uri": "https://localhost:8080/"
        },
        "id": "v2KOcs1Gjqf1",
        "outputId": "a476266a-d3a1-4f98-e6de-f71b210482ef"
      },
      "execution_count": null,
      "outputs": [
        {
          "output_type": "stream",
          "name": "stdout",
          "text": [
            "b\n",
            "a\n",
            "n\n",
            "a\n",
            "n\n",
            "a\n"
          ]
        }
      ]
    },
    {
      "cell_type": "code",
      "source": [
        "# Given a list of integers, `a`, add all the elements of `a`.\n",
        "s = 0\n",
        "a = [2, 3, 1, 3, 3]\n",
        "for i in a:\n",
        "  s += i # note this is equivalent to s = s + i\n",
        "print(s)"
      ],
      "metadata": {
        "colab": {
          "base_uri": "https://localhost:8080/"
        },
        "id": "OGfkQTBEj1TN",
        "outputId": "df9c5b79-c022-48bc-bb39-9e05790af517"
      },
      "execution_count": null,
      "outputs": [
        {
          "output_type": "stream",
          "name": "stdout",
          "text": [
            "12\n"
          ]
        }
      ]
    },
    {
      "cell_type": "markdown",
      "source": [
        "The Python function `sum` has already been written to handle the previous example. What if you want to add the even indices numbers only? What change(s) would you make to the previous `for-loop` block to handle this restriction?"
      ],
      "metadata": {
        "id": "eEcdFEcukeA5"
      }
    },
    {
      "cell_type": "code",
      "source": [
        "s = 0\n",
        "for i in range(0, len(a), 2):\n",
        "  s += a[i]\n",
        "print(s)"
      ],
      "metadata": {
        "colab": {
          "base_uri": "https://localhost:8080/"
        },
        "id": "PZS4xbsHk5v_",
        "outputId": "f0e6ac4c-c190-4827-af8d-a999a21a7dcb"
      },
      "execution_count": null,
      "outputs": [
        {
          "output_type": "stream",
          "name": "stdout",
          "text": [
            "6\n"
          ]
        }
      ]
    },
    {
      "cell_type": "code",
      "source": [
        "# Define a dictionary and loop through all the keys and values.\n",
        "\n",
        "dict_a = {\"one\": 1, \"Two\": 2, \"Three\": 3}\n",
        "\n",
        "for key in dict_a.keys():\n",
        "  print(key, dict_a[key])"
      ],
      "metadata": {
        "colab": {
          "base_uri": "https://localhost:8080/"
        },
        "id": "X3j-pek_lguP",
        "outputId": "e6d1f7bc-c03a-4262-91cc-f50bbaf3dfba"
      },
      "execution_count": null,
      "outputs": [
        {
          "output_type": "stream",
          "name": "stdout",
          "text": [
            "one 1\n",
            "Two 2\n",
            "Three 3\n"
          ]
        }
      ]
    },
    {
      "cell_type": "code",
      "source": [
        "for key, value in dict_a.items():\n",
        "  print(key, value)"
      ],
      "metadata": {
        "colab": {
          "base_uri": "https://localhost:8080/"
        },
        "id": "wxfR5OpdmVj3",
        "outputId": "efa652e9-238e-462a-81fc-5137c1d1f2af"
      },
      "execution_count": null,
      "outputs": [
        {
          "output_type": "stream",
          "name": "stdout",
          "text": [
            "one 1\n",
            "Two 2\n",
            "Three 3\n"
          ]
        }
      ]
    },
    {
      "cell_type": "markdown",
      "source": [
        "Note that we can assign two different looping variables at the same time. There are other cases where we can assign tasks simutaneously. For example, if we have two lists with same length and we want to loop through them simultaneously, we use the `zip` function."
      ],
      "metadata": {
        "id": "LuEmHofDmgjG"
      }
    },
    {
      "cell_type": "code",
      "source": [
        "a = [\"One\", \"Two\", \"Three\"]\n",
        "b = [1, 2, 3]\n",
        "\n",
        "for i, j in zip(a, b):\n",
        "  print(i, j)"
      ],
      "metadata": {
        "colab": {
          "base_uri": "https://localhost:8080/"
        },
        "id": "hyvU5u6cnUO3",
        "outputId": "00a596f8-9bd3-48b8-9e0b-39bb8b963336"
      },
      "execution_count": null,
      "outputs": [
        {
          "output_type": "stream",
          "name": "stdout",
          "text": [
            "One 1\n",
            "Two 2\n",
            "Three 3\n"
          ]
        }
      ]
    },
    {
      "cell_type": "markdown",
      "source": [
        "**Example**: Let the function `have_digits` have a string as the input. The output `out` should take the value 1 if the string contains digits, and 0 otherwise. You can apply the `isdigit` method of the string to check if the character is a digit."
      ],
      "metadata": {
        "id": "DiK6C9BUoCuq"
      }
    },
    {
      "cell_type": "code",
      "source": [
        "def have_digits(s):\n",
        "  out = 0\n",
        "\n",
        "  # loop through the string\n",
        "  for c in s:\n",
        "    # check if the character is a digit\n",
        "    if c.isdigit():\n",
        "      out = 1\n",
        "      break\n",
        "\n",
        "  return out"
      ],
      "metadata": {
        "id": "Q3toGe3BoAMc"
      },
      "execution_count": null,
      "outputs": []
    },
    {
      "cell_type": "code",
      "source": [
        "out = have_digits(\"only4you\")\n",
        "print(out)"
      ],
      "metadata": {
        "colab": {
          "base_uri": "https://localhost:8080/"
        },
        "id": "XCZ0pR65pUlG",
        "outputId": "f5b476d8-c4f1-484b-eca3-f383582b3d56"
      },
      "execution_count": null,
      "outputs": [
        {
          "output_type": "stream",
          "name": "stdout",
          "text": [
            "1\n"
          ]
        }
      ]
    },
    {
      "cell_type": "code",
      "source": [
        "out = have_digits(\"only for you\")\n",
        "print(out)"
      ],
      "metadata": {
        "id": "6czQdcqLpb9V",
        "outputId": "2d8708fe-30fc-47b0-c5a7-277c5a60d943",
        "colab": {
          "base_uri": "https://localhost:8080/"
        }
      },
      "execution_count": null,
      "outputs": [
        {
          "output_type": "stream",
          "name": "stdout",
          "text": [
            "0\n"
          ]
        }
      ]
    },
    {
      "cell_type": "code",
      "source": [
        "for i in range(5):\n",
        "\n",
        "  if i == 2:\n",
        "    continue\n",
        "\n",
        "  print(i)"
      ],
      "metadata": {
        "colab": {
          "base_uri": "https://localhost:8080/"
        },
        "id": "N1EF3RnRjaRl",
        "outputId": "975f2d82-aa52-4a5b-f41f-1ed439a2ddb9"
      },
      "execution_count": null,
      "outputs": [
        {
          "output_type": "stream",
          "name": "stdout",
          "text": [
            "0\n",
            "1\n",
            "3\n",
            "4\n"
          ]
        }
      ]
    },
    {
      "cell_type": "markdown",
      "source": [
        "**Example**: Let the function `my_dist_2_points(xy_points, xy)` where the input argument `xy_points` is a list of x-y coordinates of a point in Euclidean space, `xy` is a list that contains an x-y coordinate, and the output `d` is a list containing the distances from `xy` to the points contained in each row of `xy_points`."
      ],
      "metadata": {
        "id": "lLk2ccAtjvpM"
      }
    },
    {
      "cell_type": "code",
      "source": [
        "import math\n",
        "\n",
        "def my_dist_2_points(xy_points, xy):\n",
        "  \"\"\"\n",
        "  Returns an array of distances between xy and the\n",
        "  points contained in the rows of xy_points\n",
        "\n",
        "  Author\n",
        "  Date\n",
        "  \"\"\"\n",
        "\n",
        "  d = []\n",
        "  for xy_point in xy_points:\n",
        "    dist = math.sqrt((xy_point[0] - xy[0])**2 + (xy_point[1] - xy[1])**2)\n",
        "    d.append(dist)\n",
        "\n",
        "  return d\n",
        "\n",
        "# Compile the function:\n",
        "xy_points = [[3, 2], [2, 3], [2, 2]]\n",
        "xy = [1, 2]\n",
        "my_dist_2_points(xy_points, xy)\n"
      ],
      "metadata": {
        "colab": {
          "base_uri": "https://localhost:8080/"
        },
        "id": "BUV05sBakbKl",
        "outputId": "4a6d7248-120e-4755-a08c-41b09507fec4"
      },
      "execution_count": null,
      "outputs": [
        {
          "output_type": "execute_result",
          "data": {
            "text/plain": [
              "[2.0, 1.4142135623730951, 1.0]"
            ]
          },
          "metadata": {},
          "execution_count": 2
        }
      ]
    },
    {
      "cell_type": "markdown",
      "source": [
        "###**Nested `for-loops`**\n",
        "\n",
        "Just like `if-statement, for-loops` can be nested.\n",
        "\n",
        "**Example**: Let `x` be a two-dimensional array, `[5 6; 7 8]`. Use a nested `for-loop` to sum all the elements in `x`.\n"
      ],
      "metadata": {
        "id": "9xMlu20GmPqP"
      }
    },
    {
      "cell_type": "code",
      "source": [
        "# Nested loops\n",
        "import numpy as np\n",
        "x = np.array([[5, 6], [7, 8]])\n",
        "n, m = x.shape\n",
        "s = 0\n",
        "for i in range(n):\n",
        "  for j in range(m):\n",
        "    s += x[i, j]\n",
        "print(f\"x = {x}\")\n",
        "print(f\"sum of elements within x = {s}\")"
      ],
      "metadata": {
        "colab": {
          "base_uri": "https://localhost:8080/"
        },
        "id": "2wYdPE7zml1N",
        "outputId": "fbaaf822-6946-4ee1-9a20-81fb02fe4a11"
      },
      "execution_count": null,
      "outputs": [
        {
          "output_type": "stream",
          "name": "stdout",
          "text": [
            "x = [[5 6]\n",
            " [7 8]]\n",
            "sum of elements within x = 26\n"
          ]
        }
      ]
    },
    {
      "cell_type": "markdown",
      "source": [
        "###**5.2 While Loops**\n",
        "\n",
        "A **while-loops** or **indefinite loop** is a set of instruction that repeated as long as the associated logical expression is true. The folowing is the abstract syntax of a `while-loop` block."
      ],
      "metadata": {
        "id": "Pvjdd078n568"
      }
    },
    {
      "cell_type": "code",
      "source": [
        "# Construction: While Loop\n",
        "\"\"\"\n",
        "while <logical expression>:\n",
        "  # Code block to be repeated until logical statement is false\n",
        "  code block\n",
        "\"\"\""
      ],
      "metadata": {
        "id": "ZMdyBSeDobUw"
      },
      "execution_count": null,
      "outputs": []
    },
    {
      "cell_type": "code",
      "source": [
        "# Determine the number of times 8 can be\n",
        "# divided by 2 until the result is less than 1.\n",
        "\n",
        "i = 0\n",
        "n = 8\n",
        "\n",
        "while n >= 1:\n",
        "  n /= 2\n",
        "  i +=1\n",
        "\n",
        "print(f\"n = {n}, i = {i}\")"
      ],
      "metadata": {
        "colab": {
          "base_uri": "https://localhost:8080/"
        },
        "id": "kDMqPL3ooyqQ",
        "outputId": "283b849a-c094-4328-f435-a10ce4aea898"
      },
      "execution_count": null,
      "outputs": [
        {
          "output_type": "stream",
          "name": "stdout",
          "text": [
            "n = 0.5, i = 4\n"
          ]
        }
      ]
    },
    {
      "cell_type": "markdown",
      "source": [
        "###**5.3 Comprehensions**\n",
        "\n",
        "In Python, there are other ways to do iterations; list, dictionary, and set **comprehensions** are very popular ways. once you familiarize yourself with them, you will find yourself using them a lot. Comprehensions allow sequences to be created from other sequences employing very compact syntax. Let us first look at the list comprehension."
      ],
      "metadata": {
        "id": "nqnw9mIqqsHh"
      }
    },
    {
      "cell_type": "markdown",
      "source": [
        "**Example**: If `x = range(5)`, square each number in `x`, and store it in a list `y`. If we do not use list comprenhension, the code will look something like this:"
      ],
      "metadata": {
        "id": "Np6LWPY1rXux"
      }
    },
    {
      "cell_type": "code",
      "source": [
        "# Without list comprehension\n",
        "x = range(5)\n",
        "y = []\n",
        "\n",
        "for i in x:\n",
        "  y.append(i**2)\n",
        "print(y)"
      ],
      "metadata": {
        "colab": {
          "base_uri": "https://localhost:8080/"
        },
        "id": "OFZMqNXirpyg",
        "outputId": "9c42c5d3-bb46-4ea3-ad3b-6682f718893a"
      },
      "execution_count": null,
      "outputs": [
        {
          "output_type": "stream",
          "name": "stdout",
          "text": [
            "[0, 1, 4, 9, 16]\n"
          ]
        }
      ]
    },
    {
      "cell_type": "code",
      "source": [
        "# Using list comprehension:\n",
        "\n",
        "y = [i**2 for i in x]\n",
        "print(y)"
      ],
      "metadata": {
        "colab": {
          "base_uri": "https://localhost:8080/"
        },
        "id": "40tJQ9Eir7Ww",
        "outputId": "65262365-764f-4c7c-e5c6-cc32e648dfbe"
      },
      "execution_count": null,
      "outputs": [
        {
          "output_type": "stream",
          "name": "stdout",
          "text": [
            "[0, 1, 4, 9, 16]\n"
          ]
        }
      ]
    },
    {
      "cell_type": "markdown",
      "source": [
        "In addition, we can also include conditions in the list comprehension. For example, if we just want to store the even numbers in the above example, we just add a condition in the list comprehension."
      ],
      "metadata": {
        "id": "E97gOpLzsOd_"
      }
    },
    {
      "cell_type": "code",
      "source": [
        "y = [i**2 for i in x if i%2 == 0]\n",
        "print(y)"
      ],
      "metadata": {
        "colab": {
          "base_uri": "https://localhost:8080/"
        },
        "id": "FypcRU21se8f",
        "outputId": "ed446908-5b90-4c87-a323-1f8b275728a0"
      },
      "execution_count": null,
      "outputs": [
        {
          "output_type": "stream",
          "name": "stdout",
          "text": [
            "[0, 4, 16]\n"
          ]
        }
      ]
    },
    {
      "cell_type": "markdown",
      "source": [
        "If we have two nested levels for loops, we can also use the list comprehensions. For example, we have the folowing two levels for loops thar we can perform using the **list comprehension**."
      ],
      "metadata": {
        "id": "eX7CuYvgs7o_"
      }
    },
    {
      "cell_type": "code",
      "source": [
        "# Without list comprehension:\n",
        "y = []\n",
        "for i in range(5):\n",
        "  for j in range(2):\n",
        "    y.append(i + j)\n",
        "print(y)"
      ],
      "metadata": {
        "colab": {
          "base_uri": "https://localhost:8080/"
        },
        "id": "a2Nxuae4tRt0",
        "outputId": "12f1ad5c-01df-4a91-8dd1-ca814df37b2e"
      },
      "execution_count": null,
      "outputs": [
        {
          "output_type": "stream",
          "name": "stdout",
          "text": [
            "[0, 1, 1, 2, 2, 3, 3, 4, 4, 5]\n"
          ]
        }
      ]
    },
    {
      "cell_type": "code",
      "source": [
        "# With list comprehension:\n",
        "\n",
        "y = [i + j for i in range(5) for j in range(2)]\n",
        "print(y)"
      ],
      "metadata": {
        "colab": {
          "base_uri": "https://localhost:8080/"
        },
        "id": "krl4wbjStg4a",
        "outputId": "4f8a40d4-5dfd-4e1e-f5b3-b00ef6044476"
      },
      "execution_count": null,
      "outputs": [
        {
          "output_type": "stream",
          "name": "stdout",
          "text": [
            "[0, 1, 1, 2, 2, 3, 3, 4, 4, 5]\n"
          ]
        }
      ]
    },
    {
      "cell_type": "markdown",
      "source": [
        "####**Dictionary Comprehension**\n",
        "\n",
        "Similarly, we can do the **dictionary comprehension** as well. See the followig example."
      ],
      "metadata": {
        "id": "r5gEDRFOty4h"
      }
    },
    {
      "cell_type": "code",
      "source": [
        "x = {\"a\": 1, \"b\": 2, \"c\": 3}\n",
        "{key:v**3 for (key, v) in x.items()}"
      ],
      "metadata": {
        "colab": {
          "base_uri": "https://localhost:8080/"
        },
        "id": "Y381yJCjt_vd",
        "outputId": "b4adae71-b86f-4142-c72c-a3da48e3abcc"
      },
      "execution_count": null,
      "outputs": [
        {
          "output_type": "execute_result",
          "data": {
            "text/plain": [
              "{'a': 1, 'b': 8, 'c': 27}"
            ]
          },
          "metadata": {},
          "execution_count": 15
        }
      ]
    },
    {
      "cell_type": "markdown",
      "source": [
        "##**Problems**"
      ],
      "metadata": {
        "id": "LJziw0HQubDQ"
      }
    },
    {
      "cell_type": "markdown",
      "source": [
        "1. Write a function `my_max(x)` to return the maximum (largest) value in `x`. Do not use the built-in Python function `max`."
      ],
      "metadata": {
        "id": "rH-49nKfugzZ"
      }
    },
    {
      "cell_type": "code",
      "source": [
        "def my_max(x):\n",
        "  \"\"\"\n",
        "  Function that returns the maximum value from a list x\n",
        "\n",
        "  author\n",
        "  date\n",
        "  \"\"\"\n",
        "  # Initialize the max value by the first element of the list\n",
        "  max_value = x[0]\n",
        "  for num in x:\n",
        "    if num > max_value:\n",
        "      #Update the max_value given the condition\n",
        "        max_value = num\n",
        "\n",
        "  return max_value\n"
      ],
      "metadata": {
        "id": "A2ybdTV8y9YF"
      },
      "execution_count": null,
      "outputs": []
    },
    {
      "cell_type": "code",
      "source": [
        "x = [14, 2, 188, 6998, 10]\n",
        "my_max(x)"
      ],
      "metadata": {
        "colab": {
          "base_uri": "https://localhost:8080/"
        },
        "id": "hov7kLmo5Mxa",
        "outputId": "4264938d-7446-4935-d9e4-b687bf3223a3"
      },
      "execution_count": null,
      "outputs": [
        {
          "output_type": "execute_result",
          "data": {
            "text/plain": [
              "6998"
            ]
          },
          "metadata": {},
          "execution_count": 51
        }
      ]
    },
    {
      "cell_type": "markdown",
      "source": [
        "2. Write a function `my_n_max(x, n)` to return a list consisting of the `n` largest elements of `x`. You may use Python's `max` function. You may also assume that `x` is a one-dimensional list with no duplicate entries, and that `n` is strictly positive integer smaller than the length of `x`."
      ],
      "metadata": {
        "id": "Xw8GxjOc5niQ"
      }
    },
    {
      "cell_type": "code",
      "source": [
        "def my_n_max(x, n):\n",
        "  \"\"\"\n",
        "  Function that returns the n maximum values of a list\n",
        "\n",
        "  author\n",
        "  date\n",
        "  \"\"\"\n",
        "  out = []\n",
        "\n",
        "  for i in range(n):\n",
        "    out.append(my_max(x))\n",
        "    x_new = x.remove(my_max(x))\n",
        "\n",
        "\n",
        "  return out"
      ],
      "metadata": {
        "id": "wv3dQ3kK6P11"
      },
      "execution_count": null,
      "outputs": []
    },
    {
      "cell_type": "code",
      "source": [
        "x = [7, 9, 11, 5, 80, 3, 4, 6, 2, 1]\n",
        "out = my_n_max(x, 4)\n",
        "print(out)"
      ],
      "metadata": {
        "colab": {
          "base_uri": "https://localhost:8080/"
        },
        "id": "1Qtt0lL-8vml",
        "outputId": "e882e601-636d-4e4b-c2f4-95287476304e"
      },
      "execution_count": null,
      "outputs": [
        {
          "output_type": "stream",
          "name": "stdout",
          "text": [
            "[80, 11, 9, 7]\n"
          ]
        }
      ]
    },
    {
      "cell_type": "markdown",
      "source": [
        "3. Let `m` be a matrix of positive integers. Write a function `my_trig_odd_even(m)` to return an array `q`, where `q[i, j] = sin(m[i, j])` if `m[i, j]` is even, and `q[i, j] = cos(m[i, j])` if `m[i, j]` is odd."
      ],
      "metadata": {
        "id": "KXrBRv7l_NrR"
      }
    },
    {
      "cell_type": "code",
      "source": [
        "import numpy as np\n",
        "def my_trig_odd_even(m):\n",
        "  \"\"\"\n",
        "  Function that returns an array of sin[i, j] or cos[i, j]\n",
        "  depending on whether m is even or odd.\n",
        "\n",
        "  author\n",
        "  date\n",
        "  \"\"\"\n",
        "  # Find the dimensions of m\n",
        "  x, y = m.shape\n",
        "  # Create an emmpty 2D numpy array with x, y dimensions\n",
        "  q = np.empty((x, y), dtype = np.float64)\n",
        "  # Loop to iterate through the m elements\n",
        "  for i in range(x):\n",
        "   for j in range(y):\n",
        "      # Conditional that evaluates the trigonometric function depending\n",
        "      # on whether m is even or odd, respectively.\n",
        "      if m[i, j] %2 == 0:\n",
        "        q[i, j] = np.sin(m[i, j])\n",
        "      else:\n",
        "        q[i, j] = np.cos(m[i, j])\n",
        "\n",
        "  return q\n",
        "\n"
      ],
      "metadata": {
        "id": "mUDQBR_y_zWv"
      },
      "execution_count": null,
      "outputs": []
    },
    {
      "cell_type": "code",
      "source": [
        "m = np.array([[1, 2, 3], [4, 5, 6]])\n",
        "my_trig_odd_even(m)"
      ],
      "metadata": {
        "colab": {
          "base_uri": "https://localhost:8080/"
        },
        "id": "1V-iF_baECx4",
        "outputId": "1055b29c-9037-43af-cb59-cf49aad04a23"
      },
      "execution_count": null,
      "outputs": [
        {
          "output_type": "execute_result",
          "data": {
            "text/plain": [
              "array([[ 0.54030231,  0.90929743, -0.9899925 ],\n",
              "       [-0.7568025 ,  0.28366219, -0.2794155 ]])"
            ]
          },
          "metadata": {},
          "execution_count": 98
        }
      ]
    },
    {
      "cell_type": "markdown",
      "source": [
        "4. The interest *i* on a principle $P_{0}$, is a payment for allowing the bank to use your money. Compound interest is accumulated accoridng to the formula $P_{n}=(1+i)P_{n-1}$, where *n* is the compounding period usually in months or years. Write a function `my_saving_plan(P0, i, goal)` where output is the number of years it will take `P0` to become `goal` at `i%` interest compunded anually."
      ],
      "metadata": {
        "id": "EzeL8rhjdYiF"
      }
    },
    {
      "cell_type": "code",
      "source": [
        "def my_saving_plan(P0, i, goal):\n",
        "  \"\"\"\n",
        "  function that calculates the number of\n",
        "  years needed to reach a goal savings at i%\n",
        "  interest rate from P0 initial money.\n",
        "\n",
        "  Author\n",
        "  Date\n",
        "  \"\"\"\n",
        "  years = 0\n",
        "  while P0 <= goal:\n",
        "    P0 = (1+i)*P0\n",
        "    years += 1\n",
        "\n",
        "  return years"
      ],
      "metadata": {
        "id": "07JTVaPkegQT"
      },
      "execution_count": null,
      "outputs": []
    },
    {
      "cell_type": "code",
      "source": [
        "my_saving_plan(1000, 0.05, 2000)"
      ],
      "metadata": {
        "colab": {
          "base_uri": "https://localhost:8080/"
        },
        "id": "9A-25Q5ZinNj",
        "outputId": "57deb32a-ab44-46d5-8244-881d03a6cf47"
      },
      "execution_count": null,
      "outputs": [
        {
          "output_type": "execute_result",
          "data": {
            "text/plain": [
              "15"
            ]
          },
          "metadata": {},
          "execution_count": 3
        }
      ]
    },
    {
      "cell_type": "code",
      "source": [
        "my_saving_plan(1000, 0.07, 2000)"
      ],
      "metadata": {
        "colab": {
          "base_uri": "https://localhost:8080/"
        },
        "id": "mtCAUy96ivXz",
        "outputId": "9cf19f54-8ab8-4783-d4c8-187e0f8f24a1"
      },
      "execution_count": null,
      "outputs": [
        {
          "output_type": "execute_result",
          "data": {
            "text/plain": [
              "11"
            ]
          },
          "metadata": {},
          "execution_count": 4
        }
      ]
    },
    {
      "cell_type": "code",
      "source": [
        "my_saving_plan(500, 0.07, 2000)"
      ],
      "metadata": {
        "colab": {
          "base_uri": "https://localhost:8080/"
        },
        "id": "fbDv8pQxiyJF",
        "outputId": "0f1fb7a8-64a1-4610-83f1-7f07eef8eb27"
      },
      "execution_count": null,
      "outputs": [
        {
          "output_type": "execute_result",
          "data": {
            "text/plain": [
              "21"
            ]
          },
          "metadata": {},
          "execution_count": 5
        }
      ]
    },
    {
      "cell_type": "markdown",
      "source": [
        "5. (**Pending**) Let `p` be an $m × p$ array and `Q` be a $p × n$ array. As we know, $M = P × Q$ is defined as $M[i, j] = \\Sigma P[i, k] · Q[k, j]$. Write a function `my_mat_mult(P, Q)` that uses `for-loops` to compute `M`, the matrix product of `P * Q`. **Hint**: You may need up to three nested `for-loops`."
      ],
      "metadata": {
        "id": "TROj4TdckIrU"
      }
    },
    {
      "cell_type": "code",
      "source": [
        "import numpy as np\n",
        "def my_mat_mult(P, Q):\n",
        " \"\"\"\n",
        " Function that computes the cross\n",
        " product between two matrices.\n",
        "\n",
        " Author\n",
        " Date\n",
        " \"\"\"\n",
        "\n",
        " x, y = P.shape\n",
        " z, w = Q.shape\n",
        " M = np.empty(x, w)\n",
        " #M = np.empty()\n",
        " for i in range(x):\n",
        "  for j in range(y):\n",
        "    for k in range(z):\n",
        "      M[i, j] = (P[i, k]*Q[k, j]).sum()\n",
        "\n",
        "  return M"
      ],
      "metadata": {
        "id": "Jdt9Q6rplyoc"
      },
      "execution_count": null,
      "outputs": []
    },
    {
      "cell_type": "code",
      "source": [
        "#P = np.ones((3, 3))\n",
        "#my_mat_mult(P, P)"
      ],
      "metadata": {
        "id": "OrTGGWAhteKQ"
      },
      "execution_count": null,
      "outputs": []
    },
    {
      "cell_type": "markdown",
      "source": [
        "6. A number is prime if it is divisible without remainder only by itself and 1. The number 1 is not a prime. Write a function `my_is_prime(n)` where the output is 1 if `n` is prime and 0 is otherwise. Assume that `n` is a strictly positive integer."
      ],
      "metadata": {
        "id": "VDJSiBJcwtGl"
      }
    },
    {
      "cell_type": "code",
      "source": [
        "import numpy as np\n",
        "\n",
        "def my_is_prime(n):\n",
        "  \"\"\"\n",
        "  Function that evaluates whether n is a prime number or not.\n",
        "\n",
        "  Author\n",
        "  Date\n",
        "  \"\"\"\n",
        "  if n <= 1:\n",
        "    return 0\n",
        "\n",
        "  # Initialize an empty list to store divisors\n",
        "  divisors = []\n",
        "  # Initialize the first prime\n",
        "  i = 1\n",
        "  for i in range(1, n + 1):\n",
        "    if n % i == 0:\n",
        "      divisors.append(i)\n",
        "\n",
        "  if len(divisors) == 2:\n",
        "    return 1\n",
        "  else:\n",
        "    return 0\n"
      ],
      "metadata": {
        "id": "Dasc5oBzxLXR"
      },
      "execution_count": null,
      "outputs": []
    },
    {
      "cell_type": "code",
      "source": [
        "my_is_prime(121)"
      ],
      "metadata": {
        "colab": {
          "base_uri": "https://localhost:8080/"
        },
        "id": "LldEFVCQqGOf",
        "outputId": "6ef6a3c2-749e-4486-e64b-633cf3a2a646"
      },
      "execution_count": null,
      "outputs": [
        {
          "output_type": "execute_result",
          "data": {
            "text/plain": [
              "0"
            ]
          },
          "metadata": {},
          "execution_count": 4
        }
      ]
    },
    {
      "cell_type": "markdown",
      "source": [
        "7. Write a function `my_n_primes(n)` where prime is a list of the ﬁrst `n` primes. Assume that `n` is a strictly positive integer."
      ],
      "metadata": {
        "id": "w8Jd2DcosteM"
      }
    },
    {
      "cell_type": "code",
      "source": [
        "def my_n_primes(n):\n",
        "  \"\"\"\n",
        "  A function that returns a list containing the n first primes\n",
        "\n",
        "  Date\n",
        "  Author\n",
        "  \"\"\"\n",
        "  n_primes = []\n",
        "  for i in range(1, n + 1):\n",
        "    if my_is_prime(i) == 1:\n",
        "      n_primes.append(i)\n",
        "\n",
        "  return n_primes\n"
      ],
      "metadata": {
        "id": "JISaOuvXs3EB"
      },
      "execution_count": null,
      "outputs": []
    },
    {
      "cell_type": "code",
      "source": [
        "my_n_primes(7)"
      ],
      "metadata": {
        "id": "k3UdzmpwtvqX",
        "outputId": "e1a82eb5-8468-4e6d-ec39-dcae95d1f5d7",
        "colab": {
          "base_uri": "https://localhost:8080/"
        }
      },
      "execution_count": null,
      "outputs": [
        {
          "output_type": "execute_result",
          "data": {
            "text/plain": [
              "[2, 3, 5, 7]"
            ]
          },
          "metadata": {},
          "execution_count": 6
        }
      ]
    },
    {
      "cell_type": "markdown",
      "source": [
        "**(Pending)** 8. Assume you are rolling two six-sided dice, with each side having an equal chance of occurring.\n",
        "Write a function `my_monopoly_dice()` where the output is the sum of the values of the two dice\n",
        "thrown but with the following extra rule: if the two dice rolls are the same, then another roll is\n",
        "made, and the new sum added to the running total. For example, if the two dice show 3 and 4, then\n",
        "the running total should be 7. If the two dice show 1 and 1, then the running total should be 2 plus\n",
        "the total of another throw. Rolls stop when the dice rolls are different."
      ],
      "metadata": {
        "id": "_GKJI4FfPmeL"
      }
    },
    {
      "cell_type": "code",
      "source": [
        "def my_monopoly_dice():\n",
        "  \"\"\"\n",
        "  \"\"\""
      ],
      "metadata": {
        "id": "h7eI5fXWPuEG"
      },
      "execution_count": null,
      "outputs": []
    }
  ]
}