{
  "nbformat": 4,
  "nbformat_minor": 0,
  "metadata": {
    "colab": {
      "provenance": [],
      "authorship_tag": "ABX9TyOPXr7e+30ppGcweY3SdDh+",
      "include_colab_link": true
    },
    "kernelspec": {
      "name": "python3",
      "display_name": "Python 3"
    },
    "language_info": {
      "name": "python"
    }
  },
  "cells": [
    {
      "cell_type": "markdown",
      "metadata": {
        "id": "view-in-github",
        "colab_type": "text"
      },
      "source": [
        "<a href=\"https://colab.research.google.com/github/luisfranc123/Tutorials_Statistics_Numerical_Analysis/blob/main/Numerical_Methods/Chapter15_Eigen_Values_Vectors.ipynb\" target=\"_parent\"><img src=\"https://colab.research.google.com/assets/colab-badge.svg\" alt=\"Open In Colab\"/></a>"
      ]
    },
    {
      "cell_type": "markdown",
      "source": [
        "###**15. EIGENVALUES AND EIGENVECTORS**\n",
        "---\n",
        "**Textbook**: Python Programming and Numerical Methods\n",
        "\n",
        "####**15.1 Eigenvalues and Eigenvectors Problem Statement**\n",
        "\n",
        "We learned from the previous chapter that matrix $A$ applied to a column vector $x$, that is, $Ax$, is a linear transformation of $x$. There is a special tranform in the following for:\n",
        "\n",
        "$$Ax = \\lambda\\space{x},$$\n",
        "\n",
        "where $A$ is an $n×n$ matrix, $x$ is an $n×1$ column vector $(x\\neq0)$, and $\\lambda$ is a scalar. Any $\\lambda$ that satisfies the above equation is known as an **eigenvalue** of the matrix $A$, while the associated vector $x$ is called an **eigenvector** corresponding to $\\lambda$.   "
      ],
      "metadata": {
        "id": "xbCvEgoKyU25"
      }
    },
    {
      "cell_type": "markdown",
      "source": [
        "The motivation behind eigenvalues and eigenvectors is that if we understand the characteristics of the linear transformation, it will help simplify the solutions to our problem. Say, we can multiply a vector $A$ to another vector $x$, i.e., $Ax$. It essentially transforms the vector $x$ into another vector, whereby the transformation represents a scale of the length of the vector and/or the rotation of the vector. The above equation points out that for some vectors, the effect of transformation $Ax$ is only scaling (stretching, compressing, and ﬂipping). The **eigenvectors** are the vectors having this property and the **eigenvalues** $\\lambda$ are the scale factors. Let us look at the following example.\n",
        "\n",
        "**Try it!** Plot the vector $x = [[1], [1]]$ and the vector $b = Ax$ where $A = [[2, 0], [0, 1]]$"
      ],
      "metadata": {
        "id": "3l-9iZJu2g4R"
      }
    },
    {
      "cell_type": "code",
      "execution_count": null,
      "metadata": {
        "id": "CWYrphFyyJ57"
      },
      "outputs": [],
      "source": [
        "import numpy as np\n",
        "import matplotlib.pyplot as plt\n",
        "\n",
        "plt.style.use(plt.style.available[9])\n",
        "#plt.style.use(\"seaborn-v0_8-paper\")\n",
        "def plot_vect(x, b, xlim, ylim):\n",
        "  \"\"\"\n",
        "  Function to plot two vectors,\n",
        "  x - the original vector\n",
        "  b - the transformed vectors\n",
        "  xlim - the limit for x\n",
        "  ylim - the limit for y\n",
        "  \"\"\"\n",
        "\n",
        "  plt.figure(figsize =(10, 6))\n",
        "  plt.quiver(0, 0, x[0], x[1], \\\n",
        "             color = \"k\", angles = \"xy\", \\\n",
        "             scale_units = \"xy\", scale = 1, \\\n",
        "             label = \"Original Vector\")\n",
        "  plt.quiver(0, 0, b[0], b[1],\\\n",
        "            color=\"g\",angles=\"xy\",\\\n",
        "            scale_units=\"xy\",scale=1,\\\n",
        "            label =\"Transformed Vector\")\n",
        "  plt.xlim(xlim)\n",
        "  plt.ylim(ylim)\n",
        "  plt.xlabel(\"X\")\n",
        "  plt.ylabel(\"Y\")\n",
        "  plt.legend()\n",
        "  plt.show()"
      ]
    },
    {
      "cell_type": "code",
      "source": [
        "A = np.array([[2, 0], [0, 1]])\n",
        "\n",
        "x = np.array([[1], [1]])\n",
        "b = np.dot(A, x)\n",
        "plot_vect(x, b, (0, 3), (0, 2))"
      ],
      "metadata": {
        "colab": {
          "base_uri": "https://localhost:8080/",
          "height": 459
        },
        "id": "WrjKWoI04wLD",
        "outputId": "550d4cd6-c9cc-4609-b653-189c770b7f44"
      },
      "execution_count": null,
      "outputs": [
        {
          "output_type": "display_data",
          "data": {
            "text/plain": [
              "<Figure size 800x480 with 1 Axes>"
            ],
            "image/png": "[encoded data removed]"
          },
          "metadata": {}
        }
      ]
    },
    {
      "cell_type": "markdown",
      "source": [
        "We can see from the generated figure that the original vector $x$ is rotated and stretched longer after being transformed by $A$. The vector $[[1], [1]]$ is transformed to $[[2], [1]]$.\n",
        "\n",
        "**Try it**: Plot the vector $x = [[1], [0]]$ and the vector $b = Ax$ where $A = [[2, 0], [0, 1]]$"
      ],
      "metadata": {
        "id": "CoTYvT-S6Lli"
      }
    },
    {
      "cell_type": "code",
      "source": [
        "x = np.array([[1], [0]])\n",
        "b = np.dot(A, x)\n",
        "plot_vect(x, b, (0, 3), (-0.5, 0.5))"
      ],
      "metadata": {
        "colab": {
          "base_uri": "https://localhost:8080/",
          "height": 459
        },
        "id": "qwKy7IUu61Yx",
        "outputId": "e79f6d35-51db-4ac3-a15f-903d9e02c6c0"
      },
      "execution_count": null,
      "outputs": [
        {
          "output_type": "display_data",
          "data": {
            "text/plain": [
              "<Figure size 800x480 with 1 Axes>"
            ],
            "image/png": "[encoded data removed]"
          },
          "metadata": {}
        }
      ]
    },
    {
      "cell_type": "markdown",
      "source": [
        "With this new vector, the only change after the transformation is the length of the vector; it is stretched. The new vector is $[[2], [0]]$, therefore, the transform is\n",
        "\n",
        "$$Ax = 2x$$\n",
        "\n",
        "with $x = [[1], [0]]$ and $\\lambda=2$. The direction of the vector does not change at all (no rotation)."
      ],
      "metadata": {
        "id": "An40gVjp7S1r"
      }
    },
    {
      "cell_type": "markdown",
      "source": [
        "####**15.1.3 The Characteristic Equation**\n",
        "\n",
        "In order to get the eigenvalues and eigenvectors, from $Ax = λx$, we can use the following form:\n",
        "\n",
        "$$(A - λI)x = 0,$$\n",
        "\n",
        "where $I$ is the identify matrix with the same dimensions as $A$. If matrix $A − λI$ has an inverse and both sides are multiplied by $(A − λI)^{−1}$, we get a trivial solution $x = 0$. Therefore, the only interesting case is when $A − λI$ is singular (no inverse exists), and we have a nontrivial solution, which means that the determinant is zero:\n",
        "\n",
        "$$det(A - λI) = 0.$$\n",
        "\n",
        "This equation is called the **characteristic equation** that wil lead to a polynomial equation for $\\lambda$, which we can solve for the eigenvalues.\n"
      ],
      "metadata": {
        "id": "KgQABdL58GTn"
      }
    },
    {
      "cell_type": "markdown",
      "source": [
        "###**15.2 THE POWER METHOD**\n",
        "\n",
        "####**15.2.1 Finding the Largest Eigenvalue**\n",
        "\n",
        "Some problems only require finding the largest dominant eigenvalue and its corresponding eigenvector. In this case, we can use the **power method**, which is an iterative method that will converge to the largest eigenvalue.\n",
        "\n",
        "Consider an $n × n$ matrix $A$ that has $n$ real eigenvalues $λ_1, λ_2, ..., λ_n$ and the corresponding linearly\n",
        "independent eigenvectors $v_1, v_2, ..., v_n$. Since the eigenvalues are scalars, we can rank them so that\n",
        "\n",
        "$$|λ_1|> |λ_2| ≥, ...,≥ |λ_n|.$$\n",
        "\n",
        "Note that we only rquire $|λ_1|> |λ_2|$; the other eigenvalues may be equal to each other.\n",
        "\n",
        "**Note: Demonstration available in Notebook.**\n",
        "\n"
      ],
      "metadata": {
        "id": "b88MnCWIFSAh"
      }
    },
    {
      "cell_type": "markdown",
      "source": [
        "**Try it**: We know from the last section that the largest eigenvalue is 4 for the matrix $A = \\left[\\begin{array}{cc}\n",
        "0 & 2\\\\\n",
        "2 & 3\n",
        "\\end{array}\\right].$\n",
        "\n",
        "Use the power method to find the largest eigenvalue and the associated eigenvector. You can use the initial vector $[1, 1]$ to start the iteration.\n",
        "\n",
        "**First iteration:**\n",
        "\n",
        "$$\\left[\\begin{array}{cc}\n",
        "0 & 2\\\\\n",
        "2 & 3\n",
        "\\end{array}\\right]\\left[\\begin{array}{cc}\n",
        "1\\\\\n",
        "1\n",
        "\\end{array}\\right] = \\left[\\begin{array}{cc}\n",
        "2\\\\\n",
        "5\n",
        "\\end{array}\\right] = 5\\left[\\begin{array}{cc}\n",
        "0.4\\\\\n",
        "1\n",
        "\\end{array}\\right].$$\n",
        "\n",
        "**Second iteration:**\n",
        "\n",
        "$$\\left[\\begin{array}{cc}\n",
        "0 & 2\\\\\n",
        "2 & 3\n",
        "\\end{array}\\right]\\left[\\begin{array}{cc}\n",
        "0.4\\\\\n",
        "1\n",
        "\\end{array}\\right] = \\left[\\begin{array}{cc}\n",
        "2\\\\\n",
        "3.8\n",
        "\\end{array}\\right] = 3.8\\left[\\begin{array}{cc}\n",
        "0.5263\\\\\n",
        "1\n",
        "\\end{array}\\right].$$\n",
        "\n",
        "**Third iteration:**\n",
        "\n",
        "$$\\left[\\begin{array}{cc}\n",
        "0 & 2\\\\\n",
        "2 & 3\n",
        "\\end{array}\\right]\\left[\\begin{array}{cc}\n",
        "0.5263\\\\\n",
        "1\n",
        "\\end{array}\\right] = \\left[\\begin{array}{cc}\n",
        "2\\\\\n",
        "4.0526\n",
        "\\end{array}\\right] = 4.0526\\left[\\begin{array}{cc}\n",
        "0.4935\\\\\n",
        "1\n",
        "\\end{array}\\right].$$\n",
        "\n",
        "**Fourth iteration:**\n",
        "\n",
        "$$\\left[\\begin{array}{cc}\n",
        "0 & 2\\\\\n",
        "2 & 3\n",
        "\\end{array}\\right]\\left[\\begin{array}{cc}\n",
        "0.4935\\\\\n",
        "1\n",
        "\\end{array}\\right] = \\left[\\begin{array}{cc}\n",
        "2\\\\\n",
        "3.987\n",
        "\\end{array}\\right] = 3.987\\left[\\begin{array}{cc}\n",
        "0.5016\\\\\n",
        "1\n",
        "\\end{array}\\right].$$\n",
        "\n",
        "**Fifth iteration:**\n",
        "\n",
        "$$\\left[\\begin{array}{cc}\n",
        "0 & 2\\\\\n",
        "2 & 3\n",
        "\\end{array}\\right]\\left[\\begin{array}{cc}\n",
        "0.5016\\\\\n",
        "1\n",
        "\\end{array}\\right] = \\left[\\begin{array}{cc}\n",
        "2\\\\\n",
        "4.0032\n",
        "\\end{array}\\right] = 4.0032\\left[\\begin{array}{cc}\n",
        "0.4996\\\\\n",
        "1\n",
        "\\end{array}\\right].$$\n",
        "\n",
        "**Sixth iteration:**\n",
        "\n",
        "$$\\left[\\begin{array}{cc}\n",
        "0 & 2\\\\\n",
        "2 & 3\n",
        "\\end{array}\\right]\\left[\\begin{array}{cc}\n",
        "0.4996\\\\\n",
        "1\n",
        "\\end{array}\\right] = \\left[\\begin{array}{cc}\n",
        "2\\\\\n",
        "3.9992\n",
        "\\end{array}\\right] = 3.9992\\left[\\begin{array}{cc}\n",
        "0.5001\\\\\n",
        "1\n",
        "\\end{array}\\right].$$\n",
        "\n",
        "**Seventh iteration:**\n",
        "\n",
        "$$\\left[\\begin{array}{cc}\n",
        "0 & 2\\\\\n",
        "2 & 3\n",
        "\\end{array}\\right]\\left[\\begin{array}{cc}\n",
        "0.5001\\\\\n",
        "1\n",
        "\\end{array}\\right] = \\left[\\begin{array}{cc}\n",
        "2\\\\\n",
        "4.0002\n",
        "\\end{array}\\right] = 4.0002\\left[\\begin{array}{cc}\n",
        "0.5000\\\\\n",
        "1\n",
        "\\end{array}\\right].$$"
      ],
      "metadata": {
        "id": "i17dEFqaVBah"
      }
    },
    {
      "cell_type": "markdown",
      "source": [
        "After seven iterations, the eigenvalue has converged to 4, with $[0.5, 1]$ as the corresponding eigenvector."
      ],
      "metadata": {
        "id": "_zr1HRhfX7Jk"
      }
    },
    {
      "cell_type": "markdown",
      "source": [
        "**Try it!**: implement the power methd in Python"
      ],
      "metadata": {
        "id": "7tQduyRxYGQ4"
      }
    },
    {
      "cell_type": "code",
      "source": [
        "import numpy as np\n",
        "\n",
        "def normalize(x):\n",
        "  fac = abs(x).max()\n",
        "  x_n = x/x.max()\n",
        "  return fac, x_n\n",
        "\n",
        "x_i = []\n",
        "x = np.array([1, 1])\n",
        "a = np.array([[0, 2],\n",
        "              [2, 3]])\n",
        "\n",
        "for i in range(10):\n",
        "  x = np.dot(a, x)\n",
        "  lambda_1, x = normalize(x)\n",
        "  x_i.append(x)\n",
        "print(f\"Eigenvalue: {lambda_1}\")\n",
        "print(f\"Eigenvector: {x}\")\n",
        "print(f\"Eigenvectors for each iteration:\\n{x_i}\")"
      ],
      "metadata": {
        "colab": {
          "base_uri": "https://localhost:8080/"
        },
        "id": "g4F2VNNbYOm-",
        "outputId": "123232a2-29cc-4acb-c91b-011e272d9c5b"
      },
      "execution_count": null,
      "outputs": [
        {
          "output_type": "stream",
          "name": "stdout",
          "text": [
            "Eigenvalue: 3.999996821087633\n",
            "Eigenvector: [0.5000004 1.       ]\n",
            "Eigenvectors for each iteration:\n",
            "[array([0.4, 1. ]), array([0.52631579, 1.        ]), array([0.49350649, 1.        ]), array([0.50162866, 1.        ]), array([0.49959317, 1.        ]), array([0.50010173, 1.        ]), array([0.49997457, 1.        ]), array([0.50000636, 1.        ]), array([0.49999841, 1.        ]), array([0.5000004, 1.       ])]\n"
          ]
        }
      ]
    },
    {
      "cell_type": "markdown",
      "source": [
        "####**15.2.2 The Inverse Power Method**\n",
        "\n",
        "The eigenvalues of the inverse matrix $A^{-1}$ are the reciprocals of the eigenvalues of $A$. By taking advantage of this feature, as well as the power method, we are able to obtain the smallest eigenvalue of $A$; this will be basis of the **inverse power method**. The steps are very simple: instead of applying $A$ as described above, we just apply $A^{-1}$ for aour iteration to find the largest value of $\\frac{1}{\\lambda_1}$, which will be the smallest value of the eigenvalues for $A$.\n",
        "\n",
        "**Try it!**: Find the smallest eigenvalue and eigenvector for $A = \\left[\\begin{array}{cc}\n",
        "0 & 2\\\\\n",
        "2 & 3\n",
        "\\end{array}\\right].$"
      ],
      "metadata": {
        "id": "UZCpaoxBaLoQ"
      }
    },
    {
      "cell_type": "code",
      "source": [
        "from numpy.linalg import inv\n",
        "x_k = []\n",
        "x = np.array([1, 1])\n",
        "a = np.array([[0, 2],\n",
        "              [2, 3]])\n",
        "\n",
        "a_inv = inv(a)\n",
        "for i in range(10):\n",
        "  x = np.dot(a_inv, x)\n",
        "  lambda_1, x = normalize(x)\n",
        "  x_k.append(x)\n",
        "\n",
        "print(f\"Eigenvalue: {lambda_1}\")\n",
        "print(f\"Eigenvector: {x}\")\n",
        "print(f\"Eigenvectors for each iteration:\\n{x_k}\")"
      ],
      "metadata": {
        "colab": {
          "base_uri": "https://localhost:8080/"
        },
        "id": "C6PIJMuRbpIq",
        "outputId": "d3a90cb7-358e-41e1-dd40-e7b65c0838ff"
      },
      "execution_count": null,
      "outputs": [
        {
          "output_type": "stream",
          "name": "stdout",
          "text": [
            "Eigenvalue: 1.9999570856379936\n",
            "Eigenvector: [ 1.         -0.49999642]\n",
            "Eigenvectors for each iteration:\n",
            "[array([-0.5,  1. ]), array([ 1.        , -0.28571429]), array([-1.78571429,  1.        ]), array([ 1.        , -0.48543689]), array([-1.98543689,  1.        ]), array([ 1.        , -0.49908481]), array([-1.99908481,  1.        ]), array([ 1.        , -0.49994278]), array([-1.99994278,  1.        ]), array([ 1.        , -0.49999642])]\n"
          ]
        }
      ]
    },
    {
      "cell_type": "markdown",
      "source": [
        "###**15.3 THE QR METHOD**\n",
        "\n",
        "The **QR method** is the preferred iterative method to find all the eigenvalues of a matrix (but not the eigenvectors at the same time). The idea is based on the following two concepts:\n",
        "\n",
        "1. Similar matrices will have the same eigenvalues and associated eigenvectors. Two square matrices $A$ and $B$ are similar if\n",
        "\n",
        "$$A = C^{-1}B\\space{C}$$\n",
        "\n",
        "where $C$ is an invertible matrix.\n",
        "\n",
        "2. The $QR$ method us a way to decompose a matrix into two matrices $Q$ and $R$, where $Q$ is an orthogonal matrix, and $R$ is an upper triangular matrix. An orthogonal matrix satisfies $Q^{-1} = Q^T$, which means $Q^{-1}Q = Q^TQ = I.$"
      ],
      "metadata": {
        "id": "yi_VVEj7dG_y"
      }
    },
    {
      "cell_type": "markdown",
      "source": [
        "How do we link these two concepts to find eigenvalues? Say, we have a matrix $A_0$ whose eigenvalues must be determined. At the $k$th step (starting with $k = 0$), we can perform the $QR$ decomposition and obtain\n",
        "\n",
        "$$A_k = Q_kR_k$$\n",
        "\n",
        "where $Q_k$ is an orthogonl matrix, and $R_K$ is an upper triangular matrix. We then form\n",
        "\n",
        "$$A_{k+1} = R_kQ_k$$\n",
        "\n",
        "to obtain\n",
        "\n",
        "$$A_{k + 1} = R_kQ_k = Q^{-1}_kQ_kR_kQ_k = Q^{-1}_kA_kQ_k.$$\n",
        "\n",
        "Because all the $A_k$ are similar, as we discussed above, they all have the same eigenvalues.\n",
        "\n",
        "As the iteration continues, we will eventually converge to an upper triangular matrix with the form:\n",
        "\n",
        "$$A_k = R_kQ_k = \\left[\\begin{array}{cc}\n",
        "\\lambda_1 & X & ... & X\\\\\n",
        "0 & \\lambda_2 & ... & X\\\\\n",
        ". & . & . & .\\\\\n",
        ". & . & . & .\\\\\n",
        ". & . & . & .\\\\\n",
        "0 & 0 & ... & \\lambda_n\\\\\n",
        "\\end{array}\\right],$$\n",
        "\n",
        "where the diagonal values are the eigenvalues of the matrix. In each iteration of the QR method, factorig a matrix into an orthogonal and an upper triangular matrix can be done by using a special matrix called **Householder matrix**. We will use the Python function to obtain the two matrices directly.\n",
        "\n",
        "**Try it!**: Use the `qr` function in `numpy.linalg` to decompose matrix $A = \\left[\\begin{array}{cc}\n",
        "0 & 2\\\\\n",
        "2 & 3\n",
        "\\end{array}\\right].$ Verify the results.\n",
        "\n",
        "\n",
        "\n"
      ],
      "metadata": {
        "id": "wUCBaQvDDbX7"
      }
    },
    {
      "cell_type": "code",
      "source": [
        "import numpy as np\n",
        "#from numpy.linalg import qr\n",
        "\n",
        "a = np.array([[0, 2],\n",
        "              [2, 3]])\n",
        "\n",
        "q, r = np.linalg.qr(a)\n",
        "\n",
        "print(f\"Q: {q}\")\n",
        "print(f\"R: {r}\")\n",
        "\n",
        "b = np.dot(q, r)\n",
        "print(f\"QR: {b}\")\n",
        "\n"
      ],
      "metadata": {
        "colab": {
          "base_uri": "https://localhost:8080/"
        },
        "id": "wb0eb_5HGd87",
        "outputId": "667cb2fb-d367-4d7d-9bfa-bb012ca58205"
      },
      "execution_count": null,
      "outputs": [
        {
          "output_type": "stream",
          "name": "stdout",
          "text": [
            "Q: [[ 0. -1.]\n",
            " [-1.  0.]]\n",
            "R: [[-2. -3.]\n",
            " [ 0. -2.]]\n",
            "QR: [[0. 2.]\n",
            " [2. 3.]]\n"
          ]
        }
      ]
    },
    {
      "cell_type": "markdown",
      "source": [
        "**Try it!**: Use the QR method to get the eigenvalues of matrix $A = \\left[\\begin{array}{cc}\n",
        "0 & 2\\\\\n",
        "2 & 3\n",
        "\\end{array}\\right]$. Do 20 iterations, and print out the first, fifth, 10th, and 20th iteration."
      ],
      "metadata": {
        "id": "VaMGPcnzIfyf"
      }
    },
    {
      "cell_type": "code",
      "source": [
        "import numpy as np\n",
        "from numpy.linalg import qr\n",
        "\n",
        "a = np.array([[0, 2],\n",
        "              [2, 3]])\n",
        "p = [1, 5, 10, 20]\n",
        "\n",
        "for i in range(20):\n",
        "  q, r = qr(a)\n",
        "  a = np.dot(r, q)\n",
        "  if i + 1 in p:\n",
        "    print(f\"Iteration {i + 1}: \")\n",
        "    print(\"--------------------\")\n",
        "    print(a)"
      ],
      "metadata": {
        "colab": {
          "base_uri": "https://localhost:8080/"
        },
        "id": "fgbCNFwHI6cT",
        "outputId": "d8322893-4380-4af3-f787-b751e02d0678"
      },
      "execution_count": null,
      "outputs": [
        {
          "output_type": "stream",
          "name": "stdout",
          "text": [
            "Iteration 1: \n",
            "--------------------\n",
            "[[3. 2.]\n",
            " [2. 0.]]\n",
            "Iteration 5: \n",
            "--------------------\n",
            "[[ 3.99998093  0.00976559]\n",
            " [ 0.00976559 -0.99998093]]\n",
            "Iteration 10: \n",
            "--------------------\n",
            "[[ 4.00000000e+00  9.53674316e-06]\n",
            " [ 9.53674316e-06 -1.00000000e+00]]\n",
            "Iteration 20: \n",
            "--------------------\n",
            "[[ 4.00000000e+00  9.09484250e-12]\n",
            " [ 9.09494702e-12 -1.00000000e+00]]\n"
          ]
        }
      ]
    },
    {
      "cell_type": "markdown",
      "source": [
        "Note that after the ﬁfth iteration, the eigenvalues are converged to the correct ones. The next section will demonstrate how to obtain the eigenvalues and eigenvectors in Python using the built-in function."
      ],
      "metadata": {
        "id": "_yqWgRCTJjr7"
      }
    },
    {
      "cell_type": "markdown",
      "source": [
        "###**15.4 EIGENVALUES AND EIGENVECTORS IN PYTHON**\n",
        "\n",
        "The methods introduced above are fairly complicated to execute. The calculation of eigenvalues and eigenvectors in Python is fairly easy. The main built-in function in Python to solve the eigenvalue/eigenvector problem for a square array is the `eig` function in `numpy.linalg`; see below for an example in how to execute it.\n",
        "\n",
        "**Try it!**: Calulate the igenvalues and eigenvectors for matrix $A = \\left[\\begin{array}{cc}\n",
        "0 & 2\\\\\n",
        "2 & 3\n",
        "\\end{array}\\right].$\n"
      ],
      "metadata": {
        "id": "CDDtLA7OJm7D"
      }
    },
    {
      "cell_type": "code",
      "source": [
        "import numpy as np\n",
        "from numpy.linalg import eig\n",
        "\n",
        "a = np.array([[0, 2],\n",
        "              [2, 3]])\n",
        "w, v = eig(a)\n",
        "print(f\"E-values: {w}\")\n",
        "print(f\"E-vector: {v}\")"
      ],
      "metadata": {
        "colab": {
          "base_uri": "https://localhost:8080/"
        },
        "id": "u4xLbBU5QBiV",
        "outputId": "573efc98-0aab-4a31-d532-3fa19aad65e3"
      },
      "execution_count": null,
      "outputs": [
        {
          "output_type": "stream",
          "name": "stdout",
          "text": [
            "E-values: [-1.  4.]\n",
            "E-vector: [[-0.89442719 -0.4472136 ]\n",
            " [ 0.4472136  -0.89442719]]\n"
          ]
        }
      ]
    },
    {
      "cell_type": "markdown",
      "source": [
        "**Try it!**: Calulate the igenvalues and eigenvectors for matrix $A = \\left[\\begin{array}{cc}\n",
        "2 & 2 & 4\\\\\n",
        "1 & 3 & 5\\\\\n",
        "2 & 3 & 4\n",
        "\\end{array}\\right].$"
      ],
      "metadata": {
        "id": "q79JNE-cQokv"
      }
    },
    {
      "cell_type": "code",
      "source": [
        "a = np.array([[2, 2, 4],\n",
        "              [1, 3, 5],\n",
        "              [2, 3, 4]])\n",
        "w, v = eig(a)\n",
        "print(f\"E-values: {w}\")\n",
        "print(f\"E-vector: {v}\")"
      ],
      "metadata": {
        "colab": {
          "base_uri": "https://localhost:8080/"
        },
        "id": "PmEA0PeEQ3-M",
        "outputId": "8256dc97-a749-4e01-b2ad-44daa2db9e9f"
      },
      "execution_count": null,
      "outputs": [
        {
          "output_type": "stream",
          "name": "stdout",
          "text": [
            "E-values: [ 8.80916362  0.92620912 -0.73537273]\n",
            "E-vector: [[-0.52799324 -0.77557092 -0.36272811]\n",
            " [-0.604391    0.62277013 -0.7103262 ]\n",
            " [-0.59660259 -0.10318482  0.60321224]]\n"
          ]
        }
      ]
    },
    {
      "cell_type": "markdown",
      "source": [
        "###**15.4 Summary and Problems**\n",
        "---\n",
        "\n",
        "1. Eigenvalues and eigenvectors help us understand the characteristics of a linear transformation.\n",
        "2. Eigenvectors of a matrix are the vectors that can only be scaled lengthwise without rotation after applying the matrix transformation; the eigenvalues are the factors of the scaling.\n",
        "3. We can use power method to get the largest eigenvalue and corresponding eigenvector of a matrix.\n",
        "4. The inverse power method can help us get the smallest eigenvalue and corresponding eigenvector of a matrix.\n",
        "5. The shifted power method can get all the other eigenvalues/eigenvectors of a matrix.\n",
        "6. The preferred method to get all the eigenvalues is the QR method.\n"
      ],
      "metadata": {
        "id": "UrDRl12gRJnN"
      }
    }
  ]
}