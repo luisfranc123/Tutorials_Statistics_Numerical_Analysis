{
  "nbformat": 4,
  "nbformat_minor": 0,
  "metadata": {
    "colab": {
      "provenance": [],
      "authorship_tag": "ABX9TyPLlvchMAj8olQpyk40dQ5Y",
      "include_colab_link": true
    },
    "kernelspec": {
      "name": "python3",
      "display_name": "Python 3"
    },
    "language_info": {
      "name": "python"
    }
  },
  "cells": [
    {
      "cell_type": "markdown",
      "metadata": {
        "id": "view-in-github",
        "colab_type": "text"
      },
      "source": [
        "<a href=\"https://colab.research.google.com/github/luisfranc123/Tutorials_Statistics_Numerical_Analysis/blob/main/Numerical_Methods/Chapter7_Object_Oriented_Programming.ipynb\" target=\"_parent\"><img src=\"https://colab.research.google.com/assets/colab-badge.svg\" alt=\"Open In Colab\"/></a>"
      ]
    },
    {
      "cell_type": "markdown",
      "source": [
        "###**7.1. Introduction to OOP**\n",
        "---\n",
        "**Textbook: Python Programming and Numerical Methods**\n",
        "\n",
        "So far, all the codes we have written belong to the category of **procedure-oriented programming\n",
        "(POP)**, which consists of a list of instructions to tell the computer what to do; these instructions are\n",
        "then organized into functions.\n",
        "\n",
        "The object-oriented programming breaks the programming task into **objects**, which combine data (known as atributes) and **behaviors/functions** (known as methods). Thus, there are two main components of the OOP: **class** and **object**.\n",
        "\n",
        "The class is a blueprint to define a logical grouping of data and functions. It provides a way to create data structures that model real-world entities. For example, we can create a `people` class that contains the data such as name, age, and some behavior functions to print out ages and genders of a group of people. While class is the blueprint, an object is an `instance` of the class with actual values.\n",
        "\n",
        "For example, a person named \"Iron man\" with age 35. Put it another way, a class is like a template to define the needed information, and an object is one specific copy that filled in the template. Also, objects instantiated from the same class are **independent** from each other. For example, if we have another person, say \"Batman\" with age 33, it can be instantiated from the `people` class, but it remains an independent instance.\n",
        "\n",
        "To implement the above example in Python, see the code below.\n",
        "\n"
      ],
      "metadata": {
        "id": "8h3EPpzkyxQp"
      }
    },
    {
      "cell_type": "code",
      "execution_count": null,
      "metadata": {
        "colab": {
          "base_uri": "https://localhost:8080/"
        },
        "id": "LsuFdgzZydjW",
        "outputId": "691e7647-ac15-43d8-c514-145d001e9d7b"
      },
      "outputs": [
        {
          "output_type": "stream",
          "name": "stdout",
          "text": [
            "Greetings, Iron Man\n",
            "Iron Man\n",
            "35\n"
          ]
        }
      ],
      "source": [
        "class People():\n",
        "  def __init__(self, name, age):\n",
        "    self.name = name\n",
        "    self.age = age\n",
        "\n",
        "\n",
        "  def greet(self):\n",
        "    print(f\"Greetings, {self.name}\")\n",
        "\n",
        "\n",
        "person1 = People(name = \"Iron Man\", age = 35)\n",
        "person1.greet()\n",
        "print(person1.name)\n",
        "print(person1.age)"
      ]
    },
    {
      "cell_type": "code",
      "source": [
        "person2 = People(name = \"Batman\", age = 33)\n",
        "person2.greet()\n",
        "print(person2.name)\n",
        "print(person2.age)"
      ],
      "metadata": {
        "colab": {
          "base_uri": "https://localhost:8080/"
        },
        "id": "XOdtyCV72d_s",
        "outputId": "ebd1b24d-3b0d-4c17-f759-fdbab5f92517"
      },
      "execution_count": null,
      "outputs": [
        {
          "output_type": "stream",
          "name": "stdout",
          "text": [
            "Greetings, Batman\n",
            "Batman\n",
            "33\n"
          ]
        }
      ]
    },
    {
      "cell_type": "markdown",
      "source": [
        "The many benefits of using **OOP** are as follows: *i)* It provides a clear modular structure for programs that enhances code reusability. *ii)* It provides a simple way to solve complex problems. *iii)* It helps define more abstract data types to model real-world scenarios. *iv)* It hides implementation details, leaving a clearly defined interface. *v)* It combines data and operations."
      ],
      "metadata": {
        "id": "GTds21lM2rg2"
      }
    },
    {
      "cell_type": "markdown",
      "source": [
        "###**7.2 Class and Object**\n",
        "---\n",
        "\n",
        "####**7.2.1 Class**\n",
        "\n",
        "A **class** is a definition of the structure that we want. Similar to a function, it is defined as a block of code, starting with the class statement. The syntax of defining a class is:\n",
        "\n",
        "\n",
        "    class ClassName(superclass):\n",
        "\n",
        "      def __init__(self, arguments):\n",
        "      # define or assign object attributes\n",
        "\n",
        "      def other_methods(self, arguments):\n",
        "      # body of th method\n",
        "\n",
        "\n",
        "The `__init__` is one of the special\n",
        "methods in Python classes that is run as soon as an object of a class is instantiated (created). It assigns\n",
        "initial values to the object before it is ready to be used. Note the two underscores at the beginning and\n",
        "end of the `init`, indicating this is a special method reserved for special use in the language. In this `init` method, you can assign attributes directly when you create the object. The `other_methods` functions are used to define the instance methods that will be applied on the attributes, just like functions discussed before. A class instance method must have an extra argument (`self`) as the ﬁrst argument when you deﬁne it. This particular argument refers to the object itself; conventionally, we use `self` to name it."
      ],
      "metadata": {
        "id": "kWS0Yhfc3y7U"
      }
    },
    {
      "cell_type": "markdown",
      "source": [
        "**Example**: Define a class method named `Student`, with the attributes `sid` (student id), `name`, `gender`, `type` in the `init` method, and a method called `say_name` to print out the student's name. All attributes will be passed in except `type`, which will have a value as \"learning\"."
      ],
      "metadata": {
        "id": "TCueTrTA6QNj"
      }
    },
    {
      "cell_type": "code",
      "source": [
        "class Student():\n",
        "\n",
        "  def __init__(self, sid, name, gender):\n",
        "    self.sid = sid\n",
        "    self.name = name\n",
        "    self.gender = gender\n",
        "    self.type = \"learning\"\n",
        "\n",
        "  def say_name(self):\n",
        "    print(f\"My name is {self.name}\")"
      ],
      "metadata": {
        "id": "yrf_WdO163aL"
      },
      "execution_count": null,
      "outputs": []
    },
    {
      "cell_type": "markdown",
      "source": [
        "**Try it**: Add a method `report` that prints not only the student name, but also the student id. The method will have another parameter, `score`, that will pass in a number between 0 and 100 as part of the report."
      ],
      "metadata": {
        "id": "IlZ4MIz275og"
      }
    },
    {
      "cell_type": "code",
      "source": [
        "class Student():\n",
        "\n",
        "  def __init__(self, sid, name, gender):\n",
        "    self.sid = sid\n",
        "    self.name = name\n",
        "    self.gender = gender\n",
        "    self.type = \"learning\"\n",
        "\n",
        "  def say_name(self):\n",
        "    print(f\"My name is {self.name}\")\n",
        "\n",
        "  def report(self, score):\n",
        "    self.say_name()\n",
        "    print(f\"My id is: {self.sid}\")\n",
        "    print(f\"My score is: {score}\")"
      ],
      "metadata": {
        "id": "YJFzSHO18Kst"
      },
      "execution_count": null,
      "outputs": []
    },
    {
      "cell_type": "markdown",
      "source": [
        "####**7.2.2 Object**\n",
        "\n",
        "As mentioned before, an **object** is an instance of the defined class with actual values. Many instances of different values associated with the class are possible, and each of these instances will be independent with each other. Also, after we create an object and call this instance method from the object, we do not need to give value to the `self` parameter because Python automatically provides it; see the following example."
      ],
      "metadata": {
        "id": "URR_AiI69x3d"
      }
    },
    {
      "cell_type": "markdown",
      "source": [
        "**Example**: Create two ojects `(\"001\", \"Susan\", \"F\")` and `(\"002\", \"Mike\", \"M\")`, and call the method `say_name`."
      ],
      "metadata": {
        "id": "__FjFn9jAh3T"
      }
    },
    {
      "cell_type": "code",
      "source": [
        "student1 = Student(\"001\", \"Susan\", \"F\")\n",
        "student2 = Student(\"002\", \"Mike\", \"M\")\n",
        "\n",
        "student1.say_name()\n",
        "student2.say_name()\n",
        "print(f\"{student1.type}\")\n",
        "print(f\"{student1.gender}\")"
      ],
      "metadata": {
        "colab": {
          "base_uri": "https://localhost:8080/"
        },
        "id": "H7RYBq0HAfcy",
        "outputId": "ae054cb4-b1c4-48a4-bc88-08782e90d7fa"
      },
      "execution_count": null,
      "outputs": [
        {
          "output_type": "stream",
          "name": "stdout",
          "text": [
            "My name is Susan\n",
            "My name is Mike\n",
            "learning\n",
            "F\n"
          ]
        }
      ]
    },
    {
      "cell_type": "markdown",
      "source": [
        "In the above code, we created two objects, `student1`and `student2`, with two different sets of values. Each object is an instance of the `Student` class and has a different set of attributes. In contrast, to call a method, you need the parentheses because you are calling a function, such as `student1.say_name()`."
      ],
      "metadata": {
        "id": "5N3odeLABa6I"
      }
    },
    {
      "cell_type": "code",
      "source": [
        "student1.gender"
      ],
      "metadata": {
        "colab": {
          "base_uri": "https://localhost:8080/",
          "height": 35
        },
        "id": "r8uXIaS8CQ8T",
        "outputId": "330efd64-b1dc-4bf8-8dca-dba0aac4972a"
      },
      "execution_count": null,
      "outputs": [
        {
          "output_type": "execute_result",
          "data": {
            "text/plain": [
              "'F'"
            ],
            "application/vnd.google.colaboratory.intrinsic+json": {
              "type": "string"
            }
          },
          "metadata": {},
          "execution_count": 16
        }
      ]
    },
    {
      "cell_type": "code",
      "source": [
        "student1.say_name()\n",
        "student2.say_name()"
      ],
      "metadata": {
        "colab": {
          "base_uri": "https://localhost:8080/"
        },
        "id": "zapoZGnwC5Wm",
        "outputId": "4717df4c-0065-4c77-d890-55e49fc656b9"
      },
      "execution_count": null,
      "outputs": [
        {
          "output_type": "stream",
          "name": "stdout",
          "text": [
            "My name is Susan\n",
            "My name is Mike\n"
          ]
        }
      ]
    },
    {
      "cell_type": "markdown",
      "source": [
        "**Try it**: Call method `report` for student1 ans student2 with scores of 95 and 90, respectively. Note that we do not need the \"self\" as an argument here."
      ],
      "metadata": {
        "id": "iHbKxdYcEfCJ"
      }
    },
    {
      "cell_type": "code",
      "source": [
        "student1.report(95)\n",
        "student2.report(90)"
      ],
      "metadata": {
        "colab": {
          "base_uri": "https://localhost:8080/"
        },
        "id": "ldbdB-6bEwbZ",
        "outputId": "9df14b69-c4b1-493c-b445-334a500b114a"
      },
      "execution_count": null,
      "outputs": [
        {
          "output_type": "stream",
          "name": "stdout",
          "text": [
            "My name is Susan\n",
            "My id is: 001\n",
            "My score is: 95\n",
            "My name is Mike\n",
            "My id is: 002\n",
            "My score is: 90\n"
          ]
        }
      ]
    },
    {
      "cell_type": "markdown",
      "source": [
        "We can see both methods calling to print out the data associated with the two objects. Note that the score value we passed in is only available to the method `report` (within the scope of this method). We can also see that the method `say_name` call in the `report` aso works, as long as you call the method with the `self` in it."
      ],
      "metadata": {
        "id": "PnP0kxaIFCl8"
      }
    },
    {
      "cell_type": "markdown",
      "source": [
        "####**7.2.3 Class Vs Instance Attributes**\n",
        "\n",
        "The attributes we presented above are actually called instance attributes, which means that they only belong to a specific instance; when you use them, you need to use the `self.attribute` within the class. There are other attributes called class attributes, which will be shared with all the instances created from this class, Let us see an exaple how to define and se a class attribute."
      ],
      "metadata": {
        "id": "kD_b4vNMFf2C"
      }
    },
    {
      "cell_type": "markdown",
      "source": [
        "**Example**: Modify the `Student` class to add a class attribute `n`, which will record how many objects we are creating. Also, add a method `num_instances` to print out the number.  "
      ],
      "metadata": {
        "id": "1Hkfm6rgGidv"
      }
    },
    {
      "cell_type": "code",
      "source": [
        "class Student():\n",
        "  n = 0 # This attribute will be shared with all instances within the Student Class\n",
        "\n",
        "  def __init__(self, sid, name, gender):\n",
        "    self.sid = sid\n",
        "    self.name = name\n",
        "    self.gender = gender\n",
        "    self.type = \"learning\"\n",
        "    Student.n += 1\n",
        "\n",
        "  def say_name(self):\n",
        "    print(f\"My name is {self.name}\")\n",
        "\n",
        "  def report(self, score):\n",
        "    self.say_name()\n",
        "    print(f\"Mi id is: {self.sid}\")\n",
        "    print(f\"Mi score is: {score}\")\n",
        "\n",
        "  def num_instances(self):\n",
        "    print(f\"We have {Student.n} instance(s) in total\")"
      ],
      "metadata": {
        "id": "bhCXW8EjGdUX"
      },
      "execution_count": null,
      "outputs": []
    },
    {
      "cell_type": "code",
      "source": [
        "student1 = Student(\"001\", \"Susan\", \"F\")\n",
        "student1.num_instances()\n",
        "student2 = Student(\"002\", \"Mike\", \"M\")\n",
        "student1.num_instances()\n",
        "student2.num_instances()"
      ],
      "metadata": {
        "colab": {
          "base_uri": "https://localhost:8080/"
        },
        "id": "zjrymaeiISi1",
        "outputId": "52fbd4be-4b8a-408f-c2e5-acf934333813"
      },
      "execution_count": null,
      "outputs": [
        {
          "output_type": "stream",
          "name": "stdout",
          "text": [
            "We have 1 instance(s) in total\n",
            "We have 2 instance(s) in total\n",
            "We have 2 instance(s) in total\n"
          ]
        }
      ]
    },
    {
      "cell_type": "markdown",
      "source": [
        "###**7.3 Inheritance, Encapsulation, and Polymorphism**\n",
        "\n",
        "There are three more important concepts: (1) **inheritance**, which makes the OOP code more modular, easier to reuse and capable of building a relationship; (2) **encapsulation**, which can hide some of the private details of a class from other objects; and (3) **polymorphism**, which allows us to use a common operation in different ways.\n",
        "\n",
        "\n",
        "####**7.3.1 Inheritance**\n",
        "\n",
        "Inheritance allows us to define a class that inherits all the methods and attributes from another class. Convention denotes the new class as **child class**, and the one that it inherits from is called the **parent class** or **superclass**. If we refer back to the deﬁnition of class structure, we can see the structure for basic inheritance is `class ClassName(superclass)`, which means the new class can access all the attributes and methods from the superclass. Inheritance builds a relationship between the child and\n",
        "parent classes. Usually, the parent class is a general type while the child class is a speciﬁc type. An\n",
        "example is presented below."
      ],
      "metadata": {
        "id": "hFHNHeRiJcty"
      }
    },
    {
      "cell_type": "markdown",
      "source": [
        "**Try it!**: Define a class named `Sensor` with attributes `name`, `location`, and `record_date` that pass from the creation of an object and an attribute `data` as an empty dictionary to store data. Create one method `add_data` with `t` and `data` as input parameters to take in timestamp and data arrays. Within this method, assign `t` and `data` to the `data` attribute with \"time\" and \"data\" as the keys. In addition, create one `clear_data` method to delete the data."
      ],
      "metadata": {
        "id": "xqZm1pqt1ria"
      }
    },
    {
      "cell_type": "code",
      "source": [
        "class Sensor():\n",
        "  def __init__(self, name, location, record_date):\n",
        "    self.name = name\n",
        "    self.location = location\n",
        "    self.record_date = record_date\n",
        "    self.data = {}\n",
        "\n",
        "  def add_data(self, t, data):\n",
        "    self.data[\"time\"] = t\n",
        "    self.data[\"data\"] = data\n",
        "    print(f\"We have {len(data)} points saved\")\n",
        "\n",
        "  def clear_data(self):\n",
        "    self.data = {}\n",
        "    print(\"Data cleared!\")\n"
      ],
      "metadata": {
        "id": "sgUavcWB2udt"
      },
      "execution_count": null,
      "outputs": []
    },
    {
      "cell_type": "markdown",
      "source": [
        "Now we have a class to store general sensor information, we can create a sensor object to store data.\n",
        "\n",
        "**Example**: Create a sensor object."
      ],
      "metadata": {
        "id": "RZE9YvJD4BSC"
      }
    },
    {
      "cell_type": "code",
      "source": [
        "import numpy as np\n",
        "\n",
        "sensor1 = Sensor(\"sensor1\", \"Berkeley\", \"2019-01-01\")\n",
        "data = np.random.randint(-10, 10, 10)\n",
        "sensor1.add_data(np.arange(10), data)\n",
        "sensor1.data"
      ],
      "metadata": {
        "colab": {
          "base_uri": "https://localhost:8080/"
        },
        "id": "jW4QuLBO4Sgi",
        "outputId": "d67a1274-e1df-43a0-a137-40d7498a3a8e"
      },
      "execution_count": null,
      "outputs": [
        {
          "output_type": "stream",
          "name": "stdout",
          "text": [
            "We have 10 points saved\n"
          ]
        },
        {
          "output_type": "execute_result",
          "data": {
            "text/plain": [
              "{'time': array([0, 1, 2, 3, 4, 5, 6, 7, 8, 9]),\n",
              " 'data': array([  4,  -5,  -1, -10,  -8,  -3,   9,   7,  -9,  -4])}"
            ]
          },
          "metadata": {},
          "execution_count": 9
        }
      ]
    },
    {
      "cell_type": "code",
      "source": [
        "sensor1.clear_data()"
      ],
      "metadata": {
        "colab": {
          "base_uri": "https://localhost:8080/"
        },
        "id": "x_ElPwxW5RBc",
        "outputId": "2c58bc67-f0fd-49eb-a692-3f978d7a22a9"
      },
      "execution_count": null,
      "outputs": [
        {
          "output_type": "stream",
          "name": "stdout",
          "text": [
            "Data cleared!\n"
          ]
        }
      ]
    },
    {
      "cell_type": "code",
      "source": [
        "# Empty data\n",
        "sensor1.data"
      ],
      "metadata": {
        "colab": {
          "base_uri": "https://localhost:8080/"
        },
        "id": "2WZWQPCO5Xop",
        "outputId": "f1d883d8-fe10-4c80-e647-3fa19a1497c1"
      },
      "execution_count": null,
      "outputs": [
        {
          "output_type": "execute_result",
          "data": {
            "text/plain": [
              "{}"
            ]
          },
          "metadata": {},
          "execution_count": 6
        }
      ]
    },
    {
      "cell_type": "markdown",
      "source": [
        "####***7.3.1.1 Inheriting and Extending New Method***\n",
        "\n",
        "Suppose we have one different type of sensor, an accelerometer. It shares the same attributes and\n",
        "methods as `Sensor` class, but it also has different attributes or methods that need to be appended or\n",
        "modiﬁed from the original class. What should we do? Do we create a different class from scratch? This\n",
        "is where inheritance can be used to make life easier. This new class will inherit from the `Sensor` class\n",
        "with all the attributes and methods. We can think whether we want to extend the attributes or methods.\n",
        "Let us ﬁrst create this new class, `Accelerometer`, and add a new method, `show_type`, to report what\n",
        "kind of sensor it is"
      ],
      "metadata": {
        "id": "CwXaiMk55jOS"
      }
    },
    {
      "cell_type": "code",
      "source": [
        "class Accelerometer(Sensor):\n",
        "\n",
        "  def show_type(self):\n",
        "    print(\" I am an accelerometer!\")"
      ],
      "metadata": {
        "id": "vfKYvXuC7BZl"
      },
      "execution_count": null,
      "outputs": []
    },
    {
      "cell_type": "code",
      "source": [
        "acc = Accelerometer(\"acc1\", \"Oackland\", \"2019-02-01\")\n",
        "acc.show_type()\n",
        "data = np.random.randint(-10, 10, 10)\n",
        "acc.add_data(np.arange(10), data)\n",
        "acc.data"
      ],
      "metadata": {
        "colab": {
          "base_uri": "https://localhost:8080/"
        },
        "id": "x0V7cBcs6Hlq",
        "outputId": "dc52a58c-b958-418e-a56e-c1c03c5179fe"
      },
      "execution_count": null,
      "outputs": [
        {
          "output_type": "stream",
          "name": "stdout",
          "text": [
            " I am an accelerometer!\n",
            "We have 10 points saved\n"
          ]
        },
        {
          "output_type": "execute_result",
          "data": {
            "text/plain": [
              "{'time': array([0, 1, 2, 3, 4, 5, 6, 7, 8, 9]),\n",
              " 'data': array([ 4, -6,  5,  2,  4, -9, -4,  7,  0, -1])}"
            ]
          },
          "metadata": {},
          "execution_count": 13
        }
      ]
    },
    {
      "cell_type": "markdown",
      "source": [
        "Creating this new **Accelerometer** class is very simple. It inherits from `Sensor` (denoted as a superclass), and the new class actually contains all the attributes and methods from the superclass. Wethen add a new method, `show_type`, which does not exist in the `Sensor` class, but we can successfully extend the child class by adding the new method. This shows the power of inheritance: we have reused most part of the `Sensor` class in a new class, and extended the functionality. Basically, the inheritance sets up a logical relationship for the modeling of the real-world entities: the `Sensor` class as the parent class is more general and passes all the characteristics to the child class `Accelerometer`."
      ],
      "metadata": {
        "id": "Pgehp_rb7T5V"
      }
    },
    {
      "cell_type": "markdown",
      "source": [
        "####***7.3.1.2 Inheriting and Method Overriding***\n",
        "\n",
        "When we inherit from a parent class, we can change the implementation of a method provided by the oarent class; this is called method overriding and is shown in the example below.\n",
        "\n",
        "**Example**: Create a class `UCBAcc` (a specific type of accelerometer that was created at UC Berkeley) that inherits from `Accelerometer` but replaces the `show_type` method that also prints out the name of the sensor."
      ],
      "metadata": {
        "id": "Bm4qEVkW7tC5"
      }
    },
    {
      "cell_type": "code",
      "source": [
        "class UCBAcc(Accelerometer):\n",
        "\n",
        "  def show_type(self):\n",
        "    print(f\"I am {self.name}, created at Berkeley!\")"
      ],
      "metadata": {
        "id": "p6tW0tUV8tqu"
      },
      "execution_count": null,
      "outputs": []
    },
    {
      "cell_type": "code",
      "source": [
        "acc2 = UCBAcc(\"UCBAcc\", \"Berkeley\", \"2019-03-01\")\n",
        "acc2.show_type()"
      ],
      "metadata": {
        "colab": {
          "base_uri": "https://localhost:8080/"
        },
        "id": "v_OAxVvh9AyI",
        "outputId": "679aebc2-25d9-45c9-838a-c07e8556bbe8"
      },
      "execution_count": null,
      "outputs": [
        {
          "output_type": "stream",
          "name": "stdout",
          "text": [
            "I am UCBAcc, created at Berkeley!\n"
          ]
        }
      ]
    },
    {
      "cell_type": "markdown",
      "source": [
        "We see that our new `UCBAcc` class actually overrides the method show_type with new features. In this example, we are not only inheriting features from our parent class, but we are also modifying/improving\n",
        "some methods."
      ],
      "metadata": {
        "id": "jrxTOZWi9UYe"
      }
    },
    {
      "cell_type": "markdown",
      "source": [
        "####***7.3.1.3 Inheriting and Updating Attributes With Super***\n",
        "\n",
        "Let us create a class **NewSensor** that inherits from `Sensor` class, but is updated the attributes by adding a new attribute `brand`. Of course, we can redefine the whole `__init__` method as shown below that is capable of overriding the parent function."
      ],
      "metadata": {
        "id": "zYpgpKa49aFU"
      }
    },
    {
      "cell_type": "code",
      "source": [
        "class NewSensor(Sensor):\n",
        "  def __init__(self, name, location, record_date, brand):\n",
        "    self.name = name\n",
        "    self.location = location\n",
        "    self.record_date = record_date\n",
        "    self.brand = brand\n",
        "    self.data = {}"
      ],
      "metadata": {
        "id": "S6YffwcH-Fru"
      },
      "execution_count": null,
      "outputs": []
    },
    {
      "cell_type": "code",
      "source": [
        "new_sensor = NewSensor(\"OK\", \"SF\", \"2019-03-01\", \"XYZ\")\n",
        "new_sensor.brand"
      ],
      "metadata": {
        "colab": {
          "base_uri": "https://localhost:8080/",
          "height": 35
        },
        "id": "5DdeOpZa-nBo",
        "outputId": "ab1fc786-4343-48d9-9d3e-15bed7e8c9ef"
      },
      "execution_count": null,
      "outputs": [
        {
          "output_type": "execute_result",
          "data": {
            "text/plain": [
              "'XYZ'"
            ],
            "application/vnd.google.colaboratory.intrinsic+json": {
              "type": "string"
            }
          },
          "metadata": {},
          "execution_count": 17
        }
      ]
    },
    {
      "cell_type": "markdown",
      "source": [
        "There is a better way to achieve the same result. If we use the `super` method, we can avoid referring to the parent class explicitly, as shown in the following example:"
      ],
      "metadata": {
        "id": "JybPID9h-yM7"
      }
    },
    {
      "cell_type": "code",
      "source": [
        "class NewSensor(Sensor):\n",
        "  def __init__(self, name, location, record_date, brand):\n",
        "    super().__init__(name, location, record_date)\n",
        "    self.brand = brand"
      ],
      "metadata": {
        "id": "TKzSFTw-_A8m"
      },
      "execution_count": null,
      "outputs": []
    },
    {
      "cell_type": "code",
      "source": [
        "new_sensor = NewSensor(\"OK\", \"SF\", \"2019-03-01\", \"XYZ\")\n",
        "new_sensor.brand"
      ],
      "metadata": {
        "colab": {
          "base_uri": "https://localhost:8080/",
          "height": 35
        },
        "id": "QG3cPHxN_SZb",
        "outputId": "05e2c482-9ebc-4ea2-e02c-c74fc4d6b834"
      },
      "execution_count": null,
      "outputs": [
        {
          "output_type": "execute_result",
          "data": {
            "text/plain": [
              "'XYZ'"
            ],
            "application/vnd.google.colaboratory.intrinsic+json": {
              "type": "string"
            }
          },
          "metadata": {},
          "execution_count": 19
        }
      ]
    },
    {
      "cell_type": "markdown",
      "source": [
        "Now we can see with the `super` method, we have avoided listing all of the deﬁnition of the attributes;\n",
        "this helps keep your code maintainable for the foreseeable future. Because the child class does not\n",
        "implicitly call the `__init__` of the parent class, we must use `super().__init__`, as shown above."
      ],
      "metadata": {
        "id": "CCF9PRGn_r4W"
      }
    },
    {
      "cell_type": "markdown",
      "source": [
        "####**7.3.2 Encapsulation**\n",
        "\n",
        "**Encapsulation** is one of the fundamental concepts in OOP. It describes the idea of restricting access to methods and attributes in a class. Encapsulation hides complex details from users and prevents data being modified by accident. In Python, this is achieved by using private methods or attributes using the underscore as prefix, i.e., single `\"_\"` or double `\"__\"`, as shown in the following example.\n",
        "\n",
        "**Example**:"
      ],
      "metadata": {
        "id": "EimoJGpb_1Dz"
      }
    },
    {
      "cell_type": "code",
      "source": [
        "class Sensor():\n",
        "  def __init__(self, name, location):\n",
        "    self.name = name\n",
        "    self._location = location\n",
        "    self.__version = \"1.0\"\n",
        "\n",
        "  # a getter function\n",
        "  def get_version(self):\n",
        "    print(f\"The sensor version is {self.__version}\")\n",
        "\n",
        "  # a setter function\n",
        "  def set_version(self, version):\n",
        "    self.__version = version\n"
      ],
      "metadata": {
        "id": "ZoJZkojKA80g"
      },
      "execution_count": null,
      "outputs": []
    },
    {
      "cell_type": "code",
      "source": [
        "sensor1 = Sensor(\"Acc\", \"Berkeley\")\n",
        "print(sensor1.name)\n",
        "print(sensor1._location)\n",
        "print(sensor1.__version)"
      ],
      "metadata": {
        "colab": {
          "base_uri": "https://localhost:8080/",
          "height": 216
        },
        "id": "GrfBc9pXBwL9",
        "outputId": "3b9a7edb-ca8d-4d96-ec2f-5b5e169b58ab"
      },
      "execution_count": null,
      "outputs": [
        {
          "output_type": "stream",
          "name": "stdout",
          "text": [
            "Acc\n",
            "Berkeley\n"
          ]
        },
        {
          "output_type": "error",
          "ename": "AttributeError",
          "evalue": "'Sensor' object has no attribute '__version'",
          "traceback": [
            "\u001b[0;31m---------------------------------------------------------------------------\u001b[0m",
            "\u001b[0;31mAttributeError\u001b[0m                            Traceback (most recent call last)",
            "\u001b[0;32m<ipython-input-21-c1c92a412fb8>\u001b[0m in \u001b[0;36m<cell line: 0>\u001b[0;34m()\u001b[0m\n\u001b[1;32m      2\u001b[0m \u001b[0mprint\u001b[0m\u001b[0;34m(\u001b[0m\u001b[0msensor1\u001b[0m\u001b[0;34m.\u001b[0m\u001b[0mname\u001b[0m\u001b[0;34m)\u001b[0m\u001b[0;34m\u001b[0m\u001b[0;34m\u001b[0m\u001b[0m\n\u001b[1;32m      3\u001b[0m \u001b[0mprint\u001b[0m\u001b[0;34m(\u001b[0m\u001b[0msensor1\u001b[0m\u001b[0;34m.\u001b[0m\u001b[0m_location\u001b[0m\u001b[0;34m)\u001b[0m\u001b[0;34m\u001b[0m\u001b[0;34m\u001b[0m\u001b[0m\n\u001b[0;32m----> 4\u001b[0;31m \u001b[0mprint\u001b[0m\u001b[0;34m(\u001b[0m\u001b[0msensor1\u001b[0m\u001b[0;34m.\u001b[0m\u001b[0m__version\u001b[0m\u001b[0;34m)\u001b[0m\u001b[0;34m\u001b[0m\u001b[0;34m\u001b[0m\u001b[0m\n\u001b[0m",
            "\u001b[0;31mAttributeError\u001b[0m: 'Sensor' object has no attribute '__version'"
          ]
        }
      ]
    },
    {
      "cell_type": "markdown",
      "source": [
        "The above example shows how the encapsulation works. With single underscore, we deﬁned a private variable that should not be accessed directly. Note that this is convention and nothing stops you from actually accessing it. With double underscores, we can see that the attribute `__version` cannot be accessed or modiﬁed directly. To get access to the double underscore attributes, we need to use “getter” and “setter” functions to access it internally. A “getter” function is shown in the following example."
      ],
      "metadata": {
        "id": "Hd8IPSiGCX73"
      }
    },
    {
      "cell_type": "code",
      "source": [
        "sensor1.get_version()"
      ],
      "metadata": {
        "colab": {
          "base_uri": "https://localhost:8080/"
        },
        "id": "zLLjQggQCjib",
        "outputId": "1ea64ebc-cdf7-439e-f3bf-9e7be7b24f4e"
      },
      "execution_count": null,
      "outputs": [
        {
          "output_type": "stream",
          "name": "stdout",
          "text": [
            "The sensor version is 1.0\n"
          ]
        }
      ]
    },
    {
      "cell_type": "code",
      "source": [
        "sensor1.set_version(\"2.0\")\n",
        "sensor1.get_version()"
      ],
      "metadata": {
        "colab": {
          "base_uri": "https://localhost:8080/"
        },
        "id": "c_dWLI6oCmjk",
        "outputId": "1b248b44-5f31-4989-962b-6515f1dd438e"
      },
      "execution_count": null,
      "outputs": [
        {
          "output_type": "stream",
          "name": "stdout",
          "text": [
            "The sensor version is 2.0\n"
          ]
        }
      ]
    },
    {
      "cell_type": "markdown",
      "source": [
        "###**7.3.3 Polymorphism**\n",
        "\n",
        "**Polymorphism** is another fundamental concept in OOP, which means multiple forms. Polymorphism\n",
        "allows the use of a single interface with different underlying forms, such as data types or classes. For\n",
        "example, we can have commonly named methods across classes or child classes. We have already seen\n",
        "one example above when we overrode the method `show_type` in the `UCBAcc`. Both the parent class\n",
        "`Accelerometer` and child class `UCBAcc` have a method named `show_type`, but they are implemented\n",
        "differently. This ability of using a single name with many forms acting differently in different situations\n",
        "greatly reduces our complexities."
      ],
      "metadata": {
        "id": "HhkRv_jJC0b7"
      }
    },
    {
      "cell_type": "markdown",
      "source": [
        "###**7.4.1 Summary**\n",
        "\n",
        "1. **OOP** and **POP** are different. **OOP** has many benefits and is often more appropiate for use in large-scale projects.\n",
        "2. Class is the blueprint of the structure that allows us to group data and methods, while object is an instance from the class.\n",
        "3. The concept of \"inheritance\" is key to **OOP**, which allows us to refer attributes or methods from the superclass.\n",
        "4. The concept of \"encapsulation\" allows us to hide some of the private details of a class from other objects.\n",
        "5. The concept of \"polymorphism\" allows us to use a common operation in different ways for different data input.  "
      ],
      "metadata": {
        "id": "wjl_LcMMPKGJ"
      }
    },
    {
      "cell_type": "markdown",
      "source": [
        "###**Problems**\n",
        "\n",
        "1. The following is a definition of the class `Point` that takes in the coordinates `x`, `y`. Add a method `plot_point` that plots the position of a point."
      ],
      "metadata": {
        "id": "HEp89sX_Dc8P"
      }
    },
    {
      "cell_type": "code",
      "source": [
        "import matplotlib.pyplot as plt\n",
        "\n",
        "class Point():\n",
        "  def __init__(self, x, y):\n",
        "    self.x = x\n",
        "    self.y = y\n",
        "\n",
        "  # Method that plots the coordinates x, y.\n",
        "  def plot_point(self):\n",
        "    plt.plot(self.x, self.y, 'o')\n",
        "    plt.show()"
      ],
      "metadata": {
        "id": "Wo6FssCMTYl0"
      },
      "execution_count": null,
      "outputs": []
    },
    {
      "cell_type": "markdown",
      "source": [
        "2. Use the class from Problem 1 and add a method `calculate_dist` which takes in `x` and `y` from another point, and returns the distance calculated between the two points."
      ],
      "metadata": {
        "id": "2qdaoNrAVae0"
      }
    },
    {
      "cell_type": "code",
      "source": [
        "import math\n",
        "\n",
        "class Point():\n",
        "  def __init__(self, x, y):\n",
        "    self.x = x\n",
        "    self.y = y\n",
        "\n",
        "  \"\"\"\n",
        "  Method that plots the coordinates x, y.\n",
        "  \"\"\"\n",
        "  def plot_point(self):\n",
        "    plt.plot(self.x, self.y, 'o')\n",
        "    plt.show()\n",
        "\n",
        "  \"\"\"\n",
        "  Method that calculates the distance between two points\n",
        "  \"\"\"\n",
        "\n",
        "  def calculate_dist(self, other_point):\n",
        "    distance = math.sqrt((self.x - other_point.x)**2 + (self.y - other_point.y)**2)\n",
        "    return distance\n"
      ],
      "metadata": {
        "id": "rsu2Gk21V1Zy"
      },
      "execution_count": null,
      "outputs": []
    },
    {
      "cell_type": "code",
      "source": [
        "point_1 = Point(1, 2)\n",
        "point_2 = Point(3, 4)\n",
        "distance = point_1.calculate_dist(point_2)\n",
        "distance"
      ],
      "metadata": {
        "colab": {
          "base_uri": "https://localhost:8080/"
        },
        "id": "aPsw0nWrZPL5",
        "outputId": "f3e1b75f-a077-44a8-a31a-7e48ad90ae38"
      },
      "execution_count": null,
      "outputs": [
        {
          "output_type": "execute_result",
          "data": {
            "text/plain": [
              "2.8284271247461903"
            ]
          },
          "metadata": {},
          "execution_count": 32
        }
      ]
    },
    {
      "cell_type": "markdown",
      "source": [
        "3. Create a class to model some real world objects and create a new class to inherit from it. See the example below. You should use a different example and incorporate as many of the concepts we've learned so far as possible."
      ],
      "metadata": {
        "id": "WKVRi65trqWW"
      }
    },
    {
      "cell_type": "code",
      "source": [
        "class Car():\n",
        "  def __init__(self, brand, color):\n",
        "    self.brand = brand\n",
        "    self.color = color\n",
        "\n",
        "  def start_my_car(self):\n",
        "    print(\"I am ready to drive!\")\n",
        "\n",
        "class Truck(Car):\n",
        "  def __init__(self, brand, color, size):\n",
        "    super().__init__(brand, color)\n",
        "    self.size = size\n",
        "\n",
        "  def start_my_car(self, key):\n",
        "    if key == \"truck_key\":\n",
        "      print(\"I am ready to drive\")\n",
        "    else:\n",
        "      print(\"Key is not right\")\n",
        "\n",
        "  def stop_my_car(self, brake):\n",
        "    if brake:\n",
        "      print(\"The engine is stopped!\")\n",
        "    else:\n",
        "      print(\"I am still running!\")"
      ],
      "metadata": {
        "id": "brIt9rGWsENV"
      },
      "execution_count": null,
      "outputs": []
    },
    {
      "cell_type": "code",
      "source": [
        "truck1 = Truck(\"Toyota\", \"Silver\", \"Large\")\n",
        "truck1.start_my_car(\"truck_key\")\n",
        "truck1.stop_my_car(brake = False)"
      ],
      "metadata": {
        "colab": {
          "base_uri": "https://localhost:8080/"
        },
        "id": "fwEDik1D2FMB",
        "outputId": "5d7c45a9-5197-41d9-85e0-4b681907dcb9"
      },
      "execution_count": null,
      "outputs": [
        {
          "output_type": "stream",
          "name": "stdout",
          "text": [
            "I am ready to drive\n",
            "I am still running!\n"
          ]
        }
      ]
    },
    {
      "cell_type": "code",
      "source": [
        "class Number():\n",
        "\n",
        "  def __init__(self, n):\n",
        "    self.n = n\n",
        "\n",
        "  def factorial(self):\n",
        "    if self.n == 1:\n",
        "      return 1\n",
        "    else:\n",
        "      return (self.n)*(self.n - 1).factorial()\n",
        "\n",
        "  def euler_approach(self):\n",
        "    if self.n == 1:\n",
        "      return 1\n",
        "    else:\n",
        "      euler = 1 + 1/(self.n - 1).factorial()\n",
        "      return euler\n"
      ],
      "metadata": {
        "id": "VQf9jlctNl_V"
      },
      "execution_count": null,
      "outputs": []
    }
  ]
}