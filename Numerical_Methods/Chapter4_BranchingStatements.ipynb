{
  "nbformat": 4,
  "nbformat_minor": 0,
  "metadata": {
    "colab": {
      "provenance": [],
      "authorship_tag": "ABX9TyPxFRuf6l6DlgYxbBgkQd++",
      "include_colab_link": true
    },
    "kernelspec": {
      "name": "python3",
      "display_name": "Python 3"
    },
    "language_info": {
      "name": "python"
    }
  },
  "cells": [
    {
      "cell_type": "markdown",
      "metadata": {
        "id": "view-in-github",
        "colab_type": "text"
      },
      "source": [
        "<a href=\"https://colab.research.google.com/github/luisfranc123/Tutorials_Statistics_Numerical_Analysis/blob/main/Numerical_Methods/Chapter4_BranchingStatements.ipynb\" target=\"_parent\"><img src=\"https://colab.research.google.com/assets/colab-badge.svg\" alt=\"Open In Colab\"/></a>"
      ]
    },
    {
      "cell_type": "markdown",
      "source": [
        "#**4. Branching Statements**\n",
        "---\n",
        "\n",
        "**Textbook**: Phyton Programming and Numerical Methods"
      ],
      "metadata": {
        "id": "dYdB8kQw2eqr"
      }
    },
    {
      "cell_type": "markdown",
      "source": [
        "##**If-Else Statements**\n",
        "\n",
        "Write a function `my_thermo_stat(temp, desired_temp)`. The return value of the function should be the string `\"Heat\"` if temp is less than `desired_temp` minus 5 degrees, `\"AC\"` if temp is ore than the `desired_temp` plus 5, and `\"off\"` otherwise."
      ],
      "metadata": {
        "id": "7fyCHRem5RLi"
      }
    },
    {
      "cell_type": "code",
      "execution_count": null,
      "metadata": {
        "id": "j_FJwGAC2cUA"
      },
      "outputs": [],
      "source": [
        "def my_thermo_stat(temp, desired_temp):\n",
        "  \"\"\"\n",
        "  Changes the status of the thermostat based on\n",
        "  temperature and desired temperature\n",
        "  author\n",
        "  date\n",
        "  :type temp: Int\n",
        "  :type desiredTemp: Int\n",
        "  :rtype: String\n",
        "  \"\"\"\n",
        "\n",
        "  if temp < desired_temp - 5:\n",
        "    status = \"Heat\"\n",
        "  elif temp > desired_temp + 5:\n",
        "    status = \"AC\"\n",
        "  else:\n",
        "    status = \"off\"\n",
        "\n",
        "  return status"
      ]
    },
    {
      "cell_type": "code",
      "source": [
        "my_thermo_stat(65, 63)"
      ],
      "metadata": {
        "colab": {
          "base_uri": "https://localhost:8080/",
          "height": 35
        },
        "id": "CAQcyG6y6nbJ",
        "outputId": "b85eebfa-e30b-4ed7-9721-dd6de4a2b088"
      },
      "execution_count": null,
      "outputs": [
        {
          "output_type": "execute_result",
          "data": {
            "text/plain": [
              "'off'"
            ],
            "application/vnd.google.colaboratory.intrinsic+json": {
              "type": "string"
            }
          },
          "metadata": {},
          "execution_count": 4
        }
      ]
    },
    {
      "cell_type": "markdown",
      "source": [
        "A statement is called **nested** if it is entirely contained within another statement of the same type as itself. For example, a **nested if-statement** is an if-statement that is entirely contained within a clause of another if-statement.\n",
        "\n",
        "**Example**: Think about what will appen whe the following code is executed. What are all the possible outcomes based on the input values of `x` and `y`?"
      ],
      "metadata": {
        "id": "0csEyYk_7G2l"
      }
    },
    {
      "cell_type": "code",
      "source": [
        "def my_nested_branching(x, y):\n",
        "  \"\"\"\n",
        "  Nested Branching Statement Example\n",
        "  author\n",
        "  date\n",
        "  :type x: Int\n",
        "  :type y: Int\n",
        "  :rtype: Int\n",
        "  \"\"\"\n",
        "\n",
        "  if x > 2:\n",
        "    if y < 2:\n",
        "      out = x + y\n",
        "    else:\n",
        "      out = x - y\n",
        "  else:\n",
        "    if y > 2:\n",
        "      out = x*y\n",
        "    else:\n",
        "      out = 0\n",
        "  return out"
      ],
      "metadata": {
        "id": "4RFs6FeW7p4k"
      },
      "execution_count": null,
      "outputs": []
    },
    {
      "cell_type": "code",
      "source": [
        "my_nested_branching(2, 2)"
      ],
      "metadata": {
        "colab": {
          "base_uri": "https://localhost:8080/"
        },
        "id": "Qbe43eUz8iIu",
        "outputId": "b31948cd-5d69-4ebc-bf4c-5d6fdc977e6e"
      },
      "execution_count": null,
      "outputs": [
        {
          "output_type": "execute_result",
          "data": {
            "text/plain": [
              "0"
            ]
          },
          "metadata": {},
          "execution_count": 7
        }
      ]
    },
    {
      "cell_type": "markdown",
      "source": [
        "There are many logical functions that are designed to help you build branching statements. For example,\n",
        "you can ask if a variable has a certain data type with function `isinstance`. There are also functions\n",
        "that can tell you information about arrays of logicals like `any`, which computes to true if any element\n",
        "in an array is true, and false otherwise, and `all`, which computes to true only if all the elements in an\n",
        "array are true.\n",
        "Sometimes you want to design your function to check the inputs of a function to ensure that your\n",
        "function will be used properly. For example, the function `my_adder` in the previous chapter expects\n",
        "doubles as input. If the user inputs a `list` or a `string` as one of the input variables, then the function\n",
        "will throw an error or have unexpected results. To prevent this, you can put a check to tell the user\n",
        "the function has not been used properly. This and other techniques for controlling errors are explored\n",
        "further in Chapter 10. For the moment, you only need to know that we can use the raise statement\n",
        "with a `TypeError` exception to stop a function's execution and throw an error with a speciﬁc text."
      ],
      "metadata": {
        "id": "tL5FMnHb88Gn"
      }
    },
    {
      "cell_type": "markdown",
      "source": [
        "**EXAMPLE**: Modify `my_adder` to throw out a warning if the user does not input numerical values.\n",
        "Try your function for nonnumerical inputs to show that the check works. When a statement is too\n",
        "long, we can use the “\\” symbol to break a line into multiple lines."
      ],
      "metadata": {
        "id": "lOxa2MYf9WgE"
      }
    },
    {
      "cell_type": "code",
      "source": [
        "def my_adder(a, b, c):\n",
        "  \"\"\"\n",
        "  Calculate the sum of three numbers\n",
        "  author\n",
        "  date\n",
        "  \"\"\"\n",
        "\n",
        "  # Check for erroneous input\n",
        "  if not (isinstance(a, (int, float)) \\\n",
        "        or isinstance(b, (int, float)) \\\n",
        "        or isinstance(c, (int, float))):\n",
        "          raise TypeError(\"Inputs must be numbers.\")\n",
        "  #Return output\n",
        "  return a + b + c"
      ],
      "metadata": {
        "id": "6X3g6gDQ9hSw"
      },
      "execution_count": null,
      "outputs": []
    },
    {
      "cell_type": "code",
      "source": [
        "x = my_adder(1, 2, 3)\n",
        "print(x)"
      ],
      "metadata": {
        "colab": {
          "base_uri": "https://localhost:8080/"
        },
        "id": "2AhHpG7H_2Q-",
        "outputId": "b13566c5-fb8e-4684-a868-b47430cf7286"
      },
      "execution_count": null,
      "outputs": [
        {
          "output_type": "stream",
          "name": "stdout",
          "text": [
            "6\n"
          ]
        }
      ]
    },
    {
      "cell_type": "code",
      "source": [
        "#x = my_adder(\"1\", \"2\", \"3\")\n",
        "#print(x)"
      ],
      "metadata": {
        "id": "EXSgINZO_5ud"
      },
      "execution_count": null,
      "outputs": []
    },
    {
      "cell_type": "markdown",
      "source": [
        "Write a function called `is_odd` that returns `\"odd\"` if the input is an odd number and `\"even\"` if it is even. You can assume that input will be a positive integer."
      ],
      "metadata": {
        "id": "KBknHFd9BAwX"
      }
    },
    {
      "cell_type": "code",
      "source": [
        "def is_odd(number):\n",
        "  \"\"\"\n",
        "  function returns \"odd\" if the input is odd.\n",
        "  \"even\" otherwise\n",
        "  author\n",
        "  date\n",
        "  :type number: Int\n",
        "  :rtype: String\n",
        "  \"\"\"\n",
        "\n",
        "  # use modulo to check if the input divisible by 2\n",
        "  if number % 2 == 0:\n",
        "    # if divisible by 2, then input is not odd\n",
        "    return \"even\"\n",
        "  else:\n",
        "    return \"odd\""
      ],
      "metadata": {
        "id": "4JuOH126Back"
      },
      "execution_count": null,
      "outputs": []
    },
    {
      "cell_type": "code",
      "source": [
        "is_odd(2)"
      ],
      "metadata": {
        "colab": {
          "base_uri": "https://localhost:8080/",
          "height": 35
        },
        "id": "nLt2_jfXCB1W",
        "outputId": "b54c1bfd-36ee-4dbf-d0da-9fd649a0b51c"
      },
      "execution_count": null,
      "outputs": [
        {
          "output_type": "execute_result",
          "data": {
            "text/plain": [
              "'even'"
            ],
            "application/vnd.google.colaboratory.intrinsic+json": {
              "type": "string"
            }
          },
          "metadata": {},
          "execution_count": 16
        }
      ]
    },
    {
      "cell_type": "code",
      "source": [
        "is_odd(3)"
      ],
      "metadata": {
        "colab": {
          "base_uri": "https://localhost:8080/",
          "height": 35
        },
        "id": "QsTObUCdCD8H",
        "outputId": "f3186a82-e733-40f6-d4df-20e0de30d3d3"
      },
      "execution_count": null,
      "outputs": [
        {
          "output_type": "execute_result",
          "data": {
            "text/plain": [
              "'odd'"
            ],
            "application/vnd.google.colaboratory.intrinsic+json": {
              "type": "string"
            }
          },
          "metadata": {},
          "execution_count": 17
        }
      ]
    },
    {
      "cell_type": "markdown",
      "source": [
        "Write a function called `my_circ_calc` that takes a numerical number, `r`, and a string `calc`, as input arguments. You may assume that `r` is positive, and that `calc` is either the string \"area\" or \"circumference\". The function `my_circ_calc` should compute the area of a circle with radius, `r`, if the string `calc` is the \"area\" and the circumference of a circle with radius, `r`, if `calc` is the \"circumference\"."
      ],
      "metadata": {
        "id": "q4UHd_DaCHMJ"
      }
    },
    {
      "cell_type": "code",
      "source": [
        "import numpy as np\n",
        "def my_circ_calc(r, calc):\n",
        "  \"\"\"\n",
        "  Calculate various circle measurements\n",
        "  author\n",
        "  date\n",
        "  :type r: Int or Float\n",
        "  :type calc: String\n",
        "  :rtype: Int or Float\n",
        "  \"\"\"\n",
        "  if calc == \"area\":\n",
        "    return np.pi*r**2\n",
        "  elif calc == \"circumference\":\n",
        "    return 2*np.pi*r"
      ],
      "metadata": {
        "id": "rQX11U39F9MI"
      },
      "execution_count": null,
      "outputs": []
    },
    {
      "cell_type": "code",
      "source": [
        "print(my_circ_calc(2.5, \"area\"))\n",
        "print(my_circ_calc(2.5, \"circumference\"))"
      ],
      "metadata": {
        "colab": {
          "base_uri": "https://localhost:8080/"
        },
        "id": "ZQL5qyHwGYwO",
        "outputId": "d1b078c8-4431-405d-8d99-6b12d3b84cb6"
      },
      "execution_count": null,
      "outputs": [
        {
          "output_type": "stream",
          "name": "stdout",
          "text": [
            "19.634954084936208\n",
            "15.707963267948966\n"
          ]
        }
      ]
    },
    {
      "cell_type": "code",
      "source": [
        "print(my_circ_calc(np.array([2, 3, 4]), \"circumference\"))"
      ],
      "metadata": {
        "colab": {
          "base_uri": "https://localhost:8080/"
        },
        "id": "1t13dXVIGlYH",
        "outputId": "83ce2358-0bd7-4b9c-d71e-fb85f5305d80"
      },
      "execution_count": null,
      "outputs": [
        {
          "output_type": "stream",
          "name": "stdout",
          "text": [
            "[12.56637061 18.84955592 25.13274123]\n"
          ]
        }
      ]
    },
    {
      "cell_type": "markdown",
      "source": [
        "##**Ternary Operators**\n",
        "\n",
        "To implement the terniary operator in Python, use the construction presented below:\n",
        "\n",
        "####**CONSTRUCTION**: ternary operator\n",
        "\n",
        "`expression_if_true is condition else expression_if_false`"
      ],
      "metadata": {
        "id": "Hils4cVcGzoT"
      }
    },
    {
      "cell_type": "code",
      "source": [
        "# Example: Ternary operator\n",
        "\n",
        "is_student = True\n",
        "person = \"student\" if is_student else \"not student\"\n",
        "print(person)"
      ],
      "metadata": {
        "colab": {
          "base_uri": "https://localhost:8080/"
        },
        "id": "mRyVTJDft38w",
        "outputId": "7ac8bad2-6a0c-42c1-9329-9d3d79727c40"
      },
      "execution_count": null,
      "outputs": [
        {
          "output_type": "stream",
          "name": "stdout",
          "text": [
            "student\n"
          ]
        }
      ]
    },
    {
      "cell_type": "markdown",
      "source": [
        "The above code is equivalent to the following block of codes:"
      ],
      "metadata": {
        "id": "N2BNu8ubuLar"
      }
    },
    {
      "cell_type": "code",
      "source": [
        "is_student = True\n",
        "if is_student:\n",
        "  person = \"student\"\n",
        "else:\n",
        "  person = \"not student\"\n",
        "print(person)"
      ],
      "metadata": {
        "colab": {
          "base_uri": "https://localhost:8080/"
        },
        "id": "6IxajvpbuR7M",
        "outputId": "04db416d-e3f0-4cc1-9edc-a25014f845d0"
      },
      "execution_count": null,
      "outputs": [
        {
          "output_type": "stream",
          "name": "stdout",
          "text": [
            "student\n"
          ]
        }
      ]
    },
    {
      "cell_type": "markdown",
      "source": [
        "**Ternary operators provide a simple way for branching and can make our codes concise**."
      ],
      "metadata": {
        "id": "n4lID5QNulWI"
      }
    },
    {
      "cell_type": "markdown",
      "source": [
        "###**Problems**\n",
        "---\n",
        "\n",
        "1. Write a function `my_tip_calc(bill, party)` where `bill` is the total cost of a meal and `party` is\n",
        "the number of people in the group. The tip should be calculated as 15% for a party strictly less than\n",
        "six people, 18% for a party strictly less than eight, 20% for a party less than 11, and 25% for a party\n",
        "11 or more. A couple of test cases are given below."
      ],
      "metadata": {
        "id": "L7dXiwNNu3C4"
      }
    },
    {
      "cell_type": "code",
      "source": [
        "def my_tip_calc(bill, party):\n",
        "  \"\"\"\n",
        "  Author\n",
        "  Date\n",
        "  Function to calculate the tips given\n",
        "  the number of people on a party\n",
        "  :type bill: float\n",
        "  :type party: int\n",
        "  \"\"\"\n",
        "  if party < 6:\n",
        "    tips = 0.15*bill\n",
        "  elif party < 8:\n",
        "    tips = 0.18*bill\n",
        "  elif party < 11:\n",
        "    tips = 0.20*bill\n",
        "  else:\n",
        "    tips = 0.2*bill\n",
        "\n",
        "  return tips"
      ],
      "metadata": {
        "id": "9hcy0_XcvKGg"
      },
      "execution_count": null,
      "outputs": []
    },
    {
      "cell_type": "code",
      "source": [
        "# Test 1\n",
        "t = my_tip_calc(109.29, 3)\n",
        "print(t)"
      ],
      "metadata": {
        "colab": {
          "base_uri": "https://localhost:8080/"
        },
        "id": "BlTIP5XayDbF",
        "outputId": "18551c1e-48b0-4735-f925-6ca3192fb032"
      },
      "execution_count": null,
      "outputs": [
        {
          "output_type": "stream",
          "name": "stdout",
          "text": [
            "16.3935\n"
          ]
        }
      ]
    },
    {
      "cell_type": "code",
      "source": [
        "# Test 2\n",
        "t = my_tip_calc(109.29, 7)\n",
        "print(t)"
      ],
      "metadata": {
        "colab": {
          "base_uri": "https://localhost:8080/"
        },
        "id": "Vi7tJpB_yOF3",
        "outputId": "bbaf79ac-2dad-42de-eb0b-d7b430e067e9"
      },
      "execution_count": null,
      "outputs": [
        {
          "output_type": "stream",
          "name": "stdout",
          "text": [
            "19.6722\n"
          ]
        }
      ]
    },
    {
      "cell_type": "code",
      "source": [
        "# Test 3\n",
        "t = my_tip_calc(109.29, 12)\n",
        "print(t)"
      ],
      "metadata": {
        "colab": {
          "base_uri": "https://localhost:8080/"
        },
        "id": "f7ThWo8yySiA",
        "outputId": "bb60897d-c75c-4364-b162-864448a18a20"
      },
      "execution_count": null,
      "outputs": [
        {
          "output_type": "stream",
          "name": "stdout",
          "text": [
            "21.858000000000004\n"
          ]
        }
      ]
    },
    {
      "cell_type": "markdown",
      "source": [
        "2. Write a function `my_mult_operation(a, b, operation)`. The input argument, `operation`, is a string that is either `\"plus\"`, `\"minus\"`, `\"mult\"`, `\"div\"`,or\"pow\", and the function should compute: *a + b*, *a - b*, *a * b*,  *a/b*, and a for the respective values for `operation`. A couple of test cases are given below.\n",
        "\n"
      ],
      "metadata": {
        "id": "b6hGpO5pyYzg"
      }
    },
    {
      "cell_type": "code",
      "source": [
        "def my_mult_operation(a, b, operation):\n",
        "  \"\"\"\n",
        "  Author\n",
        "  Date\n",
        "  Function that evaluates the operation\n",
        "  between two numbers accordingly\n",
        "  :type a = float\n",
        "  :type b = float\n",
        "  :type operation = string\n",
        "  \"\"\"\n",
        "  if operation == \"plus\":\n",
        "    out = a + b\n",
        "  elif operation == \"minus\":\n",
        "    out = a - b\n",
        "  elif operation == \"mult\":\n",
        "    out = a*b\n",
        "  elif operation == \"div\":\n",
        "    out = a/b\n",
        "  else:\n",
        "    out = a**b\n",
        "  return out"
      ],
      "metadata": {
        "id": "VymdLjO-zGhd"
      },
      "execution_count": null,
      "outputs": []
    },
    {
      "cell_type": "code",
      "source": [
        "import numpy as np\n",
        "x = np.array([1, 2, 3, 4])\n",
        "y = np.array([2, 3, 4, 5])\n",
        "\n",
        "my_mult_operation(x, y, \"plus\")"
      ],
      "metadata": {
        "colab": {
          "base_uri": "https://localhost:8080/"
        },
        "id": "kJ92B6Cjz9Ep",
        "outputId": "7f862624-3b00-41ff-da7f-09d23d8b551b"
      },
      "execution_count": null,
      "outputs": [
        {
          "output_type": "execute_result",
          "data": {
            "text/plain": [
              "array([3, 5, 7, 9])"
            ]
          },
          "metadata": {},
          "execution_count": 13
        }
      ]
    },
    {
      "cell_type": "code",
      "source": [
        "print(my_mult_operation(x, y, \"minus\"))\n",
        "print(my_mult_operation(x, y, \"mult\"))\n",
        "print(my_mult_operation(x, y, \"div\"))\n",
        "print(my_mult_operation(x, y, \"pow\"))"
      ],
      "metadata": {
        "colab": {
          "base_uri": "https://localhost:8080/"
        },
        "id": "3t3wFwoM0V-X",
        "outputId": "3d8823d6-6b59-4f10-ae04-19eac2911286"
      },
      "execution_count": null,
      "outputs": [
        {
          "output_type": "stream",
          "name": "stdout",
          "text": [
            "[-1 -1 -1 -1]\n",
            "[ 2  6 12 20]\n",
            "[0.5        0.66666667 0.75       0.8       ]\n",
            "[   1    8   81 1024]\n"
          ]
        }
      ]
    },
    {
      "cell_type": "markdown",
      "source": [
        "3. Most engineering systems have a built-in redundancy. That is, an engineering system has fail-safes\n",
        "incorporated into the design to accomplish its purpose. Consider a nuclear reactor whose temperature\n",
        "is monitored by three sensors. An alarm should go off if any two of the sensor readings disagree. Write a function `my_nuke_alarm(s1,s2,s3)` where `s1`, `s2`, and `s3` are the temperature readings for sensor 1, sensor 2, and sensor 3, respectively. The output should be the string `\"alarm!\"` if any two of the temperature readings disagree by strictly more than 10 degrees and `\"normal\"` otherwise"
      ],
      "metadata": {
        "id": "8CjL0pLM1o56"
      }
    },
    {
      "cell_type": "code",
      "source": [
        "def my_nuke_alarm(s1, s2, s3):\n",
        "  \"\"\"\n",
        "  Function that sets an alarm if a\n",
        "  pair of sensors are different from\n",
        "  each other to an extent of 10 degrees.\n",
        "  \"\"\"\n",
        "\n",
        "  def alarm(s1, s2):\n",
        "    \"\"\"\n",
        "    Nested function that evaluates the condition\n",
        "    \"\"\"\n",
        "    is_greater = 10\n",
        "    message = \"alarm!\" if (s1 - s2) > is_greater else \"normal\"\n",
        "\n",
        "    return message\n",
        "  #Evaluate the condition between each pair of sensors\n",
        "\n",
        "  alarm_1 = alarm(s1, s2)\n",
        "  alarm_2 = alarm(s1,  s3)\n",
        "  alarm_3 = alarm(s2, s3)\n",
        "  set_alarms = [alarm_1, alarm_2, alarm_3]\n",
        "\n",
        "  if len(list(set(set_alarms))) > 1:\n",
        "    a = print(\"alarm!\")\n",
        "  else:\n",
        "    a = print(\"normal\")\n",
        "\n",
        "  return a\n"
      ],
      "metadata": {
        "id": "YqQQcRCV1oZP"
      },
      "execution_count": null,
      "outputs": []
    },
    {
      "cell_type": "code",
      "source": [
        "help(my_nuke_alarm)"
      ],
      "metadata": {
        "id": "3_VTFNkR-CxP",
        "outputId": "1cf75d65-a835-4d89-b8c2-48836be09aa7",
        "colab": {
          "base_uri": "https://localhost:8080/"
        }
      },
      "execution_count": null,
      "outputs": [
        {
          "output_type": "stream",
          "name": "stdout",
          "text": [
            "Help on function my_nuke_alarm in module __main__:\n",
            "\n",
            "my_nuke_alarm(s1, s2, s3)\n",
            "    Function that sets an alarm if a \n",
            "    pair of sensors are different from \n",
            "    each other to an extent of 10 degrees.\n",
            "\n"
          ]
        }
      ]
    },
    {
      "cell_type": "code",
      "source": [
        "my_nuke_alarm(94, 96, 90)"
      ],
      "metadata": {
        "colab": {
          "base_uri": "https://localhost:8080/"
        },
        "id": "4I6mVIdw8wA2",
        "outputId": "8d5d363b-09f2-461c-853e-adba6700e673"
      },
      "execution_count": null,
      "outputs": [
        {
          "output_type": "stream",
          "name": "stdout",
          "text": [
            "normal\n"
          ]
        }
      ]
    },
    {
      "cell_type": "code",
      "source": [
        "my_nuke_alarm(94, 96, 80)"
      ],
      "metadata": {
        "colab": {
          "base_uri": "https://localhost:8080/"
        },
        "id": "iT6R4Z2U9lfm",
        "outputId": "92142374-7351-4c40-e877-47fc594d7562"
      },
      "execution_count": null,
      "outputs": [
        {
          "output_type": "stream",
          "name": "stdout",
          "text": [
            "alarm!\n"
          ]
        }
      ]
    },
    {
      "cell_type": "code",
      "source": [
        "my_nuke_alarm(100, 96, 90)"
      ],
      "metadata": {
        "colab": {
          "base_uri": "https://localhost:8080/"
        },
        "id": "D5D2D8bG9tYe",
        "outputId": "772c8c07-ebeb-445b-e6b4-22024294cfb2"
      },
      "execution_count": null,
      "outputs": [
        {
          "output_type": "stream",
          "name": "stdout",
          "text": [
            "normal\n"
          ]
        }
      ]
    }
  ]
}