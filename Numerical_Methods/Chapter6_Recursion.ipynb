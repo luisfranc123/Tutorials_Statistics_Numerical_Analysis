{
  "nbformat": 4,
  "nbformat_minor": 0,
  "metadata": {
    "colab": {
      "provenance": [],
      "authorship_tag": "ABX9TyPiT07R34Wr4emDpMJE3RqT",
      "include_colab_link": true
    },
    "kernelspec": {
      "name": "python3",
      "display_name": "Python 3"
    },
    "language_info": {
      "name": "python"
    }
  },
  "cells": [
    {
      "cell_type": "markdown",
      "metadata": {
        "id": "view-in-github",
        "colab_type": "text"
      },
      "source": [
        "<a href=\"https://colab.research.google.com/github/luisfranc123/Tutorials_Statistics_Numerical_Analysis/blob/main/Numerical_Methods/Chapter6_Recursion.ipynb\" target=\"_parent\"><img src=\"https://colab.research.google.com/assets/colab-badge.svg\" alt=\"Open In Colab\"/></a>"
      ]
    },
    {
      "cell_type": "markdown",
      "source": [
        "#**6. Recursion**\n",
        "---\n",
        "\n",
        "**Textbook**: Phyton Programming and Numerical Methods"
      ],
      "metadata": {
        "id": "Y4FsPru_QyDc"
      }
    },
    {
      "cell_type": "markdown",
      "source": [
        "###**6.1 Recursive Functions**\n",
        "\n",
        "A **recursive** function is a function that makes calls to itself. It works like loops described previously. In some cases, however, it is preferable to use recursion than loops.\n",
        "Every recursive function has two components: a **base case** and a **recursive step**. The **base case** is usually the smallest input and has an easily verifiable solution. This is also the mechanism that stops the function from caling itself forever. The **recursive step** is the set of all cases where a **recursive call**, or a function call to itself, is made.\n",
        "\n",
        "**e.g.** The factorial of an integer $n$ is $1×2×3× ⋅⋅⋅×(n-1)×n$. The recursive definition can be written as follows:\n",
        "\n",
        "\n",
        "\n",
        "\n",
        " $$ f(n)=   \\left\\{\n",
        "\\begin{array}{ll}\n",
        "      1 & if \\space n = 1,\\\\\n",
        "      n×f(n-1) & otherwise. \\\\\n",
        "\\end{array}\n",
        "\\right.  $$\n",
        "\n",
        "The base case is $n = 1$, which is trivial to compute: $f(1)=1$. In the recursive step, $n$ is multiplied by the result of recursive call to the factorial of $n-1$."
      ],
      "metadata": {
        "id": "454W0T4JQ7z_"
      }
    },
    {
      "cell_type": "code",
      "source": [
        "def factorial(n):\n",
        "  \"\"\"Computes and returns the factorial of n.\n",
        "  a positive integer.\n",
        "  \"\"\"\n",
        "  # Base case!\n",
        "  if n == 1:\n",
        "    return 1\n",
        "  # Recursive step\n",
        "  else:\n",
        "    # Recursive call\n",
        "    return n*factorial(n - 1)"
      ],
      "metadata": {
        "id": "Vw2GPJ7FVcEQ"
      },
      "execution_count": null,
      "outputs": []
    },
    {
      "cell_type": "code",
      "source": [
        "factorial(10)"
      ],
      "metadata": {
        "colab": {
          "base_uri": "https://localhost:8080/"
        },
        "id": "Zvd7jCrJWQFE",
        "outputId": "8ddc37be-409b-48dc-a5a7-d63688ea9b9a"
      },
      "execution_count": null,
      "outputs": [
        {
          "output_type": "execute_result",
          "data": {
            "text/plain": [
              "3628800"
            ]
          },
          "metadata": {},
          "execution_count": 2
        }
      ]
    },
    {
      "cell_type": "markdown",
      "source": [
        "Fibonacci numbers were originally developed to model the idealized population growth of rabbits. Since then, they have been found to be significant in any natural occurring phenomena. The Fibonacci numbers can be generated using the following recursive formula.\n",
        "\n",
        " $$ f(n)=   \\left\\{\n",
        "\\begin{array}{ll}\n",
        "      1 & if \\space n = 1,\\\\\n",
        "      1 & if \\space n = 2 \\\\\n",
        "      F(n-1) + F(n-2) & otherwise. \\\\\n",
        "\\end{array}\n",
        "\\right.  $$"
      ],
      "metadata": {
        "id": "0B8XBeopW4ot"
      }
    },
    {
      "cell_type": "code",
      "source": [
        "def fibonacci(n):\n",
        "  \"\"\"Computes and returns the Fibonacci of n.\n",
        "  a positive integer.\n",
        "  \"\"\"\n",
        "  # First base case\n",
        "  if n == 1:\n",
        "    return 1\n",
        "  # Second base case\n",
        "  elif n == 2:\n",
        "    return 1\n",
        "  else:\n",
        "    return fibonacci(n - 1) + fibonacci(n - 2)"
      ],
      "metadata": {
        "id": "qbYaVLvLZUAk"
      },
      "execution_count": null,
      "outputs": []
    },
    {
      "cell_type": "code",
      "source": [
        "print(fibonacci(1))\n",
        "print(fibonacci(2))\n",
        "print(fibonacci(3))\n",
        "print(fibonacci(4))\n",
        "print(fibonacci(5))\n",
        "print(fibonacci(6))"
      ],
      "metadata": {
        "colab": {
          "base_uri": "https://localhost:8080/"
        },
        "id": "DXqZlNCYZ6VQ",
        "outputId": "2e179100-e1d2-4794-e1b0-4941f279704a"
      },
      "execution_count": null,
      "outputs": [
        {
          "output_type": "stream",
          "name": "stdout",
          "text": [
            "1\n",
            "1\n",
            "2\n",
            "3\n",
            "5\n",
            "8\n"
          ]
        }
      ]
    },
    {
      "cell_type": "code",
      "source": [
        "fibonacci(35)"
      ],
      "metadata": {
        "colab": {
          "base_uri": "https://localhost:8080/"
        },
        "id": "CwJyrGXlbDBo",
        "outputId": "40286811-b516-44e0-d420-30947a7a9562"
      },
      "execution_count": null,
      "outputs": [
        {
          "output_type": "execute_result",
          "data": {
            "text/plain": [
              "9227465"
            ]
          },
          "metadata": {},
          "execution_count": 6
        }
      ]
    },
    {
      "cell_type": "markdown",
      "source": [
        "There is an iterative method for computing the `n`th Fibonacci number that requires only one workspace."
      ],
      "metadata": {
        "id": "yPPVnDFgbPmR"
      }
    },
    {
      "cell_type": "code",
      "source": [
        "import numpy as np\n",
        "\n",
        "def iter_fib(n):\n",
        "  fib = np.ones(n)\n",
        "\n",
        "  for i in range(2, n):\n",
        "    fib[i] = fib[i - 1] + fib[i - 2]\n",
        "\n",
        "  return fib\n"
      ],
      "metadata": {
        "id": "KQQ_L9OnbaV4"
      },
      "execution_count": null,
      "outputs": []
    },
    {
      "cell_type": "code",
      "source": [
        "iter_fib(10)"
      ],
      "metadata": {
        "colab": {
          "base_uri": "https://localhost:8080/"
        },
        "id": "mKoWJRt1bx55",
        "outputId": "2c905a9c-67c9-4736-f690-d65baf20698d"
      },
      "execution_count": null,
      "outputs": [
        {
          "output_type": "execute_result",
          "data": {
            "text/plain": [
              "array([ 1.,  1.,  2.,  3.,  5.,  8., 13., 21., 34., 55.])"
            ]
          },
          "metadata": {},
          "execution_count": 8
        }
      ]
    },
    {
      "cell_type": "code",
      "source": [
        "# Compute the 25th Fibonacci number using iter_fib and fibonacci.\n",
        "# Use the comand timeit to measure the run time for each.\n",
        "\n",
        "%timeit iter_fib(25)\n",
        "\n",
        "%timeit fibonacci(25)"
      ],
      "metadata": {
        "colab": {
          "base_uri": "https://localhost:8080/"
        },
        "id": "qbCf8myFcR5C",
        "outputId": "3b1c51f1-48c0-4daa-a64d-f314ef9ad52d"
      },
      "execution_count": null,
      "outputs": [
        {
          "output_type": "stream",
          "name": "stdout",
          "text": [
            "12 µs ± 3.1 µs per loop (mean ± std. dev. of 7 runs, 100000 loops each)\n",
            "10.9 ms ± 51.2 µs per loop (mean ± std. dev. of 7 runs, 100 loops each)\n"
          ]
        }
      ]
    },
    {
      "cell_type": "markdown",
      "source": [
        "We can see in the previous example that the iterative version runs much faster than the recursive\n",
        "counterpart. In general, iterative functions are faster than recursive functions performing the same task.\n",
        "So why use recursive functions at all? There are some solution methods that have a naturally recursive structure. In these cases, it is usually very hard to write a counterpart using loops. The primary value\n",
        "of writing recursive functions is that they can usually be written much more compactly than iterative\n",
        "functions. The cost of the improved compactness is added running time.\n"
      ],
      "metadata": {
        "id": "R7ZpYXvKdD2S"
      }
    },
    {
      "cell_type": "code",
      "source": [
        "#factorial(5000)"
      ],
      "metadata": {
        "id": "FSROmichda2J"
      },
      "execution_count": null,
      "outputs": []
    },
    {
      "cell_type": "code",
      "source": [
        "#import sys\n",
        "#sys.setrecursionlimit(10**5)\n",
        "#factorial(5000)"
      ],
      "metadata": {
        "id": "b1-RY6UCdkSq"
      },
      "execution_count": null,
      "outputs": []
    },
    {
      "cell_type": "markdown",
      "source": [
        "###**6.2 Divide-and-Conquer**\n",
        "\n",
        "**Divide-and-conquer** is useful strategy for solving difficult problems. Using divide-and-conquer dofficult problems are solved from solutions to many similar easy problems. In this way, difficult problems are broken up so they are more manageable."
      ],
      "metadata": {
        "id": "_t4cwalPd2-v"
      }
    },
    {
      "cell_type": "markdown",
      "source": [
        "####**6.2.1 Tower of Hanoi (Pending)**\n",
        "\n",
        "The Tower of Hanoi problem consists of three vertical rods (or towers) and N disks of different sizes,\n",
        "each with a hole in the center so that the rod can slide through it. The original conﬁguration of the disks is that they are stacked on one of the towers in the order of descending size (i.e., the largest disc is on the bottom). The goal of the problem is to move all the disks to a different rod while complying with\n",
        "the following three rules:\n",
        "\n",
        "**1.** Only one disk can be moved at a time.\n",
        "\n",
        "**2.** Only the disk at the top of a stack may be moved.\n",
        "\n",
        "**3.** A disk may not be moved on top of a smaller disk.\n",
        "\n",
        "![Hanoi](https://cdn-images-1.medium.com/max/720/1*s6evI2YiszAjMYo0cQvaIw.jpeg)\n",
        "\n",
        "**Figure**: Illustration of the Tower of Hanoi: In eight (Counting the initial set-up) steps, all disks are transported from pole 1 to pole 3, one at a time, by moving only the disk at the top of the current stack, and placing only smaller disks on top of larger disks.\n",
        "\n",
        "*There is a legend saying that a group of Indian monks are in a monastery working to complete a Tower of Hanoi problem with 64 disks. When they complete the problem, the world will end. Fortunately, the number of moves required is $2^{64} - 1$, so even if they could move one disk per millisecond, it would take over 584 million years for them to ﬁnish.*\n",
        "\n"
      ],
      "metadata": {
        "id": "rI_r7jVEKZBz"
      }
    },
    {
      "cell_type": "code",
      "source": [],
      "metadata": {
        "id": "YqjF3hmHNu-I"
      },
      "execution_count": null,
      "outputs": []
    },
    {
      "cell_type": "markdown",
      "source": [
        "####**6.2.2 Quicksort**\n",
        "\n",
        "A list of numbers, *A*, is **sorted** if the elements are arranged in ascending or descending order. Although there are many ways of sorting a list, **quicksort** is a divide-and-conquer approach, which is a very fast algorithm for sorting using a single processor. The *quicksort* algorithm starts with the bservation that although sorting a list is hard, a comparison is relatively easy. So instead of sorting a list, we separate the list by comparing to a **pivot**. At each recursive call to *quicksort*, the input list is divided into three parts; elements that are smaller than the pivot, elements that are equal to the pivot and elements that are larger than the pivot. Then a recursive call to *quicksort* is made on the two subproblems: the list of elements smaller than the pivot and the list of elements larger than the pivot. Eventually the subproblems are small enough (i.e., list size of length 1 or 0) so that sorting the list is now trivial."
      ],
      "metadata": {
        "id": "KndWAOTyNzLK"
      }
    },
    {
      "cell_type": "code",
      "source": [
        "def my_quicksort(lst):\n",
        "\n",
        "  if len(lst) <= 1:\n",
        "    # list of length 1 is easiest to sort\n",
        "    # bacause it is already sorted\n",
        "\n",
        "    sorted_list = lst\n",
        "\n",
        "  else:\n",
        "\n",
        "    # Select pivot as the first element of the list\n",
        "    pivot = lst[0]\n",
        "\n",
        "    # initialize lists for bigger and smaller\n",
        "    # elements as well as those equal to the pivot\n",
        "    bigger = []\n",
        "    smaller = []\n",
        "    same = []\n",
        "\n",
        "    # put elements into appropiate array\n",
        "\n",
        "    for item in lst:\n",
        "      if item > pivot:\n",
        "        bigger.append(item)\n",
        "      elif item < pivot:\n",
        "        smaller.append(item)\n",
        "      else:\n",
        "        same.append(item)\n",
        "\n",
        "    sorted_list = my_quicksort(smaller) + same + my_quicksort(bigger)\n",
        "\n",
        "  return sorted_list\n",
        "\n",
        "\n"
      ],
      "metadata": {
        "id": "B_7ee1GGPhis"
      },
      "execution_count": null,
      "outputs": []
    },
    {
      "cell_type": "code",
      "source": [
        "lst = [2, 1, 3, 5, 6, 8, 10, 11, -1]\n",
        "my_quicksort(lst)"
      ],
      "metadata": {
        "colab": {
          "base_uri": "https://localhost:8080/"
        },
        "id": "ge0C-VWnRyxB",
        "outputId": "837a19bb-ff43-4fd3-c136-d326f485b41f"
      },
      "execution_count": null,
      "outputs": [
        {
          "output_type": "execute_result",
          "data": {
            "text/plain": [
              "[-1, 1, 2, 3, 5, 6, 8, 10, 11]"
            ]
          },
          "metadata": {},
          "execution_count": 7
        }
      ]
    },
    {
      "cell_type": "markdown",
      "source": [
        "###**6.3 Summary and Problems**\n",
        "\n",
        "1. A recursive function is a function that calls itself.\n",
        "2. Recursive functions are useful when problems have a hierarchical structure rather than an iterative\n",
        "structure.\n",
        "3. Divide-and-conquer is a powerful problem-solving strategy that can be used to solve difﬁcult prob-\n",
        "lems."
      ],
      "metadata": {
        "id": "qxh1tUmSS4QL"
      }
    },
    {
      "cell_type": "markdown",
      "source": [
        "###**Problems**\n",
        "---\n",
        "1. Write a function `my_sum(lst)` where `lst` is a list, and the output is the sum of all elements of `lst`. You can use a recursion or iteration function to solve the problem, but do not use Python's `sum` function.\n",
        "\n"
      ],
      "metadata": {
        "id": "6C-2ZIBeTDhW"
      }
    },
    {
      "cell_type": "code",
      "source": [
        "def my_sum(lst):\n",
        "  \"\"\"\n",
        "  Function that returns the sum of the elements in list (lst)\n",
        "  Author\n",
        "  Date\n",
        "  \"\"\"\n",
        "  if len(lst) == 1:\n",
        "    out = lst[0]\n",
        "  else:\n",
        "    out = lst[0] + my_sum(lst[1:])\n",
        "\n",
        "\n",
        "  return out"
      ],
      "metadata": {
        "id": "dYlGEt3qTm7p"
      },
      "execution_count": null,
      "outputs": []
    },
    {
      "cell_type": "code",
      "source": [
        "my_sum([1, 2, 3])"
      ],
      "metadata": {
        "colab": {
          "base_uri": "https://localhost:8080/"
        },
        "id": "h-_L3FTjVSlG",
        "outputId": "fa2abaa3-26d6-41e4-a946-e53a866ebb50"
      },
      "execution_count": null,
      "outputs": [
        {
          "output_type": "execute_result",
          "data": {
            "text/plain": [
              "6"
            ]
          },
          "metadata": {},
          "execution_count": 19
        }
      ]
    },
    {
      "cell_type": "code",
      "source": [
        "my_sum(range(1,101))"
      ],
      "metadata": {
        "colab": {
          "base_uri": "https://localhost:8080/"
        },
        "id": "Vr2Gy6RXWYCd",
        "outputId": "a99073df-7ae4-410d-a3ed-c1a8f5506149"
      },
      "execution_count": null,
      "outputs": [
        {
          "output_type": "execute_result",
          "data": {
            "text/plain": [
              "5050"
            ]
          },
          "metadata": {},
          "execution_count": 20
        }
      ]
    },
    {
      "cell_type": "markdown",
      "source": [
        "2. Chebyshev polynomials are defined recursively and separated into two kinds: first and second. Chebyshev polynomials of the first kind, $T_{n}(x)$, and of the second kind, $U_{n}(x)$, are defined by the following recurrence relations:\n",
        "\n",
        " $$ T_{n}(x)=   \\left\\{\n",
        "\\begin{array}{ll}\n",
        "      1 & if \\space n = 0,\\\\\n",
        "      x & if \\space n = 1, \\\\\n",
        "      2xT_{n-1}(x)-T_{n-2}(x) & otherwise, \\\\\n",
        "\\end{array}\n",
        "\\right.$$\n",
        "\n",
        " $$ U_{n}(x)=   \\left\\{\n",
        "\\begin{array}{ll}\n",
        "      1 & if \\space n = 0,\\\\\n",
        "      2x & if \\space n = 1, \\\\\n",
        "      2xU_{n-1}(x)-U_{n-2}(x) & otherwise. \\\\\n",
        "\\end{array}\n",
        "\\right.$$\n",
        "\n",
        "Write a function `my_chebyshev_polyl(n, x)` where the output `y` is the `n`th Chebyshev polynomial of the first kind evaluated at `x`. Be sure your function can take list inputs for `x`. You may assume that `x` is a list. The output variable, `y`, must be a list also."
      ],
      "metadata": {
        "id": "0k8cWaxBO10a"
      }
    },
    {
      "cell_type": "code",
      "source": [
        "def my_chebyshev_polyl(n, x):\n",
        "\n",
        "  \"\"\"\n",
        "  Recursive Chebyshev polynomials function\n",
        "  Author: FR\n",
        "  Date\n",
        "  \"\"\"\n",
        "  if n == 0:\n",
        "    return [1]*len(x)\n",
        "  elif n == 1:\n",
        "    return x\n",
        "  else:\n",
        "    #Perform element-wise calculation and return resulting list\n",
        "    y = []\n",
        "  for i in range(len(x)):\n",
        "    y.append(2*my_chebyshev_polyl(n - 1, x)[i]*x[i] - my_chebyshev_polyl(n - 2, x)[i])\n",
        "\n",
        "  return y"
      ],
      "metadata": {
        "id": "SSVYmaioOp1W"
      },
      "execution_count": null,
      "outputs": []
    },
    {
      "cell_type": "code",
      "source": [
        "x = [1, 2, 3, 4, 5]\n",
        "my_chebyshev_polyl(0, x)"
      ],
      "metadata": {
        "colab": {
          "base_uri": "https://localhost:8080/"
        },
        "id": "ImCuBn5-Vp8c",
        "outputId": "cf355e48-510c-403c-ace5-21d687141b1b"
      },
      "execution_count": null,
      "outputs": [
        {
          "output_type": "execute_result",
          "data": {
            "text/plain": [
              "[1, 1, 1, 1, 1]"
            ]
          },
          "metadata": {},
          "execution_count": 39
        }
      ]
    },
    {
      "cell_type": "code",
      "source": [
        "x = [1, 2, 3, 4, 5]\n",
        "my_chebyshev_polyl(1, x)"
      ],
      "metadata": {
        "colab": {
          "base_uri": "https://localhost:8080/"
        },
        "id": "eN5nX8zYZ_oC",
        "outputId": "4a3f60cb-e5b6-4d7f-b01e-e49ea08dfca7"
      },
      "execution_count": null,
      "outputs": [
        {
          "output_type": "execute_result",
          "data": {
            "text/plain": [
              "[1, 2, 3, 4, 5]"
            ]
          },
          "metadata": {},
          "execution_count": 40
        }
      ]
    },
    {
      "cell_type": "code",
      "source": [
        "x = [1, 2, 3, 4, 5]\n",
        "my_chebyshev_polyl(3, x)"
      ],
      "metadata": {
        "colab": {
          "base_uri": "https://localhost:8080/"
        },
        "id": "U660r6cVcOxJ",
        "outputId": "86ecb8a1-8ea2-4ba7-9189-99ca4dd2643d"
      },
      "execution_count": null,
      "outputs": [
        {
          "output_type": "execute_result",
          "data": {
            "text/plain": [
              "[1, 26, 99, 244, 485]"
            ]
          },
          "metadata": {},
          "execution_count": 41
        }
      ]
    },
    {
      "cell_type": "markdown",
      "source": [
        "3. **(Pending)** The Ackermann function, $A$, is a function quickly growing in popularity that is defined by the recursive relationship:\n",
        "\n",
        " $$A(m, n) =   \\left\\{\n",
        "\\begin{array}{ll}\n",
        "      n+1 & if \\space m = 0,\\\\\n",
        "      A(m-1, 1) & if \\space m > 0 \\space and \\space n = 1, \\\\\n",
        "      A(m-1, A(m, n-1) & if \\space m>0 \\space and \\space n > 0. \\\\\n",
        "\\end{array}\n",
        "\\right.$$\n",
        "\n",
        "Write a function `my_ackermann(m, n)` where the output is the Ackermann function computed for `m` and `n`.\n",
        "\n",
        "`my_ackermann(4, 4)` is so large that it would be difficult to write down. Although the Ackermann function does not have manypractical uses, the inverse Ackermann function has several uses in robotic motion planning.  "
      ],
      "metadata": {
        "id": "FGmPSwhRnuVz"
      }
    },
    {
      "cell_type": "code",
      "source": [
        "# Write the code here."
      ],
      "metadata": {
        "id": "CqHWwROXn_Za"
      },
      "execution_count": null,
      "outputs": []
    },
    {
      "cell_type": "markdown",
      "source": [
        "4. The function, $C(n, k)$, computes the number of different ways of uniquely choosing $k$ objects from $n$ without repetition; it is commonly used in many statistics applications. For example, how many three-flavored ice cream sundaes are there if there are 10 ice-cream flavors? To solve this problem we would have to compute $C(10, 3)$, i.e., the number of ways of choosing three unique ice cream flavors from 10. The function $C$ is commonly called _\"n choose k.\"_ You may assume that $n$ and $k$ are integers.\n",
        "\n",
        "If $n = k$, then clearly $C(n, k) = 1$ because there is only one way to choose $n$ objects from $n$ objects.\n",
        "\n",
        "If $k = 1$, then $C(n, k) = n$ because choosing each of the $n$ objects is a way of choosing one object from $n$. For all other cases,\n",
        "\n",
        "\n",
        "\n",
        "$$C(n, k)=C(n-1, k) + C(n-1, k-1).$$\n",
        "\n",
        "Can you see why?\n",
        "\n",
        "Write a function `my_n_choose_k(n, k)` that computes the number of times $k$ objects can be uniquely chosen from $n$ objects without repetition.\n"
      ],
      "metadata": {
        "id": "y6nJEKe-qxGq"
      }
    },
    {
      "cell_type": "code",
      "source": [
        "def my_n_choose_k(n, k):\n",
        "  \"\"\"\n",
        "  Function that calculates a combinatory of k elements out n elements\n",
        "  Author: LFR\n",
        "  Date\n",
        "  \"\"\"\n",
        "  if k == 0 or k == n:\n",
        "    # Base case: choosing 0 elements or n elements is 1 ways\n",
        "    return 1\n",
        "  elif k == 1:\n",
        "    # Base case: choosing 1 element from n is n ways\n",
        "    return n\n",
        "  else:\n",
        "    # Recursive step using the combination formula\n",
        "    return my_n_choose_k(n - 1, k) + my_n_choose_k(n - 1, k - 1)"
      ],
      "metadata": {
        "id": "YVHxn5JrZb7w"
      },
      "execution_count": null,
      "outputs": []
    },
    {
      "cell_type": "code",
      "source": [
        "my_n_choose_k(10, 1)"
      ],
      "metadata": {
        "colab": {
          "base_uri": "https://localhost:8080/"
        },
        "id": "-Nng0y1wZvhp",
        "outputId": "9b272e14-0075-41ca-c9bf-0afd244b4286"
      },
      "execution_count": null,
      "outputs": [
        {
          "output_type": "execute_result",
          "data": {
            "text/plain": [
              "10"
            ]
          },
          "metadata": {},
          "execution_count": 14
        }
      ]
    },
    {
      "cell_type": "code",
      "source": [
        "my_n_choose_k(10, 10)"
      ],
      "metadata": {
        "colab": {
          "base_uri": "https://localhost:8080/"
        },
        "id": "YTFqi0VTZ1t5",
        "outputId": "2d26c732-5dda-41c0-a350-420672bea55a"
      },
      "execution_count": null,
      "outputs": [
        {
          "output_type": "execute_result",
          "data": {
            "text/plain": [
              "1"
            ]
          },
          "metadata": {},
          "execution_count": 16
        }
      ]
    },
    {
      "cell_type": "code",
      "source": [
        "my_n_choose_k(10, 3)"
      ],
      "metadata": {
        "colab": {
          "base_uri": "https://localhost:8080/"
        },
        "id": "xdzE4ISOZ4Ap",
        "outputId": "90363dc9-ee8f-4d2e-d5d4-4cbad4d76728"
      },
      "execution_count": null,
      "outputs": [
        {
          "output_type": "execute_result",
          "data": {
            "text/plain": [
              "120"
            ]
          },
          "metadata": {},
          "execution_count": 17
        }
      ]
    },
    {
      "cell_type": "code",
      "source": [
        "my_n_choose_k(100, 5)"
      ],
      "metadata": {
        "colab": {
          "base_uri": "https://localhost:8080/"
        },
        "id": "ImjUG1SqZ731",
        "outputId": "3fd80535-18bc-4201-e9d0-c8fb603e170d"
      },
      "execution_count": null,
      "outputs": [
        {
          "output_type": "execute_result",
          "data": {
            "text/plain": [
              "75287520"
            ]
          },
          "metadata": {},
          "execution_count": 18
        }
      ]
    },
    {
      "cell_type": "markdown",
      "source": [
        "5. The golden ratio, $\\phi$, is the limit of $\\frac{F(n+1)}{F(n)}$ as $n$ goes to infinity and $F(n)$ is the $n$th Fibonacci number, which can be shown to be exactly $\\frac{1+\\sqrt{5}}{2}$ and is approximately 1.62. We say that $G(n)=\\frac{F(n+1)}{F(n)}$ is the $n$th approximation of the golden ratio and $G(1)=1$.\n",
        "\n",
        "It can be shown that $\\phi$ is also the limit of the continued fraction:\n",
        "\n",
        "$$\\phi=1+\\frac{1}{1+\\frac{1}{1+\\frac{1}{\\frac{1}{1+...}}}}$$\n",
        "\n",
        "Write a recursive function with the header `my_golden_ratio(n)`, where the output is the $n$th approximation of the golden ratio according to the continued fraction recursive relationship. Use the continued fraction approximation for the golden ratio and not the $G(n)=F(n+1)/F(n)$ definition; however, for both definitions, $G(1)=1$.\n",
        "\n",
        "*Studies have shown that rectangles with aspect ratio (i.e., length divided by width) close to the golden ratio are more pleasing to the eye than rectangles that are not. What is the aspect ratio of many wide-screen TVs and movie screens?*\n",
        "\n",
        "\n",
        "\n"
      ],
      "metadata": {
        "id": "ke8CQd90aXA_"
      }
    },
    {
      "cell_type": "code",
      "source": [
        "def my_golden_ratio(n):\n",
        "  \"\"\"\n",
        "  Function that calculcates the golden ratio\n",
        "  given its recursive function approximation.\n",
        "  \"\"\"\n",
        "  if n == 1:\n",
        "    return 1\n",
        "  else:\n",
        "    return 1+1/my_golden_ratio(n-1)\n"
      ],
      "metadata": {
        "id": "4CYcBrcLd2SZ"
      },
      "execution_count": null,
      "outputs": []
    },
    {
      "cell_type": "code",
      "source": [
        "my_golden_ratio = my_golden_ratio(10)"
      ],
      "metadata": {
        "id": "OrTbI_46gpMp"
      },
      "execution_count": null,
      "outputs": []
    },
    {
      "cell_type": "code",
      "source": [
        "golden_ratio = (1+5**0.5)/2"
      ],
      "metadata": {
        "id": "xwybxH7cg0mF"
      },
      "execution_count": null,
      "outputs": []
    },
    {
      "cell_type": "code",
      "source": [
        "error = abs(my_golden_ratio - golden_ratio)\n",
        "error"
      ],
      "metadata": {
        "colab": {
          "base_uri": "https://localhost:8080/"
        },
        "id": "T2SB4kh7hEj6",
        "outputId": "9e77e593-899a-45a4-dd1a-fe7a6e799d46"
      },
      "execution_count": null,
      "outputs": [
        {
          "output_type": "execute_result",
          "data": {
            "text/plain": [
              "0.00014782943192326314"
            ]
          },
          "metadata": {},
          "execution_count": 33
        }
      ]
    },
    {
      "cell_type": "markdown",
      "source": [
        "6. Pascal's triangle is an arrangement of numbers such that each row is equivalent to the coefficients of the binomial expansion $(x+y)^{p-1}$, where $p$ is some positive integer more than or equal to 1. For example, $(x+y)^{2}=1x^{2}+2xy+1y^{2}$; therefore, the third row of Pascal's traingle is 1 2 1. Let $R_{m}$ represent the $m$th row of Pascal's triangle and $R_{m}(n)$ be the $n$th element of the row. By definition, $R_{m}$ has $m$ elements, and $R_{m}(1)=R_{m}(n)=1$. The remaining elements are computed using the following recursive relationship: $R_{m}(i)=R_{m-1}(i-1)+R_{m-1}(i)$ for $i = 2, ..., m-1.$\n",
        "\n",
        "![Pascal's Triangle](https://encrypted-tbn0.gstatic.com/images?q=tbn:ANd9GcQAoWDWE2ohkZW_VUgiVOQhZEwtD8vvPiBGxg&s)\n",
        "\n",
        "Write a function with `my_pascal_row(m)` where output variable `row` is the `m`th row of the Pascal triangle and must be a list. Assume the `m` is a strictly positive integer.\n"
      ],
      "metadata": {
        "id": "jIu4HbpsiHCe"
      }
    },
    {
      "cell_type": "code",
      "source": [
        "def my_pascal_row(m):\n",
        "  \"\"\"\n",
        "  Function that calculates the coefficients of\n",
        "  the Pascal's triangle given the mth row\n",
        "  \"\"\"\n",
        "  row = []\n",
        "  if m == 1:\n",
        "    return [1]\n",
        "  else:\n",
        "    i = 2\n",
        "    for i in range(m):\n",
        "      out = row.append(my_n_choose_k(m-1, i))\n",
        "      #out = row.append(my_pascal_row(m-1)[i-1] + my_pascal_row(m-1)[i]) ### Revise this solution\n",
        "    return row"
      ],
      "metadata": {
        "id": "OU_cEzjpnsHS"
      },
      "execution_count": null,
      "outputs": []
    },
    {
      "cell_type": "code",
      "source": [
        "# Firt m rows of the Pascal's Triangle\n",
        "m = 6\n",
        "i = 1\n",
        "for i in range(m):\n",
        "  print(f'm = {i + 1}: {my_pascal_row(i+1)}')\n"
      ],
      "metadata": {
        "colab": {
          "base_uri": "https://localhost:8080/"
        },
        "id": "EPeCoLzkqjW9",
        "outputId": "8be3b6e4-09bb-45d6-c9b1-807f20920710"
      },
      "execution_count": null,
      "outputs": [
        {
          "output_type": "stream",
          "name": "stdout",
          "text": [
            "m = 1: [1]\n",
            "m = 2: [1, 1]\n",
            "m = 3: [1, 2, 1]\n",
            "m = 4: [1, 3, 3, 1]\n",
            "m = 5: [1, 4, 6, 4, 1]\n",
            "m = 6: [1, 5, 10, 10, 5, 1]\n"
          ]
        }
      ]
    }
  ]
}